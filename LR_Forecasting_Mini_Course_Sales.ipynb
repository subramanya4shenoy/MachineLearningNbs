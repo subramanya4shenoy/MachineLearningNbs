{
  "nbformat": 4,
  "nbformat_minor": 0,
  "metadata": {
    "colab": {
      "provenance": [],
      "mount_file_id": "1_ErLNvvfT0SaeV7Gr13gpR-kMTpXJ1J2",
      "authorship_tag": "ABX9TyOb8EJZ/4hl4oV5tuqd1Qpt",
      "include_colab_link": true
    },
    "kernelspec": {
      "name": "python3",
      "display_name": "Python 3"
    },
    "language_info": {
      "name": "python"
    }
  },
  "cells": [
    {
      "cell_type": "markdown",
      "metadata": {
        "id": "view-in-github",
        "colab_type": "text"
      },
      "source": [
        "<a href=\"https://colab.research.google.com/github/subramanya4shenoy/MachineLearningNbs/blob/main/LR_Forecasting_Mini_Course_Sales.ipynb\" target=\"_parent\"><img src=\"https://colab.research.google.com/assets/colab-badge.svg\" alt=\"Open In Colab\"/></a>"
      ]
    },
    {
      "cell_type": "markdown",
      "source": [
        "## **Problem statement** ⚔\n",
        "\n",
        "**Dataset Description**\n",
        "\n",
        "For this challenge, you will be predicting a full year worth of sales for various fictitious learning modules from different fictitious Kaggle-branded stores in different (real!) countries. This dataset is completely synthetic, but contains many effects you see in real-world data, e.g., weekend and holiday effect, seasonality, etc. You are given the task of predicting sales during for year 2022.\n",
        "\n",
        "Good luck!"
      ],
      "metadata": {
        "id": "mZhnSh26NHrE"
      }
    },
    {
      "cell_type": "code",
      "source": [
        "\"\"\"\n",
        "Basic setup for integrating Kaggle\n",
        "Make sure the kaggle.json file is available and uploaded in session\n",
        "\"\"\"\n",
        "import os\n",
        "os.environ['KAGGLE_CONFIG_DIR'] = '/content'"
      ],
      "metadata": {
        "id": "KKdzZUHRNMDj"
      },
      "execution_count": 2,
      "outputs": []
    },
    {
      "cell_type": "code",
      "source": [
        "\"\"\"\n",
        "Path to the dataset from kaggle\n",
        "\"\"\"\n",
        "!kaggle competitions download -c playground-series-s3e19"
      ],
      "metadata": {
        "id": "y-Ys9yqwSIIc"
      },
      "execution_count": null,
      "outputs": []
    },
    {
      "cell_type": "code",
      "source": [
        "\"\"\"\n",
        "unzipping the files and removing the zip\n",
        "\"\"\"\n",
        "!unzip \\*.zip && rm *.zip"
      ],
      "metadata": {
        "id": "iO6ZH2DCSs1o"
      },
      "execution_count": null,
      "outputs": []
    },
    {
      "cell_type": "code",
      "source": [],
      "metadata": {
        "id": "PX57R0AeTyzB"
      },
      "execution_count": null,
      "outputs": []
    },
    {
      "cell_type": "markdown",
      "source": [
        "\n",
        "\n",
        "---\n",
        "\n",
        "\n",
        "\n",
        "---\n",
        "\n",
        "\n",
        "\n"
      ],
      "metadata": {
        "id": "CWLt5fo0T6bb"
      }
    },
    {
      "cell_type": "markdown",
      "source": [
        "**Task**: To predict the sales during the year 2022\n",
        "\n",
        "**Steps:**\n",
        "  1. 👁 Look at the data and learn about the data.\n",
        "  2. 🎯 Decide on which model to choose.\n",
        "  3. 🦖 Do Exploratory Data analysis.\n",
        "  4. 🧹 Prepare the data"
      ],
      "metadata": {
        "id": "_Yju8gP4VLwv"
      }
    },
    {
      "cell_type": "code",
      "source": [],
      "metadata": {
        "id": "V_zhrjtVV2KI"
      },
      "execution_count": null,
      "outputs": []
    }
  ]
}