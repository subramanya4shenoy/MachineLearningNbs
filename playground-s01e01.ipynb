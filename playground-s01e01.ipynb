{
 "cells": [
  {
   "cell_type": "code",
   "execution_count": 1,
   "id": "2d594b5e",
   "metadata": {
    "_cell_guid": "b1076dfc-b9ad-4769-8c92-a6c4dae69d19",
    "_uuid": "8f2839f25d086af736a60e9eeb907d3b93b6e0e5",
    "execution": {
     "iopub.execute_input": "2024-07-25T17:50:12.381600Z",
     "iopub.status.busy": "2024-07-25T17:50:12.381218Z",
     "iopub.status.idle": "2024-07-25T17:50:13.211109Z",
     "shell.execute_reply": "2024-07-25T17:50:13.209484Z"
    },
    "papermill": {
     "duration": 0.8437,
     "end_time": "2024-07-25T17:50:13.213586",
     "exception": false,
     "start_time": "2024-07-25T17:50:12.369886",
     "status": "completed"
    },
    "tags": []
   },
   "outputs": [
    {
     "name": "stdout",
     "output_type": "stream",
     "text": [
      "/kaggle/input/tabular-playground-series-jan-2021/sample_submission.csv\n",
      "/kaggle/input/tabular-playground-series-jan-2021/train.csv\n",
      "/kaggle/input/tabular-playground-series-jan-2021/test.csv\n"
     ]
    }
   ],
   "source": [
    "# This Python 3 environment comes with many helpful analytics libraries installed\n",
    "# It is defined by the kaggle/python Docker image: https://github.com/kaggle/docker-python\n",
    "# For example, here's several helpful packages to load\n",
    "\n",
    "import numpy as np # linear algebra\n",
    "import pandas as pd # data processing, CSV file I/O (e.g. pd.read_csv)\n",
    "\n",
    "# Input data files are available in the read-only \"../input/\" directory\n",
    "# For example, running this (by clicking run or pressing Shift+Enter) will list all files under the input directory\n",
    "\n",
    "import os\n",
    "for dirname, _, filenames in os.walk('/kaggle/input'):\n",
    "    for filename in filenames:\n",
    "        print(os.path.join(dirname, filename))\n",
    "\n",
    "# You can write up to 20GB to the current directory (/kaggle/working/) that gets preserved as output when you create a version using \"Save & Run All\" \n",
    "# You can also write temporary files to /kaggle/temp/, but they won't be saved outside of the current session"
   ]
  },
  {
   "cell_type": "markdown",
   "id": "a8e7de28",
   "metadata": {
    "papermill": {
     "duration": 0.008986,
     "end_time": "2024-07-25T17:50:13.232414",
     "exception": false,
     "start_time": "2024-07-25T17:50:13.223428",
     "status": "completed"
    },
    "tags": []
   },
   "source": [
    "# Common Import statements"
   ]
  },
  {
   "cell_type": "code",
   "execution_count": 2,
   "id": "5d3f5d2c",
   "metadata": {
    "execution": {
     "iopub.execute_input": "2024-07-25T17:50:13.254446Z",
     "iopub.status.busy": "2024-07-25T17:50:13.253923Z",
     "iopub.status.idle": "2024-07-25T17:50:13.258548Z",
     "shell.execute_reply": "2024-07-25T17:50:13.257506Z"
    },
    "papermill": {
     "duration": 0.01905,
     "end_time": "2024-07-25T17:50:13.260844",
     "exception": false,
     "start_time": "2024-07-25T17:50:13.241794",
     "status": "completed"
    },
    "tags": []
   },
   "outputs": [],
   "source": [
    "#other imports\n",
    "import matplotlib.pyplot as plt"
   ]
  },
  {
   "cell_type": "code",
   "execution_count": 3,
   "id": "cec36846",
   "metadata": {
    "execution": {
     "iopub.execute_input": "2024-07-25T17:50:13.282050Z",
     "iopub.status.busy": "2024-07-25T17:50:13.280966Z",
     "iopub.status.idle": "2024-07-25T17:50:14.501253Z",
     "shell.execute_reply": "2024-07-25T17:50:14.500090Z"
    },
    "papermill": {
     "duration": 1.233638,
     "end_time": "2024-07-25T17:50:14.503957",
     "exception": false,
     "start_time": "2024-07-25T17:50:13.270319",
     "status": "completed"
    },
    "tags": []
   },
   "outputs": [],
   "source": [
    "#model utility methods imported from sklearn\n",
    "from sklearn.model_selection import train_test_split\n",
    "from sklearn.pipeline import make_pipeline, Pipeline\n",
    "from sklearn.compose import ColumnTransformer\n",
    "from sklearn.preprocessing import FunctionTransformer\n",
    "from sklearn.metrics import mean_squared_error\n",
    "import sklearn\n",
    "sklearn.set_config(display=\"diagram\")"
   ]
  },
  {
   "cell_type": "code",
   "execution_count": 4,
   "id": "35d165b0",
   "metadata": {
    "execution": {
     "iopub.execute_input": "2024-07-25T17:50:14.525923Z",
     "iopub.status.busy": "2024-07-25T17:50:14.525147Z",
     "iopub.status.idle": "2024-07-25T17:50:14.895075Z",
     "shell.execute_reply": "2024-07-25T17:50:14.893986Z"
    },
    "papermill": {
     "duration": 0.383325,
     "end_time": "2024-07-25T17:50:14.897735",
     "exception": false,
     "start_time": "2024-07-25T17:50:14.514410",
     "status": "completed"
    },
    "tags": []
   },
   "outputs": [],
   "source": [
    "#trying 3 models\n",
    "# 1. Linear regression\n",
    "# 2. Decission tree regression\n",
    "# 3. Random Forrest reggression\n",
    "\n",
    "from sklearn.linear_model import LinearRegression\n",
    "from sklearn.tree import DecisionTreeRegressor\n",
    "from sklearn.ensemble import RandomForestRegressor"
   ]
  },
  {
   "cell_type": "markdown",
   "id": "982e70c8",
   "metadata": {
    "papermill": {
     "duration": 0.008997,
     "end_time": "2024-07-25T17:50:14.916265",
     "exception": false,
     "start_time": "2024-07-25T17:50:14.907268",
     "status": "completed"
    },
    "tags": []
   },
   "source": [
    "# Reading data"
   ]
  },
  {
   "cell_type": "code",
   "execution_count": 5,
   "id": "aed0dafa",
   "metadata": {
    "execution": {
     "iopub.execute_input": "2024-07-25T17:50:14.936980Z",
     "iopub.status.busy": "2024-07-25T17:50:14.936597Z",
     "iopub.status.idle": "2024-07-25T17:50:17.993844Z",
     "shell.execute_reply": "2024-07-25T17:50:17.992757Z"
    },
    "papermill": {
     "duration": 3.070551,
     "end_time": "2024-07-25T17:50:17.996518",
     "exception": false,
     "start_time": "2024-07-25T17:50:14.925967",
     "status": "completed"
    },
    "tags": []
   },
   "outputs": [],
   "source": [
    "def get_data(path, index):\n",
    "    return pd.read_csv(path, index_col=index)\n",
    "\n",
    "train_set = get_data('/kaggle/input/tabular-playground-series-jan-2021/train.csv', 'id')\n",
    "test_set = get_data('/kaggle/input/tabular-playground-series-jan-2021/test.csv', 'id')"
   ]
  },
  {
   "cell_type": "markdown",
   "id": "29b54064",
   "metadata": {
    "papermill": {
     "duration": 0.009342,
     "end_time": "2024-07-25T17:50:18.016405",
     "exception": false,
     "start_time": "2024-07-25T17:50:18.007063",
     "status": "completed"
    },
    "tags": []
   },
   "source": [
    "# Exploring data"
   ]
  },
  {
   "cell_type": "code",
   "execution_count": 6,
   "id": "24d0cc7c",
   "metadata": {
    "execution": {
     "iopub.execute_input": "2024-07-25T17:50:18.036522Z",
     "iopub.status.busy": "2024-07-25T17:50:18.036124Z",
     "iopub.status.idle": "2024-07-25T17:50:18.061657Z",
     "shell.execute_reply": "2024-07-25T17:50:18.060421Z"
    },
    "papermill": {
     "duration": 0.038643,
     "end_time": "2024-07-25T17:50:18.064230",
     "exception": false,
     "start_time": "2024-07-25T17:50:18.025587",
     "status": "completed"
    },
    "tags": []
   },
   "outputs": [
    {
     "data": {
      "text/html": [
       "<div>\n",
       "<style scoped>\n",
       "    .dataframe tbody tr th:only-of-type {\n",
       "        vertical-align: middle;\n",
       "    }\n",
       "\n",
       "    .dataframe tbody tr th {\n",
       "        vertical-align: top;\n",
       "    }\n",
       "\n",
       "    .dataframe thead th {\n",
       "        text-align: right;\n",
       "    }\n",
       "</style>\n",
       "<table border=\"1\" class=\"dataframe\">\n",
       "  <thead>\n",
       "    <tr style=\"text-align: right;\">\n",
       "      <th></th>\n",
       "      <th>cont1</th>\n",
       "      <th>cont2</th>\n",
       "      <th>cont3</th>\n",
       "      <th>cont4</th>\n",
       "      <th>cont5</th>\n",
       "      <th>cont6</th>\n",
       "      <th>cont7</th>\n",
       "      <th>cont8</th>\n",
       "      <th>cont9</th>\n",
       "      <th>cont10</th>\n",
       "      <th>cont11</th>\n",
       "      <th>cont12</th>\n",
       "      <th>cont13</th>\n",
       "      <th>cont14</th>\n",
       "      <th>target</th>\n",
       "    </tr>\n",
       "    <tr>\n",
       "      <th>id</th>\n",
       "      <th></th>\n",
       "      <th></th>\n",
       "      <th></th>\n",
       "      <th></th>\n",
       "      <th></th>\n",
       "      <th></th>\n",
       "      <th></th>\n",
       "      <th></th>\n",
       "      <th></th>\n",
       "      <th></th>\n",
       "      <th></th>\n",
       "      <th></th>\n",
       "      <th></th>\n",
       "      <th></th>\n",
       "      <th></th>\n",
       "    </tr>\n",
       "  </thead>\n",
       "  <tbody>\n",
       "    <tr>\n",
       "      <th>1</th>\n",
       "      <td>0.670390</td>\n",
       "      <td>0.811300</td>\n",
       "      <td>0.643968</td>\n",
       "      <td>0.291791</td>\n",
       "      <td>0.284117</td>\n",
       "      <td>0.855953</td>\n",
       "      <td>0.890700</td>\n",
       "      <td>0.285542</td>\n",
       "      <td>0.558245</td>\n",
       "      <td>0.779418</td>\n",
       "      <td>0.921832</td>\n",
       "      <td>0.866772</td>\n",
       "      <td>0.878733</td>\n",
       "      <td>0.305411</td>\n",
       "      <td>7.243043</td>\n",
       "    </tr>\n",
       "    <tr>\n",
       "      <th>3</th>\n",
       "      <td>0.388053</td>\n",
       "      <td>0.621104</td>\n",
       "      <td>0.686102</td>\n",
       "      <td>0.501149</td>\n",
       "      <td>0.643790</td>\n",
       "      <td>0.449805</td>\n",
       "      <td>0.510824</td>\n",
       "      <td>0.580748</td>\n",
       "      <td>0.418335</td>\n",
       "      <td>0.432632</td>\n",
       "      <td>0.439872</td>\n",
       "      <td>0.434971</td>\n",
       "      <td>0.369957</td>\n",
       "      <td>0.369484</td>\n",
       "      <td>8.203331</td>\n",
       "    </tr>\n",
       "    <tr>\n",
       "      <th>4</th>\n",
       "      <td>0.834950</td>\n",
       "      <td>0.227436</td>\n",
       "      <td>0.301584</td>\n",
       "      <td>0.293408</td>\n",
       "      <td>0.606839</td>\n",
       "      <td>0.829175</td>\n",
       "      <td>0.506143</td>\n",
       "      <td>0.558771</td>\n",
       "      <td>0.587603</td>\n",
       "      <td>0.823312</td>\n",
       "      <td>0.567007</td>\n",
       "      <td>0.677708</td>\n",
       "      <td>0.882938</td>\n",
       "      <td>0.303047</td>\n",
       "      <td>7.776091</td>\n",
       "    </tr>\n",
       "    <tr>\n",
       "      <th>5</th>\n",
       "      <td>0.820708</td>\n",
       "      <td>0.160155</td>\n",
       "      <td>0.546887</td>\n",
       "      <td>0.726104</td>\n",
       "      <td>0.282444</td>\n",
       "      <td>0.785108</td>\n",
       "      <td>0.752758</td>\n",
       "      <td>0.823267</td>\n",
       "      <td>0.574466</td>\n",
       "      <td>0.580843</td>\n",
       "      <td>0.769594</td>\n",
       "      <td>0.818143</td>\n",
       "      <td>0.914281</td>\n",
       "      <td>0.279528</td>\n",
       "      <td>6.957716</td>\n",
       "    </tr>\n",
       "    <tr>\n",
       "      <th>8</th>\n",
       "      <td>0.935278</td>\n",
       "      <td>0.421235</td>\n",
       "      <td>0.303801</td>\n",
       "      <td>0.880214</td>\n",
       "      <td>0.665610</td>\n",
       "      <td>0.830131</td>\n",
       "      <td>0.487113</td>\n",
       "      <td>0.604157</td>\n",
       "      <td>0.874658</td>\n",
       "      <td>0.863427</td>\n",
       "      <td>0.983575</td>\n",
       "      <td>0.900464</td>\n",
       "      <td>0.935918</td>\n",
       "      <td>0.435772</td>\n",
       "      <td>7.951046</td>\n",
       "    </tr>\n",
       "  </tbody>\n",
       "</table>\n",
       "</div>"
      ],
      "text/plain": [
       "       cont1     cont2     cont3     cont4     cont5     cont6     cont7  \\\n",
       "id                                                                         \n",
       "1   0.670390  0.811300  0.643968  0.291791  0.284117  0.855953  0.890700   \n",
       "3   0.388053  0.621104  0.686102  0.501149  0.643790  0.449805  0.510824   \n",
       "4   0.834950  0.227436  0.301584  0.293408  0.606839  0.829175  0.506143   \n",
       "5   0.820708  0.160155  0.546887  0.726104  0.282444  0.785108  0.752758   \n",
       "8   0.935278  0.421235  0.303801  0.880214  0.665610  0.830131  0.487113   \n",
       "\n",
       "       cont8     cont9    cont10    cont11    cont12    cont13    cont14  \\\n",
       "id                                                                         \n",
       "1   0.285542  0.558245  0.779418  0.921832  0.866772  0.878733  0.305411   \n",
       "3   0.580748  0.418335  0.432632  0.439872  0.434971  0.369957  0.369484   \n",
       "4   0.558771  0.587603  0.823312  0.567007  0.677708  0.882938  0.303047   \n",
       "5   0.823267  0.574466  0.580843  0.769594  0.818143  0.914281  0.279528   \n",
       "8   0.604157  0.874658  0.863427  0.983575  0.900464  0.935918  0.435772   \n",
       "\n",
       "      target  \n",
       "id            \n",
       "1   7.243043  \n",
       "3   8.203331  \n",
       "4   7.776091  \n",
       "5   6.957716  \n",
       "8   7.951046  "
      ]
     },
     "execution_count": 6,
     "metadata": {},
     "output_type": "execute_result"
    }
   ],
   "source": [
    "train_set.head()"
   ]
  },
  {
   "cell_type": "markdown",
   "id": "648d91b3",
   "metadata": {
    "papermill": {
     "duration": 0.009232,
     "end_time": "2024-07-25T17:50:18.082983",
     "exception": false,
     "start_time": "2024-07-25T17:50:18.073751",
     "status": "completed"
    },
    "tags": []
   },
   "source": [
    "1. 14 attributes and 1 label to predict\n",
    "2. Already there is a index column\n"
   ]
  },
  {
   "cell_type": "code",
   "execution_count": 7,
   "id": "839395e8",
   "metadata": {
    "execution": {
     "iopub.execute_input": "2024-07-25T17:50:18.103578Z",
     "iopub.status.busy": "2024-07-25T17:50:18.103186Z",
     "iopub.status.idle": "2024-07-25T17:50:18.130745Z",
     "shell.execute_reply": "2024-07-25T17:50:18.129248Z"
    },
    "papermill": {
     "duration": 0.040912,
     "end_time": "2024-07-25T17:50:18.133456",
     "exception": false,
     "start_time": "2024-07-25T17:50:18.092544",
     "status": "completed"
    },
    "tags": []
   },
   "outputs": [
    {
     "name": "stdout",
     "output_type": "stream",
     "text": [
      "<class 'pandas.core.frame.DataFrame'>\n",
      "Index: 300000 entries, 1 to 499999\n",
      "Data columns (total 15 columns):\n",
      " #   Column  Non-Null Count   Dtype  \n",
      "---  ------  --------------   -----  \n",
      " 0   cont1   300000 non-null  float64\n",
      " 1   cont2   300000 non-null  float64\n",
      " 2   cont3   300000 non-null  float64\n",
      " 3   cont4   300000 non-null  float64\n",
      " 4   cont5   300000 non-null  float64\n",
      " 5   cont6   300000 non-null  float64\n",
      " 6   cont7   300000 non-null  float64\n",
      " 7   cont8   300000 non-null  float64\n",
      " 8   cont9   300000 non-null  float64\n",
      " 9   cont10  300000 non-null  float64\n",
      " 10  cont11  300000 non-null  float64\n",
      " 11  cont12  300000 non-null  float64\n",
      " 12  cont13  300000 non-null  float64\n",
      " 13  cont14  300000 non-null  float64\n",
      " 14  target  300000 non-null  float64\n",
      "dtypes: float64(15)\n",
      "memory usage: 36.6 MB\n"
     ]
    }
   ],
   "source": [
    "train_set.info()"
   ]
  },
  {
   "cell_type": "markdown",
   "id": "77f4f4d4",
   "metadata": {
    "papermill": {
     "duration": 0.010108,
     "end_time": "2024-07-25T17:50:18.153264",
     "exception": false,
     "start_time": "2024-07-25T17:50:18.143156",
     "status": "completed"
    },
    "tags": []
   },
   "source": [
    "All values are present and 3 lakh records are present (which is a sizeable set)"
   ]
  },
  {
   "cell_type": "code",
   "execution_count": 8,
   "id": "a3087d9e",
   "metadata": {
    "execution": {
     "iopub.execute_input": "2024-07-25T17:50:18.174123Z",
     "iopub.status.busy": "2024-07-25T17:50:18.173695Z",
     "iopub.status.idle": "2024-07-25T17:50:18.422315Z",
     "shell.execute_reply": "2024-07-25T17:50:18.421191Z"
    },
    "papermill": {
     "duration": 0.261799,
     "end_time": "2024-07-25T17:50:18.424603",
     "exception": false,
     "start_time": "2024-07-25T17:50:18.162804",
     "status": "completed"
    },
    "tags": []
   },
   "outputs": [
    {
     "data": {
      "text/html": [
       "<div>\n",
       "<style scoped>\n",
       "    .dataframe tbody tr th:only-of-type {\n",
       "        vertical-align: middle;\n",
       "    }\n",
       "\n",
       "    .dataframe tbody tr th {\n",
       "        vertical-align: top;\n",
       "    }\n",
       "\n",
       "    .dataframe thead th {\n",
       "        text-align: right;\n",
       "    }\n",
       "</style>\n",
       "<table border=\"1\" class=\"dataframe\">\n",
       "  <thead>\n",
       "    <tr style=\"text-align: right;\">\n",
       "      <th></th>\n",
       "      <th>cont1</th>\n",
       "      <th>cont2</th>\n",
       "      <th>cont3</th>\n",
       "      <th>cont4</th>\n",
       "      <th>cont5</th>\n",
       "      <th>cont6</th>\n",
       "      <th>cont7</th>\n",
       "      <th>cont8</th>\n",
       "      <th>cont9</th>\n",
       "      <th>cont10</th>\n",
       "      <th>cont11</th>\n",
       "      <th>cont12</th>\n",
       "      <th>cont13</th>\n",
       "      <th>cont14</th>\n",
       "      <th>target</th>\n",
       "    </tr>\n",
       "  </thead>\n",
       "  <tbody>\n",
       "    <tr>\n",
       "      <th>count</th>\n",
       "      <td>300000.000000</td>\n",
       "      <td>300000.000000</td>\n",
       "      <td>300000.000000</td>\n",
       "      <td>300000.000000</td>\n",
       "      <td>300000.000000</td>\n",
       "      <td>300000.000000</td>\n",
       "      <td>300000.000000</td>\n",
       "      <td>300000.000000</td>\n",
       "      <td>300000.000000</td>\n",
       "      <td>300000.000000</td>\n",
       "      <td>300000.000000</td>\n",
       "      <td>300000.000000</td>\n",
       "      <td>300000.000000</td>\n",
       "      <td>300000.000000</td>\n",
       "      <td>300000.000000</td>\n",
       "    </tr>\n",
       "    <tr>\n",
       "      <th>mean</th>\n",
       "      <td>0.506873</td>\n",
       "      <td>0.497898</td>\n",
       "      <td>0.521557</td>\n",
       "      <td>0.515683</td>\n",
       "      <td>0.502022</td>\n",
       "      <td>0.526515</td>\n",
       "      <td>0.487890</td>\n",
       "      <td>0.525163</td>\n",
       "      <td>0.459857</td>\n",
       "      <td>0.520532</td>\n",
       "      <td>0.483926</td>\n",
       "      <td>0.506877</td>\n",
       "      <td>0.553442</td>\n",
       "      <td>0.503713</td>\n",
       "      <td>7.905661</td>\n",
       "    </tr>\n",
       "    <tr>\n",
       "      <th>std</th>\n",
       "      <td>0.203976</td>\n",
       "      <td>0.228159</td>\n",
       "      <td>0.200770</td>\n",
       "      <td>0.233035</td>\n",
       "      <td>0.220701</td>\n",
       "      <td>0.217909</td>\n",
       "      <td>0.181096</td>\n",
       "      <td>0.216221</td>\n",
       "      <td>0.196685</td>\n",
       "      <td>0.201854</td>\n",
       "      <td>0.220082</td>\n",
       "      <td>0.218947</td>\n",
       "      <td>0.229730</td>\n",
       "      <td>0.208238</td>\n",
       "      <td>0.733071</td>\n",
       "    </tr>\n",
       "    <tr>\n",
       "      <th>min</th>\n",
       "      <td>-0.082263</td>\n",
       "      <td>-0.031397</td>\n",
       "      <td>0.020967</td>\n",
       "      <td>0.152761</td>\n",
       "      <td>0.276377</td>\n",
       "      <td>0.066166</td>\n",
       "      <td>-0.097666</td>\n",
       "      <td>0.217260</td>\n",
       "      <td>-0.240604</td>\n",
       "      <td>-0.085046</td>\n",
       "      <td>0.083277</td>\n",
       "      <td>0.088635</td>\n",
       "      <td>0.029950</td>\n",
       "      <td>0.166367</td>\n",
       "      <td>0.000000</td>\n",
       "    </tr>\n",
       "    <tr>\n",
       "      <th>25%</th>\n",
       "      <td>0.343078</td>\n",
       "      <td>0.319170</td>\n",
       "      <td>0.344096</td>\n",
       "      <td>0.294935</td>\n",
       "      <td>0.284108</td>\n",
       "      <td>0.356163</td>\n",
       "      <td>0.346600</td>\n",
       "      <td>0.341486</td>\n",
       "      <td>0.330832</td>\n",
       "      <td>0.375465</td>\n",
       "      <td>0.300474</td>\n",
       "      <td>0.310166</td>\n",
       "      <td>0.350472</td>\n",
       "      <td>0.308673</td>\n",
       "      <td>7.329367</td>\n",
       "    </tr>\n",
       "    <tr>\n",
       "      <th>50%</th>\n",
       "      <td>0.484005</td>\n",
       "      <td>0.553209</td>\n",
       "      <td>0.551471</td>\n",
       "      <td>0.482880</td>\n",
       "      <td>0.451733</td>\n",
       "      <td>0.470988</td>\n",
       "      <td>0.466825</td>\n",
       "      <td>0.483460</td>\n",
       "      <td>0.416843</td>\n",
       "      <td>0.458877</td>\n",
       "      <td>0.441916</td>\n",
       "      <td>0.486599</td>\n",
       "      <td>0.487707</td>\n",
       "      <td>0.431845</td>\n",
       "      <td>7.940571</td>\n",
       "    </tr>\n",
       "    <tr>\n",
       "      <th>75%</th>\n",
       "      <td>0.643789</td>\n",
       "      <td>0.731263</td>\n",
       "      <td>0.648315</td>\n",
       "      <td>0.748705</td>\n",
       "      <td>0.670660</td>\n",
       "      <td>0.694043</td>\n",
       "      <td>0.581292</td>\n",
       "      <td>0.685250</td>\n",
       "      <td>0.575041</td>\n",
       "      <td>0.700292</td>\n",
       "      <td>0.679128</td>\n",
       "      <td>0.694453</td>\n",
       "      <td>0.768479</td>\n",
       "      <td>0.712653</td>\n",
       "      <td>8.470084</td>\n",
       "    </tr>\n",
       "    <tr>\n",
       "      <th>max</th>\n",
       "      <td>1.016227</td>\n",
       "      <td>0.859697</td>\n",
       "      <td>1.006955</td>\n",
       "      <td>1.010402</td>\n",
       "      <td>1.034261</td>\n",
       "      <td>1.043858</td>\n",
       "      <td>1.066167</td>\n",
       "      <td>1.024427</td>\n",
       "      <td>1.004114</td>\n",
       "      <td>1.199951</td>\n",
       "      <td>1.022620</td>\n",
       "      <td>1.049025</td>\n",
       "      <td>0.977845</td>\n",
       "      <td>0.868506</td>\n",
       "      <td>10.267569</td>\n",
       "    </tr>\n",
       "  </tbody>\n",
       "</table>\n",
       "</div>"
      ],
      "text/plain": [
       "               cont1          cont2          cont3          cont4  \\\n",
       "count  300000.000000  300000.000000  300000.000000  300000.000000   \n",
       "mean        0.506873       0.497898       0.521557       0.515683   \n",
       "std         0.203976       0.228159       0.200770       0.233035   \n",
       "min        -0.082263      -0.031397       0.020967       0.152761   \n",
       "25%         0.343078       0.319170       0.344096       0.294935   \n",
       "50%         0.484005       0.553209       0.551471       0.482880   \n",
       "75%         0.643789       0.731263       0.648315       0.748705   \n",
       "max         1.016227       0.859697       1.006955       1.010402   \n",
       "\n",
       "               cont5          cont6          cont7          cont8  \\\n",
       "count  300000.000000  300000.000000  300000.000000  300000.000000   \n",
       "mean        0.502022       0.526515       0.487890       0.525163   \n",
       "std         0.220701       0.217909       0.181096       0.216221   \n",
       "min         0.276377       0.066166      -0.097666       0.217260   \n",
       "25%         0.284108       0.356163       0.346600       0.341486   \n",
       "50%         0.451733       0.470988       0.466825       0.483460   \n",
       "75%         0.670660       0.694043       0.581292       0.685250   \n",
       "max         1.034261       1.043858       1.066167       1.024427   \n",
       "\n",
       "               cont9         cont10         cont11         cont12  \\\n",
       "count  300000.000000  300000.000000  300000.000000  300000.000000   \n",
       "mean        0.459857       0.520532       0.483926       0.506877   \n",
       "std         0.196685       0.201854       0.220082       0.218947   \n",
       "min        -0.240604      -0.085046       0.083277       0.088635   \n",
       "25%         0.330832       0.375465       0.300474       0.310166   \n",
       "50%         0.416843       0.458877       0.441916       0.486599   \n",
       "75%         0.575041       0.700292       0.679128       0.694453   \n",
       "max         1.004114       1.199951       1.022620       1.049025   \n",
       "\n",
       "              cont13         cont14         target  \n",
       "count  300000.000000  300000.000000  300000.000000  \n",
       "mean        0.553442       0.503713       7.905661  \n",
       "std         0.229730       0.208238       0.733071  \n",
       "min         0.029950       0.166367       0.000000  \n",
       "25%         0.350472       0.308673       7.329367  \n",
       "50%         0.487707       0.431845       7.940571  \n",
       "75%         0.768479       0.712653       8.470084  \n",
       "max         0.977845       0.868506      10.267569  "
      ]
     },
     "execution_count": 8,
     "metadata": {},
     "output_type": "execute_result"
    }
   ],
   "source": [
    "train_set.describe()"
   ]
  },
  {
   "cell_type": "code",
   "execution_count": 9,
   "id": "79d91d70",
   "metadata": {
    "execution": {
     "iopub.execute_input": "2024-07-25T17:50:18.446627Z",
     "iopub.status.busy": "2024-07-25T17:50:18.446232Z",
     "iopub.status.idle": "2024-07-25T17:50:22.104795Z",
     "shell.execute_reply": "2024-07-25T17:50:22.103784Z"
    },
    "papermill": {
     "duration": 3.67482,
     "end_time": "2024-07-25T17:50:22.109490",
     "exception": false,
     "start_time": "2024-07-25T17:50:18.434670",
     "status": "completed"
    },
    "tags": []
   },
   "outputs": [
    {
     "data": {
      "image/png": "[encoded data removed]",
      "text/plain": [
       "<Figure size 5000x3000 with 16 Axes>"
      ]
     },
     "metadata": {},
     "output_type": "display_data"
    }
   ],
   "source": [
    "train_set.hist(bins=10, grid=True, figsize=[50, 30])\n",
    "plt.show()"
   ]
  },
  {
   "cell_type": "code",
   "execution_count": 10,
   "id": "3a7e7641",
   "metadata": {
    "execution": {
     "iopub.execute_input": "2024-07-25T17:50:22.137386Z",
     "iopub.status.busy": "2024-07-25T17:50:22.136550Z",
     "iopub.status.idle": "2024-07-25T17:50:22.141057Z",
     "shell.execute_reply": "2024-07-25T17:50:22.140069Z"
    },
    "papermill": {
     "duration": 0.020972,
     "end_time": "2024-07-25T17:50:22.143569",
     "exception": false,
     "start_time": "2024-07-25T17:50:22.122597",
     "status": "completed"
    },
    "tags": []
   },
   "outputs": [],
   "source": [
    "# 2. attempt to identify the tail heavy, multi mode charts\n",
    "# tail heavy = count7 and count9\n",
    "# head heavy = count5, count8\n",
    "# multi mode = count1, count2, count3, count4, count6, count10, count11, count12, count13, count14"
   ]
  },
  {
   "cell_type": "markdown",
   "id": "7d2f56f9",
   "metadata": {
    "papermill": {
     "duration": 0.012579,
     "end_time": "2024-07-25T17:50:22.169167",
     "exception": false,
     "start_time": "2024-07-25T17:50:22.156588",
     "status": "completed"
    },
    "tags": []
   },
   "source": [
    "# Finding corelations"
   ]
  },
  {
   "cell_type": "code",
   "execution_count": 11,
   "id": "9e259bac",
   "metadata": {
    "execution": {
     "iopub.execute_input": "2024-07-25T17:50:22.196798Z",
     "iopub.status.busy": "2024-07-25T17:50:22.196441Z",
     "iopub.status.idle": "2024-07-25T17:50:22.399117Z",
     "shell.execute_reply": "2024-07-25T17:50:22.398032Z"
    },
    "papermill": {
     "duration": 0.219371,
     "end_time": "2024-07-25T17:50:22.401718",
     "exception": false,
     "start_time": "2024-07-25T17:50:22.182347",
     "status": "completed"
    },
    "tags": []
   },
   "outputs": [],
   "source": [
    "corr_matrix = train_set.corr()"
   ]
  },
  {
   "cell_type": "code",
   "execution_count": 12,
   "id": "43f4ae07",
   "metadata": {
    "execution": {
     "iopub.execute_input": "2024-07-25T17:50:22.429316Z",
     "iopub.status.busy": "2024-07-25T17:50:22.428932Z",
     "iopub.status.idle": "2024-07-25T17:50:22.437591Z",
     "shell.execute_reply": "2024-07-25T17:50:22.436279Z"
    },
    "papermill": {
     "duration": 0.024974,
     "end_time": "2024-07-25T17:50:22.439798",
     "exception": false,
     "start_time": "2024-07-25T17:50:22.414824",
     "status": "completed"
    },
    "tags": []
   },
   "outputs": [
    {
     "data": {
      "text/plain": [
       "cont1    -0.032994\n",
       "cont2     0.067102\n",
       "cont3     0.058936\n",
       "cont4     0.005522\n",
       "cont5    -0.005358\n",
       "cont6     0.027955\n",
       "cont7     0.067234\n",
       "cont8     0.014698\n",
       "cont9    -0.013029\n",
       "cont10   -0.021143\n",
       "cont11    0.050996\n",
       "cont12    0.047809\n",
       "cont13   -0.006642\n",
       "cont14   -0.006609\n",
       "target    1.000000\n",
       "Name: target, dtype: float64"
      ]
     },
     "execution_count": 12,
     "metadata": {},
     "output_type": "execute_result"
    }
   ],
   "source": [
    "corr_matrix['target']"
   ]
  },
  {
   "cell_type": "markdown",
   "id": "f927100e",
   "metadata": {
    "papermill": {
     "duration": 0.01271,
     "end_time": "2024-07-25T17:50:22.465764",
     "exception": false,
     "start_time": "2024-07-25T17:50:22.453054",
     "status": "completed"
    },
    "tags": []
   },
   "source": [
    "> Looks like 'cont4', 'cont5', 'cont13', 'cont14' are less corelated"
   ]
  },
  {
   "cell_type": "markdown",
   "id": "9dc84bf4",
   "metadata": {
    "papermill": {
     "duration": 0.012689,
     "end_time": "2024-07-25T17:50:22.491805",
     "exception": false,
     "start_time": "2024-07-25T17:50:22.479116",
     "status": "completed"
    },
    "tags": []
   },
   "source": [
    "# Splitting data for feeding this to ml model"
   ]
  },
  {
   "cell_type": "code",
   "execution_count": 13,
   "id": "3f9d227d",
   "metadata": {
    "execution": {
     "iopub.execute_input": "2024-07-25T17:50:22.519764Z",
     "iopub.status.busy": "2024-07-25T17:50:22.519385Z",
     "iopub.status.idle": "2024-07-25T17:50:22.575189Z",
     "shell.execute_reply": "2024-07-25T17:50:22.573956Z"
    },
    "papermill": {
     "duration": 0.072953,
     "end_time": "2024-07-25T17:50:22.577921",
     "exception": false,
     "start_time": "2024-07-25T17:50:22.504968",
     "status": "completed"
    },
    "tags": []
   },
   "outputs": [],
   "source": [
    "train_set_for_model, test_set_for_model = train_test_split(train_set, test_size=0.1, random_state=42)"
   ]
  },
  {
   "cell_type": "markdown",
   "id": "573441c8",
   "metadata": {
    "papermill": {
     "duration": 0.012669,
     "end_time": "2024-07-25T17:50:22.604017",
     "exception": false,
     "start_time": "2024-07-25T17:50:22.591348",
     "status": "completed"
    },
    "tags": []
   },
   "source": [
    "# Creating a pipeline to preprocess the incoming data"
   ]
  },
  {
   "cell_type": "code",
   "execution_count": 14,
   "id": "2cc30d6e",
   "metadata": {
    "execution": {
     "iopub.execute_input": "2024-07-25T17:50:22.631710Z",
     "iopub.status.busy": "2024-07-25T17:50:22.631323Z",
     "iopub.status.idle": "2024-07-25T17:50:22.638033Z",
     "shell.execute_reply": "2024-07-25T17:50:22.637025Z"
    },
    "papermill": {
     "duration": 0.023074,
     "end_time": "2024-07-25T17:50:22.640183",
     "exception": false,
     "start_time": "2024-07-25T17:50:22.617109",
     "status": "completed"
    },
    "tags": []
   },
   "outputs": [],
   "source": [
    "# 1. first attempt\n",
    "def drop_non_corr(df):\n",
    "    return df\n",
    "\n",
    "#2. second attempt \n",
    "log_transformer = FunctionTransformer(np.log1p, validate=True) \n",
    "\n",
    "log_columns = ['cont7', 'cont9', 'cont5', 'cont8'] #tail and head heavy\n",
    "remove_non_corr_col = FunctionTransformer(drop_non_corr)\n",
    "\n",
    "preprocessing = ColumnTransformer(transformers=[\n",
    "    ('cleanup_non_corr_col', remove_non_corr_col, ['cont1', 'cont2', 'cont3', 'cont4', 'cont5', 'cont6', 'cont7', 'cont8','cont9', 'cont10', 'cont11', 'cont12', 'cont13', 'cont14']),\n",
    "    ('tail_head_heavy_col', log_transformer, log_columns)\n",
    "])\n"
   ]
  },
  {
   "cell_type": "markdown",
   "id": "213bf1bb",
   "metadata": {
    "papermill": {
     "duration": 0.01263,
     "end_time": "2024-07-25T17:50:22.666116",
     "exception": false,
     "start_time": "2024-07-25T17:50:22.653486",
     "status": "completed"
    },
    "tags": []
   },
   "source": [
    "# Selecting Model"
   ]
  },
  {
   "cell_type": "code",
   "execution_count": 15,
   "id": "9f4969d4",
   "metadata": {
    "execution": {
     "iopub.execute_input": "2024-07-25T17:50:22.694739Z",
     "iopub.status.busy": "2024-07-25T17:50:22.693666Z",
     "iopub.status.idle": "2024-07-25T17:50:22.699942Z",
     "shell.execute_reply": "2024-07-25T17:50:22.698882Z"
    },
    "papermill": {
     "duration": 0.022675,
     "end_time": "2024-07-25T17:50:22.702151",
     "exception": false,
     "start_time": "2024-07-25T17:50:22.679476",
     "status": "completed"
    },
    "tags": []
   },
   "outputs": [],
   "source": [
    "lr_model = Pipeline(steps=[\n",
    "    ('preprocessing', preprocessing),\n",
    "    ('linear_regression', LinearRegression())\n",
    "])\n",
    "\n",
    "dt_model = Pipeline(steps=[\n",
    "    ('preprocessing', preprocessing),\n",
    "    ('decision_tree', DecisionTreeRegressor(random_state=42))\n",
    "])\n",
    "\n",
    "rf_model = Pipeline(steps=[\n",
    "    ('preprocessing', preprocessing),\n",
    "    ('random_forest', RandomForestRegressor(random_state=42))\n",
    "])"
   ]
  },
  {
   "cell_type": "code",
   "execution_count": 16,
   "id": "a62b5e63",
   "metadata": {
    "execution": {
     "iopub.execute_input": "2024-07-25T17:50:22.730229Z",
     "iopub.status.busy": "2024-07-25T17:50:22.729410Z",
     "iopub.status.idle": "2024-07-25T17:50:22.746753Z",
     "shell.execute_reply": "2024-07-25T17:50:22.745532Z"
    },
    "papermill": {
     "duration": 0.034122,
     "end_time": "2024-07-25T17:50:22.749262",
     "exception": false,
     "start_time": "2024-07-25T17:50:22.715140",
     "status": "completed"
    },
    "tags": []
   },
   "outputs": [],
   "source": [
    "target = train_set_for_model['target']\n",
    "data = train_set_for_model.drop(columns=['target'], axis=1)"
   ]
  },
  {
   "cell_type": "markdown",
   "id": "604a24ad",
   "metadata": {
    "papermill": {
     "duration": 0.012798,
     "end_time": "2024-07-25T17:50:22.775074",
     "exception": false,
     "start_time": "2024-07-25T17:50:22.762276",
     "status": "completed"
    },
    "tags": []
   },
   "source": [
    "# Training model"
   ]
  },
  {
   "cell_type": "code",
   "execution_count": 17,
   "id": "9656db81",
   "metadata": {
    "execution": {
     "iopub.execute_input": "2024-07-25T17:50:22.803263Z",
     "iopub.status.busy": "2024-07-25T17:50:22.802443Z",
     "iopub.status.idle": "2024-07-25T17:50:23.223532Z",
     "shell.execute_reply": "2024-07-25T17:50:23.222146Z"
    },
    "papermill": {
     "duration": 0.439315,
     "end_time": "2024-07-25T17:50:23.227569",
     "exception": false,
     "start_time": "2024-07-25T17:50:22.788254",
     "status": "completed"
    },
    "tags": []
   },
   "outputs": [
    {
     "data": {
      "text/html": [
       "<style>#sk-container-id-1 {color: black;background-color: white;}#sk-container-id-1 pre{padding: 0;}#sk-container-id-1 div.sk-toggleable {background-color: white;}#sk-container-id-1 label.sk-toggleable__label {cursor: pointer;display: block;width: 100%;margin-bottom: 0;padding: 0.3em;box-sizing: border-box;text-align: center;}#sk-container-id-1 label.sk-toggleable__label-arrow:before {content: \"▸\";float: left;margin-right: 0.25em;color: #696969;}#sk-container-id-1 label.sk-toggleable__label-arrow:hover:before {color: black;}#sk-container-id-1 div.sk-estimator:hover label.sk-toggleable__label-arrow:before {color: black;}#sk-container-id-1 div.sk-toggleable__content {max-height: 0;max-width: 0;overflow: hidden;text-align: left;background-color: #f0f8ff;}#sk-container-id-1 div.sk-toggleable__content pre {margin: 0.2em;color: black;border-radius: 0.25em;background-color: #f0f8ff;}#sk-container-id-1 input.sk-toggleable__control:checked~div.sk-toggleable__content {max-height: 200px;max-width: 100%;overflow: auto;}#sk-container-id-1 input.sk-toggleable__control:checked~label.sk-toggleable__label-arrow:before {content: \"▾\";}#sk-container-id-1 div.sk-estimator input.sk-toggleable__control:checked~label.sk-toggleable__label {background-color: #d4ebff;}#sk-container-id-1 div.sk-label input.sk-toggleable__control:checked~label.sk-toggleable__label {background-color: #d4ebff;}#sk-container-id-1 input.sk-hidden--visually {border: 0;clip: rect(1px 1px 1px 1px);clip: rect(1px, 1px, 1px, 1px);height: 1px;margin: -1px;overflow: hidden;padding: 0;position: absolute;width: 1px;}#sk-container-id-1 div.sk-estimator {font-family: monospace;background-color: #f0f8ff;border: 1px dotted black;border-radius: 0.25em;box-sizing: border-box;margin-bottom: 0.5em;}#sk-container-id-1 div.sk-estimator:hover {background-color: #d4ebff;}#sk-container-id-1 div.sk-parallel-item::after {content: \"\";width: 100%;border-bottom: 1px solid gray;flex-grow: 1;}#sk-container-id-1 div.sk-label:hover label.sk-toggleable__label {background-color: #d4ebff;}#sk-container-id-1 div.sk-serial::before {content: \"\";position: absolute;border-left: 1px solid gray;box-sizing: border-box;top: 0;bottom: 0;left: 50%;z-index: 0;}#sk-container-id-1 div.sk-serial {display: flex;flex-direction: column;align-items: center;background-color: white;padding-right: 0.2em;padding-left: 0.2em;position: relative;}#sk-container-id-1 div.sk-item {position: relative;z-index: 1;}#sk-container-id-1 div.sk-parallel {display: flex;align-items: stretch;justify-content: center;background-color: white;position: relative;}#sk-container-id-1 div.sk-item::before, #sk-container-id-1 div.sk-parallel-item::before {content: \"\";position: absolute;border-left: 1px solid gray;box-sizing: border-box;top: 0;bottom: 0;left: 50%;z-index: -1;}#sk-container-id-1 div.sk-parallel-item {display: flex;flex-direction: column;z-index: 1;position: relative;background-color: white;}#sk-container-id-1 div.sk-parallel-item:first-child::after {align-self: flex-end;width: 50%;}#sk-container-id-1 div.sk-parallel-item:last-child::after {align-self: flex-start;width: 50%;}#sk-container-id-1 div.sk-parallel-item:only-child::after {width: 0;}#sk-container-id-1 div.sk-dashed-wrapped {border: 1px dashed gray;margin: 0 0.4em 0.5em 0.4em;box-sizing: border-box;padding-bottom: 0.4em;background-color: white;}#sk-container-id-1 div.sk-label label {font-family: monospace;font-weight: bold;display: inline-block;line-height: 1.2em;}#sk-container-id-1 div.sk-label-container {text-align: center;}#sk-container-id-1 div.sk-container {/* jupyter's `normalize.less` sets `[hidden] { display: none; }` but bootstrap.min.css set `[hidden] { display: none !important; }` so we also need the `!important` here to be able to override the default hidden behavior on the sphinx rendered scikit-learn.org. See: https://github.com/scikit-learn/scikit-learn/issues/21755 */display: inline-block !important;position: relative;}#sk-container-id-1 div.sk-text-repr-fallback {display: none;}</style><div id=\"sk-container-id-1\" class=\"sk-top-container\"><div class=\"sk-text-repr-fallback\"><pre>Pipeline(steps=[(&#x27;preprocessing&#x27;,\n",
       "                 ColumnTransformer(transformers=[(&#x27;cleanup_non_corr_col&#x27;,\n",
       "                                                  FunctionTransformer(func=&lt;function drop_non_corr at 0x781389b69000&gt;),\n",
       "                                                  [&#x27;cont1&#x27;, &#x27;cont2&#x27;, &#x27;cont3&#x27;,\n",
       "                                                   &#x27;cont4&#x27;, &#x27;cont5&#x27;, &#x27;cont6&#x27;,\n",
       "                                                   &#x27;cont7&#x27;, &#x27;cont8&#x27;, &#x27;cont9&#x27;,\n",
       "                                                   &#x27;cont10&#x27;, &#x27;cont11&#x27;, &#x27;cont12&#x27;,\n",
       "                                                   &#x27;cont13&#x27;, &#x27;cont14&#x27;]),\n",
       "                                                 (&#x27;tail_head_heavy_col&#x27;,\n",
       "                                                  FunctionTransformer(func=&lt;ufunc &#x27;log1p&#x27;&gt;,\n",
       "                                                                      validate=True),\n",
       "                                                  [&#x27;cont7&#x27;, &#x27;cont9&#x27;, &#x27;cont5&#x27;,\n",
       "                                                   &#x27;cont8&#x27;])])),\n",
       "                (&#x27;linear_regression&#x27;, LinearRegression())])</pre><b>In a Jupyter environment, please rerun this cell to show the HTML representation or trust the notebook. <br />On GitHub, the HTML representation is unable to render, please try loading this page with nbviewer.org.</b></div><div class=\"sk-container\" hidden><div class=\"sk-item sk-dashed-wrapped\"><div class=\"sk-label-container\"><div class=\"sk-label sk-toggleable\"><input class=\"sk-toggleable__control sk-hidden--visually\" id=\"sk-estimator-id-1\" type=\"checkbox\" ><label for=\"sk-estimator-id-1\" class=\"sk-toggleable__label sk-toggleable__label-arrow\">Pipeline</label><div class=\"sk-toggleable__content\"><pre>Pipeline(steps=[(&#x27;preprocessing&#x27;,\n",
       "                 ColumnTransformer(transformers=[(&#x27;cleanup_non_corr_col&#x27;,\n",
       "                                                  FunctionTransformer(func=&lt;function drop_non_corr at 0x781389b69000&gt;),\n",
       "                                                  [&#x27;cont1&#x27;, &#x27;cont2&#x27;, &#x27;cont3&#x27;,\n",
       "                                                   &#x27;cont4&#x27;, &#x27;cont5&#x27;, &#x27;cont6&#x27;,\n",
       "                                                   &#x27;cont7&#x27;, &#x27;cont8&#x27;, &#x27;cont9&#x27;,\n",
       "                                                   &#x27;cont10&#x27;, &#x27;cont11&#x27;, &#x27;cont12&#x27;,\n",
       "                                                   &#x27;cont13&#x27;, &#x27;cont14&#x27;]),\n",
       "                                                 (&#x27;tail_head_heavy_col&#x27;,\n",
       "                                                  FunctionTransformer(func=&lt;ufunc &#x27;log1p&#x27;&gt;,\n",
       "                                                                      validate=True),\n",
       "                                                  [&#x27;cont7&#x27;, &#x27;cont9&#x27;, &#x27;cont5&#x27;,\n",
       "                                                   &#x27;cont8&#x27;])])),\n",
       "                (&#x27;linear_regression&#x27;, LinearRegression())])</pre></div></div></div><div class=\"sk-serial\"><div class=\"sk-item sk-dashed-wrapped\"><div class=\"sk-label-container\"><div class=\"sk-label sk-toggleable\"><input class=\"sk-toggleable__control sk-hidden--visually\" id=\"sk-estimator-id-2\" type=\"checkbox\" ><label for=\"sk-estimator-id-2\" class=\"sk-toggleable__label sk-toggleable__label-arrow\">preprocessing: ColumnTransformer</label><div class=\"sk-toggleable__content\"><pre>ColumnTransformer(transformers=[(&#x27;cleanup_non_corr_col&#x27;,\n",
       "                                 FunctionTransformer(func=&lt;function drop_non_corr at 0x781389b69000&gt;),\n",
       "                                 [&#x27;cont1&#x27;, &#x27;cont2&#x27;, &#x27;cont3&#x27;, &#x27;cont4&#x27;, &#x27;cont5&#x27;,\n",
       "                                  &#x27;cont6&#x27;, &#x27;cont7&#x27;, &#x27;cont8&#x27;, &#x27;cont9&#x27;, &#x27;cont10&#x27;,\n",
       "                                  &#x27;cont11&#x27;, &#x27;cont12&#x27;, &#x27;cont13&#x27;, &#x27;cont14&#x27;]),\n",
       "                                (&#x27;tail_head_heavy_col&#x27;,\n",
       "                                 FunctionTransformer(func=&lt;ufunc &#x27;log1p&#x27;&gt;,\n",
       "                                                     validate=True),\n",
       "                                 [&#x27;cont7&#x27;, &#x27;cont9&#x27;, &#x27;cont5&#x27;, &#x27;cont8&#x27;])])</pre></div></div></div><div class=\"sk-parallel\"><div class=\"sk-parallel-item\"><div class=\"sk-item\"><div class=\"sk-label-container\"><div class=\"sk-label sk-toggleable\"><input class=\"sk-toggleable__control sk-hidden--visually\" id=\"sk-estimator-id-3\" type=\"checkbox\" ><label for=\"sk-estimator-id-3\" class=\"sk-toggleable__label sk-toggleable__label-arrow\">cleanup_non_corr_col</label><div class=\"sk-toggleable__content\"><pre>[&#x27;cont1&#x27;, &#x27;cont2&#x27;, &#x27;cont3&#x27;, &#x27;cont4&#x27;, &#x27;cont5&#x27;, &#x27;cont6&#x27;, &#x27;cont7&#x27;, &#x27;cont8&#x27;, &#x27;cont9&#x27;, &#x27;cont10&#x27;, &#x27;cont11&#x27;, &#x27;cont12&#x27;, &#x27;cont13&#x27;, &#x27;cont14&#x27;]</pre></div></div></div><div class=\"sk-serial\"><div class=\"sk-item\"><div class=\"sk-estimator sk-toggleable\"><input class=\"sk-toggleable__control sk-hidden--visually\" id=\"sk-estimator-id-4\" type=\"checkbox\" ><label for=\"sk-estimator-id-4\" class=\"sk-toggleable__label sk-toggleable__label-arrow\">FunctionTransformer</label><div class=\"sk-toggleable__content\"><pre>FunctionTransformer(func=&lt;function drop_non_corr at 0x781389b69000&gt;)</pre></div></div></div></div></div></div><div class=\"sk-parallel-item\"><div class=\"sk-item\"><div class=\"sk-label-container\"><div class=\"sk-label sk-toggleable\"><input class=\"sk-toggleable__control sk-hidden--visually\" id=\"sk-estimator-id-5\" type=\"checkbox\" ><label for=\"sk-estimator-id-5\" class=\"sk-toggleable__label sk-toggleable__label-arrow\">tail_head_heavy_col</label><div class=\"sk-toggleable__content\"><pre>[&#x27;cont7&#x27;, &#x27;cont9&#x27;, &#x27;cont5&#x27;, &#x27;cont8&#x27;]</pre></div></div></div><div class=\"sk-serial\"><div class=\"sk-item\"><div class=\"sk-estimator sk-toggleable\"><input class=\"sk-toggleable__control sk-hidden--visually\" id=\"sk-estimator-id-6\" type=\"checkbox\" ><label for=\"sk-estimator-id-6\" class=\"sk-toggleable__label sk-toggleable__label-arrow\">FunctionTransformer</label><div class=\"sk-toggleable__content\"><pre>FunctionTransformer(func=&lt;ufunc &#x27;log1p&#x27;&gt;, validate=True)</pre></div></div></div></div></div></div></div></div><div class=\"sk-item\"><div class=\"sk-estimator sk-toggleable\"><input class=\"sk-toggleable__control sk-hidden--visually\" id=\"sk-estimator-id-7\" type=\"checkbox\" ><label for=\"sk-estimator-id-7\" class=\"sk-toggleable__label sk-toggleable__label-arrow\">LinearRegression</label><div class=\"sk-toggleable__content\"><pre>LinearRegression()</pre></div></div></div></div></div></div></div>"
      ],
      "text/plain": [
       "Pipeline(steps=[('preprocessing',\n",
       "                 ColumnTransformer(transformers=[('cleanup_non_corr_col',\n",
       "                                                  FunctionTransformer(func=<function drop_non_corr at 0x781389b69000>),\n",
       "                                                  ['cont1', 'cont2', 'cont3',\n",
       "                                                   'cont4', 'cont5', 'cont6',\n",
       "                                                   'cont7', 'cont8', 'cont9',\n",
       "                                                   'cont10', 'cont11', 'cont12',\n",
       "                                                   'cont13', 'cont14']),\n",
       "                                                 ('tail_head_heavy_col',\n",
       "                                                  FunctionTransformer(func=<ufunc 'log1p'>,\n",
       "                                                                      validate=True),\n",
       "                                                  ['cont7', 'cont9', 'cont5',\n",
       "                                                   'cont8'])])),\n",
       "                ('linear_regression', LinearRegression())])"
      ]
     },
     "execution_count": 17,
     "metadata": {},
     "output_type": "execute_result"
    }
   ],
   "source": [
    "lr_model.fit(data, target)"
   ]
  },
  {
   "cell_type": "code",
   "execution_count": 18,
   "id": "90faa2ff",
   "metadata": {
    "execution": {
     "iopub.execute_input": "2024-07-25T17:50:23.272267Z",
     "iopub.status.busy": "2024-07-25T17:50:23.270907Z",
     "iopub.status.idle": "2024-07-25T17:50:37.639418Z",
     "shell.execute_reply": "2024-07-25T17:50:37.638226Z"
    },
    "papermill": {
     "duration": 14.390085,
     "end_time": "2024-07-25T17:50:37.641691",
     "exception": false,
     "start_time": "2024-07-25T17:50:23.251606",
     "status": "completed"
    },
    "tags": []
   },
   "outputs": [
    {
     "data": {
      "text/html": [
       "<style>#sk-container-id-2 {color: black;background-color: white;}#sk-container-id-2 pre{padding: 0;}#sk-container-id-2 div.sk-toggleable {background-color: white;}#sk-container-id-2 label.sk-toggleable__label {cursor: pointer;display: block;width: 100%;margin-bottom: 0;padding: 0.3em;box-sizing: border-box;text-align: center;}#sk-container-id-2 label.sk-toggleable__label-arrow:before {content: \"▸\";float: left;margin-right: 0.25em;color: #696969;}#sk-container-id-2 label.sk-toggleable__label-arrow:hover:before {color: black;}#sk-container-id-2 div.sk-estimator:hover label.sk-toggleable__label-arrow:before {color: black;}#sk-container-id-2 div.sk-toggleable__content {max-height: 0;max-width: 0;overflow: hidden;text-align: left;background-color: #f0f8ff;}#sk-container-id-2 div.sk-toggleable__content pre {margin: 0.2em;color: black;border-radius: 0.25em;background-color: #f0f8ff;}#sk-container-id-2 input.sk-toggleable__control:checked~div.sk-toggleable__content {max-height: 200px;max-width: 100%;overflow: auto;}#sk-container-id-2 input.sk-toggleable__control:checked~label.sk-toggleable__label-arrow:before {content: \"▾\";}#sk-container-id-2 div.sk-estimator input.sk-toggleable__control:checked~label.sk-toggleable__label {background-color: #d4ebff;}#sk-container-id-2 div.sk-label input.sk-toggleable__control:checked~label.sk-toggleable__label {background-color: #d4ebff;}#sk-container-id-2 input.sk-hidden--visually {border: 0;clip: rect(1px 1px 1px 1px);clip: rect(1px, 1px, 1px, 1px);height: 1px;margin: -1px;overflow: hidden;padding: 0;position: absolute;width: 1px;}#sk-container-id-2 div.sk-estimator {font-family: monospace;background-color: #f0f8ff;border: 1px dotted black;border-radius: 0.25em;box-sizing: border-box;margin-bottom: 0.5em;}#sk-container-id-2 div.sk-estimator:hover {background-color: #d4ebff;}#sk-container-id-2 div.sk-parallel-item::after {content: \"\";width: 100%;border-bottom: 1px solid gray;flex-grow: 1;}#sk-container-id-2 div.sk-label:hover label.sk-toggleable__label {background-color: #d4ebff;}#sk-container-id-2 div.sk-serial::before {content: \"\";position: absolute;border-left: 1px solid gray;box-sizing: border-box;top: 0;bottom: 0;left: 50%;z-index: 0;}#sk-container-id-2 div.sk-serial {display: flex;flex-direction: column;align-items: center;background-color: white;padding-right: 0.2em;padding-left: 0.2em;position: relative;}#sk-container-id-2 div.sk-item {position: relative;z-index: 1;}#sk-container-id-2 div.sk-parallel {display: flex;align-items: stretch;justify-content: center;background-color: white;position: relative;}#sk-container-id-2 div.sk-item::before, #sk-container-id-2 div.sk-parallel-item::before {content: \"\";position: absolute;border-left: 1px solid gray;box-sizing: border-box;top: 0;bottom: 0;left: 50%;z-index: -1;}#sk-container-id-2 div.sk-parallel-item {display: flex;flex-direction: column;z-index: 1;position: relative;background-color: white;}#sk-container-id-2 div.sk-parallel-item:first-child::after {align-self: flex-end;width: 50%;}#sk-container-id-2 div.sk-parallel-item:last-child::after {align-self: flex-start;width: 50%;}#sk-container-id-2 div.sk-parallel-item:only-child::after {width: 0;}#sk-container-id-2 div.sk-dashed-wrapped {border: 1px dashed gray;margin: 0 0.4em 0.5em 0.4em;box-sizing: border-box;padding-bottom: 0.4em;background-color: white;}#sk-container-id-2 div.sk-label label {font-family: monospace;font-weight: bold;display: inline-block;line-height: 1.2em;}#sk-container-id-2 div.sk-label-container {text-align: center;}#sk-container-id-2 div.sk-container {/* jupyter's `normalize.less` sets `[hidden] { display: none; }` but bootstrap.min.css set `[hidden] { display: none !important; }` so we also need the `!important` here to be able to override the default hidden behavior on the sphinx rendered scikit-learn.org. See: https://github.com/scikit-learn/scikit-learn/issues/21755 */display: inline-block !important;position: relative;}#sk-container-id-2 div.sk-text-repr-fallback {display: none;}</style><div id=\"sk-container-id-2\" class=\"sk-top-container\"><div class=\"sk-text-repr-fallback\"><pre>Pipeline(steps=[(&#x27;preprocessing&#x27;,\n",
       "                 ColumnTransformer(transformers=[(&#x27;cleanup_non_corr_col&#x27;,\n",
       "                                                  FunctionTransformer(func=&lt;function drop_non_corr at 0x781389b69000&gt;),\n",
       "                                                  [&#x27;cont1&#x27;, &#x27;cont2&#x27;, &#x27;cont3&#x27;,\n",
       "                                                   &#x27;cont4&#x27;, &#x27;cont5&#x27;, &#x27;cont6&#x27;,\n",
       "                                                   &#x27;cont7&#x27;, &#x27;cont8&#x27;, &#x27;cont9&#x27;,\n",
       "                                                   &#x27;cont10&#x27;, &#x27;cont11&#x27;, &#x27;cont12&#x27;,\n",
       "                                                   &#x27;cont13&#x27;, &#x27;cont14&#x27;]),\n",
       "                                                 (&#x27;tail_head_heavy_col&#x27;,\n",
       "                                                  FunctionTransformer(func=&lt;ufunc &#x27;log1p&#x27;&gt;,\n",
       "                                                                      validate=True),\n",
       "                                                  [&#x27;cont7&#x27;, &#x27;cont9&#x27;, &#x27;cont5&#x27;,\n",
       "                                                   &#x27;cont8&#x27;])])),\n",
       "                (&#x27;decision_tree&#x27;, DecisionTreeRegressor(random_state=42))])</pre><b>In a Jupyter environment, please rerun this cell to show the HTML representation or trust the notebook. <br />On GitHub, the HTML representation is unable to render, please try loading this page with nbviewer.org.</b></div><div class=\"sk-container\" hidden><div class=\"sk-item sk-dashed-wrapped\"><div class=\"sk-label-container\"><div class=\"sk-label sk-toggleable\"><input class=\"sk-toggleable__control sk-hidden--visually\" id=\"sk-estimator-id-8\" type=\"checkbox\" ><label for=\"sk-estimator-id-8\" class=\"sk-toggleable__label sk-toggleable__label-arrow\">Pipeline</label><div class=\"sk-toggleable__content\"><pre>Pipeline(steps=[(&#x27;preprocessing&#x27;,\n",
       "                 ColumnTransformer(transformers=[(&#x27;cleanup_non_corr_col&#x27;,\n",
       "                                                  FunctionTransformer(func=&lt;function drop_non_corr at 0x781389b69000&gt;),\n",
       "                                                  [&#x27;cont1&#x27;, &#x27;cont2&#x27;, &#x27;cont3&#x27;,\n",
       "                                                   &#x27;cont4&#x27;, &#x27;cont5&#x27;, &#x27;cont6&#x27;,\n",
       "                                                   &#x27;cont7&#x27;, &#x27;cont8&#x27;, &#x27;cont9&#x27;,\n",
       "                                                   &#x27;cont10&#x27;, &#x27;cont11&#x27;, &#x27;cont12&#x27;,\n",
       "                                                   &#x27;cont13&#x27;, &#x27;cont14&#x27;]),\n",
       "                                                 (&#x27;tail_head_heavy_col&#x27;,\n",
       "                                                  FunctionTransformer(func=&lt;ufunc &#x27;log1p&#x27;&gt;,\n",
       "                                                                      validate=True),\n",
       "                                                  [&#x27;cont7&#x27;, &#x27;cont9&#x27;, &#x27;cont5&#x27;,\n",
       "                                                   &#x27;cont8&#x27;])])),\n",
       "                (&#x27;decision_tree&#x27;, DecisionTreeRegressor(random_state=42))])</pre></div></div></div><div class=\"sk-serial\"><div class=\"sk-item sk-dashed-wrapped\"><div class=\"sk-label-container\"><div class=\"sk-label sk-toggleable\"><input class=\"sk-toggleable__control sk-hidden--visually\" id=\"sk-estimator-id-9\" type=\"checkbox\" ><label for=\"sk-estimator-id-9\" class=\"sk-toggleable__label sk-toggleable__label-arrow\">preprocessing: ColumnTransformer</label><div class=\"sk-toggleable__content\"><pre>ColumnTransformer(transformers=[(&#x27;cleanup_non_corr_col&#x27;,\n",
       "                                 FunctionTransformer(func=&lt;function drop_non_corr at 0x781389b69000&gt;),\n",
       "                                 [&#x27;cont1&#x27;, &#x27;cont2&#x27;, &#x27;cont3&#x27;, &#x27;cont4&#x27;, &#x27;cont5&#x27;,\n",
       "                                  &#x27;cont6&#x27;, &#x27;cont7&#x27;, &#x27;cont8&#x27;, &#x27;cont9&#x27;, &#x27;cont10&#x27;,\n",
       "                                  &#x27;cont11&#x27;, &#x27;cont12&#x27;, &#x27;cont13&#x27;, &#x27;cont14&#x27;]),\n",
       "                                (&#x27;tail_head_heavy_col&#x27;,\n",
       "                                 FunctionTransformer(func=&lt;ufunc &#x27;log1p&#x27;&gt;,\n",
       "                                                     validate=True),\n",
       "                                 [&#x27;cont7&#x27;, &#x27;cont9&#x27;, &#x27;cont5&#x27;, &#x27;cont8&#x27;])])</pre></div></div></div><div class=\"sk-parallel\"><div class=\"sk-parallel-item\"><div class=\"sk-item\"><div class=\"sk-label-container\"><div class=\"sk-label sk-toggleable\"><input class=\"sk-toggleable__control sk-hidden--visually\" id=\"sk-estimator-id-10\" type=\"checkbox\" ><label for=\"sk-estimator-id-10\" class=\"sk-toggleable__label sk-toggleable__label-arrow\">cleanup_non_corr_col</label><div class=\"sk-toggleable__content\"><pre>[&#x27;cont1&#x27;, &#x27;cont2&#x27;, &#x27;cont3&#x27;, &#x27;cont4&#x27;, &#x27;cont5&#x27;, &#x27;cont6&#x27;, &#x27;cont7&#x27;, &#x27;cont8&#x27;, &#x27;cont9&#x27;, &#x27;cont10&#x27;, &#x27;cont11&#x27;, &#x27;cont12&#x27;, &#x27;cont13&#x27;, &#x27;cont14&#x27;]</pre></div></div></div><div class=\"sk-serial\"><div class=\"sk-item\"><div class=\"sk-estimator sk-toggleable\"><input class=\"sk-toggleable__control sk-hidden--visually\" id=\"sk-estimator-id-11\" type=\"checkbox\" ><label for=\"sk-estimator-id-11\" class=\"sk-toggleable__label sk-toggleable__label-arrow\">FunctionTransformer</label><div class=\"sk-toggleable__content\"><pre>FunctionTransformer(func=&lt;function drop_non_corr at 0x781389b69000&gt;)</pre></div></div></div></div></div></div><div class=\"sk-parallel-item\"><div class=\"sk-item\"><div class=\"sk-label-container\"><div class=\"sk-label sk-toggleable\"><input class=\"sk-toggleable__control sk-hidden--visually\" id=\"sk-estimator-id-12\" type=\"checkbox\" ><label for=\"sk-estimator-id-12\" class=\"sk-toggleable__label sk-toggleable__label-arrow\">tail_head_heavy_col</label><div class=\"sk-toggleable__content\"><pre>[&#x27;cont7&#x27;, &#x27;cont9&#x27;, &#x27;cont5&#x27;, &#x27;cont8&#x27;]</pre></div></div></div><div class=\"sk-serial\"><div class=\"sk-item\"><div class=\"sk-estimator sk-toggleable\"><input class=\"sk-toggleable__control sk-hidden--visually\" id=\"sk-estimator-id-13\" type=\"checkbox\" ><label for=\"sk-estimator-id-13\" class=\"sk-toggleable__label sk-toggleable__label-arrow\">FunctionTransformer</label><div class=\"sk-toggleable__content\"><pre>FunctionTransformer(func=&lt;ufunc &#x27;log1p&#x27;&gt;, validate=True)</pre></div></div></div></div></div></div></div></div><div class=\"sk-item\"><div class=\"sk-estimator sk-toggleable\"><input class=\"sk-toggleable__control sk-hidden--visually\" id=\"sk-estimator-id-14\" type=\"checkbox\" ><label for=\"sk-estimator-id-14\" class=\"sk-toggleable__label sk-toggleable__label-arrow\">DecisionTreeRegressor</label><div class=\"sk-toggleable__content\"><pre>DecisionTreeRegressor(random_state=42)</pre></div></div></div></div></div></div></div>"
      ],
      "text/plain": [
       "Pipeline(steps=[('preprocessing',\n",
       "                 ColumnTransformer(transformers=[('cleanup_non_corr_col',\n",
       "                                                  FunctionTransformer(func=<function drop_non_corr at 0x781389b69000>),\n",
       "                                                  ['cont1', 'cont2', 'cont3',\n",
       "                                                   'cont4', 'cont5', 'cont6',\n",
       "                                                   'cont7', 'cont8', 'cont9',\n",
       "                                                   'cont10', 'cont11', 'cont12',\n",
       "                                                   'cont13', 'cont14']),\n",
       "                                                 ('tail_head_heavy_col',\n",
       "                                                  FunctionTransformer(func=<ufunc 'log1p'>,\n",
       "                                                                      validate=True),\n",
       "                                                  ['cont7', 'cont9', 'cont5',\n",
       "                                                   'cont8'])])),\n",
       "                ('decision_tree', DecisionTreeRegressor(random_state=42))])"
      ]
     },
     "execution_count": 18,
     "metadata": {},
     "output_type": "execute_result"
    }
   ],
   "source": [
    "dt_model.fit(data, target)"
   ]
  },
  {
   "cell_type": "code",
   "execution_count": 19,
   "id": "341b1df0",
   "metadata": {
    "execution": {
     "iopub.execute_input": "2024-07-25T17:50:37.672244Z",
     "iopub.status.busy": "2024-07-25T17:50:37.671333Z",
     "iopub.status.idle": "2024-07-25T18:06:37.405877Z",
     "shell.execute_reply": "2024-07-25T18:06:37.404797Z"
    },
    "papermill": {
     "duration": 959.767069,
     "end_time": "2024-07-25T18:06:37.423017",
     "exception": false,
     "start_time": "2024-07-25T17:50:37.655948",
     "status": "completed"
    },
    "tags": []
   },
   "outputs": [
    {
     "data": {
      "text/html": [
       "<style>#sk-container-id-3 {color: black;background-color: white;}#sk-container-id-3 pre{padding: 0;}#sk-container-id-3 div.sk-toggleable {background-color: white;}#sk-container-id-3 label.sk-toggleable__label {cursor: pointer;display: block;width: 100%;margin-bottom: 0;padding: 0.3em;box-sizing: border-box;text-align: center;}#sk-container-id-3 label.sk-toggleable__label-arrow:before {content: \"▸\";float: left;margin-right: 0.25em;color: #696969;}#sk-container-id-3 label.sk-toggleable__label-arrow:hover:before {color: black;}#sk-container-id-3 div.sk-estimator:hover label.sk-toggleable__label-arrow:before {color: black;}#sk-container-id-3 div.sk-toggleable__content {max-height: 0;max-width: 0;overflow: hidden;text-align: left;background-color: #f0f8ff;}#sk-container-id-3 div.sk-toggleable__content pre {margin: 0.2em;color: black;border-radius: 0.25em;background-color: #f0f8ff;}#sk-container-id-3 input.sk-toggleable__control:checked~div.sk-toggleable__content {max-height: 200px;max-width: 100%;overflow: auto;}#sk-container-id-3 input.sk-toggleable__control:checked~label.sk-toggleable__label-arrow:before {content: \"▾\";}#sk-container-id-3 div.sk-estimator input.sk-toggleable__control:checked~label.sk-toggleable__label {background-color: #d4ebff;}#sk-container-id-3 div.sk-label input.sk-toggleable__control:checked~label.sk-toggleable__label {background-color: #d4ebff;}#sk-container-id-3 input.sk-hidden--visually {border: 0;clip: rect(1px 1px 1px 1px);clip: rect(1px, 1px, 1px, 1px);height: 1px;margin: -1px;overflow: hidden;padding: 0;position: absolute;width: 1px;}#sk-container-id-3 div.sk-estimator {font-family: monospace;background-color: #f0f8ff;border: 1px dotted black;border-radius: 0.25em;box-sizing: border-box;margin-bottom: 0.5em;}#sk-container-id-3 div.sk-estimator:hover {background-color: #d4ebff;}#sk-container-id-3 div.sk-parallel-item::after {content: \"\";width: 100%;border-bottom: 1px solid gray;flex-grow: 1;}#sk-container-id-3 div.sk-label:hover label.sk-toggleable__label {background-color: #d4ebff;}#sk-container-id-3 div.sk-serial::before {content: \"\";position: absolute;border-left: 1px solid gray;box-sizing: border-box;top: 0;bottom: 0;left: 50%;z-index: 0;}#sk-container-id-3 div.sk-serial {display: flex;flex-direction: column;align-items: center;background-color: white;padding-right: 0.2em;padding-left: 0.2em;position: relative;}#sk-container-id-3 div.sk-item {position: relative;z-index: 1;}#sk-container-id-3 div.sk-parallel {display: flex;align-items: stretch;justify-content: center;background-color: white;position: relative;}#sk-container-id-3 div.sk-item::before, #sk-container-id-3 div.sk-parallel-item::before {content: \"\";position: absolute;border-left: 1px solid gray;box-sizing: border-box;top: 0;bottom: 0;left: 50%;z-index: -1;}#sk-container-id-3 div.sk-parallel-item {display: flex;flex-direction: column;z-index: 1;position: relative;background-color: white;}#sk-container-id-3 div.sk-parallel-item:first-child::after {align-self: flex-end;width: 50%;}#sk-container-id-3 div.sk-parallel-item:last-child::after {align-self: flex-start;width: 50%;}#sk-container-id-3 div.sk-parallel-item:only-child::after {width: 0;}#sk-container-id-3 div.sk-dashed-wrapped {border: 1px dashed gray;margin: 0 0.4em 0.5em 0.4em;box-sizing: border-box;padding-bottom: 0.4em;background-color: white;}#sk-container-id-3 div.sk-label label {font-family: monospace;font-weight: bold;display: inline-block;line-height: 1.2em;}#sk-container-id-3 div.sk-label-container {text-align: center;}#sk-container-id-3 div.sk-container {/* jupyter's `normalize.less` sets `[hidden] { display: none; }` but bootstrap.min.css set `[hidden] { display: none !important; }` so we also need the `!important` here to be able to override the default hidden behavior on the sphinx rendered scikit-learn.org. See: https://github.com/scikit-learn/scikit-learn/issues/21755 */display: inline-block !important;position: relative;}#sk-container-id-3 div.sk-text-repr-fallback {display: none;}</style><div id=\"sk-container-id-3\" class=\"sk-top-container\"><div class=\"sk-text-repr-fallback\"><pre>Pipeline(steps=[(&#x27;preprocessing&#x27;,\n",
       "                 ColumnTransformer(transformers=[(&#x27;cleanup_non_corr_col&#x27;,\n",
       "                                                  FunctionTransformer(func=&lt;function drop_non_corr at 0x781389b69000&gt;),\n",
       "                                                  [&#x27;cont1&#x27;, &#x27;cont2&#x27;, &#x27;cont3&#x27;,\n",
       "                                                   &#x27;cont4&#x27;, &#x27;cont5&#x27;, &#x27;cont6&#x27;,\n",
       "                                                   &#x27;cont7&#x27;, &#x27;cont8&#x27;, &#x27;cont9&#x27;,\n",
       "                                                   &#x27;cont10&#x27;, &#x27;cont11&#x27;, &#x27;cont12&#x27;,\n",
       "                                                   &#x27;cont13&#x27;, &#x27;cont14&#x27;]),\n",
       "                                                 (&#x27;tail_head_heavy_col&#x27;,\n",
       "                                                  FunctionTransformer(func=&lt;ufunc &#x27;log1p&#x27;&gt;,\n",
       "                                                                      validate=True),\n",
       "                                                  [&#x27;cont7&#x27;, &#x27;cont9&#x27;, &#x27;cont5&#x27;,\n",
       "                                                   &#x27;cont8&#x27;])])),\n",
       "                (&#x27;random_forest&#x27;, RandomForestRegressor(random_state=42))])</pre><b>In a Jupyter environment, please rerun this cell to show the HTML representation or trust the notebook. <br />On GitHub, the HTML representation is unable to render, please try loading this page with nbviewer.org.</b></div><div class=\"sk-container\" hidden><div class=\"sk-item sk-dashed-wrapped\"><div class=\"sk-label-container\"><div class=\"sk-label sk-toggleable\"><input class=\"sk-toggleable__control sk-hidden--visually\" id=\"sk-estimator-id-15\" type=\"checkbox\" ><label for=\"sk-estimator-id-15\" class=\"sk-toggleable__label sk-toggleable__label-arrow\">Pipeline</label><div class=\"sk-toggleable__content\"><pre>Pipeline(steps=[(&#x27;preprocessing&#x27;,\n",
       "                 ColumnTransformer(transformers=[(&#x27;cleanup_non_corr_col&#x27;,\n",
       "                                                  FunctionTransformer(func=&lt;function drop_non_corr at 0x781389b69000&gt;),\n",
       "                                                  [&#x27;cont1&#x27;, &#x27;cont2&#x27;, &#x27;cont3&#x27;,\n",
       "                                                   &#x27;cont4&#x27;, &#x27;cont5&#x27;, &#x27;cont6&#x27;,\n",
       "                                                   &#x27;cont7&#x27;, &#x27;cont8&#x27;, &#x27;cont9&#x27;,\n",
       "                                                   &#x27;cont10&#x27;, &#x27;cont11&#x27;, &#x27;cont12&#x27;,\n",
       "                                                   &#x27;cont13&#x27;, &#x27;cont14&#x27;]),\n",
       "                                                 (&#x27;tail_head_heavy_col&#x27;,\n",
       "                                                  FunctionTransformer(func=&lt;ufunc &#x27;log1p&#x27;&gt;,\n",
       "                                                                      validate=True),\n",
       "                                                  [&#x27;cont7&#x27;, &#x27;cont9&#x27;, &#x27;cont5&#x27;,\n",
       "                                                   &#x27;cont8&#x27;])])),\n",
       "                (&#x27;random_forest&#x27;, RandomForestRegressor(random_state=42))])</pre></div></div></div><div class=\"sk-serial\"><div class=\"sk-item sk-dashed-wrapped\"><div class=\"sk-label-container\"><div class=\"sk-label sk-toggleable\"><input class=\"sk-toggleable__control sk-hidden--visually\" id=\"sk-estimator-id-16\" type=\"checkbox\" ><label for=\"sk-estimator-id-16\" class=\"sk-toggleable__label sk-toggleable__label-arrow\">preprocessing: ColumnTransformer</label><div class=\"sk-toggleable__content\"><pre>ColumnTransformer(transformers=[(&#x27;cleanup_non_corr_col&#x27;,\n",
       "                                 FunctionTransformer(func=&lt;function drop_non_corr at 0x781389b69000&gt;),\n",
       "                                 [&#x27;cont1&#x27;, &#x27;cont2&#x27;, &#x27;cont3&#x27;, &#x27;cont4&#x27;, &#x27;cont5&#x27;,\n",
       "                                  &#x27;cont6&#x27;, &#x27;cont7&#x27;, &#x27;cont8&#x27;, &#x27;cont9&#x27;, &#x27;cont10&#x27;,\n",
       "                                  &#x27;cont11&#x27;, &#x27;cont12&#x27;, &#x27;cont13&#x27;, &#x27;cont14&#x27;]),\n",
       "                                (&#x27;tail_head_heavy_col&#x27;,\n",
       "                                 FunctionTransformer(func=&lt;ufunc &#x27;log1p&#x27;&gt;,\n",
       "                                                     validate=True),\n",
       "                                 [&#x27;cont7&#x27;, &#x27;cont9&#x27;, &#x27;cont5&#x27;, &#x27;cont8&#x27;])])</pre></div></div></div><div class=\"sk-parallel\"><div class=\"sk-parallel-item\"><div class=\"sk-item\"><div class=\"sk-label-container\"><div class=\"sk-label sk-toggleable\"><input class=\"sk-toggleable__control sk-hidden--visually\" id=\"sk-estimator-id-17\" type=\"checkbox\" ><label for=\"sk-estimator-id-17\" class=\"sk-toggleable__label sk-toggleable__label-arrow\">cleanup_non_corr_col</label><div class=\"sk-toggleable__content\"><pre>[&#x27;cont1&#x27;, &#x27;cont2&#x27;, &#x27;cont3&#x27;, &#x27;cont4&#x27;, &#x27;cont5&#x27;, &#x27;cont6&#x27;, &#x27;cont7&#x27;, &#x27;cont8&#x27;, &#x27;cont9&#x27;, &#x27;cont10&#x27;, &#x27;cont11&#x27;, &#x27;cont12&#x27;, &#x27;cont13&#x27;, &#x27;cont14&#x27;]</pre></div></div></div><div class=\"sk-serial\"><div class=\"sk-item\"><div class=\"sk-estimator sk-toggleable\"><input class=\"sk-toggleable__control sk-hidden--visually\" id=\"sk-estimator-id-18\" type=\"checkbox\" ><label for=\"sk-estimator-id-18\" class=\"sk-toggleable__label sk-toggleable__label-arrow\">FunctionTransformer</label><div class=\"sk-toggleable__content\"><pre>FunctionTransformer(func=&lt;function drop_non_corr at 0x781389b69000&gt;)</pre></div></div></div></div></div></div><div class=\"sk-parallel-item\"><div class=\"sk-item\"><div class=\"sk-label-container\"><div class=\"sk-label sk-toggleable\"><input class=\"sk-toggleable__control sk-hidden--visually\" id=\"sk-estimator-id-19\" type=\"checkbox\" ><label for=\"sk-estimator-id-19\" class=\"sk-toggleable__label sk-toggleable__label-arrow\">tail_head_heavy_col</label><div class=\"sk-toggleable__content\"><pre>[&#x27;cont7&#x27;, &#x27;cont9&#x27;, &#x27;cont5&#x27;, &#x27;cont8&#x27;]</pre></div></div></div><div class=\"sk-serial\"><div class=\"sk-item\"><div class=\"sk-estimator sk-toggleable\"><input class=\"sk-toggleable__control sk-hidden--visually\" id=\"sk-estimator-id-20\" type=\"checkbox\" ><label for=\"sk-estimator-id-20\" class=\"sk-toggleable__label sk-toggleable__label-arrow\">FunctionTransformer</label><div class=\"sk-toggleable__content\"><pre>FunctionTransformer(func=&lt;ufunc &#x27;log1p&#x27;&gt;, validate=True)</pre></div></div></div></div></div></div></div></div><div class=\"sk-item\"><div class=\"sk-estimator sk-toggleable\"><input class=\"sk-toggleable__control sk-hidden--visually\" id=\"sk-estimator-id-21\" type=\"checkbox\" ><label for=\"sk-estimator-id-21\" class=\"sk-toggleable__label sk-toggleable__label-arrow\">RandomForestRegressor</label><div class=\"sk-toggleable__content\"><pre>RandomForestRegressor(random_state=42)</pre></div></div></div></div></div></div></div>"
      ],
      "text/plain": [
       "Pipeline(steps=[('preprocessing',\n",
       "                 ColumnTransformer(transformers=[('cleanup_non_corr_col',\n",
       "                                                  FunctionTransformer(func=<function drop_non_corr at 0x781389b69000>),\n",
       "                                                  ['cont1', 'cont2', 'cont3',\n",
       "                                                   'cont4', 'cont5', 'cont6',\n",
       "                                                   'cont7', 'cont8', 'cont9',\n",
       "                                                   'cont10', 'cont11', 'cont12',\n",
       "                                                   'cont13', 'cont14']),\n",
       "                                                 ('tail_head_heavy_col',\n",
       "                                                  FunctionTransformer(func=<ufunc 'log1p'>,\n",
       "                                                                      validate=True),\n",
       "                                                  ['cont7', 'cont9', 'cont5',\n",
       "                                                   'cont8'])])),\n",
       "                ('random_forest', RandomForestRegressor(random_state=42))])"
      ]
     },
     "execution_count": 19,
     "metadata": {},
     "output_type": "execute_result"
    }
   ],
   "source": [
    "rf_model.fit(data, target)"
   ]
  },
  {
   "cell_type": "markdown",
   "id": "cbaf12c8",
   "metadata": {
    "papermill": {
     "duration": 0.01749,
     "end_time": "2024-07-25T18:06:37.514556",
     "exception": false,
     "start_time": "2024-07-25T18:06:37.497066",
     "status": "completed"
    },
    "tags": []
   },
   "source": [
    "# Predictions by all models"
   ]
  },
  {
   "cell_type": "code",
   "execution_count": 20,
   "id": "e1244be5",
   "metadata": {
    "execution": {
     "iopub.execute_input": "2024-07-25T18:06:37.550438Z",
     "iopub.status.busy": "2024-07-25T18:06:37.549478Z",
     "iopub.status.idle": "2024-07-25T18:06:37.556053Z",
     "shell.execute_reply": "2024-07-25T18:06:37.555036Z"
    },
    "papermill": {
     "duration": 0.025761,
     "end_time": "2024-07-25T18:06:37.558145",
     "exception": false,
     "start_time": "2024-07-25T18:06:37.532384",
     "status": "completed"
    },
    "tags": []
   },
   "outputs": [],
   "source": [
    "test_target = test_set_for_model['target']\n",
    "test_data = test_set_for_model.drop(columns=['target'], axis=1)"
   ]
  },
  {
   "cell_type": "code",
   "execution_count": 21,
   "id": "f18d6264",
   "metadata": {
    "execution": {
     "iopub.execute_input": "2024-07-25T18:06:37.588488Z",
     "iopub.status.busy": "2024-07-25T18:06:37.588093Z",
     "iopub.status.idle": "2024-07-25T18:06:37.603283Z",
     "shell.execute_reply": "2024-07-25T18:06:37.602057Z"
    },
    "papermill": {
     "duration": 0.034578,
     "end_time": "2024-07-25T18:06:37.607151",
     "exception": false,
     "start_time": "2024-07-25T18:06:37.572573",
     "status": "completed"
    },
    "tags": []
   },
   "outputs": [],
   "source": [
    "lr_pred = lr_model.predict(test_data)"
   ]
  },
  {
   "cell_type": "code",
   "execution_count": 22,
   "id": "852999be",
   "metadata": {
    "execution": {
     "iopub.execute_input": "2024-07-25T18:06:37.659741Z",
     "iopub.status.busy": "2024-07-25T18:06:37.658721Z",
     "iopub.status.idle": "2024-07-25T18:06:37.715425Z",
     "shell.execute_reply": "2024-07-25T18:06:37.714074Z"
    },
    "papermill": {
     "duration": 0.087121,
     "end_time": "2024-07-25T18:06:37.719068",
     "exception": false,
     "start_time": "2024-07-25T18:06:37.631947",
     "status": "completed"
    },
    "tags": []
   },
   "outputs": [],
   "source": [
    "dt_pred = dt_model.predict(test_data)"
   ]
  },
  {
   "cell_type": "code",
   "execution_count": 23,
   "id": "374ae781",
   "metadata": {
    "execution": {
     "iopub.execute_input": "2024-07-25T18:06:37.751249Z",
     "iopub.status.busy": "2024-07-25T18:06:37.750859Z",
     "iopub.status.idle": "2024-07-25T18:06:39.859790Z",
     "shell.execute_reply": "2024-07-25T18:06:39.858847Z"
    },
    "papermill": {
     "duration": 2.127277,
     "end_time": "2024-07-25T18:06:39.862304",
     "exception": false,
     "start_time": "2024-07-25T18:06:37.735027",
     "status": "completed"
    },
    "tags": []
   },
   "outputs": [],
   "source": [
    "rf_pred = rf_model.predict(test_data)"
   ]
  },
  {
   "cell_type": "markdown",
   "id": "c594dcc4",
   "metadata": {
    "papermill": {
     "duration": 0.014228,
     "end_time": "2024-07-25T18:06:39.890992",
     "exception": false,
     "start_time": "2024-07-25T18:06:39.876764",
     "status": "completed"
    },
    "tags": []
   },
   "source": [
    "# RMSE scores of all model predictions"
   ]
  },
  {
   "cell_type": "code",
   "execution_count": 24,
   "id": "0e3a4f11",
   "metadata": {
    "execution": {
     "iopub.execute_input": "2024-07-25T18:06:39.920987Z",
     "iopub.status.busy": "2024-07-25T18:06:39.920642Z",
     "iopub.status.idle": "2024-07-25T18:06:39.928702Z",
     "shell.execute_reply": "2024-07-25T18:06:39.927685Z"
    },
    "papermill": {
     "duration": 0.025597,
     "end_time": "2024-07-25T18:06:39.930740",
     "exception": false,
     "start_time": "2024-07-25T18:06:39.905143",
     "status": "completed"
    },
    "tags": []
   },
   "outputs": [
    {
     "data": {
      "text/plain": [
       "0.722073378322866"
      ]
     },
     "execution_count": 24,
     "metadata": {},
     "output_type": "execute_result"
    }
   ],
   "source": [
    "lr_rmse = mean_squared_error(test_target, lr_pred, squared=False)\n",
    "lr_rmse"
   ]
  },
  {
   "cell_type": "code",
   "execution_count": 25,
   "id": "82bac670",
   "metadata": {
    "execution": {
     "iopub.execute_input": "2024-07-25T18:06:39.961771Z",
     "iopub.status.busy": "2024-07-25T18:06:39.961030Z",
     "iopub.status.idle": "2024-07-25T18:06:39.969247Z",
     "shell.execute_reply": "2024-07-25T18:06:39.968242Z"
    },
    "papermill": {
     "duration": 0.026188,
     "end_time": "2024-07-25T18:06:39.971508",
     "exception": false,
     "start_time": "2024-07-25T18:06:39.945320",
     "status": "completed"
    },
    "tags": []
   },
   "outputs": [
    {
     "data": {
      "text/plain": [
       "1.004476599204003"
      ]
     },
     "execution_count": 25,
     "metadata": {},
     "output_type": "execute_result"
    }
   ],
   "source": [
    "dt_rmse = mean_squared_error(test_target, dt_pred, squared=False)\n",
    "dt_rmse"
   ]
  },
  {
   "cell_type": "code",
   "execution_count": 26,
   "id": "330bca32",
   "metadata": {
    "execution": {
     "iopub.execute_input": "2024-07-25T18:06:40.003150Z",
     "iopub.status.busy": "2024-07-25T18:06:40.002173Z",
     "iopub.status.idle": "2024-07-25T18:06:40.010618Z",
     "shell.execute_reply": "2024-07-25T18:06:40.009627Z"
    },
    "papermill": {
     "duration": 0.026665,
     "end_time": "2024-07-25T18:06:40.012934",
     "exception": false,
     "start_time": "2024-07-25T18:06:39.986269",
     "status": "completed"
    },
    "tags": []
   },
   "outputs": [
    {
     "data": {
      "text/plain": [
       "0.7044242042339245"
      ]
     },
     "execution_count": 26,
     "metadata": {},
     "output_type": "execute_result"
    }
   ],
   "source": [
    "rf_rmse = mean_squared_error(test_target, rf_pred, squared=False)\n",
    "rf_rmse"
   ]
  },
  {
   "cell_type": "markdown",
   "id": "e86cf590",
   "metadata": {
    "papermill": {
     "duration": 0.014609,
     "end_time": "2024-07-25T18:06:40.042465",
     "exception": false,
     "start_time": "2024-07-25T18:06:40.027856",
     "status": "completed"
    },
    "tags": []
   },
   "source": [
    "# As a initial call going with best fit model"
   ]
  },
  {
   "cell_type": "code",
   "execution_count": 27,
   "id": "40e0f8ae",
   "metadata": {
    "execution": {
     "iopub.execute_input": "2024-07-25T18:06:40.073737Z",
     "iopub.status.busy": "2024-07-25T18:06:40.073304Z",
     "iopub.status.idle": "2024-07-25T18:06:52.986784Z",
     "shell.execute_reply": "2024-07-25T18:06:52.985724Z"
    },
    "papermill": {
     "duration": 12.932235,
     "end_time": "2024-07-25T18:06:52.989433",
     "exception": false,
     "start_time": "2024-07-25T18:06:40.057198",
     "status": "completed"
    },
    "tags": []
   },
   "outputs": [],
   "source": [
    "rf_submission_pred = rf_model.predict(test_set)"
   ]
  },
  {
   "cell_type": "code",
   "execution_count": 28,
   "id": "740c10bb",
   "metadata": {
    "execution": {
     "iopub.execute_input": "2024-07-25T18:06:53.020904Z",
     "iopub.status.busy": "2024-07-25T18:06:53.020546Z",
     "iopub.status.idle": "2024-07-25T18:06:53.057869Z",
     "shell.execute_reply": "2024-07-25T18:06:53.056688Z"
    },
    "papermill": {
     "duration": 0.056902,
     "end_time": "2024-07-25T18:06:53.061409",
     "exception": false,
     "start_time": "2024-07-25T18:06:53.004507",
     "status": "completed"
    },
    "tags": []
   },
   "outputs": [],
   "source": [
    "lr_submission_pred = lr_model.predict(test_set)"
   ]
  },
  {
   "cell_type": "code",
   "execution_count": 29,
   "id": "8676cc99",
   "metadata": {
    "execution": {
     "iopub.execute_input": "2024-07-25T18:06:53.113786Z",
     "iopub.status.busy": "2024-07-25T18:06:53.113307Z",
     "iopub.status.idle": "2024-07-25T18:06:53.329119Z",
     "shell.execute_reply": "2024-07-25T18:06:53.327860Z"
    },
    "papermill": {
     "duration": 0.244734,
     "end_time": "2024-07-25T18:06:53.331676",
     "exception": false,
     "start_time": "2024-07-25T18:06:53.086942",
     "status": "completed"
    },
    "tags": []
   },
   "outputs": [],
   "source": [
    "dt_submission_pred = dt_model.predict(test_set)"
   ]
  },
  {
   "cell_type": "code",
   "execution_count": 30,
   "id": "091dd374",
   "metadata": {
    "execution": {
     "iopub.execute_input": "2024-07-25T18:06:53.362985Z",
     "iopub.status.busy": "2024-07-25T18:06:53.362615Z",
     "iopub.status.idle": "2024-07-25T18:06:53.795053Z",
     "shell.execute_reply": "2024-07-25T18:06:53.793988Z"
    },
    "papermill": {
     "duration": 0.451047,
     "end_time": "2024-07-25T18:06:53.797620",
     "exception": false,
     "start_time": "2024-07-25T18:06:53.346573",
     "status": "completed"
    },
    "tags": []
   },
   "outputs": [],
   "source": [
    "rf_submission = pd.DataFrame(columns=[\"target\"])\n",
    "rf_submission[\"id\"] = test_set.index\n",
    "rf_submission[\"target\"] = rf_submission_pred\n",
    "rf_submission.set_index('id', inplace=True)\n",
    "rf_submission.to_csv('submission_rf.csv')"
   ]
  },
  {
   "cell_type": "code",
   "execution_count": 31,
   "id": "ecc64bca",
   "metadata": {
    "execution": {
     "iopub.execute_input": "2024-07-25T18:06:53.829298Z",
     "iopub.status.busy": "2024-07-25T18:06:53.828901Z",
     "iopub.status.idle": "2024-07-25T18:06:54.246539Z",
     "shell.execute_reply": "2024-07-25T18:06:54.245400Z"
    },
    "papermill": {
     "duration": 0.436556,
     "end_time": "2024-07-25T18:06:54.249102",
     "exception": false,
     "start_time": "2024-07-25T18:06:53.812546",
     "status": "completed"
    },
    "tags": []
   },
   "outputs": [],
   "source": [
    "lr_submission = pd.DataFrame(columns=[\"target\"])\n",
    "lr_submission[\"id\"] = test_set.index\n",
    "lr_submission[\"target\"] = lr_submission_pred\n",
    "lr_submission.set_index('id', inplace=True)\n",
    "lr_submission.to_csv('submission_lr.csv')"
   ]
  },
  {
   "cell_type": "code",
   "execution_count": 32,
   "id": "fc6b2661",
   "metadata": {
    "execution": {
     "iopub.execute_input": "2024-07-25T18:06:54.280540Z",
     "iopub.status.busy": "2024-07-25T18:06:54.279866Z",
     "iopub.status.idle": "2024-07-25T18:06:54.695471Z",
     "shell.execute_reply": "2024-07-25T18:06:54.694432Z"
    },
    "papermill": {
     "duration": 0.434181,
     "end_time": "2024-07-25T18:06:54.697949",
     "exception": false,
     "start_time": "2024-07-25T18:06:54.263768",
     "status": "completed"
    },
    "tags": []
   },
   "outputs": [],
   "source": [
    "dt_submission = pd.DataFrame(columns=[\"target\"])\n",
    "dt_submission[\"id\"] = test_set.index\n",
    "dt_submission[\"target\"] = dt_submission_pred\n",
    "dt_submission.set_index('id', inplace=True)\n",
    "dt_submission.to_csv('submission_dt.csv')"
   ]
  }
 ],
 "metadata": {
  "kaggle": {
   "accelerator": "none",
   "dataSources": [
    {
     "databundleVersionId": 1769258,
     "sourceId": 24673,
     "sourceType": "competition"
    }
   ],
   "dockerImageVersionId": 30746,
   "isGpuEnabled": false,
   "isInternetEnabled": true,
   "language": "python",
   "sourceType": "notebook"
  },
  "kernelspec": {
   "display_name": "Python 3",
   "language": "python",
   "name": "python3"
  },
  "language_info": {
   "codemirror_mode": {
    "name": "ipython",
    "version": 3
   },
   "file_extension": ".py",
   "mimetype": "text/x-python",
   "name": "python",
   "nbconvert_exporter": "python",
   "pygments_lexer": "ipython3",
   "version": "3.10.13"
  },
  "papermill": {
   "default_parameters": {},
   "duration": 1005.815153,
   "end_time": "2024-07-25T18:06:55.436136",
   "environment_variables": {},
   "exception": null,
   "input_path": "__notebook__.ipynb",
   "output_path": "__notebook__.ipynb",
   "parameters": {},
   "start_time": "2024-07-25T17:50:09.620983",
   "version": "2.5.0"
  }
 },
 "nbformat": 4,
 "nbformat_minor": 5
}
