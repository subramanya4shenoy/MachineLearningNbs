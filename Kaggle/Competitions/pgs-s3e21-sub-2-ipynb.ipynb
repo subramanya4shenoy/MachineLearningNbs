{
 "cells": [
  {
   "cell_type": "code",
   "execution_count": 1,
   "id": "dfaaaf13",
   "metadata": {
    "_cell_guid": "b1076dfc-b9ad-4769-8c92-a6c4dae69d19",
    "_kg_hide-input": false,
    "_kg_hide-output": false,
    "_uuid": "8f2839f25d086af736a60e9eeb907d3b93b6e0e5",
    "execution": {
     "iopub.execute_input": "2023-08-30T18:44:47.529392Z",
     "iopub.status.busy": "2023-08-30T18:44:47.528899Z",
     "iopub.status.idle": "2023-08-30T18:44:47.550619Z",
     "shell.execute_reply": "2023-08-30T18:44:47.548972Z"
    },
    "papermill": {
     "duration": 0.036208,
     "end_time": "2023-08-30T18:44:47.553051",
     "exception": false,
     "start_time": "2023-08-30T18:44:47.516843",
     "status": "completed"
    },
    "tags": []
   },
   "outputs": [
    {
     "name": "stdout",
     "output_type": "stream",
     "text": [
      "/kaggle/input/playground-series-s3e21/sample_submission.csv\n",
      "/kaggle/input/dissolved-oxygen-prediction-in-river-water/train.csv\n",
      "/kaggle/input/dissolved-oxygen-prediction-in-river-water/test.csv\n"
     ]
    }
   ],
   "source": [
    "# This Python 3 environment comes with many helpful analytics libraries installed\n",
    "# It is defined by the kaggle/python Docker image: https://github.com/kaggle/docker-python\n",
    "# For example, here's several helpful packages to load\n",
    "\n",
    "import numpy as np # linear algebra\n",
    "import pandas as pd # data processing, CSV file I/O (e.g. pd.read_csv)\n",
    "\n",
    "# Input data files are available in the read-only \"../input/\" directory\n",
    "# For example, running this (by clicking run or pressing Shift+Enter) will list all files under the input directory\n",
    "\n",
    "import os\n",
    "for dirname, _, filenames in os.walk('/kaggle/input'):\n",
    "    for filename in filenames:\n",
    "        print(os.path.join(dirname, filename))\n",
    "\n",
    "# You can write up to 20GB to the current directory (/kaggle/working/) that gets preserved as output when you create a version using \"Save & Run All\" \n",
    "# You can also write temporary files to /kaggle/temp/, but they won't be saved outside of the current session"
   ]
  },
  {
   "cell_type": "markdown",
   "id": "67095402",
   "metadata": {
    "papermill": {
     "duration": 0.009269,
     "end_time": "2023-08-30T18:44:47.571802",
     "exception": false,
     "start_time": "2023-08-30T18:44:47.562533",
     "status": "completed"
    },
    "tags": []
   },
   "source": [
    "# 😵‍💫 Improve a Fixed Model the Data-Centric Way! 😵‍💫¶ (Second Attempt)\n",
    "Playground Series - Season 3, Episode 21\n",
    "\n",
    "This is a very different type of challenge! For this challenge, your task is to improve a dataset that is being used to train a random forest model; in other words, your submission will be training data, not predictions. A random forest model will be trained on your submission, used to make predictions, and then those predictions will be used to generate your score.\n",
    "\n",
    "The dataset for this competition is a synthetic dataset based off of the Dissolved oxygen prediction in river water dataset. You are free to use the original in any way that you find useful."
   ]
  },
  {
   "cell_type": "markdown",
   "id": "54b3c8a9",
   "metadata": {
    "papermill": {
     "duration": 0.008848,
     "end_time": "2023-08-30T18:44:47.589900",
     "exception": false,
     "start_time": "2023-08-30T18:44:47.581052",
     "status": "completed"
    },
    "tags": []
   },
   "source": [
    "## 🔶 Look at the big Picture"
   ]
  },
  {
   "cell_type": "markdown",
   "id": "dd7218c7",
   "metadata": {
    "papermill": {
     "duration": 0.008797,
     "end_time": "2023-08-30T18:44:47.607956",
     "exception": false,
     "start_time": "2023-08-30T18:44:47.599159",
     "status": "completed"
    },
    "tags": []
   },
   "source": [
    "### 🔸 **Frame the problem**\n",
    "*   🟢 **Goal:** Is to fill the columns in the dataFrame such a way that the dataframe fed to the given model gives close to 0 RMSE. 🗒\n",
    "*   🟢 **End Result:** multiple Columns to be predicted, changed such a way that models predict well 🗒\n",
    "*   🟢 **Problem Type:** not exactly a regression. model has been already provided,\n",
    "*   🟢 **Learning Type:** Supervised Learning\n",
    "*   🟢 **Variate:** MultiVariate (need to predict multiple target with 1 label)\n",
    "*   🟢 **Features:** single features"
   ]
  },
  {
   "cell_type": "markdown",
   "id": "67424e91",
   "metadata": {
    "papermill": {
     "duration": 0.008838,
     "end_time": "2023-08-30T18:44:47.626128",
     "exception": false,
     "start_time": "2023-08-30T18:44:47.617290",
     "status": "completed"
    },
    "tags": []
   },
   "source": [
    "### 🔸 **Select performance measure**:\n",
    "🟢 using RMSE 🗒.  This was given in the problem set."
   ]
  },
  {
   "cell_type": "markdown",
   "id": "3f5cfb86",
   "metadata": {
    "papermill": {
     "duration": 0.008894,
     "end_time": "2023-08-30T18:44:47.644237",
     "exception": false,
     "start_time": "2023-08-30T18:44:47.635343",
     "status": "completed"
    },
    "tags": []
   },
   "source": [
    "### 🔸 **Assumptions**: `none`\n",
    "\n",
    "---"
   ]
  },
  {
   "cell_type": "markdown",
   "id": "f6f20cfe",
   "metadata": {
    "papermill": {
     "duration": 0.008807,
     "end_time": "2023-08-30T18:44:47.662258",
     "exception": false,
     "start_time": "2023-08-30T18:44:47.653451",
     "status": "completed"
    },
    "tags": []
   },
   "source": [
    "## 🔶**Get the Data**\n",
    "\n",
    "* 🟢 Add the sample_submission (as there are no train and test set in this problem) from the compition data\n",
    "* 🟢 Read the sample_submission csv into a dataframe"
   ]
  },
  {
   "cell_type": "code",
   "execution_count": 2,
   "id": "d69aa001",
   "metadata": {
    "execution": {
     "iopub.execute_input": "2023-08-30T18:44:47.682521Z",
     "iopub.status.busy": "2023-08-30T18:44:47.682127Z",
     "iopub.status.idle": "2023-08-30T18:44:47.714626Z",
     "shell.execute_reply": "2023-08-30T18:44:47.713409Z"
    },
    "papermill": {
     "duration": 0.04573,
     "end_time": "2023-08-30T18:44:47.717188",
     "exception": false,
     "start_time": "2023-08-30T18:44:47.671458",
     "status": "completed"
    },
    "tags": []
   },
   "outputs": [],
   "source": [
    "#taking original training data from original data source\n",
    "\n",
    "og_train_set = pd.read_csv('/kaggle/input/dissolved-oxygen-prediction-in-river-water/train.csv', index_col='Id')\n"
   ]
  },
  {
   "cell_type": "markdown",
   "id": "45b51977",
   "metadata": {
    "papermill": {
     "duration": 0.009311,
     "end_time": "2023-08-30T18:44:47.735647",
     "exception": false,
     "start_time": "2023-08-30T18:44:47.726336",
     "status": "completed"
    },
    "tags": []
   },
   "source": [
    "#### 🔸 **Take Quick look**\n",
    "* 🟢 .head() to see the index columns and quick look at the data \n",
    "* 🟢 .shape to see the size of training set\n",
    "* 🟢 .info() to see the data types and missing values \n",
    "* 🟢 .value_counts() on categorical data to check if all the categories are equaly represented and to check the weightages.\n",
    "* 🟢 .describe() to check mean and std deviation, min, max this gives a hint of how data is distributed and what is the max values, min values and is there any scaled data or not.\n",
    "\n",
    "🚨 **Note:** Specially for this problem we are looking at the submision set so that we can have a clone of this dataframe structure and fill the data "
   ]
  },
  {
   "cell_type": "code",
   "execution_count": 3,
   "id": "126d52f2",
   "metadata": {
    "execution": {
     "iopub.execute_input": "2023-08-30T18:44:47.756460Z",
     "iopub.status.busy": "2023-08-30T18:44:47.756060Z",
     "iopub.status.idle": "2023-08-30T18:44:47.791222Z",
     "shell.execute_reply": "2023-08-30T18:44:47.790153Z"
    },
    "papermill": {
     "duration": 0.049006,
     "end_time": "2023-08-30T18:44:47.793629",
     "exception": false,
     "start_time": "2023-08-30T18:44:47.744623",
     "status": "completed"
    },
    "tags": []
   },
   "outputs": [
    {
     "data": {
      "text/html": [
       "<div>\n",
       "<style scoped>\n",
       "    .dataframe tbody tr th:only-of-type {\n",
       "        vertical-align: middle;\n",
       "    }\n",
       "\n",
       "    .dataframe tbody tr th {\n",
       "        vertical-align: top;\n",
       "    }\n",
       "\n",
       "    .dataframe thead th {\n",
       "        text-align: right;\n",
       "    }\n",
       "</style>\n",
       "<table border=\"1\" class=\"dataframe\">\n",
       "  <thead>\n",
       "    <tr style=\"text-align: right;\">\n",
       "      <th></th>\n",
       "      <th>target</th>\n",
       "      <th>O2_1</th>\n",
       "      <th>O2_2</th>\n",
       "      <th>O2_3</th>\n",
       "      <th>O2_4</th>\n",
       "      <th>O2_5</th>\n",
       "      <th>O2_6</th>\n",
       "      <th>O2_7</th>\n",
       "      <th>NH4_1</th>\n",
       "      <th>NH4_2</th>\n",
       "      <th>...</th>\n",
       "      <th>NO3_5</th>\n",
       "      <th>NO3_6</th>\n",
       "      <th>NO3_7</th>\n",
       "      <th>BOD5_1</th>\n",
       "      <th>BOD5_2</th>\n",
       "      <th>BOD5_3</th>\n",
       "      <th>BOD5_4</th>\n",
       "      <th>BOD5_5</th>\n",
       "      <th>BOD5_6</th>\n",
       "      <th>BOD5_7</th>\n",
       "    </tr>\n",
       "    <tr>\n",
       "      <th>Id</th>\n",
       "      <th></th>\n",
       "      <th></th>\n",
       "      <th></th>\n",
       "      <th></th>\n",
       "      <th></th>\n",
       "      <th></th>\n",
       "      <th></th>\n",
       "      <th></th>\n",
       "      <th></th>\n",
       "      <th></th>\n",
       "      <th></th>\n",
       "      <th></th>\n",
       "      <th></th>\n",
       "      <th></th>\n",
       "      <th></th>\n",
       "      <th></th>\n",
       "      <th></th>\n",
       "      <th></th>\n",
       "      <th></th>\n",
       "      <th></th>\n",
       "      <th></th>\n",
       "    </tr>\n",
       "  </thead>\n",
       "  <tbody>\n",
       "    <tr>\n",
       "      <th>0</th>\n",
       "      <td>12.58</td>\n",
       "      <td>9.875</td>\n",
       "      <td>9.20</td>\n",
       "      <td>NaN</td>\n",
       "      <td>NaN</td>\n",
       "      <td>NaN</td>\n",
       "      <td>NaN</td>\n",
       "      <td>NaN</td>\n",
       "      <td>0.690</td>\n",
       "      <td>1.040</td>\n",
       "      <td>...</td>\n",
       "      <td>NaN</td>\n",
       "      <td>NaN</td>\n",
       "      <td>NaN</td>\n",
       "      <td>4.80</td>\n",
       "      <td>5.850</td>\n",
       "      <td>NaN</td>\n",
       "      <td>NaN</td>\n",
       "      <td>NaN</td>\n",
       "      <td>NaN</td>\n",
       "      <td>NaN</td>\n",
       "    </tr>\n",
       "    <tr>\n",
       "      <th>3</th>\n",
       "      <td>9.37</td>\n",
       "      <td>10.300</td>\n",
       "      <td>10.75</td>\n",
       "      <td>NaN</td>\n",
       "      <td>NaN</td>\n",
       "      <td>NaN</td>\n",
       "      <td>NaN</td>\n",
       "      <td>NaN</td>\n",
       "      <td>0.710</td>\n",
       "      <td>0.725</td>\n",
       "      <td>...</td>\n",
       "      <td>NaN</td>\n",
       "      <td>NaN</td>\n",
       "      <td>NaN</td>\n",
       "      <td>5.88</td>\n",
       "      <td>6.835</td>\n",
       "      <td>NaN</td>\n",
       "      <td>NaN</td>\n",
       "      <td>NaN</td>\n",
       "      <td>NaN</td>\n",
       "      <td>NaN</td>\n",
       "    </tr>\n",
       "    <tr>\n",
       "      <th>4</th>\n",
       "      <td>8.35</td>\n",
       "      <td>8.290</td>\n",
       "      <td>7.90</td>\n",
       "      <td>NaN</td>\n",
       "      <td>NaN</td>\n",
       "      <td>NaN</td>\n",
       "      <td>NaN</td>\n",
       "      <td>NaN</td>\n",
       "      <td>2.210</td>\n",
       "      <td>2.210</td>\n",
       "      <td>...</td>\n",
       "      <td>NaN</td>\n",
       "      <td>NaN</td>\n",
       "      <td>NaN</td>\n",
       "      <td>3.20</td>\n",
       "      <td>2.700</td>\n",
       "      <td>NaN</td>\n",
       "      <td>NaN</td>\n",
       "      <td>NaN</td>\n",
       "      <td>NaN</td>\n",
       "      <td>NaN</td>\n",
       "    </tr>\n",
       "    <tr>\n",
       "      <th>5</th>\n",
       "      <td>9.57</td>\n",
       "      <td>8.820</td>\n",
       "      <td>6.80</td>\n",
       "      <td>NaN</td>\n",
       "      <td>NaN</td>\n",
       "      <td>NaN</td>\n",
       "      <td>NaN</td>\n",
       "      <td>NaN</td>\n",
       "      <td>0.595</td>\n",
       "      <td>0.675</td>\n",
       "      <td>...</td>\n",
       "      <td>NaN</td>\n",
       "      <td>NaN</td>\n",
       "      <td>NaN</td>\n",
       "      <td>7.70</td>\n",
       "      <td>7.055</td>\n",
       "      <td>NaN</td>\n",
       "      <td>NaN</td>\n",
       "      <td>NaN</td>\n",
       "      <td>NaN</td>\n",
       "      <td>NaN</td>\n",
       "    </tr>\n",
       "    <tr>\n",
       "      <th>6</th>\n",
       "      <td>6.00</td>\n",
       "      <td>6.000</td>\n",
       "      <td>6.50</td>\n",
       "      <td>NaN</td>\n",
       "      <td>NaN</td>\n",
       "      <td>NaN</td>\n",
       "      <td>NaN</td>\n",
       "      <td>NaN</td>\n",
       "      <td>0.600</td>\n",
       "      <td>0.900</td>\n",
       "      <td>...</td>\n",
       "      <td>NaN</td>\n",
       "      <td>NaN</td>\n",
       "      <td>NaN</td>\n",
       "      <td>5.50</td>\n",
       "      <td>5.300</td>\n",
       "      <td>NaN</td>\n",
       "      <td>NaN</td>\n",
       "      <td>NaN</td>\n",
       "      <td>NaN</td>\n",
       "      <td>NaN</td>\n",
       "    </tr>\n",
       "  </tbody>\n",
       "</table>\n",
       "<p>5 rows × 36 columns</p>\n",
       "</div>"
      ],
      "text/plain": [
       "    target    O2_1   O2_2  O2_3  O2_4  O2_5  O2_6  O2_7  NH4_1  NH4_2  ...  \\\n",
       "Id                                                                     ...   \n",
       "0    12.58   9.875   9.20   NaN   NaN   NaN   NaN   NaN  0.690  1.040  ...   \n",
       "3     9.37  10.300  10.75   NaN   NaN   NaN   NaN   NaN  0.710  0.725  ...   \n",
       "4     8.35   8.290   7.90   NaN   NaN   NaN   NaN   NaN  2.210  2.210  ...   \n",
       "5     9.57   8.820   6.80   NaN   NaN   NaN   NaN   NaN  0.595  0.675  ...   \n",
       "6     6.00   6.000   6.50   NaN   NaN   NaN   NaN   NaN  0.600  0.900  ...   \n",
       "\n",
       "    NO3_5  NO3_6  NO3_7  BOD5_1  BOD5_2  BOD5_3  BOD5_4  BOD5_5  BOD5_6  \\\n",
       "Id                                                                        \n",
       "0     NaN    NaN    NaN    4.80   5.850     NaN     NaN     NaN     NaN   \n",
       "3     NaN    NaN    NaN    5.88   6.835     NaN     NaN     NaN     NaN   \n",
       "4     NaN    NaN    NaN    3.20   2.700     NaN     NaN     NaN     NaN   \n",
       "5     NaN    NaN    NaN    7.70   7.055     NaN     NaN     NaN     NaN   \n",
       "6     NaN    NaN    NaN    5.50   5.300     NaN     NaN     NaN     NaN   \n",
       "\n",
       "    BOD5_7  \n",
       "Id          \n",
       "0      NaN  \n",
       "3      NaN  \n",
       "4      NaN  \n",
       "5      NaN  \n",
       "6      NaN  \n",
       "\n",
       "[5 rows x 36 columns]"
      ]
     },
     "execution_count": 3,
     "metadata": {},
     "output_type": "execute_result"
    }
   ],
   "source": [
    "og_train_set.head()"
   ]
  },
  {
   "cell_type": "code",
   "execution_count": 4,
   "id": "fd0d7883",
   "metadata": {
    "execution": {
     "iopub.execute_input": "2023-08-30T18:44:47.814938Z",
     "iopub.status.busy": "2023-08-30T18:44:47.814550Z",
     "iopub.status.idle": "2023-08-30T18:44:47.821220Z",
     "shell.execute_reply": "2023-08-30T18:44:47.820158Z"
    },
    "papermill": {
     "duration": 0.019378,
     "end_time": "2023-08-30T18:44:47.823395",
     "exception": false,
     "start_time": "2023-08-30T18:44:47.804017",
     "status": "completed"
    },
    "tags": []
   },
   "outputs": [
    {
     "data": {
      "text/plain": [
       "(147, 36)"
      ]
     },
     "execution_count": 4,
     "metadata": {},
     "output_type": "execute_result"
    }
   ],
   "source": [
    "og_train_set.shape"
   ]
  },
  {
   "cell_type": "code",
   "execution_count": 5,
   "id": "0852cbfa",
   "metadata": {
    "execution": {
     "iopub.execute_input": "2023-08-30T18:44:47.848284Z",
     "iopub.status.busy": "2023-08-30T18:44:47.847820Z",
     "iopub.status.idle": "2023-08-30T18:44:47.972795Z",
     "shell.execute_reply": "2023-08-30T18:44:47.970657Z"
    },
    "papermill": {
     "duration": 0.141985,
     "end_time": "2023-08-30T18:44:47.976731",
     "exception": false,
     "start_time": "2023-08-30T18:44:47.834746",
     "status": "completed"
    },
    "tags": []
   },
   "outputs": [
    {
     "data": {
      "text/html": [
       "<div>\n",
       "<style scoped>\n",
       "    .dataframe tbody tr th:only-of-type {\n",
       "        vertical-align: middle;\n",
       "    }\n",
       "\n",
       "    .dataframe tbody tr th {\n",
       "        vertical-align: top;\n",
       "    }\n",
       "\n",
       "    .dataframe thead th {\n",
       "        text-align: right;\n",
       "    }\n",
       "</style>\n",
       "<table border=\"1\" class=\"dataframe\">\n",
       "  <thead>\n",
       "    <tr style=\"text-align: right;\">\n",
       "      <th></th>\n",
       "      <th>target</th>\n",
       "      <th>O2_1</th>\n",
       "      <th>O2_2</th>\n",
       "      <th>O2_3</th>\n",
       "      <th>O2_4</th>\n",
       "      <th>O2_5</th>\n",
       "      <th>O2_6</th>\n",
       "      <th>O2_7</th>\n",
       "      <th>NH4_1</th>\n",
       "      <th>NH4_2</th>\n",
       "      <th>...</th>\n",
       "      <th>NO3_5</th>\n",
       "      <th>NO3_6</th>\n",
       "      <th>NO3_7</th>\n",
       "      <th>BOD5_1</th>\n",
       "      <th>BOD5_2</th>\n",
       "      <th>BOD5_3</th>\n",
       "      <th>BOD5_4</th>\n",
       "      <th>BOD5_5</th>\n",
       "      <th>BOD5_6</th>\n",
       "      <th>BOD5_7</th>\n",
       "    </tr>\n",
       "  </thead>\n",
       "  <tbody>\n",
       "    <tr>\n",
       "      <th>count</th>\n",
       "      <td>147.000000</td>\n",
       "      <td>145.000000</td>\n",
       "      <td>145.000000</td>\n",
       "      <td>32.000000</td>\n",
       "      <td>31.000000</td>\n",
       "      <td>33.000000</td>\n",
       "      <td>37.000000</td>\n",
       "      <td>37.000000</td>\n",
       "      <td>145.000000</td>\n",
       "      <td>145.000000</td>\n",
       "      <td>...</td>\n",
       "      <td>33.000000</td>\n",
       "      <td>37.000000</td>\n",
       "      <td>37.000000</td>\n",
       "      <td>145.000000</td>\n",
       "      <td>145.000000</td>\n",
       "      <td>32.000000</td>\n",
       "      <td>31.000000</td>\n",
       "      <td>33.000000</td>\n",
       "      <td>37.000000</td>\n",
       "      <td>37.000000</td>\n",
       "    </tr>\n",
       "    <tr>\n",
       "      <th>mean</th>\n",
       "      <td>9.211497</td>\n",
       "      <td>9.168506</td>\n",
       "      <td>9.148126</td>\n",
       "      <td>10.002813</td>\n",
       "      <td>8.483226</td>\n",
       "      <td>6.095152</td>\n",
       "      <td>9.396892</td>\n",
       "      <td>7.598243</td>\n",
       "      <td>0.588168</td>\n",
       "      <td>0.660910</td>\n",
       "      <td>...</td>\n",
       "      <td>6.982515</td>\n",
       "      <td>3.373689</td>\n",
       "      <td>3.200135</td>\n",
       "      <td>4.972724</td>\n",
       "      <td>4.906379</td>\n",
       "      <td>4.665312</td>\n",
       "      <td>5.871935</td>\n",
       "      <td>8.678788</td>\n",
       "      <td>3.884054</td>\n",
       "      <td>3.957703</td>\n",
       "    </tr>\n",
       "    <tr>\n",
       "      <th>std</th>\n",
       "      <td>2.886614</td>\n",
       "      <td>4.188197</td>\n",
       "      <td>3.746898</td>\n",
       "      <td>2.667096</td>\n",
       "      <td>2.527239</td>\n",
       "      <td>3.279915</td>\n",
       "      <td>2.848153</td>\n",
       "      <td>3.409060</td>\n",
       "      <td>0.462262</td>\n",
       "      <td>0.591798</td>\n",
       "      <td>...</td>\n",
       "      <td>4.466642</td>\n",
       "      <td>2.823756</td>\n",
       "      <td>2.868225</td>\n",
       "      <td>2.044057</td>\n",
       "      <td>2.001381</td>\n",
       "      <td>2.057903</td>\n",
       "      <td>2.555560</td>\n",
       "      <td>5.299039</td>\n",
       "      <td>1.615542</td>\n",
       "      <td>1.916813</td>\n",
       "    </tr>\n",
       "    <tr>\n",
       "      <th>min</th>\n",
       "      <td>1.900000</td>\n",
       "      <td>2.200000</td>\n",
       "      <td>2.200000</td>\n",
       "      <td>4.660000</td>\n",
       "      <td>4.900000</td>\n",
       "      <td>0.000000</td>\n",
       "      <td>0.000000</td>\n",
       "      <td>0.000000</td>\n",
       "      <td>0.040000</td>\n",
       "      <td>0.020000</td>\n",
       "      <td>...</td>\n",
       "      <td>0.670000</td>\n",
       "      <td>0.100000</td>\n",
       "      <td>0.000000</td>\n",
       "      <td>0.900000</td>\n",
       "      <td>1.040000</td>\n",
       "      <td>2.040000</td>\n",
       "      <td>2.480000</td>\n",
       "      <td>2.880000</td>\n",
       "      <td>1.000000</td>\n",
       "      <td>1.600000</td>\n",
       "    </tr>\n",
       "    <tr>\n",
       "      <th>25%</th>\n",
       "      <td>7.375000</td>\n",
       "      <td>7.050000</td>\n",
       "      <td>7.200000</td>\n",
       "      <td>8.100000</td>\n",
       "      <td>6.865000</td>\n",
       "      <td>3.290000</td>\n",
       "      <td>8.800000</td>\n",
       "      <td>6.170000</td>\n",
       "      <td>0.230000</td>\n",
       "      <td>0.215000</td>\n",
       "      <td>...</td>\n",
       "      <td>4.100000</td>\n",
       "      <td>1.440000</td>\n",
       "      <td>1.610000</td>\n",
       "      <td>3.500000</td>\n",
       "      <td>3.400000</td>\n",
       "      <td>3.325000</td>\n",
       "      <td>4.445000</td>\n",
       "      <td>5.840000</td>\n",
       "      <td>2.900000</td>\n",
       "      <td>2.900000</td>\n",
       "    </tr>\n",
       "    <tr>\n",
       "      <th>50%</th>\n",
       "      <td>8.800000</td>\n",
       "      <td>8.700000</td>\n",
       "      <td>8.566667</td>\n",
       "      <td>9.522500</td>\n",
       "      <td>7.800000</td>\n",
       "      <td>5.800000</td>\n",
       "      <td>9.805000</td>\n",
       "      <td>7.150000</td>\n",
       "      <td>0.425000</td>\n",
       "      <td>0.440000</td>\n",
       "      <td>...</td>\n",
       "      <td>6.050000</td>\n",
       "      <td>2.650000</td>\n",
       "      <td>1.900000</td>\n",
       "      <td>4.800000</td>\n",
       "      <td>4.833333</td>\n",
       "      <td>4.150000</td>\n",
       "      <td>5.500000</td>\n",
       "      <td>7.300000</td>\n",
       "      <td>3.400000</td>\n",
       "      <td>3.500000</td>\n",
       "    </tr>\n",
       "    <tr>\n",
       "      <th>75%</th>\n",
       "      <td>10.850000</td>\n",
       "      <td>10.600000</td>\n",
       "      <td>10.500000</td>\n",
       "      <td>11.611250</td>\n",
       "      <td>9.232500</td>\n",
       "      <td>9.500000</td>\n",
       "      <td>10.440000</td>\n",
       "      <td>8.700000</td>\n",
       "      <td>0.800000</td>\n",
       "      <td>0.910000</td>\n",
       "      <td>...</td>\n",
       "      <td>8.550000</td>\n",
       "      <td>4.320000</td>\n",
       "      <td>3.800000</td>\n",
       "      <td>6.450000</td>\n",
       "      <td>6.200000</td>\n",
       "      <td>5.970000</td>\n",
       "      <td>6.400000</td>\n",
       "      <td>8.415000</td>\n",
       "      <td>4.800000</td>\n",
       "      <td>4.400000</td>\n",
       "    </tr>\n",
       "    <tr>\n",
       "      <th>max</th>\n",
       "      <td>19.100000</td>\n",
       "      <td>46.950000</td>\n",
       "      <td>40.900000</td>\n",
       "      <td>15.900000</td>\n",
       "      <td>15.400000</td>\n",
       "      <td>11.800000</td>\n",
       "      <td>13.700000</td>\n",
       "      <td>15.900000</td>\n",
       "      <td>2.400000</td>\n",
       "      <td>3.600000</td>\n",
       "      <td>...</td>\n",
       "      <td>20.050000</td>\n",
       "      <td>10.200000</td>\n",
       "      <td>13.300000</td>\n",
       "      <td>10.900000</td>\n",
       "      <td>11.000000</td>\n",
       "      <td>10.665000</td>\n",
       "      <td>14.790000</td>\n",
       "      <td>27.120000</td>\n",
       "      <td>8.540000</td>\n",
       "      <td>10.370000</td>\n",
       "    </tr>\n",
       "  </tbody>\n",
       "</table>\n",
       "<p>8 rows × 36 columns</p>\n",
       "</div>"
      ],
      "text/plain": [
       "           target        O2_1        O2_2       O2_3       O2_4       O2_5  \\\n",
       "count  147.000000  145.000000  145.000000  32.000000  31.000000  33.000000   \n",
       "mean     9.211497    9.168506    9.148126  10.002813   8.483226   6.095152   \n",
       "std      2.886614    4.188197    3.746898   2.667096   2.527239   3.279915   \n",
       "min      1.900000    2.200000    2.200000   4.660000   4.900000   0.000000   \n",
       "25%      7.375000    7.050000    7.200000   8.100000   6.865000   3.290000   \n",
       "50%      8.800000    8.700000    8.566667   9.522500   7.800000   5.800000   \n",
       "75%     10.850000   10.600000   10.500000  11.611250   9.232500   9.500000   \n",
       "max     19.100000   46.950000   40.900000  15.900000  15.400000  11.800000   \n",
       "\n",
       "            O2_6       O2_7       NH4_1       NH4_2  ...      NO3_5  \\\n",
       "count  37.000000  37.000000  145.000000  145.000000  ...  33.000000   \n",
       "mean    9.396892   7.598243    0.588168    0.660910  ...   6.982515   \n",
       "std     2.848153   3.409060    0.462262    0.591798  ...   4.466642   \n",
       "min     0.000000   0.000000    0.040000    0.020000  ...   0.670000   \n",
       "25%     8.800000   6.170000    0.230000    0.215000  ...   4.100000   \n",
       "50%     9.805000   7.150000    0.425000    0.440000  ...   6.050000   \n",
       "75%    10.440000   8.700000    0.800000    0.910000  ...   8.550000   \n",
       "max    13.700000  15.900000    2.400000    3.600000  ...  20.050000   \n",
       "\n",
       "           NO3_6      NO3_7      BOD5_1      BOD5_2     BOD5_3     BOD5_4  \\\n",
       "count  37.000000  37.000000  145.000000  145.000000  32.000000  31.000000   \n",
       "mean    3.373689   3.200135    4.972724    4.906379   4.665312   5.871935   \n",
       "std     2.823756   2.868225    2.044057    2.001381   2.057903   2.555560   \n",
       "min     0.100000   0.000000    0.900000    1.040000   2.040000   2.480000   \n",
       "25%     1.440000   1.610000    3.500000    3.400000   3.325000   4.445000   \n",
       "50%     2.650000   1.900000    4.800000    4.833333   4.150000   5.500000   \n",
       "75%     4.320000   3.800000    6.450000    6.200000   5.970000   6.400000   \n",
       "max    10.200000  13.300000   10.900000   11.000000  10.665000  14.790000   \n",
       "\n",
       "          BOD5_5     BOD5_6     BOD5_7  \n",
       "count  33.000000  37.000000  37.000000  \n",
       "mean    8.678788   3.884054   3.957703  \n",
       "std     5.299039   1.615542   1.916813  \n",
       "min     2.880000   1.000000   1.600000  \n",
       "25%     5.840000   2.900000   2.900000  \n",
       "50%     7.300000   3.400000   3.500000  \n",
       "75%     8.415000   4.800000   4.400000  \n",
       "max    27.120000   8.540000  10.370000  \n",
       "\n",
       "[8 rows x 36 columns]"
      ]
     },
     "execution_count": 5,
     "metadata": {},
     "output_type": "execute_result"
    }
   ],
   "source": [
    "og_train_set.describe()"
   ]
  },
  {
   "cell_type": "code",
   "execution_count": 6,
   "id": "a5e3ce53",
   "metadata": {
    "execution": {
     "iopub.execute_input": "2023-08-30T18:44:48.003090Z",
     "iopub.status.busy": "2023-08-30T18:44:48.001977Z",
     "iopub.status.idle": "2023-08-30T18:44:48.024804Z",
     "shell.execute_reply": "2023-08-30T18:44:48.023694Z"
    },
    "papermill": {
     "duration": 0.0393,
     "end_time": "2023-08-30T18:44:48.027075",
     "exception": false,
     "start_time": "2023-08-30T18:44:47.987775",
     "status": "completed"
    },
    "tags": []
   },
   "outputs": [
    {
     "name": "stdout",
     "output_type": "stream",
     "text": [
      "<class 'pandas.core.frame.DataFrame'>\n",
      "Int64Index: 147 entries, 0 to 214\n",
      "Data columns (total 36 columns):\n",
      " #   Column  Non-Null Count  Dtype  \n",
      "---  ------  --------------  -----  \n",
      " 0   target  147 non-null    float64\n",
      " 1   O2_1    145 non-null    float64\n",
      " 2   O2_2    145 non-null    float64\n",
      " 3   O2_3    32 non-null     float64\n",
      " 4   O2_4    31 non-null     float64\n",
      " 5   O2_5    33 non-null     float64\n",
      " 6   O2_6    37 non-null     float64\n",
      " 7   O2_7    37 non-null     float64\n",
      " 8   NH4_1   145 non-null    float64\n",
      " 9   NH4_2   145 non-null    float64\n",
      " 10  NH4_3   32 non-null     float64\n",
      " 11  NH4_4   31 non-null     float64\n",
      " 12  NH4_5   33 non-null     float64\n",
      " 13  NH4_6   37 non-null     float64\n",
      " 14  NH4_7   37 non-null     float64\n",
      " 15  NO2_1   145 non-null    float64\n",
      " 16  NO2_2   145 non-null    float64\n",
      " 17  NO2_3   32 non-null     float64\n",
      " 18  NO2_4   31 non-null     float64\n",
      " 19  NO2_5   33 non-null     float64\n",
      " 20  NO2_6   37 non-null     float64\n",
      " 21  NO2_7   37 non-null     float64\n",
      " 22  NO3_1   145 non-null    float64\n",
      " 23  NO3_2   145 non-null    float64\n",
      " 24  NO3_3   32 non-null     float64\n",
      " 25  NO3_4   31 non-null     float64\n",
      " 26  NO3_5   33 non-null     float64\n",
      " 27  NO3_6   37 non-null     float64\n",
      " 28  NO3_7   37 non-null     float64\n",
      " 29  BOD5_1  145 non-null    float64\n",
      " 30  BOD5_2  145 non-null    float64\n",
      " 31  BOD5_3  32 non-null     float64\n",
      " 32  BOD5_4  31 non-null     float64\n",
      " 33  BOD5_5  33 non-null     float64\n",
      " 34  BOD5_6  37 non-null     float64\n",
      " 35  BOD5_7  37 non-null     float64\n",
      "dtypes: float64(36)\n",
      "memory usage: 42.5 KB\n"
     ]
    }
   ],
   "source": [
    "og_train_set.info()"
   ]
  },
  {
   "cell_type": "code",
   "execution_count": 7,
   "id": "b6b3ed2d",
   "metadata": {
    "execution": {
     "iopub.execute_input": "2023-08-30T18:44:48.050556Z",
     "iopub.status.busy": "2023-08-30T18:44:48.049904Z",
     "iopub.status.idle": "2023-08-30T18:44:48.134811Z",
     "shell.execute_reply": "2023-08-30T18:44:48.133301Z"
    },
    "papermill": {
     "duration": 0.099339,
     "end_time": "2023-08-30T18:44:48.137199",
     "exception": false,
     "start_time": "2023-08-30T18:44:48.037860",
     "status": "completed"
    },
    "tags": []
   },
   "outputs": [
    {
     "name": "stdout",
     "output_type": "stream",
     "text": [
      "Index(['O2_1', 'O2_2', 'O2_3', 'O2_4', 'O2_5', 'O2_6', 'O2_7', 'NH4_1',\n",
      "       'NH4_2', 'NH4_3', 'NH4_4', 'NH4_5', 'NH4_6', 'NH4_7', 'NO2_1', 'NO2_2',\n",
      "       'NO2_3', 'NO2_4', 'NO2_5', 'NO2_6', 'NO2_7', 'NO3_1', 'NO3_2', 'NO3_3',\n",
      "       'NO3_4', 'NO3_5', 'NO3_6', 'NO3_7', 'BOD5_1', 'BOD5_2', 'BOD5_3',\n",
      "       'BOD5_4', 'BOD5_5', 'BOD5_6', 'BOD5_7'],\n",
      "      dtype='object')\n"
     ]
    }
   ],
   "source": [
    "# collecting required data from the og train set\n",
    "description = og_train_set.describe()\n",
    "columns = og_train_set.columns\n",
    "columns = columns.drop(\"target\")\n",
    "print(columns)"
   ]
  },
  {
   "cell_type": "code",
   "execution_count": 8,
   "id": "8636c2b5",
   "metadata": {
    "execution": {
     "iopub.execute_input": "2023-08-30T18:44:48.159678Z",
     "iopub.status.busy": "2023-08-30T18:44:48.159243Z",
     "iopub.status.idle": "2023-08-30T18:44:48.164165Z",
     "shell.execute_reply": "2023-08-30T18:44:48.163131Z"
    },
    "papermill": {
     "duration": 0.018791,
     "end_time": "2023-08-30T18:44:48.166351",
     "exception": false,
     "start_time": "2023-08-30T18:44:48.147560",
     "status": "completed"
    },
    "tags": []
   },
   "outputs": [],
   "source": [
    "# from the og data set we are checking what percentage of 0' or missing data are there in each column\n",
    "def fill_missing_data_perc(df):\n",
    "    df = df.fillna(0)\n",
    "    return df"
   ]
  },
  {
   "cell_type": "code",
   "execution_count": 9,
   "id": "e5d83124",
   "metadata": {
    "execution": {
     "iopub.execute_input": "2023-08-30T18:44:48.188999Z",
     "iopub.status.busy": "2023-08-30T18:44:48.188614Z",
     "iopub.status.idle": "2023-08-30T18:44:48.208116Z",
     "shell.execute_reply": "2023-08-30T18:44:48.207094Z"
    },
    "papermill": {
     "duration": 0.033515,
     "end_time": "2023-08-30T18:44:48.210149",
     "exception": false,
     "start_time": "2023-08-30T18:44:48.176634",
     "status": "completed"
    },
    "tags": []
   },
   "outputs": [
    {
     "data": {
      "text/plain": [
       "array([{'col': 'O2_1', 'perc': 1.0}, {'col': 'O2_2', 'perc': 1.0},\n",
       "       {'col': 'O2_3', 'perc': 78.0}, {'col': 'O2_4', 'perc': 79.0},\n",
       "       {'col': 'O2_5', 'perc': 78.0}, {'col': 'O2_6', 'perc': 76.0},\n",
       "       {'col': 'O2_7', 'perc': 76.0}, {'col': 'NH4_1', 'perc': 1.0},\n",
       "       {'col': 'NH4_2', 'perc': 1.0}, {'col': 'NH4_3', 'perc': 78.0},\n",
       "       {'col': 'NH4_4', 'perc': 79.0}, {'col': 'NH4_5', 'perc': 78.0},\n",
       "       {'col': 'NH4_6', 'perc': 75.0}, {'col': 'NH4_7', 'perc': 75.0},\n",
       "       {'col': 'NO2_1', 'perc': 2.0}, {'col': 'NO2_2', 'perc': 2.0},\n",
       "       {'col': 'NO2_3', 'perc': 78.0}, {'col': 'NO2_4', 'perc': 79.0},\n",
       "       {'col': 'NO2_5', 'perc': 78.0}, {'col': 'NO2_6', 'perc': 77.0},\n",
       "       {'col': 'NO2_7', 'perc': 76.0}, {'col': 'NO3_1', 'perc': 4.0},\n",
       "       {'col': 'NO3_2', 'perc': 3.0}, {'col': 'NO3_3', 'perc': 79.0},\n",
       "       {'col': 'NO3_4', 'perc': 79.0}, {'col': 'NO3_5', 'perc': 78.0},\n",
       "       {'col': 'NO3_6', 'perc': 75.0}, {'col': 'NO3_7', 'perc': 76.0},\n",
       "       {'col': 'BOD5_1', 'perc': 1.0}, {'col': 'BOD5_2', 'perc': 1.0},\n",
       "       {'col': 'BOD5_3', 'perc': 78.0}, {'col': 'BOD5_4', 'perc': 79.0},\n",
       "       {'col': 'BOD5_5', 'perc': 78.0}, {'col': 'BOD5_6', 'perc': 75.0},\n",
       "       {'col': 'BOD5_7', 'perc': 75.0}], dtype=object)"
      ]
     },
     "execution_count": 9,
     "metadata": {},
     "output_type": "execute_result"
    }
   ],
   "source": [
    "# counting the persentage of 0's in each column\n",
    "def get_perc_of_0_value():\n",
    "    temp_df = fill_missing_data_perc(og_train_set)\n",
    "    perc_0 = np.array([])\n",
    "    for column in columns:\n",
    "        perc = (((temp_df[column]==0).sum()/len(og_train_set[column])) * 100).round()\n",
    "        perc_0 = np.append(perc_0, {'col': column, 'perc': perc})\n",
    "    return perc_0\n",
    "\n",
    "column_0_ratio = get_perc_of_0_value()\n",
    "column_0_ratio"
   ]
  },
  {
   "cell_type": "code",
   "execution_count": 10,
   "id": "f22a5e40",
   "metadata": {
    "execution": {
     "iopub.execute_input": "2023-08-30T18:44:48.238984Z",
     "iopub.status.busy": "2023-08-30T18:44:48.238092Z",
     "iopub.status.idle": "2023-08-30T18:44:48.245793Z",
     "shell.execute_reply": "2023-08-30T18:44:48.244666Z"
    },
    "papermill": {
     "duration": 0.028108,
     "end_time": "2023-08-30T18:44:48.248619",
     "exception": false,
     "start_time": "2023-08-30T18:44:48.220511",
     "status": "completed"
    },
    "tags": []
   },
   "outputs": [],
   "source": [
    "# will try to drop all columns which has more than 70% 0s\n",
    "col_list = np.array([])\n",
    "col_list_fill_0 = np.array([])\n",
    "for col_ratio in column_0_ratio:\n",
    "    if col_ratio['perc'] < 70:\n",
    "        col_list = np.append(col_list, col_ratio['col'])\n",
    "    else:\n",
    "        col_list_fill_0 = np.append(col_list_fill_0, col_ratio['col'])"
   ]
  },
  {
   "cell_type": "code",
   "execution_count": 11,
   "id": "d3cb9bdd",
   "metadata": {
    "execution": {
     "iopub.execute_input": "2023-08-30T18:44:48.279379Z",
     "iopub.status.busy": "2023-08-30T18:44:48.278227Z",
     "iopub.status.idle": "2023-08-30T18:44:48.284342Z",
     "shell.execute_reply": "2023-08-30T18:44:48.283454Z"
    },
    "papermill": {
     "duration": 0.021378,
     "end_time": "2023-08-30T18:44:48.286642",
     "exception": false,
     "start_time": "2023-08-30T18:44:48.265264",
     "status": "completed"
    },
    "tags": []
   },
   "outputs": [],
   "source": [
    "# mid submission\n",
    "# col_list = np.append(col_list, \"target\")\n",
    "# col_list = np.append(col_list, col_list_fill_0)\n",
    "# df = og_train_set[col_list]\n",
    "# df.loc[:, col_list_fill_0] = 0\n",
    "# df.shape\n"
   ]
  },
  {
   "cell_type": "code",
   "execution_count": 12,
   "id": "9e99f927",
   "metadata": {
    "execution": {
     "iopub.execute_input": "2023-08-30T18:44:48.310763Z",
     "iopub.status.busy": "2023-08-30T18:44:48.310053Z",
     "iopub.status.idle": "2023-08-30T18:44:48.315090Z",
     "shell.execute_reply": "2023-08-30T18:44:48.313906Z"
    },
    "papermill": {
     "duration": 0.020446,
     "end_time": "2023-08-30T18:44:48.317527",
     "exception": false,
     "start_time": "2023-08-30T18:44:48.297081",
     "status": "completed"
    },
    "tags": []
   },
   "outputs": [],
   "source": [
    "# mid submission\n",
    "# df.to_csv('train_set.csv')"
   ]
  },
  {
   "cell_type": "markdown",
   "id": "7ea6a5df",
   "metadata": {
    "papermill": {
     "duration": 0.011761,
     "end_time": "2023-08-30T18:44:48.341142",
     "exception": false,
     "start_time": "2023-08-30T18:44:48.329381",
     "status": "completed"
    },
    "tags": []
   },
   "source": [
    "1. So first lets create a data frame with the same columns\n",
    "2. Lets pick a size and fill 1's in them\n",
    "3. Lets ppopulate 0 in same ratio of that of our og_test_set\n",
    "4. Lets identify 1 in each row and fill the 25% - 75% random values in it"
   ]
  },
  {
   "cell_type": "code",
   "execution_count": 13,
   "id": "12ee7344",
   "metadata": {
    "execution": {
     "iopub.execute_input": "2023-08-30T18:44:48.363927Z",
     "iopub.status.busy": "2023-08-30T18:44:48.363509Z",
     "iopub.status.idle": "2023-08-30T18:44:48.369168Z",
     "shell.execute_reply": "2023-08-30T18:44:48.367993Z"
    },
    "papermill": {
     "duration": 0.019871,
     "end_time": "2023-08-30T18:44:48.371345",
     "exception": false,
     "start_time": "2023-08-30T18:44:48.351474",
     "status": "completed"
    },
    "tags": []
   },
   "outputs": [],
   "source": [
    "import random\n",
    "\n",
    "def fill_0_in_col_with_ratio(df, column_name, ratio, size):\n",
    "    no_of_ids = (size * (ratio / 100)).round()\n",
    "    random_numbers = random.sample(range(0, size), int(no_of_ids))\n",
    "    df.loc[random_numbers, column_name] = 0\n",
    "    return df"
   ]
  },
  {
   "cell_type": "code",
   "execution_count": 14,
   "id": "93dea877",
   "metadata": {
    "execution": {
     "iopub.execute_input": "2023-08-30T18:44:48.394590Z",
     "iopub.status.busy": "2023-08-30T18:44:48.393404Z",
     "iopub.status.idle": "2023-08-30T18:44:48.400394Z",
     "shell.execute_reply": "2023-08-30T18:44:48.399632Z"
    },
    "papermill": {
     "duration": 0.020872,
     "end_time": "2023-08-30T18:44:48.402627",
     "exception": false,
     "start_time": "2023-08-30T18:44:48.381755",
     "status": "completed"
    },
    "tags": []
   },
   "outputs": [],
   "source": [
    "column_list_to_populate = ['O2_1', \n",
    "                           'O2_2', \n",
    "                           'NH4_1', \n",
    "                           'NH4_2', \n",
    "                           'NO2_1', \n",
    "                           'NO2_2', \n",
    "                           'NO3_1', \n",
    "                           'NO3_2', \n",
    "                           'BOD5_1', \n",
    "                           'BOD5_2']\n",
    "def fill_rest_1_with_25_75_ratio(df, desc):\n",
    "    for column in column_list_to_populate:\n",
    "        row_indices = df.index[df[column] == 1].tolist()\n",
    "        \n",
    "        for row_index in row_indices:\n",
    "            random_number = np.random.uniform(desc[column]['25%'], desc[column]['75%'])\n",
    "            df.loc[row_index, column] = random_number\n",
    "            \n",
    "    return df"
   ]
  },
  {
   "cell_type": "code",
   "execution_count": 15,
   "id": "973cc777",
   "metadata": {
    "execution": {
     "iopub.execute_input": "2023-08-30T18:44:48.426166Z",
     "iopub.status.busy": "2023-08-30T18:44:48.425174Z",
     "iopub.status.idle": "2023-08-30T18:44:48.431691Z",
     "shell.execute_reply": "2023-08-30T18:44:48.430562Z"
    },
    "papermill": {
     "duration": 0.020584,
     "end_time": "2023-08-30T18:44:48.433998",
     "exception": false,
     "start_time": "2023-08-30T18:44:48.413414",
     "status": "completed"
    },
    "tags": []
   },
   "outputs": [],
   "source": [
    "# creating a fresh set of training dat with same columns\n",
    "\n",
    "def recreating_training_set(size):\n",
    "    train_set = pd.DataFrame(columns=columns)\n",
    "    train_set = train_set.append(pd.DataFrame(np.ones((size, len(columns))), columns=columns), ignore_index=True)\n",
    "    for col_ratio in column_0_ratio:\n",
    "        train_set = fill_0_in_col_with_ratio(train_set, col_ratio['col'], col_ratio['perc'], size)\n",
    "    train_set = fill_rest_1_with_25_75_ratio(train_set, description)\n",
    "    return train_set"
   ]
  },
  {
   "cell_type": "code",
   "execution_count": 16,
   "id": "54fcd2a9",
   "metadata": {
    "execution": {
     "iopub.execute_input": "2023-08-30T18:44:48.456650Z",
     "iopub.status.busy": "2023-08-30T18:44:48.456125Z",
     "iopub.status.idle": "2023-08-30T18:44:52.053720Z",
     "shell.execute_reply": "2023-08-30T18:44:52.052434Z"
    },
    "papermill": {
     "duration": 3.611624,
     "end_time": "2023-08-30T18:44:52.056054",
     "exception": false,
     "start_time": "2023-08-30T18:44:48.444430",
     "status": "completed"
    },
    "tags": []
   },
   "outputs": [
    {
     "name": "stderr",
     "output_type": "stream",
     "text": [
      "/tmp/ipykernel_20/93270262.py:5: FutureWarning: The frame.append method is deprecated and will be removed from pandas in a future version. Use pandas.concat instead.\n",
      "  train_set = train_set.append(pd.DataFrame(np.ones((size, len(columns))), columns=columns), ignore_index=True)\n"
     ]
    },
    {
     "data": {
      "text/html": [
       "<div>\n",
       "<style scoped>\n",
       "    .dataframe tbody tr th:only-of-type {\n",
       "        vertical-align: middle;\n",
       "    }\n",
       "\n",
       "    .dataframe tbody tr th {\n",
       "        vertical-align: top;\n",
       "    }\n",
       "\n",
       "    .dataframe thead th {\n",
       "        text-align: right;\n",
       "    }\n",
       "</style>\n",
       "<table border=\"1\" class=\"dataframe\">\n",
       "  <thead>\n",
       "    <tr style=\"text-align: right;\">\n",
       "      <th></th>\n",
       "      <th>O2_1</th>\n",
       "      <th>O2_2</th>\n",
       "      <th>O2_3</th>\n",
       "      <th>O2_4</th>\n",
       "      <th>O2_5</th>\n",
       "      <th>O2_6</th>\n",
       "      <th>O2_7</th>\n",
       "      <th>NH4_1</th>\n",
       "      <th>NH4_2</th>\n",
       "      <th>NH4_3</th>\n",
       "      <th>...</th>\n",
       "      <th>NO3_5</th>\n",
       "      <th>NO3_6</th>\n",
       "      <th>NO3_7</th>\n",
       "      <th>BOD5_1</th>\n",
       "      <th>BOD5_2</th>\n",
       "      <th>BOD5_3</th>\n",
       "      <th>BOD5_4</th>\n",
       "      <th>BOD5_5</th>\n",
       "      <th>BOD5_6</th>\n",
       "      <th>BOD5_7</th>\n",
       "    </tr>\n",
       "  </thead>\n",
       "  <tbody>\n",
       "    <tr>\n",
       "      <th>0</th>\n",
       "      <td>10.370663</td>\n",
       "      <td>7.610904</td>\n",
       "      <td>0.0</td>\n",
       "      <td>0.0</td>\n",
       "      <td>0.0</td>\n",
       "      <td>1.0</td>\n",
       "      <td>0.0</td>\n",
       "      <td>0.367744</td>\n",
       "      <td>0.864161</td>\n",
       "      <td>1.0</td>\n",
       "      <td>...</td>\n",
       "      <td>0.0</td>\n",
       "      <td>0.0</td>\n",
       "      <td>1.0</td>\n",
       "      <td>4.223685</td>\n",
       "      <td>4.474328</td>\n",
       "      <td>0.0</td>\n",
       "      <td>0.0</td>\n",
       "      <td>0.0</td>\n",
       "      <td>0.0</td>\n",
       "      <td>1.0</td>\n",
       "    </tr>\n",
       "    <tr>\n",
       "      <th>1</th>\n",
       "      <td>7.766804</td>\n",
       "      <td>8.169369</td>\n",
       "      <td>0.0</td>\n",
       "      <td>1.0</td>\n",
       "      <td>0.0</td>\n",
       "      <td>1.0</td>\n",
       "      <td>0.0</td>\n",
       "      <td>0.360241</td>\n",
       "      <td>0.428813</td>\n",
       "      <td>0.0</td>\n",
       "      <td>...</td>\n",
       "      <td>0.0</td>\n",
       "      <td>0.0</td>\n",
       "      <td>0.0</td>\n",
       "      <td>5.317711</td>\n",
       "      <td>5.566099</td>\n",
       "      <td>1.0</td>\n",
       "      <td>1.0</td>\n",
       "      <td>0.0</td>\n",
       "      <td>1.0</td>\n",
       "      <td>0.0</td>\n",
       "    </tr>\n",
       "    <tr>\n",
       "      <th>2</th>\n",
       "      <td>10.286438</td>\n",
       "      <td>9.408327</td>\n",
       "      <td>0.0</td>\n",
       "      <td>0.0</td>\n",
       "      <td>0.0</td>\n",
       "      <td>0.0</td>\n",
       "      <td>0.0</td>\n",
       "      <td>0.000000</td>\n",
       "      <td>0.667056</td>\n",
       "      <td>0.0</td>\n",
       "      <td>...</td>\n",
       "      <td>0.0</td>\n",
       "      <td>0.0</td>\n",
       "      <td>0.0</td>\n",
       "      <td>3.909200</td>\n",
       "      <td>3.858567</td>\n",
       "      <td>1.0</td>\n",
       "      <td>0.0</td>\n",
       "      <td>1.0</td>\n",
       "      <td>1.0</td>\n",
       "      <td>0.0</td>\n",
       "    </tr>\n",
       "    <tr>\n",
       "      <th>3</th>\n",
       "      <td>9.495014</td>\n",
       "      <td>7.991389</td>\n",
       "      <td>1.0</td>\n",
       "      <td>1.0</td>\n",
       "      <td>0.0</td>\n",
       "      <td>1.0</td>\n",
       "      <td>1.0</td>\n",
       "      <td>0.464323</td>\n",
       "      <td>0.270894</td>\n",
       "      <td>0.0</td>\n",
       "      <td>...</td>\n",
       "      <td>0.0</td>\n",
       "      <td>0.0</td>\n",
       "      <td>0.0</td>\n",
       "      <td>4.201683</td>\n",
       "      <td>3.568801</td>\n",
       "      <td>1.0</td>\n",
       "      <td>1.0</td>\n",
       "      <td>0.0</td>\n",
       "      <td>0.0</td>\n",
       "      <td>1.0</td>\n",
       "    </tr>\n",
       "    <tr>\n",
       "      <th>4</th>\n",
       "      <td>9.240637</td>\n",
       "      <td>8.514619</td>\n",
       "      <td>1.0</td>\n",
       "      <td>0.0</td>\n",
       "      <td>0.0</td>\n",
       "      <td>1.0</td>\n",
       "      <td>1.0</td>\n",
       "      <td>0.482703</td>\n",
       "      <td>0.549092</td>\n",
       "      <td>0.0</td>\n",
       "      <td>...</td>\n",
       "      <td>0.0</td>\n",
       "      <td>0.0</td>\n",
       "      <td>1.0</td>\n",
       "      <td>6.343972</td>\n",
       "      <td>3.865916</td>\n",
       "      <td>0.0</td>\n",
       "      <td>0.0</td>\n",
       "      <td>0.0</td>\n",
       "      <td>0.0</td>\n",
       "      <td>0.0</td>\n",
       "    </tr>\n",
       "    <tr>\n",
       "      <th>...</th>\n",
       "      <td>...</td>\n",
       "      <td>...</td>\n",
       "      <td>...</td>\n",
       "      <td>...</td>\n",
       "      <td>...</td>\n",
       "      <td>...</td>\n",
       "      <td>...</td>\n",
       "      <td>...</td>\n",
       "      <td>...</td>\n",
       "      <td>...</td>\n",
       "      <td>...</td>\n",
       "      <td>...</td>\n",
       "      <td>...</td>\n",
       "      <td>...</td>\n",
       "      <td>...</td>\n",
       "      <td>...</td>\n",
       "      <td>...</td>\n",
       "      <td>...</td>\n",
       "      <td>...</td>\n",
       "      <td>...</td>\n",
       "      <td>...</td>\n",
       "    </tr>\n",
       "    <tr>\n",
       "      <th>3495</th>\n",
       "      <td>8.885977</td>\n",
       "      <td>9.609303</td>\n",
       "      <td>0.0</td>\n",
       "      <td>1.0</td>\n",
       "      <td>0.0</td>\n",
       "      <td>0.0</td>\n",
       "      <td>1.0</td>\n",
       "      <td>0.308783</td>\n",
       "      <td>0.637587</td>\n",
       "      <td>0.0</td>\n",
       "      <td>...</td>\n",
       "      <td>0.0</td>\n",
       "      <td>0.0</td>\n",
       "      <td>0.0</td>\n",
       "      <td>6.194329</td>\n",
       "      <td>5.657475</td>\n",
       "      <td>1.0</td>\n",
       "      <td>0.0</td>\n",
       "      <td>0.0</td>\n",
       "      <td>0.0</td>\n",
       "      <td>0.0</td>\n",
       "    </tr>\n",
       "    <tr>\n",
       "      <th>3496</th>\n",
       "      <td>8.767238</td>\n",
       "      <td>10.265874</td>\n",
       "      <td>0.0</td>\n",
       "      <td>0.0</td>\n",
       "      <td>0.0</td>\n",
       "      <td>0.0</td>\n",
       "      <td>0.0</td>\n",
       "      <td>0.435891</td>\n",
       "      <td>0.560150</td>\n",
       "      <td>0.0</td>\n",
       "      <td>...</td>\n",
       "      <td>0.0</td>\n",
       "      <td>0.0</td>\n",
       "      <td>1.0</td>\n",
       "      <td>5.779962</td>\n",
       "      <td>4.125474</td>\n",
       "      <td>1.0</td>\n",
       "      <td>0.0</td>\n",
       "      <td>0.0</td>\n",
       "      <td>0.0</td>\n",
       "      <td>0.0</td>\n",
       "    </tr>\n",
       "    <tr>\n",
       "      <th>3497</th>\n",
       "      <td>7.213357</td>\n",
       "      <td>8.024173</td>\n",
       "      <td>0.0</td>\n",
       "      <td>0.0</td>\n",
       "      <td>0.0</td>\n",
       "      <td>0.0</td>\n",
       "      <td>0.0</td>\n",
       "      <td>0.571247</td>\n",
       "      <td>0.886728</td>\n",
       "      <td>0.0</td>\n",
       "      <td>...</td>\n",
       "      <td>0.0</td>\n",
       "      <td>0.0</td>\n",
       "      <td>0.0</td>\n",
       "      <td>4.995542</td>\n",
       "      <td>4.071979</td>\n",
       "      <td>0.0</td>\n",
       "      <td>0.0</td>\n",
       "      <td>0.0</td>\n",
       "      <td>0.0</td>\n",
       "      <td>0.0</td>\n",
       "    </tr>\n",
       "    <tr>\n",
       "      <th>3498</th>\n",
       "      <td>8.725928</td>\n",
       "      <td>10.283068</td>\n",
       "      <td>0.0</td>\n",
       "      <td>0.0</td>\n",
       "      <td>0.0</td>\n",
       "      <td>0.0</td>\n",
       "      <td>1.0</td>\n",
       "      <td>0.699573</td>\n",
       "      <td>0.276840</td>\n",
       "      <td>0.0</td>\n",
       "      <td>...</td>\n",
       "      <td>0.0</td>\n",
       "      <td>0.0</td>\n",
       "      <td>0.0</td>\n",
       "      <td>4.678759</td>\n",
       "      <td>4.413671</td>\n",
       "      <td>0.0</td>\n",
       "      <td>1.0</td>\n",
       "      <td>0.0</td>\n",
       "      <td>0.0</td>\n",
       "      <td>0.0</td>\n",
       "    </tr>\n",
       "    <tr>\n",
       "      <th>3499</th>\n",
       "      <td>8.205434</td>\n",
       "      <td>8.573579</td>\n",
       "      <td>1.0</td>\n",
       "      <td>0.0</td>\n",
       "      <td>0.0</td>\n",
       "      <td>1.0</td>\n",
       "      <td>0.0</td>\n",
       "      <td>0.490555</td>\n",
       "      <td>0.487729</td>\n",
       "      <td>0.0</td>\n",
       "      <td>...</td>\n",
       "      <td>0.0</td>\n",
       "      <td>0.0</td>\n",
       "      <td>0.0</td>\n",
       "      <td>4.405146</td>\n",
       "      <td>5.854172</td>\n",
       "      <td>0.0</td>\n",
       "      <td>0.0</td>\n",
       "      <td>0.0</td>\n",
       "      <td>1.0</td>\n",
       "      <td>0.0</td>\n",
       "    </tr>\n",
       "  </tbody>\n",
       "</table>\n",
       "<p>3500 rows × 35 columns</p>\n",
       "</div>"
      ],
      "text/plain": [
       "           O2_1       O2_2  O2_3  O2_4  O2_5  O2_6  O2_7     NH4_1     NH4_2  \\\n",
       "0     10.370663   7.610904   0.0   0.0   0.0   1.0   0.0  0.367744  0.864161   \n",
       "1      7.766804   8.169369   0.0   1.0   0.0   1.0   0.0  0.360241  0.428813   \n",
       "2     10.286438   9.408327   0.0   0.0   0.0   0.0   0.0  0.000000  0.667056   \n",
       "3      9.495014   7.991389   1.0   1.0   0.0   1.0   1.0  0.464323  0.270894   \n",
       "4      9.240637   8.514619   1.0   0.0   0.0   1.0   1.0  0.482703  0.549092   \n",
       "...         ...        ...   ...   ...   ...   ...   ...       ...       ...   \n",
       "3495   8.885977   9.609303   0.0   1.0   0.0   0.0   1.0  0.308783  0.637587   \n",
       "3496   8.767238  10.265874   0.0   0.0   0.0   0.0   0.0  0.435891  0.560150   \n",
       "3497   7.213357   8.024173   0.0   0.0   0.0   0.0   0.0  0.571247  0.886728   \n",
       "3498   8.725928  10.283068   0.0   0.0   0.0   0.0   1.0  0.699573  0.276840   \n",
       "3499   8.205434   8.573579   1.0   0.0   0.0   1.0   0.0  0.490555  0.487729   \n",
       "\n",
       "      NH4_3  ...  NO3_5  NO3_6  NO3_7    BOD5_1    BOD5_2  BOD5_3  BOD5_4  \\\n",
       "0       1.0  ...    0.0    0.0    1.0  4.223685  4.474328     0.0     0.0   \n",
       "1       0.0  ...    0.0    0.0    0.0  5.317711  5.566099     1.0     1.0   \n",
       "2       0.0  ...    0.0    0.0    0.0  3.909200  3.858567     1.0     0.0   \n",
       "3       0.0  ...    0.0    0.0    0.0  4.201683  3.568801     1.0     1.0   \n",
       "4       0.0  ...    0.0    0.0    1.0  6.343972  3.865916     0.0     0.0   \n",
       "...     ...  ...    ...    ...    ...       ...       ...     ...     ...   \n",
       "3495    0.0  ...    0.0    0.0    0.0  6.194329  5.657475     1.0     0.0   \n",
       "3496    0.0  ...    0.0    0.0    1.0  5.779962  4.125474     1.0     0.0   \n",
       "3497    0.0  ...    0.0    0.0    0.0  4.995542  4.071979     0.0     0.0   \n",
       "3498    0.0  ...    0.0    0.0    0.0  4.678759  4.413671     0.0     1.0   \n",
       "3499    0.0  ...    0.0    0.0    0.0  4.405146  5.854172     0.0     0.0   \n",
       "\n",
       "      BOD5_5  BOD5_6  BOD5_7  \n",
       "0        0.0     0.0     1.0  \n",
       "1        0.0     1.0     0.0  \n",
       "2        1.0     1.0     0.0  \n",
       "3        0.0     0.0     1.0  \n",
       "4        0.0     0.0     0.0  \n",
       "...      ...     ...     ...  \n",
       "3495     0.0     0.0     0.0  \n",
       "3496     0.0     0.0     0.0  \n",
       "3497     0.0     0.0     0.0  \n",
       "3498     0.0     0.0     0.0  \n",
       "3499     0.0     1.0     0.0  \n",
       "\n",
       "[3500 rows x 35 columns]"
      ]
     },
     "execution_count": 16,
     "metadata": {},
     "output_type": "execute_result"
    }
   ],
   "source": [
    "train_set = recreating_training_set(3500)\n",
    "train_set"
   ]
  },
  {
   "cell_type": "code",
   "execution_count": 17,
   "id": "857713fd",
   "metadata": {
    "execution": {
     "iopub.execute_input": "2023-08-30T18:44:52.080644Z",
     "iopub.status.busy": "2023-08-30T18:44:52.080231Z",
     "iopub.status.idle": "2023-08-30T18:45:03.756029Z",
     "shell.execute_reply": "2023-08-30T18:45:03.755193Z"
    },
    "papermill": {
     "duration": 11.690962,
     "end_time": "2023-08-30T18:45:03.758121",
     "exception": false,
     "start_time": "2023-08-30T18:44:52.067159",
     "status": "completed"
    },
    "tags": []
   },
   "outputs": [
    {
     "name": "stderr",
     "output_type": "stream",
     "text": [
      "/opt/conda/lib/python3.10/site-packages/scipy/__init__.py:146: UserWarning: A NumPy version >=1.16.5 and <1.23.0 is required for this version of SciPy (detected version 1.23.5\n",
      "  warnings.warn(f\"A NumPy version >={np_minversion} and <{np_maxversion}\"\n"
     ]
    },
    {
     "data": {
      "text/plain": [
       "array([ 9.86013202,  8.02308024, 10.27568336, ...,  8.04058601,\n",
       "        8.71246742,  8.76163901])"
      ]
     },
     "execution_count": 17,
     "metadata": {},
     "output_type": "execute_result"
    }
   ],
   "source": [
    "# Now that we have similar data of that of og_train will try to generate targets with given model\n",
    "from sklearn.ensemble import RandomForestRegressor\n",
    "\n",
    "# taking submission set to train\n",
    "sub_train_set = pd.read_csv('/kaggle/input/playground-series-s3e21/sample_submission.csv', index_col=\"id\")\n",
    "\n",
    "X_test = sub_train_set['target']\n",
    "y_train = sub_train_set.pop('target') # train is your submission!\n",
    "rf = RandomForestRegressor(\n",
    "       n_estimators=1000,\n",
    "       max_depth=7,\n",
    "       n_jobs=-1,\n",
    "       random_state=42)\n",
    "rf.fit(sub_train_set, X_test)\n",
    "\n",
    "# train_set.rename(columns={'Id': 'id'}, inplace=True)\n",
    "# train_set.set_index('id', inplace=True)\n",
    "# train_set\n",
    "y_hat = rf.predict(train_set) # test set is hidden from you\n",
    "y_hat"
   ]
  },
  {
   "cell_type": "code",
   "execution_count": 18,
   "id": "7a501c86",
   "metadata": {
    "execution": {
     "iopub.execute_input": "2023-08-30T18:45:03.782433Z",
     "iopub.status.busy": "2023-08-30T18:45:03.782062Z",
     "iopub.status.idle": "2023-08-30T18:45:03.787561Z",
     "shell.execute_reply": "2023-08-30T18:45:03.786505Z"
    },
    "papermill": {
     "duration": 0.020171,
     "end_time": "2023-08-30T18:45:03.789659",
     "exception": false,
     "start_time": "2023-08-30T18:45:03.769488",
     "status": "completed"
    },
    "tags": []
   },
   "outputs": [],
   "source": [
    "train_set['target'] = y_hat"
   ]
  },
  {
   "cell_type": "code",
   "execution_count": 19,
   "id": "01e10a6e",
   "metadata": {
    "execution": {
     "iopub.execute_input": "2023-08-30T18:45:03.813878Z",
     "iopub.status.busy": "2023-08-30T18:45:03.813438Z",
     "iopub.status.idle": "2023-08-30T18:45:03.946316Z",
     "shell.execute_reply": "2023-08-30T18:45:03.945095Z"
    },
    "papermill": {
     "duration": 0.148145,
     "end_time": "2023-08-30T18:45:03.949114",
     "exception": false,
     "start_time": "2023-08-30T18:45:03.800969",
     "status": "completed"
    },
    "tags": []
   },
   "outputs": [],
   "source": [
    "train_set.index.name = 'id'\n",
    "train_set.replace(1, 0, inplace=True)\n",
    "train_set.to_csv('submission2.csv')"
   ]
  },
  {
   "cell_type": "markdown",
   "id": "11a9a58f",
   "metadata": {
    "papermill": {
     "duration": 0.011115,
     "end_time": "2023-08-30T18:45:03.972962",
     "exception": false,
     "start_time": "2023-08-30T18:45:03.961847",
     "status": "completed"
    },
    "tags": []
   },
   "source": [
    "# Improving the score "
   ]
  },
  {
   "cell_type": "markdown",
   "id": "1b95e12a",
   "metadata": {
    "papermill": {
     "duration": 0.011113,
     "end_time": "2023-08-30T18:45:03.995336",
     "exception": false,
     "start_time": "2023-08-30T18:45:03.984223",
     "status": "completed"
    },
    "tags": []
   },
   "source": [
    "### Lets take another look at the og_train_set and then we will see the column and data patterns\n"
   ]
  },
  {
   "cell_type": "code",
   "execution_count": 20,
   "id": "94835cfd",
   "metadata": {
    "execution": {
     "iopub.execute_input": "2023-08-30T18:45:04.020932Z",
     "iopub.status.busy": "2023-08-30T18:45:04.019688Z",
     "iopub.status.idle": "2023-08-30T18:45:04.026373Z",
     "shell.execute_reply": "2023-08-30T18:45:04.025022Z"
    },
    "papermill": {
     "duration": 0.021859,
     "end_time": "2023-08-30T18:45:04.028809",
     "exception": false,
     "start_time": "2023-08-30T18:45:04.006950",
     "status": "completed"
    },
    "tags": []
   },
   "outputs": [],
   "source": [
    "pattern_df = og_train_set.copy()\n",
    "pattern_df = pattern_df.fillna(0)"
   ]
  },
  {
   "cell_type": "code",
   "execution_count": 21,
   "id": "64d80e8e",
   "metadata": {
    "execution": {
     "iopub.execute_input": "2023-08-30T18:45:04.053243Z",
     "iopub.status.busy": "2023-08-30T18:45:04.052501Z",
     "iopub.status.idle": "2023-08-30T18:45:04.058044Z",
     "shell.execute_reply": "2023-08-30T18:45:04.056839Z"
    },
    "papermill": {
     "duration": 0.020105,
     "end_time": "2023-08-30T18:45:04.060098",
     "exception": false,
     "start_time": "2023-08-30T18:45:04.039993",
     "status": "completed"
    },
    "tags": []
   },
   "outputs": [],
   "source": [
    "def fill_with_1_or_0(value):\n",
    "    return 1 if value > 0 else 0"
   ]
  },
  {
   "cell_type": "code",
   "execution_count": 22,
   "id": "f37ff187",
   "metadata": {
    "execution": {
     "iopub.execute_input": "2023-08-30T18:45:04.084161Z",
     "iopub.status.busy": "2023-08-30T18:45:04.083750Z",
     "iopub.status.idle": "2023-08-30T18:45:04.098409Z",
     "shell.execute_reply": "2023-08-30T18:45:04.096998Z"
    },
    "papermill": {
     "duration": 0.029816,
     "end_time": "2023-08-30T18:45:04.101058",
     "exception": false,
     "start_time": "2023-08-30T18:45:04.071242",
     "status": "completed"
    },
    "tags": []
   },
   "outputs": [],
   "source": [
    "pattern_df = pattern_df.applymap(fill_with_1_or_0)"
   ]
  },
  {
   "cell_type": "code",
   "execution_count": 23,
   "id": "31ad2db6",
   "metadata": {
    "execution": {
     "iopub.execute_input": "2023-08-30T18:45:04.125181Z",
     "iopub.status.busy": "2023-08-30T18:45:04.124778Z",
     "iopub.status.idle": "2023-08-30T18:45:04.133772Z",
     "shell.execute_reply": "2023-08-30T18:45:04.132465Z"
    },
    "papermill": {
     "duration": 0.023721,
     "end_time": "2023-08-30T18:45:04.136075",
     "exception": false,
     "start_time": "2023-08-30T18:45:04.112354",
     "status": "completed"
    },
    "tags": []
   },
   "outputs": [],
   "source": [
    "concatenated_strings = pattern_df.apply(lambda row: ''.join(map(str, row)), axis=1)\n",
    "np_array = np.array(concatenated_strings)"
   ]
  },
  {
   "cell_type": "code",
   "execution_count": 24,
   "id": "3a8cf95b",
   "metadata": {
    "execution": {
     "iopub.execute_input": "2023-08-30T18:45:04.160310Z",
     "iopub.status.busy": "2023-08-30T18:45:04.159951Z",
     "iopub.status.idle": "2023-08-30T18:45:04.166346Z",
     "shell.execute_reply": "2023-08-30T18:45:04.165220Z"
    },
    "papermill": {
     "duration": 0.021614,
     "end_time": "2023-08-30T18:45:04.168945",
     "exception": false,
     "start_time": "2023-08-30T18:45:04.147331",
     "status": "completed"
    },
    "tags": []
   },
   "outputs": [
    {
     "name": "stdout",
     "output_type": "stream",
     "text": [
      "Value: 100001100000110000011000001100000110, Count: 1\n",
      "Value: 101110000111000011100001110000111000, Count: 1\n",
      "Value: 110001111000111100011110001101000111, Count: 1\n",
      "Value: 111000001100000000000000000001100000, Count: 1\n",
      "Value: 111000001100000110000000000001100000, Count: 2\n",
      "Value: 111000001100000110000001000001100000, Count: 1\n",
      "Value: 111000001100000110000011000001100000, Count: 91\n",
      "Value: 111000001100011110001111000111100011, Count: 1\n",
      "Value: 111000001100100110010011001001100100, Count: 1\n",
      "Value: 111000011100001110000111000011100001, Count: 2\n",
      "Value: 111000111100011110000111000111100011, Count: 1\n",
      "Value: 111000111100011110001111000111100011, Count: 5\n",
      "Value: 111001001100100110010011001001100100, Count: 1\n",
      "Value: 111001111100111110010111001111100111, Count: 1\n",
      "Value: 111001111100111110011111001111100111, Count: 5\n",
      "Value: 111010111101011110101111010111101011, Count: 1\n",
      "Value: 111101001110100111010011101001110100, Count: 2\n",
      "Value: 111110001111000111100011110001111000, Count: 6\n",
      "Value: 111110001111011111101111110111111011, Count: 1\n",
      "Value: 111110111111011111101111010111111011, Count: 1\n",
      "Value: 111111001111100111110011111001111100, Count: 2\n",
      "Value: 111111101111110111111011111101111110, Count: 1\n",
      "Value: 111111111111111111110111111111111111, Count: 1\n",
      "Value: 111111111111111111111011111111111111, Count: 1\n",
      "Value: 111111111111111111111111111111111111, Count: 16\n"
     ]
    }
   ],
   "source": [
    "np_array.shape\n",
    "unique_values, counts = np.unique(np_array, return_counts=True)\n",
    "unique_values\n",
    "counts\n",
    "\n",
    "for value, count in zip(unique_values, counts):\n",
    "    print(f\"Value: {value}, Count: {count}\")"
   ]
  },
  {
   "cell_type": "code",
   "execution_count": 25,
   "id": "24201b89",
   "metadata": {
    "execution": {
     "iopub.execute_input": "2023-08-30T18:45:04.193844Z",
     "iopub.status.busy": "2023-08-30T18:45:04.193141Z",
     "iopub.status.idle": "2023-08-30T18:45:04.200156Z",
     "shell.execute_reply": "2023-08-30T18:45:04.198965Z"
    },
    "papermill": {
     "duration": 0.022009,
     "end_time": "2023-08-30T18:45:04.202397",
     "exception": false,
     "start_time": "2023-08-30T18:45:04.180388",
     "status": "completed"
    },
    "tags": []
   },
   "outputs": [
    {
     "name": "stdout",
     "output_type": "stream",
     "text": [
      "Index(['target', 'O2_1', 'O2_2', 'O2_3', 'O2_4', 'O2_5', 'O2_6', 'O2_7',\n",
      "       'NH4_1', 'NH4_2', 'NH4_3', 'NH4_4', 'NH4_5', 'NH4_6', 'NH4_7', 'NO2_1',\n",
      "       'NO2_2', 'NO2_3', 'NO2_4', 'NO2_5', 'NO2_6', 'NO2_7', 'NO3_1', 'NO3_2',\n",
      "       'NO3_3', 'NO3_4', 'NO3_5', 'NO3_6', 'NO3_7', 'BOD5_1', 'BOD5_2',\n",
      "       'BOD5_3', 'BOD5_4', 'BOD5_5', 'BOD5_6', 'BOD5_7'],\n",
      "      dtype='object')\n"
     ]
    }
   ],
   "source": [
    "# So we have 91 0f these records as Value: \n",
    "# 111000001100000110000011000001100000, Count: 91\n",
    "# So What we do is lets, identify all the columns which falls under this pattern \n",
    "# and try to fill our dataframe\n",
    "\n",
    "print(pattern_df.columns)\n",
    "\n",
    "# 111 00000 11 00000 11 00000 11 00000 11 00000 is\n",
    "column_list_to_populate = ['O2_1', \n",
    "                           'O2_2', \n",
    "                           'NH4_1', \n",
    "                           'NH4_2', \n",
    "                           'NO2_1', \n",
    "                           'NO2_2', \n",
    "                           'NO3_1', \n",
    "                           'NO3_2', \n",
    "                           'BOD5_1', \n",
    "                           'BOD5_2']"
   ]
  },
  {
   "cell_type": "code",
   "execution_count": null,
   "id": "796d65d8",
   "metadata": {
    "papermill": {
     "duration": 0.011179,
     "end_time": "2023-08-30T18:45:04.225078",
     "exception": false,
     "start_time": "2023-08-30T18:45:04.213899",
     "status": "completed"
    },
    "tags": []
   },
   "outputs": [],
   "source": [
    "\n",
    "        "
   ]
  }
 ],
 "kernelspec": {
  "display_name": "Python 3",
  "language": "python",
  "name": "python3"
 },
 "language_info": {
  "codemirror_mode": {
   "name": "ipython",
   "version": 3
  },
  "file_extension": ".py",
  "mimetype": "text/x-python",
  "name": "python",
  "nbconvert_exporter": "python",
  "pygments_lexer": "ipython3",
  "version": "3.6.4"
 },
 "metadata": {
  "kernelspec": {
   "display_name": "Python 3",
   "language": "python",
   "name": "python3"
  },
  "language_info": {
   "codemirror_mode": {
    "name": "ipython",
    "version": 3
   },
   "file_extension": ".py",
   "mimetype": "text/x-python",
   "name": "python",
   "nbconvert_exporter": "python",
   "pygments_lexer": "ipython3",
   "version": "3.10.12"
  },
  "papermill": {
   "default_parameters": {},
   "duration": 27.464423,
   "end_time": "2023-08-30T18:45:05.360459",
   "environment_variables": {},
   "exception": null,
   "input_path": "__notebook__.ipynb",
   "output_path": "__notebook__.ipynb",
   "parameters": {},
   "start_time": "2023-08-30T18:44:37.896036",
   "version": "2.4.0"
  }
 },
 "nbformat": 4,
 "nbformat_minor": 5
}
