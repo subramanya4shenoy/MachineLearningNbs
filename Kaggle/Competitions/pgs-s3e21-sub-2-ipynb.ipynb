{
 "cells": [
  {
   "cell_type": "code",
   "execution_count": 1,
   "id": "c9fbca59",
   "metadata": {
    "_cell_guid": "b1076dfc-b9ad-4769-8c92-a6c4dae69d19",
    "_kg_hide-input": false,
    "_kg_hide-output": false,
    "_uuid": "8f2839f25d086af736a60e9eeb907d3b93b6e0e5",
    "execution": {
     "iopub.execute_input": "2023-08-27T16:10:58.500742Z",
     "iopub.status.busy": "2023-08-27T16:10:58.500039Z",
     "iopub.status.idle": "2023-08-27T16:10:58.515812Z",
     "shell.execute_reply": "2023-08-27T16:10:58.514445Z"
    },
    "papermill": {
     "duration": 0.02542,
     "end_time": "2023-08-27T16:10:58.517996",
     "exception": false,
     "start_time": "2023-08-27T16:10:58.492576",
     "status": "completed"
    },
    "tags": []
   },
   "outputs": [
    {
     "name": "stdout",
     "output_type": "stream",
     "text": [
      "/kaggle/input/playground-series-s3e21/sample_submission.csv\n",
      "/kaggle/input/dissolved-oxygen-prediction-in-river-water/train.csv\n",
      "/kaggle/input/dissolved-oxygen-prediction-in-river-water/test.csv\n"
     ]
    }
   ],
   "source": [
    "# This Python 3 environment comes with many helpful analytics libraries installed\n",
    "# It is defined by the kaggle/python Docker image: https://github.com/kaggle/docker-python\n",
    "# For example, here's several helpful packages to load\n",
    "\n",
    "import numpy as np # linear algebra\n",
    "import pandas as pd # data processing, CSV file I/O (e.g. pd.read_csv)\n",
    "\n",
    "# Input data files are available in the read-only \"../input/\" directory\n",
    "# For example, running this (by clicking run or pressing Shift+Enter) will list all files under the input directory\n",
    "\n",
    "import os\n",
    "for dirname, _, filenames in os.walk('/kaggle/input'):\n",
    "    for filename in filenames:\n",
    "        print(os.path.join(dirname, filename))\n",
    "\n",
    "# You can write up to 20GB to the current directory (/kaggle/working/) that gets preserved as output when you create a version using \"Save & Run All\" \n",
    "# You can also write temporary files to /kaggle/temp/, but they won't be saved outside of the current session"
   ]
  },
  {
   "cell_type": "markdown",
   "id": "ca5292d1",
   "metadata": {
    "papermill": {
     "duration": 0.005098,
     "end_time": "2023-08-27T16:10:58.528649",
     "exception": false,
     "start_time": "2023-08-27T16:10:58.523551",
     "status": "completed"
    },
    "tags": []
   },
   "source": [
    "# 😵‍💫 Improve a Fixed Model the Data-Centric Way! 😵‍💫¶ (Second Attempt)\n",
    "Playground Series - Season 3, Episode 21\n",
    "\n",
    "This is a very different type of challenge! For this challenge, your task is to improve a dataset that is being used to train a random forest model; in other words, your submission will be training data, not predictions. A random forest model will be trained on your submission, used to make predictions, and then those predictions will be used to generate your score.\n",
    "\n",
    "The dataset for this competition is a synthetic dataset based off of the Dissolved oxygen prediction in river water dataset. You are free to use the original in any way that you find useful."
   ]
  },
  {
   "cell_type": "markdown",
   "id": "78c82cb0",
   "metadata": {
    "papermill": {
     "duration": 0.00494,
     "end_time": "2023-08-27T16:10:58.538839",
     "exception": false,
     "start_time": "2023-08-27T16:10:58.533899",
     "status": "completed"
    },
    "tags": []
   },
   "source": [
    "## 🔶 Look at the big Picture"
   ]
  },
  {
   "cell_type": "markdown",
   "id": "ed95f0fa",
   "metadata": {
    "papermill": {
     "duration": 0.004934,
     "end_time": "2023-08-27T16:10:58.549092",
     "exception": false,
     "start_time": "2023-08-27T16:10:58.544158",
     "status": "completed"
    },
    "tags": []
   },
   "source": [
    "### 🔸 **Frame the problem**\n",
    "*   🟢 **Goal:** Is to fill the columns in the dataFrame such a way that the dataframe fed to the given model gives close to 0 RMSE. 🗒\n",
    "*   🟢 **End Result:** multiple Columns to be predicted, changed such a way that models predict well 🗒\n",
    "*   🟢 **Problem Type:** not exactly a regression. model has been already provided,\n",
    "*   🟢 **Learning Type:** Supervised Learning\n",
    "*   🟢 **Variate:** MultiVariate (need to predict multiple target with 1 label)\n",
    "*   🟢 **Features:** single features"
   ]
  },
  {
   "cell_type": "markdown",
   "id": "282d1e9c",
   "metadata": {
    "papermill": {
     "duration": 0.006361,
     "end_time": "2023-08-27T16:10:58.560633",
     "exception": false,
     "start_time": "2023-08-27T16:10:58.554272",
     "status": "completed"
    },
    "tags": []
   },
   "source": [
    "### 🔸 **Select performance measure**:\n",
    "🟢 using RMSE 🗒.  This was given in the problem set."
   ]
  },
  {
   "cell_type": "markdown",
   "id": "1f00283a",
   "metadata": {
    "papermill": {
     "duration": 0.005218,
     "end_time": "2023-08-27T16:10:58.571091",
     "exception": false,
     "start_time": "2023-08-27T16:10:58.565873",
     "status": "completed"
    },
    "tags": []
   },
   "source": [
    "### 🔸 **Assumptions**: `none`\n",
    "\n",
    "---"
   ]
  },
  {
   "cell_type": "markdown",
   "id": "55336062",
   "metadata": {
    "papermill": {
     "duration": 0.005189,
     "end_time": "2023-08-27T16:10:58.581632",
     "exception": false,
     "start_time": "2023-08-27T16:10:58.576443",
     "status": "completed"
    },
    "tags": []
   },
   "source": [
    "## 🔶**Get the Data**\n",
    "\n",
    "* 🟢 Add the sample_submission (as there are no train and test set in this problem) from the compition data\n",
    "* 🟢 Read the sample_submission csv into a dataframe"
   ]
  },
  {
   "cell_type": "code",
   "execution_count": 2,
   "id": "b0179ae7",
   "metadata": {
    "execution": {
     "iopub.execute_input": "2023-08-27T16:10:58.594516Z",
     "iopub.status.busy": "2023-08-27T16:10:58.594102Z",
     "iopub.status.idle": "2023-08-27T16:10:58.625630Z",
     "shell.execute_reply": "2023-08-27T16:10:58.624770Z"
    },
    "papermill": {
     "duration": 0.040605,
     "end_time": "2023-08-27T16:10:58.627932",
     "exception": false,
     "start_time": "2023-08-27T16:10:58.587327",
     "status": "completed"
    },
    "tags": []
   },
   "outputs": [],
   "source": [
    "#taking original training data from original data source\n",
    "\n",
    "og_train_set = pd.read_csv('/kaggle/input/dissolved-oxygen-prediction-in-river-water/train.csv', index_col='Id')\n"
   ]
  },
  {
   "cell_type": "markdown",
   "id": "2e9a8ec5",
   "metadata": {
    "papermill": {
     "duration": 0.005094,
     "end_time": "2023-08-27T16:10:58.638522",
     "exception": false,
     "start_time": "2023-08-27T16:10:58.633428",
     "status": "completed"
    },
    "tags": []
   },
   "source": [
    "#### 🔸 **Take Quick look**\n",
    "* 🟢 .head() to see the index columns and quick look at the data \n",
    "* 🟢 .shape to see the size of training set\n",
    "* 🟢 .info() to see the data types and missing values \n",
    "* 🟢 .value_counts() on categorical data to check if all the categories are equaly represented and to check the weightages.\n",
    "* 🟢 .describe() to check mean and std deviation, min, max this gives a hint of how data is distributed and what is the max values, min values and is there any scaled data or not.\n",
    "\n",
    "🚨 **Note:** Specially for this problem we are looking at the submision set so that we can have a clone of this dataframe structure and fill the data "
   ]
  },
  {
   "cell_type": "code",
   "execution_count": 3,
   "id": "1d37e756",
   "metadata": {
    "execution": {
     "iopub.execute_input": "2023-08-27T16:10:58.650652Z",
     "iopub.status.busy": "2023-08-27T16:10:58.650273Z",
     "iopub.status.idle": "2023-08-27T16:10:58.681806Z",
     "shell.execute_reply": "2023-08-27T16:10:58.680615Z"
    },
    "papermill": {
     "duration": 0.040109,
     "end_time": "2023-08-27T16:10:58.683987",
     "exception": false,
     "start_time": "2023-08-27T16:10:58.643878",
     "status": "completed"
    },
    "tags": []
   },
   "outputs": [
    {
     "data": {
      "text/html": [
       "<div>\n",
       "<style scoped>\n",
       "    .dataframe tbody tr th:only-of-type {\n",
       "        vertical-align: middle;\n",
       "    }\n",
       "\n",
       "    .dataframe tbody tr th {\n",
       "        vertical-align: top;\n",
       "    }\n",
       "\n",
       "    .dataframe thead th {\n",
       "        text-align: right;\n",
       "    }\n",
       "</style>\n",
       "<table border=\"1\" class=\"dataframe\">\n",
       "  <thead>\n",
       "    <tr style=\"text-align: right;\">\n",
       "      <th></th>\n",
       "      <th>target</th>\n",
       "      <th>O2_1</th>\n",
       "      <th>O2_2</th>\n",
       "      <th>O2_3</th>\n",
       "      <th>O2_4</th>\n",
       "      <th>O2_5</th>\n",
       "      <th>O2_6</th>\n",
       "      <th>O2_7</th>\n",
       "      <th>NH4_1</th>\n",
       "      <th>NH4_2</th>\n",
       "      <th>...</th>\n",
       "      <th>NO3_5</th>\n",
       "      <th>NO3_6</th>\n",
       "      <th>NO3_7</th>\n",
       "      <th>BOD5_1</th>\n",
       "      <th>BOD5_2</th>\n",
       "      <th>BOD5_3</th>\n",
       "      <th>BOD5_4</th>\n",
       "      <th>BOD5_5</th>\n",
       "      <th>BOD5_6</th>\n",
       "      <th>BOD5_7</th>\n",
       "    </tr>\n",
       "    <tr>\n",
       "      <th>Id</th>\n",
       "      <th></th>\n",
       "      <th></th>\n",
       "      <th></th>\n",
       "      <th></th>\n",
       "      <th></th>\n",
       "      <th></th>\n",
       "      <th></th>\n",
       "      <th></th>\n",
       "      <th></th>\n",
       "      <th></th>\n",
       "      <th></th>\n",
       "      <th></th>\n",
       "      <th></th>\n",
       "      <th></th>\n",
       "      <th></th>\n",
       "      <th></th>\n",
       "      <th></th>\n",
       "      <th></th>\n",
       "      <th></th>\n",
       "      <th></th>\n",
       "      <th></th>\n",
       "    </tr>\n",
       "  </thead>\n",
       "  <tbody>\n",
       "    <tr>\n",
       "      <th>0</th>\n",
       "      <td>12.58</td>\n",
       "      <td>9.875</td>\n",
       "      <td>9.20</td>\n",
       "      <td>NaN</td>\n",
       "      <td>NaN</td>\n",
       "      <td>NaN</td>\n",
       "      <td>NaN</td>\n",
       "      <td>NaN</td>\n",
       "      <td>0.690</td>\n",
       "      <td>1.040</td>\n",
       "      <td>...</td>\n",
       "      <td>NaN</td>\n",
       "      <td>NaN</td>\n",
       "      <td>NaN</td>\n",
       "      <td>4.80</td>\n",
       "      <td>5.850</td>\n",
       "      <td>NaN</td>\n",
       "      <td>NaN</td>\n",
       "      <td>NaN</td>\n",
       "      <td>NaN</td>\n",
       "      <td>NaN</td>\n",
       "    </tr>\n",
       "    <tr>\n",
       "      <th>3</th>\n",
       "      <td>9.37</td>\n",
       "      <td>10.300</td>\n",
       "      <td>10.75</td>\n",
       "      <td>NaN</td>\n",
       "      <td>NaN</td>\n",
       "      <td>NaN</td>\n",
       "      <td>NaN</td>\n",
       "      <td>NaN</td>\n",
       "      <td>0.710</td>\n",
       "      <td>0.725</td>\n",
       "      <td>...</td>\n",
       "      <td>NaN</td>\n",
       "      <td>NaN</td>\n",
       "      <td>NaN</td>\n",
       "      <td>5.88</td>\n",
       "      <td>6.835</td>\n",
       "      <td>NaN</td>\n",
       "      <td>NaN</td>\n",
       "      <td>NaN</td>\n",
       "      <td>NaN</td>\n",
       "      <td>NaN</td>\n",
       "    </tr>\n",
       "    <tr>\n",
       "      <th>4</th>\n",
       "      <td>8.35</td>\n",
       "      <td>8.290</td>\n",
       "      <td>7.90</td>\n",
       "      <td>NaN</td>\n",
       "      <td>NaN</td>\n",
       "      <td>NaN</td>\n",
       "      <td>NaN</td>\n",
       "      <td>NaN</td>\n",
       "      <td>2.210</td>\n",
       "      <td>2.210</td>\n",
       "      <td>...</td>\n",
       "      <td>NaN</td>\n",
       "      <td>NaN</td>\n",
       "      <td>NaN</td>\n",
       "      <td>3.20</td>\n",
       "      <td>2.700</td>\n",
       "      <td>NaN</td>\n",
       "      <td>NaN</td>\n",
       "      <td>NaN</td>\n",
       "      <td>NaN</td>\n",
       "      <td>NaN</td>\n",
       "    </tr>\n",
       "    <tr>\n",
       "      <th>5</th>\n",
       "      <td>9.57</td>\n",
       "      <td>8.820</td>\n",
       "      <td>6.80</td>\n",
       "      <td>NaN</td>\n",
       "      <td>NaN</td>\n",
       "      <td>NaN</td>\n",
       "      <td>NaN</td>\n",
       "      <td>NaN</td>\n",
       "      <td>0.595</td>\n",
       "      <td>0.675</td>\n",
       "      <td>...</td>\n",
       "      <td>NaN</td>\n",
       "      <td>NaN</td>\n",
       "      <td>NaN</td>\n",
       "      <td>7.70</td>\n",
       "      <td>7.055</td>\n",
       "      <td>NaN</td>\n",
       "      <td>NaN</td>\n",
       "      <td>NaN</td>\n",
       "      <td>NaN</td>\n",
       "      <td>NaN</td>\n",
       "    </tr>\n",
       "    <tr>\n",
       "      <th>6</th>\n",
       "      <td>6.00</td>\n",
       "      <td>6.000</td>\n",
       "      <td>6.50</td>\n",
       "      <td>NaN</td>\n",
       "      <td>NaN</td>\n",
       "      <td>NaN</td>\n",
       "      <td>NaN</td>\n",
       "      <td>NaN</td>\n",
       "      <td>0.600</td>\n",
       "      <td>0.900</td>\n",
       "      <td>...</td>\n",
       "      <td>NaN</td>\n",
       "      <td>NaN</td>\n",
       "      <td>NaN</td>\n",
       "      <td>5.50</td>\n",
       "      <td>5.300</td>\n",
       "      <td>NaN</td>\n",
       "      <td>NaN</td>\n",
       "      <td>NaN</td>\n",
       "      <td>NaN</td>\n",
       "      <td>NaN</td>\n",
       "    </tr>\n",
       "  </tbody>\n",
       "</table>\n",
       "<p>5 rows × 36 columns</p>\n",
       "</div>"
      ],
      "text/plain": [
       "    target    O2_1   O2_2  O2_3  O2_4  O2_5  O2_6  O2_7  NH4_1  NH4_2  ...  \\\n",
       "Id                                                                     ...   \n",
       "0    12.58   9.875   9.20   NaN   NaN   NaN   NaN   NaN  0.690  1.040  ...   \n",
       "3     9.37  10.300  10.75   NaN   NaN   NaN   NaN   NaN  0.710  0.725  ...   \n",
       "4     8.35   8.290   7.90   NaN   NaN   NaN   NaN   NaN  2.210  2.210  ...   \n",
       "5     9.57   8.820   6.80   NaN   NaN   NaN   NaN   NaN  0.595  0.675  ...   \n",
       "6     6.00   6.000   6.50   NaN   NaN   NaN   NaN   NaN  0.600  0.900  ...   \n",
       "\n",
       "    NO3_5  NO3_6  NO3_7  BOD5_1  BOD5_2  BOD5_3  BOD5_4  BOD5_5  BOD5_6  \\\n",
       "Id                                                                        \n",
       "0     NaN    NaN    NaN    4.80   5.850     NaN     NaN     NaN     NaN   \n",
       "3     NaN    NaN    NaN    5.88   6.835     NaN     NaN     NaN     NaN   \n",
       "4     NaN    NaN    NaN    3.20   2.700     NaN     NaN     NaN     NaN   \n",
       "5     NaN    NaN    NaN    7.70   7.055     NaN     NaN     NaN     NaN   \n",
       "6     NaN    NaN    NaN    5.50   5.300     NaN     NaN     NaN     NaN   \n",
       "\n",
       "    BOD5_7  \n",
       "Id          \n",
       "0      NaN  \n",
       "3      NaN  \n",
       "4      NaN  \n",
       "5      NaN  \n",
       "6      NaN  \n",
       "\n",
       "[5 rows x 36 columns]"
      ]
     },
     "execution_count": 3,
     "metadata": {},
     "output_type": "execute_result"
    }
   ],
   "source": [
    "og_train_set.head()"
   ]
  },
  {
   "cell_type": "code",
   "execution_count": 4,
   "id": "a9206fb8",
   "metadata": {
    "execution": {
     "iopub.execute_input": "2023-08-27T16:10:58.697126Z",
     "iopub.status.busy": "2023-08-27T16:10:58.696773Z",
     "iopub.status.idle": "2023-08-27T16:10:58.702836Z",
     "shell.execute_reply": "2023-08-27T16:10:58.701937Z"
    },
    "papermill": {
     "duration": 0.015242,
     "end_time": "2023-08-27T16:10:58.705015",
     "exception": false,
     "start_time": "2023-08-27T16:10:58.689773",
     "status": "completed"
    },
    "tags": []
   },
   "outputs": [
    {
     "data": {
      "text/plain": [
       "(147, 36)"
      ]
     },
     "execution_count": 4,
     "metadata": {},
     "output_type": "execute_result"
    }
   ],
   "source": [
    "og_train_set.shape"
   ]
  },
  {
   "cell_type": "code",
   "execution_count": 5,
   "id": "214f8c46",
   "metadata": {
    "execution": {
     "iopub.execute_input": "2023-08-27T16:10:58.718341Z",
     "iopub.status.busy": "2023-08-27T16:10:58.717996Z",
     "iopub.status.idle": "2023-08-27T16:10:58.817499Z",
     "shell.execute_reply": "2023-08-27T16:10:58.816381Z"
    },
    "papermill": {
     "duration": 0.109425,
     "end_time": "2023-08-27T16:10:58.820387",
     "exception": false,
     "start_time": "2023-08-27T16:10:58.710962",
     "status": "completed"
    },
    "tags": []
   },
   "outputs": [
    {
     "data": {
      "text/html": [
       "<div>\n",
       "<style scoped>\n",
       "    .dataframe tbody tr th:only-of-type {\n",
       "        vertical-align: middle;\n",
       "    }\n",
       "\n",
       "    .dataframe tbody tr th {\n",
       "        vertical-align: top;\n",
       "    }\n",
       "\n",
       "    .dataframe thead th {\n",
       "        text-align: right;\n",
       "    }\n",
       "</style>\n",
       "<table border=\"1\" class=\"dataframe\">\n",
       "  <thead>\n",
       "    <tr style=\"text-align: right;\">\n",
       "      <th></th>\n",
       "      <th>target</th>\n",
       "      <th>O2_1</th>\n",
       "      <th>O2_2</th>\n",
       "      <th>O2_3</th>\n",
       "      <th>O2_4</th>\n",
       "      <th>O2_5</th>\n",
       "      <th>O2_6</th>\n",
       "      <th>O2_7</th>\n",
       "      <th>NH4_1</th>\n",
       "      <th>NH4_2</th>\n",
       "      <th>...</th>\n",
       "      <th>NO3_5</th>\n",
       "      <th>NO3_6</th>\n",
       "      <th>NO3_7</th>\n",
       "      <th>BOD5_1</th>\n",
       "      <th>BOD5_2</th>\n",
       "      <th>BOD5_3</th>\n",
       "      <th>BOD5_4</th>\n",
       "      <th>BOD5_5</th>\n",
       "      <th>BOD5_6</th>\n",
       "      <th>BOD5_7</th>\n",
       "    </tr>\n",
       "  </thead>\n",
       "  <tbody>\n",
       "    <tr>\n",
       "      <th>count</th>\n",
       "      <td>147.000000</td>\n",
       "      <td>145.000000</td>\n",
       "      <td>145.000000</td>\n",
       "      <td>32.000000</td>\n",
       "      <td>31.000000</td>\n",
       "      <td>33.000000</td>\n",
       "      <td>37.000000</td>\n",
       "      <td>37.000000</td>\n",
       "      <td>145.000000</td>\n",
       "      <td>145.000000</td>\n",
       "      <td>...</td>\n",
       "      <td>33.000000</td>\n",
       "      <td>37.000000</td>\n",
       "      <td>37.000000</td>\n",
       "      <td>145.000000</td>\n",
       "      <td>145.000000</td>\n",
       "      <td>32.000000</td>\n",
       "      <td>31.000000</td>\n",
       "      <td>33.000000</td>\n",
       "      <td>37.000000</td>\n",
       "      <td>37.000000</td>\n",
       "    </tr>\n",
       "    <tr>\n",
       "      <th>mean</th>\n",
       "      <td>9.211497</td>\n",
       "      <td>9.168506</td>\n",
       "      <td>9.148126</td>\n",
       "      <td>10.002813</td>\n",
       "      <td>8.483226</td>\n",
       "      <td>6.095152</td>\n",
       "      <td>9.396892</td>\n",
       "      <td>7.598243</td>\n",
       "      <td>0.588168</td>\n",
       "      <td>0.660910</td>\n",
       "      <td>...</td>\n",
       "      <td>6.982515</td>\n",
       "      <td>3.373689</td>\n",
       "      <td>3.200135</td>\n",
       "      <td>4.972724</td>\n",
       "      <td>4.906379</td>\n",
       "      <td>4.665312</td>\n",
       "      <td>5.871935</td>\n",
       "      <td>8.678788</td>\n",
       "      <td>3.884054</td>\n",
       "      <td>3.957703</td>\n",
       "    </tr>\n",
       "    <tr>\n",
       "      <th>std</th>\n",
       "      <td>2.886614</td>\n",
       "      <td>4.188197</td>\n",
       "      <td>3.746898</td>\n",
       "      <td>2.667096</td>\n",
       "      <td>2.527239</td>\n",
       "      <td>3.279915</td>\n",
       "      <td>2.848153</td>\n",
       "      <td>3.409060</td>\n",
       "      <td>0.462262</td>\n",
       "      <td>0.591798</td>\n",
       "      <td>...</td>\n",
       "      <td>4.466642</td>\n",
       "      <td>2.823756</td>\n",
       "      <td>2.868225</td>\n",
       "      <td>2.044057</td>\n",
       "      <td>2.001381</td>\n",
       "      <td>2.057903</td>\n",
       "      <td>2.555560</td>\n",
       "      <td>5.299039</td>\n",
       "      <td>1.615542</td>\n",
       "      <td>1.916813</td>\n",
       "    </tr>\n",
       "    <tr>\n",
       "      <th>min</th>\n",
       "      <td>1.900000</td>\n",
       "      <td>2.200000</td>\n",
       "      <td>2.200000</td>\n",
       "      <td>4.660000</td>\n",
       "      <td>4.900000</td>\n",
       "      <td>0.000000</td>\n",
       "      <td>0.000000</td>\n",
       "      <td>0.000000</td>\n",
       "      <td>0.040000</td>\n",
       "      <td>0.020000</td>\n",
       "      <td>...</td>\n",
       "      <td>0.670000</td>\n",
       "      <td>0.100000</td>\n",
       "      <td>0.000000</td>\n",
       "      <td>0.900000</td>\n",
       "      <td>1.040000</td>\n",
       "      <td>2.040000</td>\n",
       "      <td>2.480000</td>\n",
       "      <td>2.880000</td>\n",
       "      <td>1.000000</td>\n",
       "      <td>1.600000</td>\n",
       "    </tr>\n",
       "    <tr>\n",
       "      <th>25%</th>\n",
       "      <td>7.375000</td>\n",
       "      <td>7.050000</td>\n",
       "      <td>7.200000</td>\n",
       "      <td>8.100000</td>\n",
       "      <td>6.865000</td>\n",
       "      <td>3.290000</td>\n",
       "      <td>8.800000</td>\n",
       "      <td>6.170000</td>\n",
       "      <td>0.230000</td>\n",
       "      <td>0.215000</td>\n",
       "      <td>...</td>\n",
       "      <td>4.100000</td>\n",
       "      <td>1.440000</td>\n",
       "      <td>1.610000</td>\n",
       "      <td>3.500000</td>\n",
       "      <td>3.400000</td>\n",
       "      <td>3.325000</td>\n",
       "      <td>4.445000</td>\n",
       "      <td>5.840000</td>\n",
       "      <td>2.900000</td>\n",
       "      <td>2.900000</td>\n",
       "    </tr>\n",
       "    <tr>\n",
       "      <th>50%</th>\n",
       "      <td>8.800000</td>\n",
       "      <td>8.700000</td>\n",
       "      <td>8.566667</td>\n",
       "      <td>9.522500</td>\n",
       "      <td>7.800000</td>\n",
       "      <td>5.800000</td>\n",
       "      <td>9.805000</td>\n",
       "      <td>7.150000</td>\n",
       "      <td>0.425000</td>\n",
       "      <td>0.440000</td>\n",
       "      <td>...</td>\n",
       "      <td>6.050000</td>\n",
       "      <td>2.650000</td>\n",
       "      <td>1.900000</td>\n",
       "      <td>4.800000</td>\n",
       "      <td>4.833333</td>\n",
       "      <td>4.150000</td>\n",
       "      <td>5.500000</td>\n",
       "      <td>7.300000</td>\n",
       "      <td>3.400000</td>\n",
       "      <td>3.500000</td>\n",
       "    </tr>\n",
       "    <tr>\n",
       "      <th>75%</th>\n",
       "      <td>10.850000</td>\n",
       "      <td>10.600000</td>\n",
       "      <td>10.500000</td>\n",
       "      <td>11.611250</td>\n",
       "      <td>9.232500</td>\n",
       "      <td>9.500000</td>\n",
       "      <td>10.440000</td>\n",
       "      <td>8.700000</td>\n",
       "      <td>0.800000</td>\n",
       "      <td>0.910000</td>\n",
       "      <td>...</td>\n",
       "      <td>8.550000</td>\n",
       "      <td>4.320000</td>\n",
       "      <td>3.800000</td>\n",
       "      <td>6.450000</td>\n",
       "      <td>6.200000</td>\n",
       "      <td>5.970000</td>\n",
       "      <td>6.400000</td>\n",
       "      <td>8.415000</td>\n",
       "      <td>4.800000</td>\n",
       "      <td>4.400000</td>\n",
       "    </tr>\n",
       "    <tr>\n",
       "      <th>max</th>\n",
       "      <td>19.100000</td>\n",
       "      <td>46.950000</td>\n",
       "      <td>40.900000</td>\n",
       "      <td>15.900000</td>\n",
       "      <td>15.400000</td>\n",
       "      <td>11.800000</td>\n",
       "      <td>13.700000</td>\n",
       "      <td>15.900000</td>\n",
       "      <td>2.400000</td>\n",
       "      <td>3.600000</td>\n",
       "      <td>...</td>\n",
       "      <td>20.050000</td>\n",
       "      <td>10.200000</td>\n",
       "      <td>13.300000</td>\n",
       "      <td>10.900000</td>\n",
       "      <td>11.000000</td>\n",
       "      <td>10.665000</td>\n",
       "      <td>14.790000</td>\n",
       "      <td>27.120000</td>\n",
       "      <td>8.540000</td>\n",
       "      <td>10.370000</td>\n",
       "    </tr>\n",
       "  </tbody>\n",
       "</table>\n",
       "<p>8 rows × 36 columns</p>\n",
       "</div>"
      ],
      "text/plain": [
       "           target        O2_1        O2_2       O2_3       O2_4       O2_5  \\\n",
       "count  147.000000  145.000000  145.000000  32.000000  31.000000  33.000000   \n",
       "mean     9.211497    9.168506    9.148126  10.002813   8.483226   6.095152   \n",
       "std      2.886614    4.188197    3.746898   2.667096   2.527239   3.279915   \n",
       "min      1.900000    2.200000    2.200000   4.660000   4.900000   0.000000   \n",
       "25%      7.375000    7.050000    7.200000   8.100000   6.865000   3.290000   \n",
       "50%      8.800000    8.700000    8.566667   9.522500   7.800000   5.800000   \n",
       "75%     10.850000   10.600000   10.500000  11.611250   9.232500   9.500000   \n",
       "max     19.100000   46.950000   40.900000  15.900000  15.400000  11.800000   \n",
       "\n",
       "            O2_6       O2_7       NH4_1       NH4_2  ...      NO3_5  \\\n",
       "count  37.000000  37.000000  145.000000  145.000000  ...  33.000000   \n",
       "mean    9.396892   7.598243    0.588168    0.660910  ...   6.982515   \n",
       "std     2.848153   3.409060    0.462262    0.591798  ...   4.466642   \n",
       "min     0.000000   0.000000    0.040000    0.020000  ...   0.670000   \n",
       "25%     8.800000   6.170000    0.230000    0.215000  ...   4.100000   \n",
       "50%     9.805000   7.150000    0.425000    0.440000  ...   6.050000   \n",
       "75%    10.440000   8.700000    0.800000    0.910000  ...   8.550000   \n",
       "max    13.700000  15.900000    2.400000    3.600000  ...  20.050000   \n",
       "\n",
       "           NO3_6      NO3_7      BOD5_1      BOD5_2     BOD5_3     BOD5_4  \\\n",
       "count  37.000000  37.000000  145.000000  145.000000  32.000000  31.000000   \n",
       "mean    3.373689   3.200135    4.972724    4.906379   4.665312   5.871935   \n",
       "std     2.823756   2.868225    2.044057    2.001381   2.057903   2.555560   \n",
       "min     0.100000   0.000000    0.900000    1.040000   2.040000   2.480000   \n",
       "25%     1.440000   1.610000    3.500000    3.400000   3.325000   4.445000   \n",
       "50%     2.650000   1.900000    4.800000    4.833333   4.150000   5.500000   \n",
       "75%     4.320000   3.800000    6.450000    6.200000   5.970000   6.400000   \n",
       "max    10.200000  13.300000   10.900000   11.000000  10.665000  14.790000   \n",
       "\n",
       "          BOD5_5     BOD5_6     BOD5_7  \n",
       "count  33.000000  37.000000  37.000000  \n",
       "mean    8.678788   3.884054   3.957703  \n",
       "std     5.299039   1.615542   1.916813  \n",
       "min     2.880000   1.000000   1.600000  \n",
       "25%     5.840000   2.900000   2.900000  \n",
       "50%     7.300000   3.400000   3.500000  \n",
       "75%     8.415000   4.800000   4.400000  \n",
       "max    27.120000   8.540000  10.370000  \n",
       "\n",
       "[8 rows x 36 columns]"
      ]
     },
     "execution_count": 5,
     "metadata": {},
     "output_type": "execute_result"
    }
   ],
   "source": [
    "og_train_set.describe()"
   ]
  },
  {
   "cell_type": "code",
   "execution_count": 6,
   "id": "d8e14075",
   "metadata": {
    "execution": {
     "iopub.execute_input": "2023-08-27T16:10:58.834974Z",
     "iopub.status.busy": "2023-08-27T16:10:58.834597Z",
     "iopub.status.idle": "2023-08-27T16:10:58.852292Z",
     "shell.execute_reply": "2023-08-27T16:10:58.851312Z"
    },
    "papermill": {
     "duration": 0.02784,
     "end_time": "2023-08-27T16:10:58.854820",
     "exception": false,
     "start_time": "2023-08-27T16:10:58.826980",
     "status": "completed"
    },
    "tags": []
   },
   "outputs": [
    {
     "name": "stdout",
     "output_type": "stream",
     "text": [
      "<class 'pandas.core.frame.DataFrame'>\n",
      "Int64Index: 147 entries, 0 to 214\n",
      "Data columns (total 36 columns):\n",
      " #   Column  Non-Null Count  Dtype  \n",
      "---  ------  --------------  -----  \n",
      " 0   target  147 non-null    float64\n",
      " 1   O2_1    145 non-null    float64\n",
      " 2   O2_2    145 non-null    float64\n",
      " 3   O2_3    32 non-null     float64\n",
      " 4   O2_4    31 non-null     float64\n",
      " 5   O2_5    33 non-null     float64\n",
      " 6   O2_6    37 non-null     float64\n",
      " 7   O2_7    37 non-null     float64\n",
      " 8   NH4_1   145 non-null    float64\n",
      " 9   NH4_2   145 non-null    float64\n",
      " 10  NH4_3   32 non-null     float64\n",
      " 11  NH4_4   31 non-null     float64\n",
      " 12  NH4_5   33 non-null     float64\n",
      " 13  NH4_6   37 non-null     float64\n",
      " 14  NH4_7   37 non-null     float64\n",
      " 15  NO2_1   145 non-null    float64\n",
      " 16  NO2_2   145 non-null    float64\n",
      " 17  NO2_3   32 non-null     float64\n",
      " 18  NO2_4   31 non-null     float64\n",
      " 19  NO2_5   33 non-null     float64\n",
      " 20  NO2_6   37 non-null     float64\n",
      " 21  NO2_7   37 non-null     float64\n",
      " 22  NO3_1   145 non-null    float64\n",
      " 23  NO3_2   145 non-null    float64\n",
      " 24  NO3_3   32 non-null     float64\n",
      " 25  NO3_4   31 non-null     float64\n",
      " 26  NO3_5   33 non-null     float64\n",
      " 27  NO3_6   37 non-null     float64\n",
      " 28  NO3_7   37 non-null     float64\n",
      " 29  BOD5_1  145 non-null    float64\n",
      " 30  BOD5_2  145 non-null    float64\n",
      " 31  BOD5_3  32 non-null     float64\n",
      " 32  BOD5_4  31 non-null     float64\n",
      " 33  BOD5_5  33 non-null     float64\n",
      " 34  BOD5_6  37 non-null     float64\n",
      " 35  BOD5_7  37 non-null     float64\n",
      "dtypes: float64(36)\n",
      "memory usage: 42.5 KB\n"
     ]
    }
   ],
   "source": [
    "og_train_set.info()"
   ]
  },
  {
   "cell_type": "code",
   "execution_count": 7,
   "id": "0a93a985",
   "metadata": {
    "execution": {
     "iopub.execute_input": "2023-08-27T16:10:58.869071Z",
     "iopub.status.busy": "2023-08-27T16:10:58.868736Z",
     "iopub.status.idle": "2023-08-27T16:10:58.948702Z",
     "shell.execute_reply": "2023-08-27T16:10:58.947703Z"
    },
    "papermill": {
     "duration": 0.08972,
     "end_time": "2023-08-27T16:10:58.951100",
     "exception": false,
     "start_time": "2023-08-27T16:10:58.861380",
     "status": "completed"
    },
    "tags": []
   },
   "outputs": [
    {
     "name": "stdout",
     "output_type": "stream",
     "text": [
      "Index(['O2_1', 'O2_2', 'O2_3', 'O2_4', 'O2_5', 'O2_6', 'O2_7', 'NH4_1',\n",
      "       'NH4_2', 'NH4_3', 'NH4_4', 'NH4_5', 'NH4_6', 'NH4_7', 'NO2_1', 'NO2_2',\n",
      "       'NO2_3', 'NO2_4', 'NO2_5', 'NO2_6', 'NO2_7', 'NO3_1', 'NO3_2', 'NO3_3',\n",
      "       'NO3_4', 'NO3_5', 'NO3_6', 'NO3_7', 'BOD5_1', 'BOD5_2', 'BOD5_3',\n",
      "       'BOD5_4', 'BOD5_5', 'BOD5_6', 'BOD5_7'],\n",
      "      dtype='object')\n"
     ]
    }
   ],
   "source": [
    "# collecting required data from the og train set\n",
    "description = og_train_set.describe()\n",
    "columns = og_train_set.columns\n",
    "columns = columns.drop(\"target\")\n",
    "print(columns)"
   ]
  },
  {
   "cell_type": "code",
   "execution_count": 8,
   "id": "d387fbfd",
   "metadata": {
    "execution": {
     "iopub.execute_input": "2023-08-27T16:10:58.966088Z",
     "iopub.status.busy": "2023-08-27T16:10:58.965341Z",
     "iopub.status.idle": "2023-08-27T16:10:58.970431Z",
     "shell.execute_reply": "2023-08-27T16:10:58.969353Z"
    },
    "papermill": {
     "duration": 0.014828,
     "end_time": "2023-08-27T16:10:58.972450",
     "exception": false,
     "start_time": "2023-08-27T16:10:58.957622",
     "status": "completed"
    },
    "tags": []
   },
   "outputs": [],
   "source": [
    "# from the og data set we are checking what percentage of 0' or missing data are there in each column\n",
    "def fill_missing_data_perc(df):\n",
    "    df = df.fillna(0)\n",
    "    return df"
   ]
  },
  {
   "cell_type": "code",
   "execution_count": 9,
   "id": "628039ef",
   "metadata": {
    "execution": {
     "iopub.execute_input": "2023-08-27T16:10:58.987432Z",
     "iopub.status.busy": "2023-08-27T16:10:58.987028Z",
     "iopub.status.idle": "2023-08-27T16:10:59.005812Z",
     "shell.execute_reply": "2023-08-27T16:10:59.004836Z"
    },
    "papermill": {
     "duration": 0.028668,
     "end_time": "2023-08-27T16:10:59.007851",
     "exception": false,
     "start_time": "2023-08-27T16:10:58.979183",
     "status": "completed"
    },
    "tags": []
   },
   "outputs": [
    {
     "data": {
      "text/plain": [
       "array([{'col': 'O2_1', 'perc': 1.0}, {'col': 'O2_2', 'perc': 1.0},\n",
       "       {'col': 'O2_3', 'perc': 78.0}, {'col': 'O2_4', 'perc': 79.0},\n",
       "       {'col': 'O2_5', 'perc': 78.0}, {'col': 'O2_6', 'perc': 76.0},\n",
       "       {'col': 'O2_7', 'perc': 76.0}, {'col': 'NH4_1', 'perc': 1.0},\n",
       "       {'col': 'NH4_2', 'perc': 1.0}, {'col': 'NH4_3', 'perc': 78.0},\n",
       "       {'col': 'NH4_4', 'perc': 79.0}, {'col': 'NH4_5', 'perc': 78.0},\n",
       "       {'col': 'NH4_6', 'perc': 75.0}, {'col': 'NH4_7', 'perc': 75.0},\n",
       "       {'col': 'NO2_1', 'perc': 2.0}, {'col': 'NO2_2', 'perc': 2.0},\n",
       "       {'col': 'NO2_3', 'perc': 78.0}, {'col': 'NO2_4', 'perc': 79.0},\n",
       "       {'col': 'NO2_5', 'perc': 78.0}, {'col': 'NO2_6', 'perc': 77.0},\n",
       "       {'col': 'NO2_7', 'perc': 76.0}, {'col': 'NO3_1', 'perc': 4.0},\n",
       "       {'col': 'NO3_2', 'perc': 3.0}, {'col': 'NO3_3', 'perc': 79.0},\n",
       "       {'col': 'NO3_4', 'perc': 79.0}, {'col': 'NO3_5', 'perc': 78.0},\n",
       "       {'col': 'NO3_6', 'perc': 75.0}, {'col': 'NO3_7', 'perc': 76.0},\n",
       "       {'col': 'BOD5_1', 'perc': 1.0}, {'col': 'BOD5_2', 'perc': 1.0},\n",
       "       {'col': 'BOD5_3', 'perc': 78.0}, {'col': 'BOD5_4', 'perc': 79.0},\n",
       "       {'col': 'BOD5_5', 'perc': 78.0}, {'col': 'BOD5_6', 'perc': 75.0},\n",
       "       {'col': 'BOD5_7', 'perc': 75.0}], dtype=object)"
      ]
     },
     "execution_count": 9,
     "metadata": {},
     "output_type": "execute_result"
    }
   ],
   "source": [
    "# counting the persentage of 0's in each column\n",
    "def get_perc_of_0_value():\n",
    "    temp_df = fill_missing_data_perc(og_train_set)\n",
    "    perc_0 = np.array([])\n",
    "    for column in columns:\n",
    "        perc = (((temp_df[column]==0).sum()/len(og_train_set[column])) * 100).round()\n",
    "        perc_0 = np.append(perc_0, {'col': column, 'perc': perc})\n",
    "    return perc_0\n",
    "\n",
    "column_0_ratio = get_perc_of_0_value()\n",
    "column_0_ratio"
   ]
  },
  {
   "cell_type": "code",
   "execution_count": 10,
   "id": "008b5ca5",
   "metadata": {
    "execution": {
     "iopub.execute_input": "2023-08-27T16:10:59.023314Z",
     "iopub.status.busy": "2023-08-27T16:10:59.022931Z",
     "iopub.status.idle": "2023-08-27T16:10:59.029228Z",
     "shell.execute_reply": "2023-08-27T16:10:59.028200Z"
    },
    "papermill": {
     "duration": 0.016629,
     "end_time": "2023-08-27T16:10:59.031455",
     "exception": false,
     "start_time": "2023-08-27T16:10:59.014826",
     "status": "completed"
    },
    "tags": []
   },
   "outputs": [],
   "source": [
    "# will try to drop all columns which has more than 70% 0s\n",
    "col_list = np.array([])\n",
    "col_list_fill_0 = np.array([])\n",
    "for col_ratio in column_0_ratio:\n",
    "    if col_ratio['perc'] < 70:\n",
    "        col_list = np.append(col_list, col_ratio['col'])\n",
    "    else:\n",
    "        col_list_fill_0 = np.append(col_list_fill_0, col_ratio['col'])"
   ]
  },
  {
   "cell_type": "code",
   "execution_count": 11,
   "id": "6f2dd625",
   "metadata": {
    "execution": {
     "iopub.execute_input": "2023-08-27T16:10:59.047232Z",
     "iopub.status.busy": "2023-08-27T16:10:59.046873Z",
     "iopub.status.idle": "2023-08-27T16:10:59.051288Z",
     "shell.execute_reply": "2023-08-27T16:10:59.050193Z"
    },
    "papermill": {
     "duration": 0.015101,
     "end_time": "2023-08-27T16:10:59.053552",
     "exception": false,
     "start_time": "2023-08-27T16:10:59.038451",
     "status": "completed"
    },
    "tags": []
   },
   "outputs": [],
   "source": [
    "# mid submission\n",
    "# col_list = np.append(col_list, \"target\")\n",
    "# col_list = np.append(col_list, col_list_fill_0)\n",
    "# df = og_train_set[col_list]\n",
    "# df.loc[:, col_list_fill_0] = 0\n",
    "# df.shape\n"
   ]
  },
  {
   "cell_type": "code",
   "execution_count": 12,
   "id": "1246413f",
   "metadata": {
    "execution": {
     "iopub.execute_input": "2023-08-27T16:10:59.069396Z",
     "iopub.status.busy": "2023-08-27T16:10:59.068232Z",
     "iopub.status.idle": "2023-08-27T16:10:59.073105Z",
     "shell.execute_reply": "2023-08-27T16:10:59.072193Z"
    },
    "papermill": {
     "duration": 0.014988,
     "end_time": "2023-08-27T16:10:59.075370",
     "exception": false,
     "start_time": "2023-08-27T16:10:59.060382",
     "status": "completed"
    },
    "tags": []
   },
   "outputs": [],
   "source": [
    "# mid submission\n",
    "# df.to_csv('train_set.csv')"
   ]
  },
  {
   "cell_type": "code",
   "execution_count": 13,
   "id": "33e08c45",
   "metadata": {
    "execution": {
     "iopub.execute_input": "2023-08-27T16:10:59.091023Z",
     "iopub.status.busy": "2023-08-27T16:10:59.090659Z",
     "iopub.status.idle": "2023-08-27T16:10:59.095625Z",
     "shell.execute_reply": "2023-08-27T16:10:59.094307Z"
    },
    "papermill": {
     "duration": 0.015485,
     "end_time": "2023-08-27T16:10:59.097916",
     "exception": false,
     "start_time": "2023-08-27T16:10:59.082431",
     "status": "completed"
    },
    "tags": []
   },
   "outputs": [],
   "source": [
    "def fill_0_in_col_with_ratio(df, column_name, ratio, size):\n",
    "    print(column_name, ratio, size)"
   ]
  },
  {
   "cell_type": "markdown",
   "id": "bea18ac3",
   "metadata": {
    "papermill": {
     "duration": 0.006584,
     "end_time": "2023-08-27T16:10:59.111224",
     "exception": false,
     "start_time": "2023-08-27T16:10:59.104640",
     "status": "completed"
    },
    "tags": []
   },
   "source": [
    "1. So first lets create a data frame with the same columns\n",
    "2. Lets pick a size and fill 1's in them\n",
    "3. Lets ppopulate 0 in same ratio of that of our og_test_set\n",
    "4. Lets identify 1 in each row and fill the 25% - 75% random values in it"
   ]
  },
  {
   "cell_type": "code",
   "execution_count": 14,
   "id": "0f35654a",
   "metadata": {
    "execution": {
     "iopub.execute_input": "2023-08-27T16:10:59.126902Z",
     "iopub.status.busy": "2023-08-27T16:10:59.126523Z",
     "iopub.status.idle": "2023-08-27T16:10:59.133075Z",
     "shell.execute_reply": "2023-08-27T16:10:59.131521Z"
    },
    "papermill": {
     "duration": 0.018558,
     "end_time": "2023-08-27T16:10:59.136451",
     "exception": false,
     "start_time": "2023-08-27T16:10:59.117893",
     "status": "completed"
    },
    "tags": []
   },
   "outputs": [],
   "source": [
    "# creating a fresh set of training dat with same columns\n",
    "\n",
    "def recreating_training_set(size):\n",
    "    train_set = pd.DataFrame(columns=columns)\n",
    "    train_set = train_set.append(pd.DataFrame(np.ones((size, len(columns))), columns=columns), ignore_index=True)\n",
    "    for col_ratio in column_0_ratio:\n",
    "        train_set = fill_0_in_col_with_ratio(train_set, col_ratio['col'], col_ratio['perc'], size)\n",
    "    return train_set"
   ]
  },
  {
   "cell_type": "code",
   "execution_count": 15,
   "id": "39913be0",
   "metadata": {
    "execution": {
     "iopub.execute_input": "2023-08-27T16:10:59.151870Z",
     "iopub.status.busy": "2023-08-27T16:10:59.151492Z",
     "iopub.status.idle": "2023-08-27T16:10:59.160302Z",
     "shell.execute_reply": "2023-08-27T16:10:59.159185Z"
    },
    "papermill": {
     "duration": 0.020513,
     "end_time": "2023-08-27T16:10:59.164122",
     "exception": false,
     "start_time": "2023-08-27T16:10:59.143609",
     "status": "completed"
    },
    "tags": []
   },
   "outputs": [
    {
     "name": "stdout",
     "output_type": "stream",
     "text": [
      "O2_1 1.0 10\n",
      "O2_2 1.0 10\n",
      "O2_3 78.0 10\n",
      "O2_4 79.0 10\n",
      "O2_5 78.0 10\n",
      "O2_6 76.0 10\n",
      "O2_7 76.0 10\n",
      "NH4_1 1.0 10\n",
      "NH4_2 1.0 10\n",
      "NH4_3 78.0 10\n",
      "NH4_4 79.0 10\n",
      "NH4_5 78.0 10\n",
      "NH4_6 75.0 10\n",
      "NH4_7 75.0 10\n",
      "NO2_1 2.0 10\n",
      "NO2_2 2.0 10\n",
      "NO2_3 78.0 10\n",
      "NO2_4 79.0 10\n",
      "NO2_5 78.0 10\n",
      "NO2_6 77.0 10\n",
      "NO2_7 76.0 10\n",
      "NO3_1 4.0 10\n",
      "NO3_2 3.0 10\n",
      "NO3_3 79.0 10\n",
      "NO3_4 79.0 10\n",
      "NO3_5 78.0 10\n",
      "NO3_6 75.0 10\n",
      "NO3_7 76.0 10\n",
      "BOD5_1 1.0 10\n",
      "BOD5_2 1.0 10\n",
      "BOD5_3 78.0 10\n",
      "BOD5_4 79.0 10\n",
      "BOD5_5 78.0 10\n",
      "BOD5_6 75.0 10\n",
      "BOD5_7 75.0 10\n"
     ]
    },
    {
     "name": "stderr",
     "output_type": "stream",
     "text": [
      "/tmp/ipykernel_21/1534147030.py:5: FutureWarning: The frame.append method is deprecated and will be removed from pandas in a future version. Use pandas.concat instead.\n",
      "  train_set = train_set.append(pd.DataFrame(np.ones((size, len(columns))), columns=columns), ignore_index=True)\n"
     ]
    }
   ],
   "source": [
    "train_set = recreating_training_set(10)\n",
    "train_set"
   ]
  },
  {
   "cell_type": "code",
   "execution_count": null,
   "id": "45bf0d9d",
   "metadata": {
    "papermill": {
     "duration": 0.006516,
     "end_time": "2023-08-27T16:10:59.178517",
     "exception": false,
     "start_time": "2023-08-27T16:10:59.172001",
     "status": "completed"
    },
    "tags": []
   },
   "outputs": [],
   "source": []
  }
 ],
 "metadata": {
  "kernelspec": {
   "display_name": "Python 3",
   "language": "python",
   "name": "python3"
  },
  "language_info": {
   "codemirror_mode": {
    "name": "ipython",
    "version": 3
   },
   "file_extension": ".py",
   "mimetype": "text/x-python",
   "name": "python",
   "nbconvert_exporter": "python",
   "pygments_lexer": "ipython3",
   "version": "3.10.12"
  },
  "papermill": {
   "default_parameters": {},
   "duration": 10.572368,
   "end_time": "2023-08-27T16:11:00.007392",
   "environment_variables": {},
   "exception": null,
   "input_path": "__notebook__.ipynb",
   "output_path": "__notebook__.ipynb",
   "parameters": {},
   "start_time": "2023-08-27T16:10:49.435024",
   "version": "2.4.0"
  }
 },
 "nbformat": 4,
 "nbformat_minor": 5
}
