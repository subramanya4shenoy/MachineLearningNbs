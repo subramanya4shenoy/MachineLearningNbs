{
 "cells": [
  {
   "cell_type": "code",
   "execution_count": 1,
   "id": "ede08897",
   "metadata": {
    "_cell_guid": "b1076dfc-b9ad-4769-8c92-a6c4dae69d19",
    "_kg_hide-input": false,
    "_kg_hide-output": false,
    "_uuid": "8f2839f25d086af736a60e9eeb907d3b93b6e0e5",
    "execution": {
     "iopub.execute_input": "2023-08-30T17:38:29.853051Z",
     "iopub.status.busy": "2023-08-30T17:38:29.852637Z",
     "iopub.status.idle": "2023-08-30T17:38:29.876550Z",
     "shell.execute_reply": "2023-08-30T17:38:29.875512Z"
    },
    "papermill": {
     "duration": 0.041374,
     "end_time": "2023-08-30T17:38:29.879126",
     "exception": false,
     "start_time": "2023-08-30T17:38:29.837752",
     "status": "completed"
    },
    "tags": []
   },
   "outputs": [
    {
     "name": "stdout",
     "output_type": "stream",
     "text": [
      "/kaggle/input/playground-series-s3e21/sample_submission.csv\n",
      "/kaggle/input/dissolved-oxygen-prediction-in-river-water/train.csv\n",
      "/kaggle/input/dissolved-oxygen-prediction-in-river-water/test.csv\n"
     ]
    }
   ],
   "source": [
    "# This Python 3 environment comes with many helpful analytics libraries installed\n",
    "# It is defined by the kaggle/python Docker image: https://github.com/kaggle/docker-python\n",
    "# For example, here's several helpful packages to load\n",
    "\n",
    "import numpy as np # linear algebra\n",
    "import pandas as pd # data processing, CSV file I/O (e.g. pd.read_csv)\n",
    "\n",
    "# Input data files are available in the read-only \"../input/\" directory\n",
    "# For example, running this (by clicking run or pressing Shift+Enter) will list all files under the input directory\n",
    "\n",
    "import os\n",
    "for dirname, _, filenames in os.walk('/kaggle/input'):\n",
    "    for filename in filenames:\n",
    "        print(os.path.join(dirname, filename))\n",
    "\n",
    "# You can write up to 20GB to the current directory (/kaggle/working/) that gets preserved as output when you create a version using \"Save & Run All\" \n",
    "# You can also write temporary files to /kaggle/temp/, but they won't be saved outside of the current session"
   ]
  },
  {
   "cell_type": "markdown",
   "id": "e1d70697",
   "metadata": {
    "papermill": {
     "duration": 0.012209,
     "end_time": "2023-08-30T17:38:29.904488",
     "exception": false,
     "start_time": "2023-08-30T17:38:29.892279",
     "status": "completed"
    },
    "tags": []
   },
   "source": [
    "# 😵‍💫 Improve a Fixed Model the Data-Centric Way! 😵‍💫¶ (Second Attempt)\n",
    "Playground Series - Season 3, Episode 21\n",
    "\n",
    "This is a very different type of challenge! For this challenge, your task is to improve a dataset that is being used to train a random forest model; in other words, your submission will be training data, not predictions. A random forest model will be trained on your submission, used to make predictions, and then those predictions will be used to generate your score.\n",
    "\n",
    "The dataset for this competition is a synthetic dataset based off of the Dissolved oxygen prediction in river water dataset. You are free to use the original in any way that you find useful."
   ]
  },
  {
   "cell_type": "markdown",
   "id": "7f340495",
   "metadata": {
    "papermill": {
     "duration": 0.012948,
     "end_time": "2023-08-30T17:38:29.929962",
     "exception": false,
     "start_time": "2023-08-30T17:38:29.917014",
     "status": "completed"
    },
    "tags": []
   },
   "source": [
    "## 🔶 Look at the big Picture"
   ]
  },
  {
   "cell_type": "markdown",
   "id": "3a55b06c",
   "metadata": {
    "papermill": {
     "duration": 0.012215,
     "end_time": "2023-08-30T17:38:29.955349",
     "exception": false,
     "start_time": "2023-08-30T17:38:29.943134",
     "status": "completed"
    },
    "tags": []
   },
   "source": [
    "### 🔸 **Frame the problem**\n",
    "*   🟢 **Goal:** Is to fill the columns in the dataFrame such a way that the dataframe fed to the given model gives close to 0 RMSE. 🗒\n",
    "*   🟢 **End Result:** multiple Columns to be predicted, changed such a way that models predict well 🗒\n",
    "*   🟢 **Problem Type:** not exactly a regression. model has been already provided,\n",
    "*   🟢 **Learning Type:** Supervised Learning\n",
    "*   🟢 **Variate:** MultiVariate (need to predict multiple target with 1 label)\n",
    "*   🟢 **Features:** single features"
   ]
  },
  {
   "cell_type": "markdown",
   "id": "264572fd",
   "metadata": {
    "papermill": {
     "duration": 0.01202,
     "end_time": "2023-08-30T17:38:29.979860",
     "exception": false,
     "start_time": "2023-08-30T17:38:29.967840",
     "status": "completed"
    },
    "tags": []
   },
   "source": [
    "### 🔸 **Select performance measure**:\n",
    "🟢 using RMSE 🗒.  This was given in the problem set."
   ]
  },
  {
   "cell_type": "markdown",
   "id": "abd17c49",
   "metadata": {
    "papermill": {
     "duration": 0.012103,
     "end_time": "2023-08-30T17:38:30.004355",
     "exception": false,
     "start_time": "2023-08-30T17:38:29.992252",
     "status": "completed"
    },
    "tags": []
   },
   "source": [
    "### 🔸 **Assumptions**: `none`\n",
    "\n",
    "---"
   ]
  },
  {
   "cell_type": "markdown",
   "id": "c513c85c",
   "metadata": {
    "papermill": {
     "duration": 0.012353,
     "end_time": "2023-08-30T17:38:30.029673",
     "exception": false,
     "start_time": "2023-08-30T17:38:30.017320",
     "status": "completed"
    },
    "tags": []
   },
   "source": [
    "## 🔶**Get the Data**\n",
    "\n",
    "* 🟢 Add the sample_submission (as there are no train and test set in this problem) from the compition data\n",
    "* 🟢 Read the sample_submission csv into a dataframe"
   ]
  },
  {
   "cell_type": "code",
   "execution_count": 2,
   "id": "16919d4b",
   "metadata": {
    "execution": {
     "iopub.execute_input": "2023-08-30T17:38:30.056470Z",
     "iopub.status.busy": "2023-08-30T17:38:30.055850Z",
     "iopub.status.idle": "2023-08-30T17:38:30.092014Z",
     "shell.execute_reply": "2023-08-30T17:38:30.090698Z"
    },
    "papermill": {
     "duration": 0.052877,
     "end_time": "2023-08-30T17:38:30.094940",
     "exception": false,
     "start_time": "2023-08-30T17:38:30.042063",
     "status": "completed"
    },
    "tags": []
   },
   "outputs": [],
   "source": [
    "#taking original training data from original data source\n",
    "\n",
    "og_train_set = pd.read_csv('/kaggle/input/dissolved-oxygen-prediction-in-river-water/train.csv', index_col='Id')\n"
   ]
  },
  {
   "cell_type": "markdown",
   "id": "06dd4130",
   "metadata": {
    "papermill": {
     "duration": 0.012214,
     "end_time": "2023-08-30T17:38:30.119972",
     "exception": false,
     "start_time": "2023-08-30T17:38:30.107758",
     "status": "completed"
    },
    "tags": []
   },
   "source": [
    "#### 🔸 **Take Quick look**\n",
    "* 🟢 .head() to see the index columns and quick look at the data \n",
    "* 🟢 .shape to see the size of training set\n",
    "* 🟢 .info() to see the data types and missing values \n",
    "* 🟢 .value_counts() on categorical data to check if all the categories are equaly represented and to check the weightages.\n",
    "* 🟢 .describe() to check mean and std deviation, min, max this gives a hint of how data is distributed and what is the max values, min values and is there any scaled data or not.\n",
    "\n",
    "🚨 **Note:** Specially for this problem we are looking at the submision set so that we can have a clone of this dataframe structure and fill the data "
   ]
  },
  {
   "cell_type": "code",
   "execution_count": 3,
   "id": "c4a24c49",
   "metadata": {
    "execution": {
     "iopub.execute_input": "2023-08-30T17:38:30.148878Z",
     "iopub.status.busy": "2023-08-30T17:38:30.148199Z",
     "iopub.status.idle": "2023-08-30T17:38:30.184847Z",
     "shell.execute_reply": "2023-08-30T17:38:30.183496Z"
    },
    "papermill": {
     "duration": 0.05473,
     "end_time": "2023-08-30T17:38:30.187420",
     "exception": false,
     "start_time": "2023-08-30T17:38:30.132690",
     "status": "completed"
    },
    "tags": []
   },
   "outputs": [
    {
     "data": {
      "text/html": [
       "<div>\n",
       "<style scoped>\n",
       "    .dataframe tbody tr th:only-of-type {\n",
       "        vertical-align: middle;\n",
       "    }\n",
       "\n",
       "    .dataframe tbody tr th {\n",
       "        vertical-align: top;\n",
       "    }\n",
       "\n",
       "    .dataframe thead th {\n",
       "        text-align: right;\n",
       "    }\n",
       "</style>\n",
       "<table border=\"1\" class=\"dataframe\">\n",
       "  <thead>\n",
       "    <tr style=\"text-align: right;\">\n",
       "      <th></th>\n",
       "      <th>target</th>\n",
       "      <th>O2_1</th>\n",
       "      <th>O2_2</th>\n",
       "      <th>O2_3</th>\n",
       "      <th>O2_4</th>\n",
       "      <th>O2_5</th>\n",
       "      <th>O2_6</th>\n",
       "      <th>O2_7</th>\n",
       "      <th>NH4_1</th>\n",
       "      <th>NH4_2</th>\n",
       "      <th>...</th>\n",
       "      <th>NO3_5</th>\n",
       "      <th>NO3_6</th>\n",
       "      <th>NO3_7</th>\n",
       "      <th>BOD5_1</th>\n",
       "      <th>BOD5_2</th>\n",
       "      <th>BOD5_3</th>\n",
       "      <th>BOD5_4</th>\n",
       "      <th>BOD5_5</th>\n",
       "      <th>BOD5_6</th>\n",
       "      <th>BOD5_7</th>\n",
       "    </tr>\n",
       "    <tr>\n",
       "      <th>Id</th>\n",
       "      <th></th>\n",
       "      <th></th>\n",
       "      <th></th>\n",
       "      <th></th>\n",
       "      <th></th>\n",
       "      <th></th>\n",
       "      <th></th>\n",
       "      <th></th>\n",
       "      <th></th>\n",
       "      <th></th>\n",
       "      <th></th>\n",
       "      <th></th>\n",
       "      <th></th>\n",
       "      <th></th>\n",
       "      <th></th>\n",
       "      <th></th>\n",
       "      <th></th>\n",
       "      <th></th>\n",
       "      <th></th>\n",
       "      <th></th>\n",
       "      <th></th>\n",
       "    </tr>\n",
       "  </thead>\n",
       "  <tbody>\n",
       "    <tr>\n",
       "      <th>0</th>\n",
       "      <td>12.58</td>\n",
       "      <td>9.875</td>\n",
       "      <td>9.20</td>\n",
       "      <td>NaN</td>\n",
       "      <td>NaN</td>\n",
       "      <td>NaN</td>\n",
       "      <td>NaN</td>\n",
       "      <td>NaN</td>\n",
       "      <td>0.690</td>\n",
       "      <td>1.040</td>\n",
       "      <td>...</td>\n",
       "      <td>NaN</td>\n",
       "      <td>NaN</td>\n",
       "      <td>NaN</td>\n",
       "      <td>4.80</td>\n",
       "      <td>5.850</td>\n",
       "      <td>NaN</td>\n",
       "      <td>NaN</td>\n",
       "      <td>NaN</td>\n",
       "      <td>NaN</td>\n",
       "      <td>NaN</td>\n",
       "    </tr>\n",
       "    <tr>\n",
       "      <th>3</th>\n",
       "      <td>9.37</td>\n",
       "      <td>10.300</td>\n",
       "      <td>10.75</td>\n",
       "      <td>NaN</td>\n",
       "      <td>NaN</td>\n",
       "      <td>NaN</td>\n",
       "      <td>NaN</td>\n",
       "      <td>NaN</td>\n",
       "      <td>0.710</td>\n",
       "      <td>0.725</td>\n",
       "      <td>...</td>\n",
       "      <td>NaN</td>\n",
       "      <td>NaN</td>\n",
       "      <td>NaN</td>\n",
       "      <td>5.88</td>\n",
       "      <td>6.835</td>\n",
       "      <td>NaN</td>\n",
       "      <td>NaN</td>\n",
       "      <td>NaN</td>\n",
       "      <td>NaN</td>\n",
       "      <td>NaN</td>\n",
       "    </tr>\n",
       "    <tr>\n",
       "      <th>4</th>\n",
       "      <td>8.35</td>\n",
       "      <td>8.290</td>\n",
       "      <td>7.90</td>\n",
       "      <td>NaN</td>\n",
       "      <td>NaN</td>\n",
       "      <td>NaN</td>\n",
       "      <td>NaN</td>\n",
       "      <td>NaN</td>\n",
       "      <td>2.210</td>\n",
       "      <td>2.210</td>\n",
       "      <td>...</td>\n",
       "      <td>NaN</td>\n",
       "      <td>NaN</td>\n",
       "      <td>NaN</td>\n",
       "      <td>3.20</td>\n",
       "      <td>2.700</td>\n",
       "      <td>NaN</td>\n",
       "      <td>NaN</td>\n",
       "      <td>NaN</td>\n",
       "      <td>NaN</td>\n",
       "      <td>NaN</td>\n",
       "    </tr>\n",
       "    <tr>\n",
       "      <th>5</th>\n",
       "      <td>9.57</td>\n",
       "      <td>8.820</td>\n",
       "      <td>6.80</td>\n",
       "      <td>NaN</td>\n",
       "      <td>NaN</td>\n",
       "      <td>NaN</td>\n",
       "      <td>NaN</td>\n",
       "      <td>NaN</td>\n",
       "      <td>0.595</td>\n",
       "      <td>0.675</td>\n",
       "      <td>...</td>\n",
       "      <td>NaN</td>\n",
       "      <td>NaN</td>\n",
       "      <td>NaN</td>\n",
       "      <td>7.70</td>\n",
       "      <td>7.055</td>\n",
       "      <td>NaN</td>\n",
       "      <td>NaN</td>\n",
       "      <td>NaN</td>\n",
       "      <td>NaN</td>\n",
       "      <td>NaN</td>\n",
       "    </tr>\n",
       "    <tr>\n",
       "      <th>6</th>\n",
       "      <td>6.00</td>\n",
       "      <td>6.000</td>\n",
       "      <td>6.50</td>\n",
       "      <td>NaN</td>\n",
       "      <td>NaN</td>\n",
       "      <td>NaN</td>\n",
       "      <td>NaN</td>\n",
       "      <td>NaN</td>\n",
       "      <td>0.600</td>\n",
       "      <td>0.900</td>\n",
       "      <td>...</td>\n",
       "      <td>NaN</td>\n",
       "      <td>NaN</td>\n",
       "      <td>NaN</td>\n",
       "      <td>5.50</td>\n",
       "      <td>5.300</td>\n",
       "      <td>NaN</td>\n",
       "      <td>NaN</td>\n",
       "      <td>NaN</td>\n",
       "      <td>NaN</td>\n",
       "      <td>NaN</td>\n",
       "    </tr>\n",
       "  </tbody>\n",
       "</table>\n",
       "<p>5 rows × 36 columns</p>\n",
       "</div>"
      ],
      "text/plain": [
       "    target    O2_1   O2_2  O2_3  O2_4  O2_5  O2_6  O2_7  NH4_1  NH4_2  ...  \\\n",
       "Id                                                                     ...   \n",
       "0    12.58   9.875   9.20   NaN   NaN   NaN   NaN   NaN  0.690  1.040  ...   \n",
       "3     9.37  10.300  10.75   NaN   NaN   NaN   NaN   NaN  0.710  0.725  ...   \n",
       "4     8.35   8.290   7.90   NaN   NaN   NaN   NaN   NaN  2.210  2.210  ...   \n",
       "5     9.57   8.820   6.80   NaN   NaN   NaN   NaN   NaN  0.595  0.675  ...   \n",
       "6     6.00   6.000   6.50   NaN   NaN   NaN   NaN   NaN  0.600  0.900  ...   \n",
       "\n",
       "    NO3_5  NO3_6  NO3_7  BOD5_1  BOD5_2  BOD5_3  BOD5_4  BOD5_5  BOD5_6  \\\n",
       "Id                                                                        \n",
       "0     NaN    NaN    NaN    4.80   5.850     NaN     NaN     NaN     NaN   \n",
       "3     NaN    NaN    NaN    5.88   6.835     NaN     NaN     NaN     NaN   \n",
       "4     NaN    NaN    NaN    3.20   2.700     NaN     NaN     NaN     NaN   \n",
       "5     NaN    NaN    NaN    7.70   7.055     NaN     NaN     NaN     NaN   \n",
       "6     NaN    NaN    NaN    5.50   5.300     NaN     NaN     NaN     NaN   \n",
       "\n",
       "    BOD5_7  \n",
       "Id          \n",
       "0      NaN  \n",
       "3      NaN  \n",
       "4      NaN  \n",
       "5      NaN  \n",
       "6      NaN  \n",
       "\n",
       "[5 rows x 36 columns]"
      ]
     },
     "execution_count": 3,
     "metadata": {},
     "output_type": "execute_result"
    }
   ],
   "source": [
    "og_train_set.head()"
   ]
  },
  {
   "cell_type": "code",
   "execution_count": 4,
   "id": "57ef27e1",
   "metadata": {
    "execution": {
     "iopub.execute_input": "2023-08-30T17:38:30.215080Z",
     "iopub.status.busy": "2023-08-30T17:38:30.214695Z",
     "iopub.status.idle": "2023-08-30T17:38:30.221457Z",
     "shell.execute_reply": "2023-08-30T17:38:30.220336Z"
    },
    "papermill": {
     "duration": 0.023521,
     "end_time": "2023-08-30T17:38:30.223987",
     "exception": false,
     "start_time": "2023-08-30T17:38:30.200466",
     "status": "completed"
    },
    "tags": []
   },
   "outputs": [
    {
     "data": {
      "text/plain": [
       "(147, 36)"
      ]
     },
     "execution_count": 4,
     "metadata": {},
     "output_type": "execute_result"
    }
   ],
   "source": [
    "og_train_set.shape"
   ]
  },
  {
   "cell_type": "code",
   "execution_count": 5,
   "id": "78a8dae2",
   "metadata": {
    "execution": {
     "iopub.execute_input": "2023-08-30T17:38:30.252821Z",
     "iopub.status.busy": "2023-08-30T17:38:30.252429Z",
     "iopub.status.idle": "2023-08-30T17:38:30.372343Z",
     "shell.execute_reply": "2023-08-30T17:38:30.371123Z"
    },
    "papermill": {
     "duration": 0.137503,
     "end_time": "2023-08-30T17:38:30.374905",
     "exception": false,
     "start_time": "2023-08-30T17:38:30.237402",
     "status": "completed"
    },
    "tags": []
   },
   "outputs": [
    {
     "data": {
      "text/html": [
       "<div>\n",
       "<style scoped>\n",
       "    .dataframe tbody tr th:only-of-type {\n",
       "        vertical-align: middle;\n",
       "    }\n",
       "\n",
       "    .dataframe tbody tr th {\n",
       "        vertical-align: top;\n",
       "    }\n",
       "\n",
       "    .dataframe thead th {\n",
       "        text-align: right;\n",
       "    }\n",
       "</style>\n",
       "<table border=\"1\" class=\"dataframe\">\n",
       "  <thead>\n",
       "    <tr style=\"text-align: right;\">\n",
       "      <th></th>\n",
       "      <th>target</th>\n",
       "      <th>O2_1</th>\n",
       "      <th>O2_2</th>\n",
       "      <th>O2_3</th>\n",
       "      <th>O2_4</th>\n",
       "      <th>O2_5</th>\n",
       "      <th>O2_6</th>\n",
       "      <th>O2_7</th>\n",
       "      <th>NH4_1</th>\n",
       "      <th>NH4_2</th>\n",
       "      <th>...</th>\n",
       "      <th>NO3_5</th>\n",
       "      <th>NO3_6</th>\n",
       "      <th>NO3_7</th>\n",
       "      <th>BOD5_1</th>\n",
       "      <th>BOD5_2</th>\n",
       "      <th>BOD5_3</th>\n",
       "      <th>BOD5_4</th>\n",
       "      <th>BOD5_5</th>\n",
       "      <th>BOD5_6</th>\n",
       "      <th>BOD5_7</th>\n",
       "    </tr>\n",
       "  </thead>\n",
       "  <tbody>\n",
       "    <tr>\n",
       "      <th>count</th>\n",
       "      <td>147.000000</td>\n",
       "      <td>145.000000</td>\n",
       "      <td>145.000000</td>\n",
       "      <td>32.000000</td>\n",
       "      <td>31.000000</td>\n",
       "      <td>33.000000</td>\n",
       "      <td>37.000000</td>\n",
       "      <td>37.000000</td>\n",
       "      <td>145.000000</td>\n",
       "      <td>145.000000</td>\n",
       "      <td>...</td>\n",
       "      <td>33.000000</td>\n",
       "      <td>37.000000</td>\n",
       "      <td>37.000000</td>\n",
       "      <td>145.000000</td>\n",
       "      <td>145.000000</td>\n",
       "      <td>32.000000</td>\n",
       "      <td>31.000000</td>\n",
       "      <td>33.000000</td>\n",
       "      <td>37.000000</td>\n",
       "      <td>37.000000</td>\n",
       "    </tr>\n",
       "    <tr>\n",
       "      <th>mean</th>\n",
       "      <td>9.211497</td>\n",
       "      <td>9.168506</td>\n",
       "      <td>9.148126</td>\n",
       "      <td>10.002813</td>\n",
       "      <td>8.483226</td>\n",
       "      <td>6.095152</td>\n",
       "      <td>9.396892</td>\n",
       "      <td>7.598243</td>\n",
       "      <td>0.588168</td>\n",
       "      <td>0.660910</td>\n",
       "      <td>...</td>\n",
       "      <td>6.982515</td>\n",
       "      <td>3.373689</td>\n",
       "      <td>3.200135</td>\n",
       "      <td>4.972724</td>\n",
       "      <td>4.906379</td>\n",
       "      <td>4.665312</td>\n",
       "      <td>5.871935</td>\n",
       "      <td>8.678788</td>\n",
       "      <td>3.884054</td>\n",
       "      <td>3.957703</td>\n",
       "    </tr>\n",
       "    <tr>\n",
       "      <th>std</th>\n",
       "      <td>2.886614</td>\n",
       "      <td>4.188197</td>\n",
       "      <td>3.746898</td>\n",
       "      <td>2.667096</td>\n",
       "      <td>2.527239</td>\n",
       "      <td>3.279915</td>\n",
       "      <td>2.848153</td>\n",
       "      <td>3.409060</td>\n",
       "      <td>0.462262</td>\n",
       "      <td>0.591798</td>\n",
       "      <td>...</td>\n",
       "      <td>4.466642</td>\n",
       "      <td>2.823756</td>\n",
       "      <td>2.868225</td>\n",
       "      <td>2.044057</td>\n",
       "      <td>2.001381</td>\n",
       "      <td>2.057903</td>\n",
       "      <td>2.555560</td>\n",
       "      <td>5.299039</td>\n",
       "      <td>1.615542</td>\n",
       "      <td>1.916813</td>\n",
       "    </tr>\n",
       "    <tr>\n",
       "      <th>min</th>\n",
       "      <td>1.900000</td>\n",
       "      <td>2.200000</td>\n",
       "      <td>2.200000</td>\n",
       "      <td>4.660000</td>\n",
       "      <td>4.900000</td>\n",
       "      <td>0.000000</td>\n",
       "      <td>0.000000</td>\n",
       "      <td>0.000000</td>\n",
       "      <td>0.040000</td>\n",
       "      <td>0.020000</td>\n",
       "      <td>...</td>\n",
       "      <td>0.670000</td>\n",
       "      <td>0.100000</td>\n",
       "      <td>0.000000</td>\n",
       "      <td>0.900000</td>\n",
       "      <td>1.040000</td>\n",
       "      <td>2.040000</td>\n",
       "      <td>2.480000</td>\n",
       "      <td>2.880000</td>\n",
       "      <td>1.000000</td>\n",
       "      <td>1.600000</td>\n",
       "    </tr>\n",
       "    <tr>\n",
       "      <th>25%</th>\n",
       "      <td>7.375000</td>\n",
       "      <td>7.050000</td>\n",
       "      <td>7.200000</td>\n",
       "      <td>8.100000</td>\n",
       "      <td>6.865000</td>\n",
       "      <td>3.290000</td>\n",
       "      <td>8.800000</td>\n",
       "      <td>6.170000</td>\n",
       "      <td>0.230000</td>\n",
       "      <td>0.215000</td>\n",
       "      <td>...</td>\n",
       "      <td>4.100000</td>\n",
       "      <td>1.440000</td>\n",
       "      <td>1.610000</td>\n",
       "      <td>3.500000</td>\n",
       "      <td>3.400000</td>\n",
       "      <td>3.325000</td>\n",
       "      <td>4.445000</td>\n",
       "      <td>5.840000</td>\n",
       "      <td>2.900000</td>\n",
       "      <td>2.900000</td>\n",
       "    </tr>\n",
       "    <tr>\n",
       "      <th>50%</th>\n",
       "      <td>8.800000</td>\n",
       "      <td>8.700000</td>\n",
       "      <td>8.566667</td>\n",
       "      <td>9.522500</td>\n",
       "      <td>7.800000</td>\n",
       "      <td>5.800000</td>\n",
       "      <td>9.805000</td>\n",
       "      <td>7.150000</td>\n",
       "      <td>0.425000</td>\n",
       "      <td>0.440000</td>\n",
       "      <td>...</td>\n",
       "      <td>6.050000</td>\n",
       "      <td>2.650000</td>\n",
       "      <td>1.900000</td>\n",
       "      <td>4.800000</td>\n",
       "      <td>4.833333</td>\n",
       "      <td>4.150000</td>\n",
       "      <td>5.500000</td>\n",
       "      <td>7.300000</td>\n",
       "      <td>3.400000</td>\n",
       "      <td>3.500000</td>\n",
       "    </tr>\n",
       "    <tr>\n",
       "      <th>75%</th>\n",
       "      <td>10.850000</td>\n",
       "      <td>10.600000</td>\n",
       "      <td>10.500000</td>\n",
       "      <td>11.611250</td>\n",
       "      <td>9.232500</td>\n",
       "      <td>9.500000</td>\n",
       "      <td>10.440000</td>\n",
       "      <td>8.700000</td>\n",
       "      <td>0.800000</td>\n",
       "      <td>0.910000</td>\n",
       "      <td>...</td>\n",
       "      <td>8.550000</td>\n",
       "      <td>4.320000</td>\n",
       "      <td>3.800000</td>\n",
       "      <td>6.450000</td>\n",
       "      <td>6.200000</td>\n",
       "      <td>5.970000</td>\n",
       "      <td>6.400000</td>\n",
       "      <td>8.415000</td>\n",
       "      <td>4.800000</td>\n",
       "      <td>4.400000</td>\n",
       "    </tr>\n",
       "    <tr>\n",
       "      <th>max</th>\n",
       "      <td>19.100000</td>\n",
       "      <td>46.950000</td>\n",
       "      <td>40.900000</td>\n",
       "      <td>15.900000</td>\n",
       "      <td>15.400000</td>\n",
       "      <td>11.800000</td>\n",
       "      <td>13.700000</td>\n",
       "      <td>15.900000</td>\n",
       "      <td>2.400000</td>\n",
       "      <td>3.600000</td>\n",
       "      <td>...</td>\n",
       "      <td>20.050000</td>\n",
       "      <td>10.200000</td>\n",
       "      <td>13.300000</td>\n",
       "      <td>10.900000</td>\n",
       "      <td>11.000000</td>\n",
       "      <td>10.665000</td>\n",
       "      <td>14.790000</td>\n",
       "      <td>27.120000</td>\n",
       "      <td>8.540000</td>\n",
       "      <td>10.370000</td>\n",
       "    </tr>\n",
       "  </tbody>\n",
       "</table>\n",
       "<p>8 rows × 36 columns</p>\n",
       "</div>"
      ],
      "text/plain": [
       "           target        O2_1        O2_2       O2_3       O2_4       O2_5  \\\n",
       "count  147.000000  145.000000  145.000000  32.000000  31.000000  33.000000   \n",
       "mean     9.211497    9.168506    9.148126  10.002813   8.483226   6.095152   \n",
       "std      2.886614    4.188197    3.746898   2.667096   2.527239   3.279915   \n",
       "min      1.900000    2.200000    2.200000   4.660000   4.900000   0.000000   \n",
       "25%      7.375000    7.050000    7.200000   8.100000   6.865000   3.290000   \n",
       "50%      8.800000    8.700000    8.566667   9.522500   7.800000   5.800000   \n",
       "75%     10.850000   10.600000   10.500000  11.611250   9.232500   9.500000   \n",
       "max     19.100000   46.950000   40.900000  15.900000  15.400000  11.800000   \n",
       "\n",
       "            O2_6       O2_7       NH4_1       NH4_2  ...      NO3_5  \\\n",
       "count  37.000000  37.000000  145.000000  145.000000  ...  33.000000   \n",
       "mean    9.396892   7.598243    0.588168    0.660910  ...   6.982515   \n",
       "std     2.848153   3.409060    0.462262    0.591798  ...   4.466642   \n",
       "min     0.000000   0.000000    0.040000    0.020000  ...   0.670000   \n",
       "25%     8.800000   6.170000    0.230000    0.215000  ...   4.100000   \n",
       "50%     9.805000   7.150000    0.425000    0.440000  ...   6.050000   \n",
       "75%    10.440000   8.700000    0.800000    0.910000  ...   8.550000   \n",
       "max    13.700000  15.900000    2.400000    3.600000  ...  20.050000   \n",
       "\n",
       "           NO3_6      NO3_7      BOD5_1      BOD5_2     BOD5_3     BOD5_4  \\\n",
       "count  37.000000  37.000000  145.000000  145.000000  32.000000  31.000000   \n",
       "mean    3.373689   3.200135    4.972724    4.906379   4.665312   5.871935   \n",
       "std     2.823756   2.868225    2.044057    2.001381   2.057903   2.555560   \n",
       "min     0.100000   0.000000    0.900000    1.040000   2.040000   2.480000   \n",
       "25%     1.440000   1.610000    3.500000    3.400000   3.325000   4.445000   \n",
       "50%     2.650000   1.900000    4.800000    4.833333   4.150000   5.500000   \n",
       "75%     4.320000   3.800000    6.450000    6.200000   5.970000   6.400000   \n",
       "max    10.200000  13.300000   10.900000   11.000000  10.665000  14.790000   \n",
       "\n",
       "          BOD5_5     BOD5_6     BOD5_7  \n",
       "count  33.000000  37.000000  37.000000  \n",
       "mean    8.678788   3.884054   3.957703  \n",
       "std     5.299039   1.615542   1.916813  \n",
       "min     2.880000   1.000000   1.600000  \n",
       "25%     5.840000   2.900000   2.900000  \n",
       "50%     7.300000   3.400000   3.500000  \n",
       "75%     8.415000   4.800000   4.400000  \n",
       "max    27.120000   8.540000  10.370000  \n",
       "\n",
       "[8 rows x 36 columns]"
      ]
     },
     "execution_count": 5,
     "metadata": {},
     "output_type": "execute_result"
    }
   ],
   "source": [
    "og_train_set.describe()"
   ]
  },
  {
   "cell_type": "code",
   "execution_count": 6,
   "id": "9161de84",
   "metadata": {
    "execution": {
     "iopub.execute_input": "2023-08-30T17:38:30.404210Z",
     "iopub.status.busy": "2023-08-30T17:38:30.403830Z",
     "iopub.status.idle": "2023-08-30T17:38:30.424045Z",
     "shell.execute_reply": "2023-08-30T17:38:30.422451Z"
    },
    "papermill": {
     "duration": 0.037941,
     "end_time": "2023-08-30T17:38:30.426739",
     "exception": false,
     "start_time": "2023-08-30T17:38:30.388798",
     "status": "completed"
    },
    "tags": []
   },
   "outputs": [
    {
     "name": "stdout",
     "output_type": "stream",
     "text": [
      "<class 'pandas.core.frame.DataFrame'>\n",
      "Int64Index: 147 entries, 0 to 214\n",
      "Data columns (total 36 columns):\n",
      " #   Column  Non-Null Count  Dtype  \n",
      "---  ------  --------------  -----  \n",
      " 0   target  147 non-null    float64\n",
      " 1   O2_1    145 non-null    float64\n",
      " 2   O2_2    145 non-null    float64\n",
      " 3   O2_3    32 non-null     float64\n",
      " 4   O2_4    31 non-null     float64\n",
      " 5   O2_5    33 non-null     float64\n",
      " 6   O2_6    37 non-null     float64\n",
      " 7   O2_7    37 non-null     float64\n",
      " 8   NH4_1   145 non-null    float64\n",
      " 9   NH4_2   145 non-null    float64\n",
      " 10  NH4_3   32 non-null     float64\n",
      " 11  NH4_4   31 non-null     float64\n",
      " 12  NH4_5   33 non-null     float64\n",
      " 13  NH4_6   37 non-null     float64\n",
      " 14  NH4_7   37 non-null     float64\n",
      " 15  NO2_1   145 non-null    float64\n",
      " 16  NO2_2   145 non-null    float64\n",
      " 17  NO2_3   32 non-null     float64\n",
      " 18  NO2_4   31 non-null     float64\n",
      " 19  NO2_5   33 non-null     float64\n",
      " 20  NO2_6   37 non-null     float64\n",
      " 21  NO2_7   37 non-null     float64\n",
      " 22  NO3_1   145 non-null    float64\n",
      " 23  NO3_2   145 non-null    float64\n",
      " 24  NO3_3   32 non-null     float64\n",
      " 25  NO3_4   31 non-null     float64\n",
      " 26  NO3_5   33 non-null     float64\n",
      " 27  NO3_6   37 non-null     float64\n",
      " 28  NO3_7   37 non-null     float64\n",
      " 29  BOD5_1  145 non-null    float64\n",
      " 30  BOD5_2  145 non-null    float64\n",
      " 31  BOD5_3  32 non-null     float64\n",
      " 32  BOD5_4  31 non-null     float64\n",
      " 33  BOD5_5  33 non-null     float64\n",
      " 34  BOD5_6  37 non-null     float64\n",
      " 35  BOD5_7  37 non-null     float64\n",
      "dtypes: float64(36)\n",
      "memory usage: 42.5 KB\n"
     ]
    }
   ],
   "source": [
    "og_train_set.info()"
   ]
  },
  {
   "cell_type": "code",
   "execution_count": 7,
   "id": "5e89eac0",
   "metadata": {
    "execution": {
     "iopub.execute_input": "2023-08-30T17:38:30.456494Z",
     "iopub.status.busy": "2023-08-30T17:38:30.456042Z",
     "iopub.status.idle": "2023-08-30T17:38:30.554955Z",
     "shell.execute_reply": "2023-08-30T17:38:30.553860Z"
    },
    "papermill": {
     "duration": 0.11651,
     "end_time": "2023-08-30T17:38:30.557315",
     "exception": false,
     "start_time": "2023-08-30T17:38:30.440805",
     "status": "completed"
    },
    "tags": []
   },
   "outputs": [
    {
     "name": "stdout",
     "output_type": "stream",
     "text": [
      "Index(['O2_1', 'O2_2', 'O2_3', 'O2_4', 'O2_5', 'O2_6', 'O2_7', 'NH4_1',\n",
      "       'NH4_2', 'NH4_3', 'NH4_4', 'NH4_5', 'NH4_6', 'NH4_7', 'NO2_1', 'NO2_2',\n",
      "       'NO2_3', 'NO2_4', 'NO2_5', 'NO2_6', 'NO2_7', 'NO3_1', 'NO3_2', 'NO3_3',\n",
      "       'NO3_4', 'NO3_5', 'NO3_6', 'NO3_7', 'BOD5_1', 'BOD5_2', 'BOD5_3',\n",
      "       'BOD5_4', 'BOD5_5', 'BOD5_6', 'BOD5_7'],\n",
      "      dtype='object')\n"
     ]
    }
   ],
   "source": [
    "# collecting required data from the og train set\n",
    "description = og_train_set.describe()\n",
    "columns = og_train_set.columns\n",
    "columns = columns.drop(\"target\")\n",
    "print(columns)"
   ]
  },
  {
   "cell_type": "code",
   "execution_count": 8,
   "id": "9082342f",
   "metadata": {
    "execution": {
     "iopub.execute_input": "2023-08-30T17:38:30.586737Z",
     "iopub.status.busy": "2023-08-30T17:38:30.586304Z",
     "iopub.status.idle": "2023-08-30T17:38:30.591712Z",
     "shell.execute_reply": "2023-08-30T17:38:30.590512Z"
    },
    "papermill": {
     "duration": 0.023018,
     "end_time": "2023-08-30T17:38:30.594075",
     "exception": false,
     "start_time": "2023-08-30T17:38:30.571057",
     "status": "completed"
    },
    "tags": []
   },
   "outputs": [],
   "source": [
    "# from the og data set we are checking what percentage of 0' or missing data are there in each column\n",
    "def fill_missing_data_perc(df):\n",
    "    df = df.fillna(0)\n",
    "    return df"
   ]
  },
  {
   "cell_type": "code",
   "execution_count": 9,
   "id": "217f7eb0",
   "metadata": {
    "execution": {
     "iopub.execute_input": "2023-08-30T17:38:30.623410Z",
     "iopub.status.busy": "2023-08-30T17:38:30.622999Z",
     "iopub.status.idle": "2023-08-30T17:38:30.642886Z",
     "shell.execute_reply": "2023-08-30T17:38:30.642067Z"
    },
    "papermill": {
     "duration": 0.036883,
     "end_time": "2023-08-30T17:38:30.644865",
     "exception": false,
     "start_time": "2023-08-30T17:38:30.607982",
     "status": "completed"
    },
    "tags": []
   },
   "outputs": [
    {
     "data": {
      "text/plain": [
       "array([{'col': 'O2_1', 'perc': 1.0}, {'col': 'O2_2', 'perc': 1.0},\n",
       "       {'col': 'O2_3', 'perc': 78.0}, {'col': 'O2_4', 'perc': 79.0},\n",
       "       {'col': 'O2_5', 'perc': 78.0}, {'col': 'O2_6', 'perc': 76.0},\n",
       "       {'col': 'O2_7', 'perc': 76.0}, {'col': 'NH4_1', 'perc': 1.0},\n",
       "       {'col': 'NH4_2', 'perc': 1.0}, {'col': 'NH4_3', 'perc': 78.0},\n",
       "       {'col': 'NH4_4', 'perc': 79.0}, {'col': 'NH4_5', 'perc': 78.0},\n",
       "       {'col': 'NH4_6', 'perc': 75.0}, {'col': 'NH4_7', 'perc': 75.0},\n",
       "       {'col': 'NO2_1', 'perc': 2.0}, {'col': 'NO2_2', 'perc': 2.0},\n",
       "       {'col': 'NO2_3', 'perc': 78.0}, {'col': 'NO2_4', 'perc': 79.0},\n",
       "       {'col': 'NO2_5', 'perc': 78.0}, {'col': 'NO2_6', 'perc': 77.0},\n",
       "       {'col': 'NO2_7', 'perc': 76.0}, {'col': 'NO3_1', 'perc': 4.0},\n",
       "       {'col': 'NO3_2', 'perc': 3.0}, {'col': 'NO3_3', 'perc': 79.0},\n",
       "       {'col': 'NO3_4', 'perc': 79.0}, {'col': 'NO3_5', 'perc': 78.0},\n",
       "       {'col': 'NO3_6', 'perc': 75.0}, {'col': 'NO3_7', 'perc': 76.0},\n",
       "       {'col': 'BOD5_1', 'perc': 1.0}, {'col': 'BOD5_2', 'perc': 1.0},\n",
       "       {'col': 'BOD5_3', 'perc': 78.0}, {'col': 'BOD5_4', 'perc': 79.0},\n",
       "       {'col': 'BOD5_5', 'perc': 78.0}, {'col': 'BOD5_6', 'perc': 75.0},\n",
       "       {'col': 'BOD5_7', 'perc': 75.0}], dtype=object)"
      ]
     },
     "execution_count": 9,
     "metadata": {},
     "output_type": "execute_result"
    }
   ],
   "source": [
    "# counting the persentage of 0's in each column\n",
    "def get_perc_of_0_value():\n",
    "    temp_df = fill_missing_data_perc(og_train_set)\n",
    "    perc_0 = np.array([])\n",
    "    for column in columns:\n",
    "        perc = (((temp_df[column]==0).sum()/len(og_train_set[column])) * 100).round()\n",
    "        perc_0 = np.append(perc_0, {'col': column, 'perc': perc})\n",
    "    return perc_0\n",
    "\n",
    "column_0_ratio = get_perc_of_0_value()\n",
    "column_0_ratio"
   ]
  },
  {
   "cell_type": "code",
   "execution_count": 10,
   "id": "15da9d1b",
   "metadata": {
    "execution": {
     "iopub.execute_input": "2023-08-30T17:38:30.675228Z",
     "iopub.status.busy": "2023-08-30T17:38:30.674193Z",
     "iopub.status.idle": "2023-08-30T17:38:30.680820Z",
     "shell.execute_reply": "2023-08-30T17:38:30.680029Z"
    },
    "papermill": {
     "duration": 0.024034,
     "end_time": "2023-08-30T17:38:30.683020",
     "exception": false,
     "start_time": "2023-08-30T17:38:30.658986",
     "status": "completed"
    },
    "tags": []
   },
   "outputs": [],
   "source": [
    "# will try to drop all columns which has more than 70% 0s\n",
    "col_list = np.array([])\n",
    "col_list_fill_0 = np.array([])\n",
    "for col_ratio in column_0_ratio:\n",
    "    if col_ratio['perc'] < 70:\n",
    "        col_list = np.append(col_list, col_ratio['col'])\n",
    "    else:\n",
    "        col_list_fill_0 = np.append(col_list_fill_0, col_ratio['col'])"
   ]
  },
  {
   "cell_type": "code",
   "execution_count": 11,
   "id": "705ab0c1",
   "metadata": {
    "execution": {
     "iopub.execute_input": "2023-08-30T17:38:30.713493Z",
     "iopub.status.busy": "2023-08-30T17:38:30.712848Z",
     "iopub.status.idle": "2023-08-30T17:38:30.716686Z",
     "shell.execute_reply": "2023-08-30T17:38:30.715877Z"
    },
    "papermill": {
     "duration": 0.021701,
     "end_time": "2023-08-30T17:38:30.718864",
     "exception": false,
     "start_time": "2023-08-30T17:38:30.697163",
     "status": "completed"
    },
    "tags": []
   },
   "outputs": [],
   "source": [
    "# mid submission\n",
    "# col_list = np.append(col_list, \"target\")\n",
    "# col_list = np.append(col_list, col_list_fill_0)\n",
    "# df = og_train_set[col_list]\n",
    "# df.loc[:, col_list_fill_0] = 0\n",
    "# df.shape\n"
   ]
  },
  {
   "cell_type": "code",
   "execution_count": 12,
   "id": "680d3bc1",
   "metadata": {
    "execution": {
     "iopub.execute_input": "2023-08-30T17:38:30.749214Z",
     "iopub.status.busy": "2023-08-30T17:38:30.748610Z",
     "iopub.status.idle": "2023-08-30T17:38:30.752338Z",
     "shell.execute_reply": "2023-08-30T17:38:30.751445Z"
    },
    "papermill": {
     "duration": 0.021599,
     "end_time": "2023-08-30T17:38:30.754616",
     "exception": false,
     "start_time": "2023-08-30T17:38:30.733017",
     "status": "completed"
    },
    "tags": []
   },
   "outputs": [],
   "source": [
    "# mid submission\n",
    "# df.to_csv('train_set.csv')"
   ]
  },
  {
   "cell_type": "markdown",
   "id": "2707a289",
   "metadata": {
    "papermill": {
     "duration": 0.013776,
     "end_time": "2023-08-30T17:38:30.782797",
     "exception": false,
     "start_time": "2023-08-30T17:38:30.769021",
     "status": "completed"
    },
    "tags": []
   },
   "source": [
    "1. So first lets create a data frame with the same columns\n",
    "2. Lets pick a size and fill 1's in them\n",
    "3. Lets ppopulate 0 in same ratio of that of our og_test_set\n",
    "4. Lets identify 1 in each row and fill the 25% - 75% random values in it"
   ]
  },
  {
   "cell_type": "code",
   "execution_count": 13,
   "id": "cec5ff72",
   "metadata": {
    "execution": {
     "iopub.execute_input": "2023-08-30T17:38:30.814194Z",
     "iopub.status.busy": "2023-08-30T17:38:30.813534Z",
     "iopub.status.idle": "2023-08-30T17:38:30.819590Z",
     "shell.execute_reply": "2023-08-30T17:38:30.818367Z"
    },
    "papermill": {
     "duration": 0.024435,
     "end_time": "2023-08-30T17:38:30.822102",
     "exception": false,
     "start_time": "2023-08-30T17:38:30.797667",
     "status": "completed"
    },
    "tags": []
   },
   "outputs": [],
   "source": [
    "import random\n",
    "\n",
    "def fill_0_in_col_with_ratio(df, column_name, ratio, size):\n",
    "    no_of_ids = (size * (ratio / 100)).round()\n",
    "    random_numbers = random.sample(range(0, size), int(no_of_ids))\n",
    "    df.loc[random_numbers, column_name] = 0\n",
    "    return df"
   ]
  },
  {
   "cell_type": "code",
   "execution_count": 14,
   "id": "00206258",
   "metadata": {
    "execution": {
     "iopub.execute_input": "2023-08-30T17:38:30.852335Z",
     "iopub.status.busy": "2023-08-30T17:38:30.851912Z",
     "iopub.status.idle": "2023-08-30T17:38:30.858847Z",
     "shell.execute_reply": "2023-08-30T17:38:30.857695Z"
    },
    "papermill": {
     "duration": 0.024746,
     "end_time": "2023-08-30T17:38:30.861158",
     "exception": false,
     "start_time": "2023-08-30T17:38:30.836412",
     "status": "completed"
    },
    "tags": []
   },
   "outputs": [],
   "source": [
    "def fill_rest_1_with_25_75_ratio(df, desc):\n",
    "    for column in df:\n",
    "        row_indices = df.index[df[column] == 1].tolist()\n",
    "        \n",
    "        for row_index in row_indices:\n",
    "            random_number = np.random.uniform(desc[column]['25%'], desc[column]['75%'])\n",
    "            df.loc[row_index, column] = random_number\n",
    "            \n",
    "    return df"
   ]
  },
  {
   "cell_type": "code",
   "execution_count": 15,
   "id": "f781b251",
   "metadata": {
    "execution": {
     "iopub.execute_input": "2023-08-30T17:38:30.892582Z",
     "iopub.status.busy": "2023-08-30T17:38:30.891507Z",
     "iopub.status.idle": "2023-08-30T17:38:30.899052Z",
     "shell.execute_reply": "2023-08-30T17:38:30.898169Z"
    },
    "papermill": {
     "duration": 0.025949,
     "end_time": "2023-08-30T17:38:30.901412",
     "exception": false,
     "start_time": "2023-08-30T17:38:30.875463",
     "status": "completed"
    },
    "tags": []
   },
   "outputs": [],
   "source": [
    "# creating a fresh set of training dat with same columns\n",
    "\n",
    "def recreating_training_set(size):\n",
    "    train_set = pd.DataFrame(columns=columns)\n",
    "    train_set = train_set.append(pd.DataFrame(np.ones((size, len(columns))), columns=columns), ignore_index=True)\n",
    "    for col_ratio in column_0_ratio:\n",
    "        train_set = fill_0_in_col_with_ratio(train_set, col_ratio['col'], col_ratio['perc'], size)\n",
    "    train_set = fill_rest_1_with_25_75_ratio(train_set, description)\n",
    "    return train_set"
   ]
  },
  {
   "cell_type": "code",
   "execution_count": 16,
   "id": "761fa642",
   "metadata": {
    "execution": {
     "iopub.execute_input": "2023-08-30T17:38:30.932249Z",
     "iopub.status.busy": "2023-08-30T17:38:30.931202Z",
     "iopub.status.idle": "2023-08-30T17:38:31.192927Z",
     "shell.execute_reply": "2023-08-30T17:38:31.191807Z"
    },
    "papermill": {
     "duration": 0.279841,
     "end_time": "2023-08-30T17:38:31.195468",
     "exception": false,
     "start_time": "2023-08-30T17:38:30.915627",
     "status": "completed"
    },
    "tags": []
   },
   "outputs": [
    {
     "name": "stderr",
     "output_type": "stream",
     "text": [
      "/tmp/ipykernel_20/93270262.py:5: FutureWarning: The frame.append method is deprecated and will be removed from pandas in a future version. Use pandas.concat instead.\n",
      "  train_set = train_set.append(pd.DataFrame(np.ones((size, len(columns))), columns=columns), ignore_index=True)\n"
     ]
    },
    {
     "data": {
      "text/html": [
       "<div>\n",
       "<style scoped>\n",
       "    .dataframe tbody tr th:only-of-type {\n",
       "        vertical-align: middle;\n",
       "    }\n",
       "\n",
       "    .dataframe tbody tr th {\n",
       "        vertical-align: top;\n",
       "    }\n",
       "\n",
       "    .dataframe thead th {\n",
       "        text-align: right;\n",
       "    }\n",
       "</style>\n",
       "<table border=\"1\" class=\"dataframe\">\n",
       "  <thead>\n",
       "    <tr style=\"text-align: right;\">\n",
       "      <th></th>\n",
       "      <th>O2_1</th>\n",
       "      <th>O2_2</th>\n",
       "      <th>O2_3</th>\n",
       "      <th>O2_4</th>\n",
       "      <th>O2_5</th>\n",
       "      <th>O2_6</th>\n",
       "      <th>O2_7</th>\n",
       "      <th>NH4_1</th>\n",
       "      <th>NH4_2</th>\n",
       "      <th>NH4_3</th>\n",
       "      <th>...</th>\n",
       "      <th>NO3_5</th>\n",
       "      <th>NO3_6</th>\n",
       "      <th>NO3_7</th>\n",
       "      <th>BOD5_1</th>\n",
       "      <th>BOD5_2</th>\n",
       "      <th>BOD5_3</th>\n",
       "      <th>BOD5_4</th>\n",
       "      <th>BOD5_5</th>\n",
       "      <th>BOD5_6</th>\n",
       "      <th>BOD5_7</th>\n",
       "    </tr>\n",
       "  </thead>\n",
       "  <tbody>\n",
       "    <tr>\n",
       "      <th>0</th>\n",
       "      <td>8.333346</td>\n",
       "      <td>8.960134</td>\n",
       "      <td>0.00000</td>\n",
       "      <td>0.000000</td>\n",
       "      <td>0.000000</td>\n",
       "      <td>0.000000</td>\n",
       "      <td>0.000000</td>\n",
       "      <td>0.652491</td>\n",
       "      <td>0.000000</td>\n",
       "      <td>0.000000</td>\n",
       "      <td>...</td>\n",
       "      <td>0.000000</td>\n",
       "      <td>0.000000</td>\n",
       "      <td>0.000000</td>\n",
       "      <td>4.981719</td>\n",
       "      <td>5.813421</td>\n",
       "      <td>5.715209</td>\n",
       "      <td>4.447560</td>\n",
       "      <td>0.000000</td>\n",
       "      <td>0.000000</td>\n",
       "      <td>0.000000</td>\n",
       "    </tr>\n",
       "    <tr>\n",
       "      <th>1</th>\n",
       "      <td>10.323948</td>\n",
       "      <td>10.227490</td>\n",
       "      <td>0.00000</td>\n",
       "      <td>0.000000</td>\n",
       "      <td>0.000000</td>\n",
       "      <td>0.000000</td>\n",
       "      <td>7.838258</td>\n",
       "      <td>0.767929</td>\n",
       "      <td>0.776782</td>\n",
       "      <td>0.000000</td>\n",
       "      <td>...</td>\n",
       "      <td>0.000000</td>\n",
       "      <td>0.000000</td>\n",
       "      <td>0.000000</td>\n",
       "      <td>4.257902</td>\n",
       "      <td>3.666791</td>\n",
       "      <td>0.000000</td>\n",
       "      <td>0.000000</td>\n",
       "      <td>6.194784</td>\n",
       "      <td>0.000000</td>\n",
       "      <td>0.000000</td>\n",
       "    </tr>\n",
       "    <tr>\n",
       "      <th>2</th>\n",
       "      <td>8.876382</td>\n",
       "      <td>7.961497</td>\n",
       "      <td>0.00000</td>\n",
       "      <td>7.807157</td>\n",
       "      <td>0.000000</td>\n",
       "      <td>0.000000</td>\n",
       "      <td>0.000000</td>\n",
       "      <td>0.704096</td>\n",
       "      <td>0.809593</td>\n",
       "      <td>0.846294</td>\n",
       "      <td>...</td>\n",
       "      <td>0.000000</td>\n",
       "      <td>0.000000</td>\n",
       "      <td>0.000000</td>\n",
       "      <td>4.276385</td>\n",
       "      <td>5.224270</td>\n",
       "      <td>0.000000</td>\n",
       "      <td>0.000000</td>\n",
       "      <td>0.000000</td>\n",
       "      <td>0.000000</td>\n",
       "      <td>2.906052</td>\n",
       "    </tr>\n",
       "    <tr>\n",
       "      <th>3</th>\n",
       "      <td>7.702798</td>\n",
       "      <td>10.062374</td>\n",
       "      <td>0.00000</td>\n",
       "      <td>0.000000</td>\n",
       "      <td>0.000000</td>\n",
       "      <td>0.000000</td>\n",
       "      <td>0.000000</td>\n",
       "      <td>0.255017</td>\n",
       "      <td>0.216779</td>\n",
       "      <td>0.000000</td>\n",
       "      <td>...</td>\n",
       "      <td>0.000000</td>\n",
       "      <td>0.000000</td>\n",
       "      <td>0.000000</td>\n",
       "      <td>5.645467</td>\n",
       "      <td>5.194656</td>\n",
       "      <td>0.000000</td>\n",
       "      <td>0.000000</td>\n",
       "      <td>0.000000</td>\n",
       "      <td>0.000000</td>\n",
       "      <td>3.562806</td>\n",
       "    </tr>\n",
       "    <tr>\n",
       "      <th>4</th>\n",
       "      <td>7.620364</td>\n",
       "      <td>8.857428</td>\n",
       "      <td>11.31031</td>\n",
       "      <td>8.095573</td>\n",
       "      <td>6.122918</td>\n",
       "      <td>0.000000</td>\n",
       "      <td>0.000000</td>\n",
       "      <td>0.597531</td>\n",
       "      <td>0.904991</td>\n",
       "      <td>0.000000</td>\n",
       "      <td>...</td>\n",
       "      <td>0.000000</td>\n",
       "      <td>0.000000</td>\n",
       "      <td>0.000000</td>\n",
       "      <td>5.738129</td>\n",
       "      <td>4.762787</td>\n",
       "      <td>0.000000</td>\n",
       "      <td>5.910599</td>\n",
       "      <td>0.000000</td>\n",
       "      <td>0.000000</td>\n",
       "      <td>0.000000</td>\n",
       "    </tr>\n",
       "    <tr>\n",
       "      <th>...</th>\n",
       "      <td>...</td>\n",
       "      <td>...</td>\n",
       "      <td>...</td>\n",
       "      <td>...</td>\n",
       "      <td>...</td>\n",
       "      <td>...</td>\n",
       "      <td>...</td>\n",
       "      <td>...</td>\n",
       "      <td>...</td>\n",
       "      <td>...</td>\n",
       "      <td>...</td>\n",
       "      <td>...</td>\n",
       "      <td>...</td>\n",
       "      <td>...</td>\n",
       "      <td>...</td>\n",
       "      <td>...</td>\n",
       "      <td>...</td>\n",
       "      <td>...</td>\n",
       "      <td>...</td>\n",
       "      <td>...</td>\n",
       "      <td>...</td>\n",
       "    </tr>\n",
       "    <tr>\n",
       "      <th>95</th>\n",
       "      <td>7.795509</td>\n",
       "      <td>9.845326</td>\n",
       "      <td>0.00000</td>\n",
       "      <td>0.000000</td>\n",
       "      <td>0.000000</td>\n",
       "      <td>0.000000</td>\n",
       "      <td>8.317088</td>\n",
       "      <td>0.667786</td>\n",
       "      <td>0.408403</td>\n",
       "      <td>0.000000</td>\n",
       "      <td>...</td>\n",
       "      <td>0.000000</td>\n",
       "      <td>1.595425</td>\n",
       "      <td>0.000000</td>\n",
       "      <td>4.729178</td>\n",
       "      <td>3.489715</td>\n",
       "      <td>0.000000</td>\n",
       "      <td>6.107282</td>\n",
       "      <td>0.000000</td>\n",
       "      <td>4.131598</td>\n",
       "      <td>3.585383</td>\n",
       "    </tr>\n",
       "    <tr>\n",
       "      <th>96</th>\n",
       "      <td>10.233136</td>\n",
       "      <td>7.298911</td>\n",
       "      <td>0.00000</td>\n",
       "      <td>0.000000</td>\n",
       "      <td>7.564461</td>\n",
       "      <td>10.127974</td>\n",
       "      <td>0.000000</td>\n",
       "      <td>0.537601</td>\n",
       "      <td>0.559248</td>\n",
       "      <td>0.000000</td>\n",
       "      <td>...</td>\n",
       "      <td>0.000000</td>\n",
       "      <td>0.000000</td>\n",
       "      <td>0.000000</td>\n",
       "      <td>3.767790</td>\n",
       "      <td>6.066448</td>\n",
       "      <td>5.508290</td>\n",
       "      <td>0.000000</td>\n",
       "      <td>0.000000</td>\n",
       "      <td>0.000000</td>\n",
       "      <td>0.000000</td>\n",
       "    </tr>\n",
       "    <tr>\n",
       "      <th>97</th>\n",
       "      <td>7.472784</td>\n",
       "      <td>8.355874</td>\n",
       "      <td>0.00000</td>\n",
       "      <td>0.000000</td>\n",
       "      <td>0.000000</td>\n",
       "      <td>0.000000</td>\n",
       "      <td>0.000000</td>\n",
       "      <td>0.475873</td>\n",
       "      <td>0.596081</td>\n",
       "      <td>0.000000</td>\n",
       "      <td>...</td>\n",
       "      <td>5.503335</td>\n",
       "      <td>0.000000</td>\n",
       "      <td>1.655063</td>\n",
       "      <td>5.886746</td>\n",
       "      <td>5.672258</td>\n",
       "      <td>0.000000</td>\n",
       "      <td>5.905876</td>\n",
       "      <td>0.000000</td>\n",
       "      <td>0.000000</td>\n",
       "      <td>3.949790</td>\n",
       "    </tr>\n",
       "    <tr>\n",
       "      <th>98</th>\n",
       "      <td>9.224807</td>\n",
       "      <td>10.005453</td>\n",
       "      <td>0.00000</td>\n",
       "      <td>0.000000</td>\n",
       "      <td>0.000000</td>\n",
       "      <td>0.000000</td>\n",
       "      <td>0.000000</td>\n",
       "      <td>0.398809</td>\n",
       "      <td>0.562803</td>\n",
       "      <td>0.000000</td>\n",
       "      <td>...</td>\n",
       "      <td>0.000000</td>\n",
       "      <td>0.000000</td>\n",
       "      <td>0.000000</td>\n",
       "      <td>3.721497</td>\n",
       "      <td>5.618477</td>\n",
       "      <td>4.426433</td>\n",
       "      <td>0.000000</td>\n",
       "      <td>0.000000</td>\n",
       "      <td>3.649585</td>\n",
       "      <td>0.000000</td>\n",
       "    </tr>\n",
       "    <tr>\n",
       "      <th>99</th>\n",
       "      <td>10.176158</td>\n",
       "      <td>8.308829</td>\n",
       "      <td>0.00000</td>\n",
       "      <td>0.000000</td>\n",
       "      <td>0.000000</td>\n",
       "      <td>0.000000</td>\n",
       "      <td>6.620968</td>\n",
       "      <td>0.485431</td>\n",
       "      <td>0.426353</td>\n",
       "      <td>0.000000</td>\n",
       "      <td>...</td>\n",
       "      <td>0.000000</td>\n",
       "      <td>0.000000</td>\n",
       "      <td>0.000000</td>\n",
       "      <td>3.944195</td>\n",
       "      <td>4.071127</td>\n",
       "      <td>0.000000</td>\n",
       "      <td>0.000000</td>\n",
       "      <td>7.958189</td>\n",
       "      <td>3.375494</td>\n",
       "      <td>0.000000</td>\n",
       "    </tr>\n",
       "  </tbody>\n",
       "</table>\n",
       "<p>100 rows × 35 columns</p>\n",
       "</div>"
      ],
      "text/plain": [
       "         O2_1       O2_2      O2_3      O2_4      O2_5       O2_6      O2_7  \\\n",
       "0    8.333346   8.960134   0.00000  0.000000  0.000000   0.000000  0.000000   \n",
       "1   10.323948  10.227490   0.00000  0.000000  0.000000   0.000000  7.838258   \n",
       "2    8.876382   7.961497   0.00000  7.807157  0.000000   0.000000  0.000000   \n",
       "3    7.702798  10.062374   0.00000  0.000000  0.000000   0.000000  0.000000   \n",
       "4    7.620364   8.857428  11.31031  8.095573  6.122918   0.000000  0.000000   \n",
       "..        ...        ...       ...       ...       ...        ...       ...   \n",
       "95   7.795509   9.845326   0.00000  0.000000  0.000000   0.000000  8.317088   \n",
       "96  10.233136   7.298911   0.00000  0.000000  7.564461  10.127974  0.000000   \n",
       "97   7.472784   8.355874   0.00000  0.000000  0.000000   0.000000  0.000000   \n",
       "98   9.224807  10.005453   0.00000  0.000000  0.000000   0.000000  0.000000   \n",
       "99  10.176158   8.308829   0.00000  0.000000  0.000000   0.000000  6.620968   \n",
       "\n",
       "       NH4_1     NH4_2     NH4_3  ...     NO3_5     NO3_6     NO3_7    BOD5_1  \\\n",
       "0   0.652491  0.000000  0.000000  ...  0.000000  0.000000  0.000000  4.981719   \n",
       "1   0.767929  0.776782  0.000000  ...  0.000000  0.000000  0.000000  4.257902   \n",
       "2   0.704096  0.809593  0.846294  ...  0.000000  0.000000  0.000000  4.276385   \n",
       "3   0.255017  0.216779  0.000000  ...  0.000000  0.000000  0.000000  5.645467   \n",
       "4   0.597531  0.904991  0.000000  ...  0.000000  0.000000  0.000000  5.738129   \n",
       "..       ...       ...       ...  ...       ...       ...       ...       ...   \n",
       "95  0.667786  0.408403  0.000000  ...  0.000000  1.595425  0.000000  4.729178   \n",
       "96  0.537601  0.559248  0.000000  ...  0.000000  0.000000  0.000000  3.767790   \n",
       "97  0.475873  0.596081  0.000000  ...  5.503335  0.000000  1.655063  5.886746   \n",
       "98  0.398809  0.562803  0.000000  ...  0.000000  0.000000  0.000000  3.721497   \n",
       "99  0.485431  0.426353  0.000000  ...  0.000000  0.000000  0.000000  3.944195   \n",
       "\n",
       "      BOD5_2    BOD5_3    BOD5_4    BOD5_5    BOD5_6    BOD5_7  \n",
       "0   5.813421  5.715209  4.447560  0.000000  0.000000  0.000000  \n",
       "1   3.666791  0.000000  0.000000  6.194784  0.000000  0.000000  \n",
       "2   5.224270  0.000000  0.000000  0.000000  0.000000  2.906052  \n",
       "3   5.194656  0.000000  0.000000  0.000000  0.000000  3.562806  \n",
       "4   4.762787  0.000000  5.910599  0.000000  0.000000  0.000000  \n",
       "..       ...       ...       ...       ...       ...       ...  \n",
       "95  3.489715  0.000000  6.107282  0.000000  4.131598  3.585383  \n",
       "96  6.066448  5.508290  0.000000  0.000000  0.000000  0.000000  \n",
       "97  5.672258  0.000000  5.905876  0.000000  0.000000  3.949790  \n",
       "98  5.618477  4.426433  0.000000  0.000000  3.649585  0.000000  \n",
       "99  4.071127  0.000000  0.000000  7.958189  3.375494  0.000000  \n",
       "\n",
       "[100 rows x 35 columns]"
      ]
     },
     "execution_count": 16,
     "metadata": {},
     "output_type": "execute_result"
    }
   ],
   "source": [
    "train_set = recreating_training_set(100)\n",
    "train_set"
   ]
  },
  {
   "cell_type": "code",
   "execution_count": 17,
   "id": "79d314a9",
   "metadata": {
    "execution": {
     "iopub.execute_input": "2023-08-30T17:38:31.228147Z",
     "iopub.status.busy": "2023-08-30T17:38:31.227171Z",
     "iopub.status.idle": "2023-08-30T17:38:43.237177Z",
     "shell.execute_reply": "2023-08-30T17:38:43.235827Z"
    },
    "papermill": {
     "duration": 12.029866,
     "end_time": "2023-08-30T17:38:43.240040",
     "exception": false,
     "start_time": "2023-08-30T17:38:31.210174",
     "status": "completed"
    },
    "tags": []
   },
   "outputs": [
    {
     "name": "stderr",
     "output_type": "stream",
     "text": [
      "/opt/conda/lib/python3.10/site-packages/scipy/__init__.py:146: UserWarning: A NumPy version >=1.16.5 and <1.23.0 is required for this version of SciPy (detected version 1.23.5\n",
      "  warnings.warn(f\"A NumPy version >={np_minversion} and <{np_maxversion}\"\n"
     ]
    },
    {
     "data": {
      "text/plain": [
       "array([ 8.73442282, 10.74425638,  8.71862398,  8.02480413,  8.02767141,\n",
       "       10.17269975,  7.92540982,  8.15977585, 10.12611337,  9.38990192,\n",
       "        7.8905982 , 10.28803022,  8.09618085, 10.25884338,  9.92569337,\n",
       "       10.20414627, 10.40012993,  7.94819995,  8.9048269 ,  8.01483411,\n",
       "       10.03621848,  8.79600732, 10.03745276,  8.04186646,  9.6138157 ,\n",
       "        7.92371126,  8.83406588,  8.86720818,  9.99439782,  8.04869753,\n",
       "        8.83015305,  9.94154581,  7.70147508,  7.86366159,  7.89243737,\n",
       "        7.90189974, 10.00504416,  8.8469604 , 10.00010066,  8.88565343,\n",
       "        8.00935839, 10.51080967,  7.85900642,  9.20440235, 10.24297699,\n",
       "        8.70076165,  8.82881786, 10.15461565,  9.79335912, 10.08714086,\n",
       "        9.77990573,  8.10822983, 10.12129561,  8.85550384, 10.52868992,\n",
       "        8.81142187,  8.84030198, 10.20172981,  8.83257525, 10.09765106,\n",
       "        7.82731681,  8.74063442,  8.74975811,  8.81772759,  9.16708282,\n",
       "        8.00888545,  7.87020107, 10.32616299,  8.83468693,  8.73171453,\n",
       "        5.43493644, 10.1538895 ,  8.0063436 , 10.20739655,  8.71215671,\n",
       "        8.84242648,  8.79897424,  8.72121028,  8.79421568,  9.89809805,\n",
       "        8.78676465,  8.18901745,  8.11980315,  9.76239811,  9.90089649,\n",
       "        8.74131508,  8.17084691, 10.4599852 ,  8.08812486,  8.07272614,\n",
       "        8.73260987,  8.04245774,  8.17055499,  8.11122203,  8.88307618,\n",
       "        8.0768123 , 10.2279869 ,  8.07728942,  8.69740175, 10.29422533])"
      ]
     },
     "execution_count": 17,
     "metadata": {},
     "output_type": "execute_result"
    }
   ],
   "source": [
    "# Now that we have similar data of that of og_train will try to generate targets with given model\n",
    "from sklearn.ensemble import RandomForestRegressor\n",
    "\n",
    "# taking submission set to train\n",
    "sub_train_set = pd.read_csv('/kaggle/input/playground-series-s3e21/sample_submission.csv', index_col=\"id\")\n",
    "\n",
    "X_test = sub_train_set['target']\n",
    "y_train = sub_train_set.pop('target') # train is your submission!\n",
    "rf = RandomForestRegressor(\n",
    "       n_estimators=1000,\n",
    "       max_depth=7,\n",
    "       n_jobs=-1,\n",
    "       random_state=42)\n",
    "rf.fit(sub_train_set, X_test)\n",
    "\n",
    "# train_set.rename(columns={'Id': 'id'}, inplace=True)\n",
    "# train_set.set_index('id', inplace=True)\n",
    "# train_set\n",
    "y_hat = rf.predict(train_set) # test set is hidden from you\n",
    "y_hat"
   ]
  },
  {
   "cell_type": "code",
   "execution_count": 18,
   "id": "1e51f597",
   "metadata": {
    "execution": {
     "iopub.execute_input": "2023-08-30T17:38:43.272566Z",
     "iopub.status.busy": "2023-08-30T17:38:43.272143Z",
     "iopub.status.idle": "2023-08-30T17:38:43.277652Z",
     "shell.execute_reply": "2023-08-30T17:38:43.276408Z"
    },
    "jupyter": {
     "source_hidden": true
    },
    "papermill": {
     "duration": 0.024542,
     "end_time": "2023-08-30T17:38:43.279901",
     "exception": false,
     "start_time": "2023-08-30T17:38:43.255359",
     "status": "completed"
    },
    "tags": []
   },
   "outputs": [],
   "source": [
    "train_set['target'] = y_hat"
   ]
  },
  {
   "cell_type": "code",
   "execution_count": 19,
   "id": "0f1411ee",
   "metadata": {
    "execution": {
     "iopub.execute_input": "2023-08-30T17:38:43.312187Z",
     "iopub.status.busy": "2023-08-30T17:38:43.311815Z",
     "iopub.status.idle": "2023-08-30T17:38:43.316697Z",
     "shell.execute_reply": "2023-08-30T17:38:43.315331Z"
    },
    "papermill": {
     "duration": 0.024221,
     "end_time": "2023-08-30T17:38:43.319405",
     "exception": false,
     "start_time": "2023-08-30T17:38:43.295184",
     "status": "completed"
    },
    "tags": []
   },
   "outputs": [],
   "source": [
    "train_set.index.name = 'id'\n",
    "# train_set.to_csv('submission2.csv')"
   ]
  },
  {
   "cell_type": "markdown",
   "id": "bd94d17f",
   "metadata": {
    "papermill": {
     "duration": 0.014678,
     "end_time": "2023-08-30T17:38:43.349079",
     "exception": false,
     "start_time": "2023-08-30T17:38:43.334401",
     "status": "completed"
    },
    "tags": []
   },
   "source": [
    "# Improving the score "
   ]
  },
  {
   "cell_type": "markdown",
   "id": "b72a78f5",
   "metadata": {
    "papermill": {
     "duration": 0.015249,
     "end_time": "2023-08-30T17:38:43.379212",
     "exception": false,
     "start_time": "2023-08-30T17:38:43.363963",
     "status": "completed"
    },
    "tags": []
   },
   "source": [
    "### Lets take another look at the og_train_set and then we will see the column and data patterns\n"
   ]
  },
  {
   "cell_type": "code",
   "execution_count": 20,
   "id": "fb1ad9d7",
   "metadata": {
    "execution": {
     "iopub.execute_input": "2023-08-30T17:38:43.412358Z",
     "iopub.status.busy": "2023-08-30T17:38:43.411178Z",
     "iopub.status.idle": "2023-08-30T17:38:43.417472Z",
     "shell.execute_reply": "2023-08-30T17:38:43.416606Z"
    },
    "papermill": {
     "duration": 0.024965,
     "end_time": "2023-08-30T17:38:43.419736",
     "exception": false,
     "start_time": "2023-08-30T17:38:43.394771",
     "status": "completed"
    },
    "tags": []
   },
   "outputs": [],
   "source": [
    "pattern_df = og_train_set.copy()\n",
    "pattern_df = pattern_df.fillna(0)"
   ]
  },
  {
   "cell_type": "code",
   "execution_count": 21,
   "id": "ef3faf8e",
   "metadata": {
    "execution": {
     "iopub.execute_input": "2023-08-30T17:38:43.452349Z",
     "iopub.status.busy": "2023-08-30T17:38:43.451600Z",
     "iopub.status.idle": "2023-08-30T17:38:43.456549Z",
     "shell.execute_reply": "2023-08-30T17:38:43.455759Z"
    },
    "papermill": {
     "duration": 0.024048,
     "end_time": "2023-08-30T17:38:43.458766",
     "exception": false,
     "start_time": "2023-08-30T17:38:43.434718",
     "status": "completed"
    },
    "tags": []
   },
   "outputs": [],
   "source": [
    "def fill_with_1_or_0(value):\n",
    "    return 1 if value > 0 else 0"
   ]
  },
  {
   "cell_type": "code",
   "execution_count": 22,
   "id": "c46ea847",
   "metadata": {
    "execution": {
     "iopub.execute_input": "2023-08-30T17:38:43.491722Z",
     "iopub.status.busy": "2023-08-30T17:38:43.491332Z",
     "iopub.status.idle": "2023-08-30T17:38:43.507996Z",
     "shell.execute_reply": "2023-08-30T17:38:43.506819Z"
    },
    "papermill": {
     "duration": 0.036837,
     "end_time": "2023-08-30T17:38:43.510522",
     "exception": false,
     "start_time": "2023-08-30T17:38:43.473685",
     "status": "completed"
    },
    "tags": []
   },
   "outputs": [],
   "source": [
    "pattern_df = pattern_df.applymap(fill_with_1_or_0)"
   ]
  },
  {
   "cell_type": "code",
   "execution_count": 23,
   "id": "1100fe1c",
   "metadata": {
    "execution": {
     "iopub.execute_input": "2023-08-30T17:38:43.542622Z",
     "iopub.status.busy": "2023-08-30T17:38:43.542200Z",
     "iopub.status.idle": "2023-08-30T17:38:43.552450Z",
     "shell.execute_reply": "2023-08-30T17:38:43.551106Z"
    },
    "papermill": {
     "duration": 0.029042,
     "end_time": "2023-08-30T17:38:43.554828",
     "exception": false,
     "start_time": "2023-08-30T17:38:43.525786",
     "status": "completed"
    },
    "tags": []
   },
   "outputs": [],
   "source": [
    "concatenated_strings = pattern_df.apply(lambda row: ''.join(map(str, row)), axis=1)\n",
    "np_array = np.array(concatenated_strings)"
   ]
  },
  {
   "cell_type": "code",
   "execution_count": 24,
   "id": "9650601e",
   "metadata": {
    "execution": {
     "iopub.execute_input": "2023-08-30T17:38:43.587324Z",
     "iopub.status.busy": "2023-08-30T17:38:43.586876Z",
     "iopub.status.idle": "2023-08-30T17:38:43.594239Z",
     "shell.execute_reply": "2023-08-30T17:38:43.592954Z"
    },
    "papermill": {
     "duration": 0.027251,
     "end_time": "2023-08-30T17:38:43.597228",
     "exception": false,
     "start_time": "2023-08-30T17:38:43.569977",
     "status": "completed"
    },
    "tags": []
   },
   "outputs": [
    {
     "name": "stdout",
     "output_type": "stream",
     "text": [
      "Value: 100001100000110000011000001100000110, Count: 1\n",
      "Value: 101110000111000011100001110000111000, Count: 1\n",
      "Value: 110001111000111100011110001101000111, Count: 1\n",
      "Value: 111000001100000000000000000001100000, Count: 1\n",
      "Value: 111000001100000110000000000001100000, Count: 2\n",
      "Value: 111000001100000110000001000001100000, Count: 1\n",
      "Value: 111000001100000110000011000001100000, Count: 91\n",
      "Value: 111000001100011110001111000111100011, Count: 1\n",
      "Value: 111000001100100110010011001001100100, Count: 1\n",
      "Value: 111000011100001110000111000011100001, Count: 2\n",
      "Value: 111000111100011110000111000111100011, Count: 1\n",
      "Value: 111000111100011110001111000111100011, Count: 5\n",
      "Value: 111001001100100110010011001001100100, Count: 1\n",
      "Value: 111001111100111110010111001111100111, Count: 1\n",
      "Value: 111001111100111110011111001111100111, Count: 5\n",
      "Value: 111010111101011110101111010111101011, Count: 1\n",
      "Value: 111101001110100111010011101001110100, Count: 2\n",
      "Value: 111110001111000111100011110001111000, Count: 6\n",
      "Value: 111110001111011111101111110111111011, Count: 1\n",
      "Value: 111110111111011111101111010111111011, Count: 1\n",
      "Value: 111111001111100111110011111001111100, Count: 2\n",
      "Value: 111111101111110111111011111101111110, Count: 1\n",
      "Value: 111111111111111111110111111111111111, Count: 1\n",
      "Value: 111111111111111111111011111111111111, Count: 1\n",
      "Value: 111111111111111111111111111111111111, Count: 16\n"
     ]
    }
   ],
   "source": [
    "np_array.shape\n",
    "unique_values, counts = np.unique(np_array, return_counts=True)\n",
    "unique_values\n",
    "counts\n",
    "\n",
    "for value, count in zip(unique_values, counts):\n",
    "    print(f\"Value: {value}, Count: {count}\")"
   ]
  },
  {
   "cell_type": "code",
   "execution_count": 25,
   "id": "4d94e6ea",
   "metadata": {
    "execution": {
     "iopub.execute_input": "2023-08-30T17:38:43.630340Z",
     "iopub.status.busy": "2023-08-30T17:38:43.629572Z",
     "iopub.status.idle": "2023-08-30T17:38:43.634521Z",
     "shell.execute_reply": "2023-08-30T17:38:43.633332Z"
    },
    "papermill": {
     "duration": 0.024027,
     "end_time": "2023-08-30T17:38:43.636922",
     "exception": false,
     "start_time": "2023-08-30T17:38:43.612895",
     "status": "completed"
    },
    "tags": []
   },
   "outputs": [],
   "source": [
    "# So we have 91 0f these records as Value: \n",
    "# 111000001100000110000011000001100000, Count: 91\n",
    "# So What we do is lets, identify all the columns which falls under this pattern \n",
    "# and try to fill our dataframe\n",
    "\n",
    "\n",
    "\n"
   ]
  }
 ],
 "kernelspec": {
  "display_name": "Python 3",
  "language": "python",
  "name": "python3"
 },
 "language_info": {
  "codemirror_mode": {
   "name": "ipython",
   "version": 3
  },
  "file_extension": ".py",
  "mimetype": "text/x-python",
  "name": "python",
  "nbconvert_exporter": "python",
  "pygments_lexer": "ipython3",
  "version": "3.6.4"
 },
 "metadata": {
  "kernelspec": {
   "display_name": "Python 3",
   "language": "python",
   "name": "python3"
  },
  "language_info": {
   "codemirror_mode": {
    "name": "ipython",
    "version": 3
   },
   "file_extension": ".py",
   "mimetype": "text/x-python",
   "name": "python",
   "nbconvert_exporter": "python",
   "pygments_lexer": "ipython3",
   "version": "3.10.12"
  },
  "papermill": {
   "default_parameters": {},
   "duration": 25.984187,
   "end_time": "2023-08-30T17:38:44.675531",
   "environment_variables": {},
   "exception": null,
   "input_path": "__notebook__.ipynb",
   "output_path": "__notebook__.ipynb",
   "parameters": {},
   "start_time": "2023-08-30T17:38:18.691344",
   "version": "2.4.0"
  }
 },
 "nbformat": 4,
 "nbformat_minor": 5
}
