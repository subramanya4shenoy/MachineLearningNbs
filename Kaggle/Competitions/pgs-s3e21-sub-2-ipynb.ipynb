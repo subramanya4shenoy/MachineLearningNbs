{
 "cells": [
  {
   "cell_type": "code",
   "execution_count": 1,
   "id": "3e3c9f16",
   "metadata": {
    "_cell_guid": "b1076dfc-b9ad-4769-8c92-a6c4dae69d19",
    "_kg_hide-input": false,
    "_kg_hide-output": false,
    "_uuid": "8f2839f25d086af736a60e9eeb907d3b93b6e0e5",
    "execution": {
     "iopub.execute_input": "2023-08-30T18:51:06.757034Z",
     "iopub.status.busy": "2023-08-30T18:51:06.756676Z",
     "iopub.status.idle": "2023-08-30T18:51:06.772929Z",
     "shell.execute_reply": "2023-08-30T18:51:06.771874Z"
    },
    "papermill": {
     "duration": 0.029569,
     "end_time": "2023-08-30T18:51:06.775154",
     "exception": false,
     "start_time": "2023-08-30T18:51:06.745585",
     "status": "completed"
    },
    "tags": []
   },
   "outputs": [
    {
     "name": "stdout",
     "output_type": "stream",
     "text": [
      "/kaggle/input/playground-series-s3e21/sample_submission.csv\n",
      "/kaggle/input/dissolved-oxygen-prediction-in-river-water/train.csv\n",
      "/kaggle/input/dissolved-oxygen-prediction-in-river-water/test.csv\n"
     ]
    }
   ],
   "source": [
    "# This Python 3 environment comes with many helpful analytics libraries installed\n",
    "# It is defined by the kaggle/python Docker image: https://github.com/kaggle/docker-python\n",
    "# For example, here's several helpful packages to load\n",
    "\n",
    "import numpy as np # linear algebra\n",
    "import pandas as pd # data processing, CSV file I/O (e.g. pd.read_csv)\n",
    "\n",
    "# Input data files are available in the read-only \"../input/\" directory\n",
    "# For example, running this (by clicking run or pressing Shift+Enter) will list all files under the input directory\n",
    "\n",
    "import os\n",
    "for dirname, _, filenames in os.walk('/kaggle/input'):\n",
    "    for filename in filenames:\n",
    "        print(os.path.join(dirname, filename))\n",
    "\n",
    "# You can write up to 20GB to the current directory (/kaggle/working/) that gets preserved as output when you create a version using \"Save & Run All\" \n",
    "# You can also write temporary files to /kaggle/temp/, but they won't be saved outside of the current session"
   ]
  },
  {
   "cell_type": "markdown",
   "id": "cbc9f36a",
   "metadata": {
    "papermill": {
     "duration": 0.008517,
     "end_time": "2023-08-30T18:51:06.792836",
     "exception": false,
     "start_time": "2023-08-30T18:51:06.784319",
     "status": "completed"
    },
    "tags": []
   },
   "source": [
    "# 😵‍💫 Improve a Fixed Model the Data-Centric Way! 😵‍💫¶ (Second Attempt)\n",
    "Playground Series - Season 3, Episode 21\n",
    "\n",
    "This is a very different type of challenge! For this challenge, your task is to improve a dataset that is being used to train a random forest model; in other words, your submission will be training data, not predictions. A random forest model will be trained on your submission, used to make predictions, and then those predictions will be used to generate your score.\n",
    "\n",
    "The dataset for this competition is a synthetic dataset based off of the Dissolved oxygen prediction in river water dataset. You are free to use the original in any way that you find useful."
   ]
  },
  {
   "cell_type": "markdown",
   "id": "b20e10cc",
   "metadata": {
    "papermill": {
     "duration": 0.008387,
     "end_time": "2023-08-30T18:51:06.810108",
     "exception": false,
     "start_time": "2023-08-30T18:51:06.801721",
     "status": "completed"
    },
    "tags": []
   },
   "source": [
    "## 🔶 Look at the big Picture"
   ]
  },
  {
   "cell_type": "markdown",
   "id": "94533b08",
   "metadata": {
    "papermill": {
     "duration": 0.008398,
     "end_time": "2023-08-30T18:51:06.827252",
     "exception": false,
     "start_time": "2023-08-30T18:51:06.818854",
     "status": "completed"
    },
    "tags": []
   },
   "source": [
    "### 🔸 **Frame the problem**\n",
    "*   🟢 **Goal:** Is to fill the columns in the dataFrame such a way that the dataframe fed to the given model gives close to 0 RMSE. 🗒\n",
    "*   🟢 **End Result:** multiple Columns to be predicted, changed such a way that models predict well 🗒\n",
    "*   🟢 **Problem Type:** not exactly a regression. model has been already provided,\n",
    "*   🟢 **Learning Type:** Supervised Learning\n",
    "*   🟢 **Variate:** MultiVariate (need to predict multiple target with 1 label)\n",
    "*   🟢 **Features:** single features"
   ]
  },
  {
   "cell_type": "markdown",
   "id": "90908755",
   "metadata": {
    "papermill": {
     "duration": 0.008342,
     "end_time": "2023-08-30T18:51:06.844293",
     "exception": false,
     "start_time": "2023-08-30T18:51:06.835951",
     "status": "completed"
    },
    "tags": []
   },
   "source": [
    "### 🔸 **Select performance measure**:\n",
    "🟢 using RMSE 🗒.  This was given in the problem set."
   ]
  },
  {
   "cell_type": "markdown",
   "id": "f3a5a733",
   "metadata": {
    "papermill": {
     "duration": 0.008462,
     "end_time": "2023-08-30T18:51:06.861376",
     "exception": false,
     "start_time": "2023-08-30T18:51:06.852914",
     "status": "completed"
    },
    "tags": []
   },
   "source": [
    "### 🔸 **Assumptions**: `none`\n",
    "\n",
    "---"
   ]
  },
  {
   "cell_type": "markdown",
   "id": "c7f24274",
   "metadata": {
    "papermill": {
     "duration": 0.008376,
     "end_time": "2023-08-30T18:51:06.878610",
     "exception": false,
     "start_time": "2023-08-30T18:51:06.870234",
     "status": "completed"
    },
    "tags": []
   },
   "source": [
    "## 🔶**Get the Data**\n",
    "\n",
    "* 🟢 Add the sample_submission (as there are no train and test set in this problem) from the compition data\n",
    "* 🟢 Read the sample_submission csv into a dataframe"
   ]
  },
  {
   "cell_type": "code",
   "execution_count": 2,
   "id": "de299a6d",
   "metadata": {
    "execution": {
     "iopub.execute_input": "2023-08-30T18:51:06.898796Z",
     "iopub.status.busy": "2023-08-30T18:51:06.897982Z",
     "iopub.status.idle": "2023-08-30T18:51:06.929223Z",
     "shell.execute_reply": "2023-08-30T18:51:06.928364Z"
    },
    "papermill": {
     "duration": 0.043509,
     "end_time": "2023-08-30T18:51:06.931536",
     "exception": false,
     "start_time": "2023-08-30T18:51:06.888027",
     "status": "completed"
    },
    "tags": []
   },
   "outputs": [],
   "source": [
    "#taking original training data from original data source\n",
    "\n",
    "og_train_set = pd.read_csv('/kaggle/input/dissolved-oxygen-prediction-in-river-water/train.csv', index_col='Id')\n"
   ]
  },
  {
   "cell_type": "markdown",
   "id": "a9957ce6",
   "metadata": {
    "papermill": {
     "duration": 0.008821,
     "end_time": "2023-08-30T18:51:06.949557",
     "exception": false,
     "start_time": "2023-08-30T18:51:06.940736",
     "status": "completed"
    },
    "tags": []
   },
   "source": [
    "#### 🔸 **Take Quick look**\n",
    "* 🟢 .head() to see the index columns and quick look at the data \n",
    "* 🟢 .shape to see the size of training set\n",
    "* 🟢 .info() to see the data types and missing values \n",
    "* 🟢 .value_counts() on categorical data to check if all the categories are equaly represented and to check the weightages.\n",
    "* 🟢 .describe() to check mean and std deviation, min, max this gives a hint of how data is distributed and what is the max values, min values and is there any scaled data or not.\n",
    "\n",
    "🚨 **Note:** Specially for this problem we are looking at the submision set so that we can have a clone of this dataframe structure and fill the data "
   ]
  },
  {
   "cell_type": "code",
   "execution_count": 3,
   "id": "6b4eee59",
   "metadata": {
    "execution": {
     "iopub.execute_input": "2023-08-30T18:51:06.969605Z",
     "iopub.status.busy": "2023-08-30T18:51:06.969203Z",
     "iopub.status.idle": "2023-08-30T18:51:07.001920Z",
     "shell.execute_reply": "2023-08-30T18:51:07.000836Z"
    },
    "papermill": {
     "duration": 0.045798,
     "end_time": "2023-08-30T18:51:07.004213",
     "exception": false,
     "start_time": "2023-08-30T18:51:06.958415",
     "status": "completed"
    },
    "tags": []
   },
   "outputs": [
    {
     "data": {
      "text/html": [
       "<div>\n",
       "<style scoped>\n",
       "    .dataframe tbody tr th:only-of-type {\n",
       "        vertical-align: middle;\n",
       "    }\n",
       "\n",
       "    .dataframe tbody tr th {\n",
       "        vertical-align: top;\n",
       "    }\n",
       "\n",
       "    .dataframe thead th {\n",
       "        text-align: right;\n",
       "    }\n",
       "</style>\n",
       "<table border=\"1\" class=\"dataframe\">\n",
       "  <thead>\n",
       "    <tr style=\"text-align: right;\">\n",
       "      <th></th>\n",
       "      <th>target</th>\n",
       "      <th>O2_1</th>\n",
       "      <th>O2_2</th>\n",
       "      <th>O2_3</th>\n",
       "      <th>O2_4</th>\n",
       "      <th>O2_5</th>\n",
       "      <th>O2_6</th>\n",
       "      <th>O2_7</th>\n",
       "      <th>NH4_1</th>\n",
       "      <th>NH4_2</th>\n",
       "      <th>...</th>\n",
       "      <th>NO3_5</th>\n",
       "      <th>NO3_6</th>\n",
       "      <th>NO3_7</th>\n",
       "      <th>BOD5_1</th>\n",
       "      <th>BOD5_2</th>\n",
       "      <th>BOD5_3</th>\n",
       "      <th>BOD5_4</th>\n",
       "      <th>BOD5_5</th>\n",
       "      <th>BOD5_6</th>\n",
       "      <th>BOD5_7</th>\n",
       "    </tr>\n",
       "    <tr>\n",
       "      <th>Id</th>\n",
       "      <th></th>\n",
       "      <th></th>\n",
       "      <th></th>\n",
       "      <th></th>\n",
       "      <th></th>\n",
       "      <th></th>\n",
       "      <th></th>\n",
       "      <th></th>\n",
       "      <th></th>\n",
       "      <th></th>\n",
       "      <th></th>\n",
       "      <th></th>\n",
       "      <th></th>\n",
       "      <th></th>\n",
       "      <th></th>\n",
       "      <th></th>\n",
       "      <th></th>\n",
       "      <th></th>\n",
       "      <th></th>\n",
       "      <th></th>\n",
       "      <th></th>\n",
       "    </tr>\n",
       "  </thead>\n",
       "  <tbody>\n",
       "    <tr>\n",
       "      <th>0</th>\n",
       "      <td>12.58</td>\n",
       "      <td>9.875</td>\n",
       "      <td>9.20</td>\n",
       "      <td>NaN</td>\n",
       "      <td>NaN</td>\n",
       "      <td>NaN</td>\n",
       "      <td>NaN</td>\n",
       "      <td>NaN</td>\n",
       "      <td>0.690</td>\n",
       "      <td>1.040</td>\n",
       "      <td>...</td>\n",
       "      <td>NaN</td>\n",
       "      <td>NaN</td>\n",
       "      <td>NaN</td>\n",
       "      <td>4.80</td>\n",
       "      <td>5.850</td>\n",
       "      <td>NaN</td>\n",
       "      <td>NaN</td>\n",
       "      <td>NaN</td>\n",
       "      <td>NaN</td>\n",
       "      <td>NaN</td>\n",
       "    </tr>\n",
       "    <tr>\n",
       "      <th>3</th>\n",
       "      <td>9.37</td>\n",
       "      <td>10.300</td>\n",
       "      <td>10.75</td>\n",
       "      <td>NaN</td>\n",
       "      <td>NaN</td>\n",
       "      <td>NaN</td>\n",
       "      <td>NaN</td>\n",
       "      <td>NaN</td>\n",
       "      <td>0.710</td>\n",
       "      <td>0.725</td>\n",
       "      <td>...</td>\n",
       "      <td>NaN</td>\n",
       "      <td>NaN</td>\n",
       "      <td>NaN</td>\n",
       "      <td>5.88</td>\n",
       "      <td>6.835</td>\n",
       "      <td>NaN</td>\n",
       "      <td>NaN</td>\n",
       "      <td>NaN</td>\n",
       "      <td>NaN</td>\n",
       "      <td>NaN</td>\n",
       "    </tr>\n",
       "    <tr>\n",
       "      <th>4</th>\n",
       "      <td>8.35</td>\n",
       "      <td>8.290</td>\n",
       "      <td>7.90</td>\n",
       "      <td>NaN</td>\n",
       "      <td>NaN</td>\n",
       "      <td>NaN</td>\n",
       "      <td>NaN</td>\n",
       "      <td>NaN</td>\n",
       "      <td>2.210</td>\n",
       "      <td>2.210</td>\n",
       "      <td>...</td>\n",
       "      <td>NaN</td>\n",
       "      <td>NaN</td>\n",
       "      <td>NaN</td>\n",
       "      <td>3.20</td>\n",
       "      <td>2.700</td>\n",
       "      <td>NaN</td>\n",
       "      <td>NaN</td>\n",
       "      <td>NaN</td>\n",
       "      <td>NaN</td>\n",
       "      <td>NaN</td>\n",
       "    </tr>\n",
       "    <tr>\n",
       "      <th>5</th>\n",
       "      <td>9.57</td>\n",
       "      <td>8.820</td>\n",
       "      <td>6.80</td>\n",
       "      <td>NaN</td>\n",
       "      <td>NaN</td>\n",
       "      <td>NaN</td>\n",
       "      <td>NaN</td>\n",
       "      <td>NaN</td>\n",
       "      <td>0.595</td>\n",
       "      <td>0.675</td>\n",
       "      <td>...</td>\n",
       "      <td>NaN</td>\n",
       "      <td>NaN</td>\n",
       "      <td>NaN</td>\n",
       "      <td>7.70</td>\n",
       "      <td>7.055</td>\n",
       "      <td>NaN</td>\n",
       "      <td>NaN</td>\n",
       "      <td>NaN</td>\n",
       "      <td>NaN</td>\n",
       "      <td>NaN</td>\n",
       "    </tr>\n",
       "    <tr>\n",
       "      <th>6</th>\n",
       "      <td>6.00</td>\n",
       "      <td>6.000</td>\n",
       "      <td>6.50</td>\n",
       "      <td>NaN</td>\n",
       "      <td>NaN</td>\n",
       "      <td>NaN</td>\n",
       "      <td>NaN</td>\n",
       "      <td>NaN</td>\n",
       "      <td>0.600</td>\n",
       "      <td>0.900</td>\n",
       "      <td>...</td>\n",
       "      <td>NaN</td>\n",
       "      <td>NaN</td>\n",
       "      <td>NaN</td>\n",
       "      <td>5.50</td>\n",
       "      <td>5.300</td>\n",
       "      <td>NaN</td>\n",
       "      <td>NaN</td>\n",
       "      <td>NaN</td>\n",
       "      <td>NaN</td>\n",
       "      <td>NaN</td>\n",
       "    </tr>\n",
       "  </tbody>\n",
       "</table>\n",
       "<p>5 rows × 36 columns</p>\n",
       "</div>"
      ],
      "text/plain": [
       "    target    O2_1   O2_2  O2_3  O2_4  O2_5  O2_6  O2_7  NH4_1  NH4_2  ...  \\\n",
       "Id                                                                     ...   \n",
       "0    12.58   9.875   9.20   NaN   NaN   NaN   NaN   NaN  0.690  1.040  ...   \n",
       "3     9.37  10.300  10.75   NaN   NaN   NaN   NaN   NaN  0.710  0.725  ...   \n",
       "4     8.35   8.290   7.90   NaN   NaN   NaN   NaN   NaN  2.210  2.210  ...   \n",
       "5     9.57   8.820   6.80   NaN   NaN   NaN   NaN   NaN  0.595  0.675  ...   \n",
       "6     6.00   6.000   6.50   NaN   NaN   NaN   NaN   NaN  0.600  0.900  ...   \n",
       "\n",
       "    NO3_5  NO3_6  NO3_7  BOD5_1  BOD5_2  BOD5_3  BOD5_4  BOD5_5  BOD5_6  \\\n",
       "Id                                                                        \n",
       "0     NaN    NaN    NaN    4.80   5.850     NaN     NaN     NaN     NaN   \n",
       "3     NaN    NaN    NaN    5.88   6.835     NaN     NaN     NaN     NaN   \n",
       "4     NaN    NaN    NaN    3.20   2.700     NaN     NaN     NaN     NaN   \n",
       "5     NaN    NaN    NaN    7.70   7.055     NaN     NaN     NaN     NaN   \n",
       "6     NaN    NaN    NaN    5.50   5.300     NaN     NaN     NaN     NaN   \n",
       "\n",
       "    BOD5_7  \n",
       "Id          \n",
       "0      NaN  \n",
       "3      NaN  \n",
       "4      NaN  \n",
       "5      NaN  \n",
       "6      NaN  \n",
       "\n",
       "[5 rows x 36 columns]"
      ]
     },
     "execution_count": 3,
     "metadata": {},
     "output_type": "execute_result"
    }
   ],
   "source": [
    "og_train_set.head()"
   ]
  },
  {
   "cell_type": "code",
   "execution_count": 4,
   "id": "1c13bc1e",
   "metadata": {
    "execution": {
     "iopub.execute_input": "2023-08-30T18:51:07.024904Z",
     "iopub.status.busy": "2023-08-30T18:51:07.024534Z",
     "iopub.status.idle": "2023-08-30T18:51:07.031114Z",
     "shell.execute_reply": "2023-08-30T18:51:07.030140Z"
    },
    "papermill": {
     "duration": 0.019217,
     "end_time": "2023-08-30T18:51:07.033250",
     "exception": false,
     "start_time": "2023-08-30T18:51:07.014033",
     "status": "completed"
    },
    "tags": []
   },
   "outputs": [
    {
     "data": {
      "text/plain": [
       "(147, 36)"
      ]
     },
     "execution_count": 4,
     "metadata": {},
     "output_type": "execute_result"
    }
   ],
   "source": [
    "og_train_set.shape"
   ]
  },
  {
   "cell_type": "code",
   "execution_count": 5,
   "id": "063e6bd5",
   "metadata": {
    "execution": {
     "iopub.execute_input": "2023-08-30T18:51:07.053761Z",
     "iopub.status.busy": "2023-08-30T18:51:07.053399Z",
     "iopub.status.idle": "2023-08-30T18:51:07.151419Z",
     "shell.execute_reply": "2023-08-30T18:51:07.150628Z"
    },
    "papermill": {
     "duration": 0.110576,
     "end_time": "2023-08-30T18:51:07.153484",
     "exception": false,
     "start_time": "2023-08-30T18:51:07.042908",
     "status": "completed"
    },
    "tags": []
   },
   "outputs": [
    {
     "data": {
      "text/html": [
       "<div>\n",
       "<style scoped>\n",
       "    .dataframe tbody tr th:only-of-type {\n",
       "        vertical-align: middle;\n",
       "    }\n",
       "\n",
       "    .dataframe tbody tr th {\n",
       "        vertical-align: top;\n",
       "    }\n",
       "\n",
       "    .dataframe thead th {\n",
       "        text-align: right;\n",
       "    }\n",
       "</style>\n",
       "<table border=\"1\" class=\"dataframe\">\n",
       "  <thead>\n",
       "    <tr style=\"text-align: right;\">\n",
       "      <th></th>\n",
       "      <th>target</th>\n",
       "      <th>O2_1</th>\n",
       "      <th>O2_2</th>\n",
       "      <th>O2_3</th>\n",
       "      <th>O2_4</th>\n",
       "      <th>O2_5</th>\n",
       "      <th>O2_6</th>\n",
       "      <th>O2_7</th>\n",
       "      <th>NH4_1</th>\n",
       "      <th>NH4_2</th>\n",
       "      <th>...</th>\n",
       "      <th>NO3_5</th>\n",
       "      <th>NO3_6</th>\n",
       "      <th>NO3_7</th>\n",
       "      <th>BOD5_1</th>\n",
       "      <th>BOD5_2</th>\n",
       "      <th>BOD5_3</th>\n",
       "      <th>BOD5_4</th>\n",
       "      <th>BOD5_5</th>\n",
       "      <th>BOD5_6</th>\n",
       "      <th>BOD5_7</th>\n",
       "    </tr>\n",
       "  </thead>\n",
       "  <tbody>\n",
       "    <tr>\n",
       "      <th>count</th>\n",
       "      <td>147.000000</td>\n",
       "      <td>145.000000</td>\n",
       "      <td>145.000000</td>\n",
       "      <td>32.000000</td>\n",
       "      <td>31.000000</td>\n",
       "      <td>33.000000</td>\n",
       "      <td>37.000000</td>\n",
       "      <td>37.000000</td>\n",
       "      <td>145.000000</td>\n",
       "      <td>145.000000</td>\n",
       "      <td>...</td>\n",
       "      <td>33.000000</td>\n",
       "      <td>37.000000</td>\n",
       "      <td>37.000000</td>\n",
       "      <td>145.000000</td>\n",
       "      <td>145.000000</td>\n",
       "      <td>32.000000</td>\n",
       "      <td>31.000000</td>\n",
       "      <td>33.000000</td>\n",
       "      <td>37.000000</td>\n",
       "      <td>37.000000</td>\n",
       "    </tr>\n",
       "    <tr>\n",
       "      <th>mean</th>\n",
       "      <td>9.211497</td>\n",
       "      <td>9.168506</td>\n",
       "      <td>9.148126</td>\n",
       "      <td>10.002813</td>\n",
       "      <td>8.483226</td>\n",
       "      <td>6.095152</td>\n",
       "      <td>9.396892</td>\n",
       "      <td>7.598243</td>\n",
       "      <td>0.588168</td>\n",
       "      <td>0.660910</td>\n",
       "      <td>...</td>\n",
       "      <td>6.982515</td>\n",
       "      <td>3.373689</td>\n",
       "      <td>3.200135</td>\n",
       "      <td>4.972724</td>\n",
       "      <td>4.906379</td>\n",
       "      <td>4.665312</td>\n",
       "      <td>5.871935</td>\n",
       "      <td>8.678788</td>\n",
       "      <td>3.884054</td>\n",
       "      <td>3.957703</td>\n",
       "    </tr>\n",
       "    <tr>\n",
       "      <th>std</th>\n",
       "      <td>2.886614</td>\n",
       "      <td>4.188197</td>\n",
       "      <td>3.746898</td>\n",
       "      <td>2.667096</td>\n",
       "      <td>2.527239</td>\n",
       "      <td>3.279915</td>\n",
       "      <td>2.848153</td>\n",
       "      <td>3.409060</td>\n",
       "      <td>0.462262</td>\n",
       "      <td>0.591798</td>\n",
       "      <td>...</td>\n",
       "      <td>4.466642</td>\n",
       "      <td>2.823756</td>\n",
       "      <td>2.868225</td>\n",
       "      <td>2.044057</td>\n",
       "      <td>2.001381</td>\n",
       "      <td>2.057903</td>\n",
       "      <td>2.555560</td>\n",
       "      <td>5.299039</td>\n",
       "      <td>1.615542</td>\n",
       "      <td>1.916813</td>\n",
       "    </tr>\n",
       "    <tr>\n",
       "      <th>min</th>\n",
       "      <td>1.900000</td>\n",
       "      <td>2.200000</td>\n",
       "      <td>2.200000</td>\n",
       "      <td>4.660000</td>\n",
       "      <td>4.900000</td>\n",
       "      <td>0.000000</td>\n",
       "      <td>0.000000</td>\n",
       "      <td>0.000000</td>\n",
       "      <td>0.040000</td>\n",
       "      <td>0.020000</td>\n",
       "      <td>...</td>\n",
       "      <td>0.670000</td>\n",
       "      <td>0.100000</td>\n",
       "      <td>0.000000</td>\n",
       "      <td>0.900000</td>\n",
       "      <td>1.040000</td>\n",
       "      <td>2.040000</td>\n",
       "      <td>2.480000</td>\n",
       "      <td>2.880000</td>\n",
       "      <td>1.000000</td>\n",
       "      <td>1.600000</td>\n",
       "    </tr>\n",
       "    <tr>\n",
       "      <th>25%</th>\n",
       "      <td>7.375000</td>\n",
       "      <td>7.050000</td>\n",
       "      <td>7.200000</td>\n",
       "      <td>8.100000</td>\n",
       "      <td>6.865000</td>\n",
       "      <td>3.290000</td>\n",
       "      <td>8.800000</td>\n",
       "      <td>6.170000</td>\n",
       "      <td>0.230000</td>\n",
       "      <td>0.215000</td>\n",
       "      <td>...</td>\n",
       "      <td>4.100000</td>\n",
       "      <td>1.440000</td>\n",
       "      <td>1.610000</td>\n",
       "      <td>3.500000</td>\n",
       "      <td>3.400000</td>\n",
       "      <td>3.325000</td>\n",
       "      <td>4.445000</td>\n",
       "      <td>5.840000</td>\n",
       "      <td>2.900000</td>\n",
       "      <td>2.900000</td>\n",
       "    </tr>\n",
       "    <tr>\n",
       "      <th>50%</th>\n",
       "      <td>8.800000</td>\n",
       "      <td>8.700000</td>\n",
       "      <td>8.566667</td>\n",
       "      <td>9.522500</td>\n",
       "      <td>7.800000</td>\n",
       "      <td>5.800000</td>\n",
       "      <td>9.805000</td>\n",
       "      <td>7.150000</td>\n",
       "      <td>0.425000</td>\n",
       "      <td>0.440000</td>\n",
       "      <td>...</td>\n",
       "      <td>6.050000</td>\n",
       "      <td>2.650000</td>\n",
       "      <td>1.900000</td>\n",
       "      <td>4.800000</td>\n",
       "      <td>4.833333</td>\n",
       "      <td>4.150000</td>\n",
       "      <td>5.500000</td>\n",
       "      <td>7.300000</td>\n",
       "      <td>3.400000</td>\n",
       "      <td>3.500000</td>\n",
       "    </tr>\n",
       "    <tr>\n",
       "      <th>75%</th>\n",
       "      <td>10.850000</td>\n",
       "      <td>10.600000</td>\n",
       "      <td>10.500000</td>\n",
       "      <td>11.611250</td>\n",
       "      <td>9.232500</td>\n",
       "      <td>9.500000</td>\n",
       "      <td>10.440000</td>\n",
       "      <td>8.700000</td>\n",
       "      <td>0.800000</td>\n",
       "      <td>0.910000</td>\n",
       "      <td>...</td>\n",
       "      <td>8.550000</td>\n",
       "      <td>4.320000</td>\n",
       "      <td>3.800000</td>\n",
       "      <td>6.450000</td>\n",
       "      <td>6.200000</td>\n",
       "      <td>5.970000</td>\n",
       "      <td>6.400000</td>\n",
       "      <td>8.415000</td>\n",
       "      <td>4.800000</td>\n",
       "      <td>4.400000</td>\n",
       "    </tr>\n",
       "    <tr>\n",
       "      <th>max</th>\n",
       "      <td>19.100000</td>\n",
       "      <td>46.950000</td>\n",
       "      <td>40.900000</td>\n",
       "      <td>15.900000</td>\n",
       "      <td>15.400000</td>\n",
       "      <td>11.800000</td>\n",
       "      <td>13.700000</td>\n",
       "      <td>15.900000</td>\n",
       "      <td>2.400000</td>\n",
       "      <td>3.600000</td>\n",
       "      <td>...</td>\n",
       "      <td>20.050000</td>\n",
       "      <td>10.200000</td>\n",
       "      <td>13.300000</td>\n",
       "      <td>10.900000</td>\n",
       "      <td>11.000000</td>\n",
       "      <td>10.665000</td>\n",
       "      <td>14.790000</td>\n",
       "      <td>27.120000</td>\n",
       "      <td>8.540000</td>\n",
       "      <td>10.370000</td>\n",
       "    </tr>\n",
       "  </tbody>\n",
       "</table>\n",
       "<p>8 rows × 36 columns</p>\n",
       "</div>"
      ],
      "text/plain": [
       "           target        O2_1        O2_2       O2_3       O2_4       O2_5  \\\n",
       "count  147.000000  145.000000  145.000000  32.000000  31.000000  33.000000   \n",
       "mean     9.211497    9.168506    9.148126  10.002813   8.483226   6.095152   \n",
       "std      2.886614    4.188197    3.746898   2.667096   2.527239   3.279915   \n",
       "min      1.900000    2.200000    2.200000   4.660000   4.900000   0.000000   \n",
       "25%      7.375000    7.050000    7.200000   8.100000   6.865000   3.290000   \n",
       "50%      8.800000    8.700000    8.566667   9.522500   7.800000   5.800000   \n",
       "75%     10.850000   10.600000   10.500000  11.611250   9.232500   9.500000   \n",
       "max     19.100000   46.950000   40.900000  15.900000  15.400000  11.800000   \n",
       "\n",
       "            O2_6       O2_7       NH4_1       NH4_2  ...      NO3_5  \\\n",
       "count  37.000000  37.000000  145.000000  145.000000  ...  33.000000   \n",
       "mean    9.396892   7.598243    0.588168    0.660910  ...   6.982515   \n",
       "std     2.848153   3.409060    0.462262    0.591798  ...   4.466642   \n",
       "min     0.000000   0.000000    0.040000    0.020000  ...   0.670000   \n",
       "25%     8.800000   6.170000    0.230000    0.215000  ...   4.100000   \n",
       "50%     9.805000   7.150000    0.425000    0.440000  ...   6.050000   \n",
       "75%    10.440000   8.700000    0.800000    0.910000  ...   8.550000   \n",
       "max    13.700000  15.900000    2.400000    3.600000  ...  20.050000   \n",
       "\n",
       "           NO3_6      NO3_7      BOD5_1      BOD5_2     BOD5_3     BOD5_4  \\\n",
       "count  37.000000  37.000000  145.000000  145.000000  32.000000  31.000000   \n",
       "mean    3.373689   3.200135    4.972724    4.906379   4.665312   5.871935   \n",
       "std     2.823756   2.868225    2.044057    2.001381   2.057903   2.555560   \n",
       "min     0.100000   0.000000    0.900000    1.040000   2.040000   2.480000   \n",
       "25%     1.440000   1.610000    3.500000    3.400000   3.325000   4.445000   \n",
       "50%     2.650000   1.900000    4.800000    4.833333   4.150000   5.500000   \n",
       "75%     4.320000   3.800000    6.450000    6.200000   5.970000   6.400000   \n",
       "max    10.200000  13.300000   10.900000   11.000000  10.665000  14.790000   \n",
       "\n",
       "          BOD5_5     BOD5_6     BOD5_7  \n",
       "count  33.000000  37.000000  37.000000  \n",
       "mean    8.678788   3.884054   3.957703  \n",
       "std     5.299039   1.615542   1.916813  \n",
       "min     2.880000   1.000000   1.600000  \n",
       "25%     5.840000   2.900000   2.900000  \n",
       "50%     7.300000   3.400000   3.500000  \n",
       "75%     8.415000   4.800000   4.400000  \n",
       "max    27.120000   8.540000  10.370000  \n",
       "\n",
       "[8 rows x 36 columns]"
      ]
     },
     "execution_count": 5,
     "metadata": {},
     "output_type": "execute_result"
    }
   ],
   "source": [
    "og_train_set.describe()"
   ]
  },
  {
   "cell_type": "code",
   "execution_count": 6,
   "id": "5dcd6126",
   "metadata": {
    "execution": {
     "iopub.execute_input": "2023-08-30T18:51:07.174675Z",
     "iopub.status.busy": "2023-08-30T18:51:07.174337Z",
     "iopub.status.idle": "2023-08-30T18:51:07.192394Z",
     "shell.execute_reply": "2023-08-30T18:51:07.190872Z"
    },
    "papermill": {
     "duration": 0.031062,
     "end_time": "2023-08-30T18:51:07.194488",
     "exception": false,
     "start_time": "2023-08-30T18:51:07.163426",
     "status": "completed"
    },
    "tags": []
   },
   "outputs": [
    {
     "name": "stdout",
     "output_type": "stream",
     "text": [
      "<class 'pandas.core.frame.DataFrame'>\n",
      "Int64Index: 147 entries, 0 to 214\n",
      "Data columns (total 36 columns):\n",
      " #   Column  Non-Null Count  Dtype  \n",
      "---  ------  --------------  -----  \n",
      " 0   target  147 non-null    float64\n",
      " 1   O2_1    145 non-null    float64\n",
      " 2   O2_2    145 non-null    float64\n",
      " 3   O2_3    32 non-null     float64\n",
      " 4   O2_4    31 non-null     float64\n",
      " 5   O2_5    33 non-null     float64\n",
      " 6   O2_6    37 non-null     float64\n",
      " 7   O2_7    37 non-null     float64\n",
      " 8   NH4_1   145 non-null    float64\n",
      " 9   NH4_2   145 non-null    float64\n",
      " 10  NH4_3   32 non-null     float64\n",
      " 11  NH4_4   31 non-null     float64\n",
      " 12  NH4_5   33 non-null     float64\n",
      " 13  NH4_6   37 non-null     float64\n",
      " 14  NH4_7   37 non-null     float64\n",
      " 15  NO2_1   145 non-null    float64\n",
      " 16  NO2_2   145 non-null    float64\n",
      " 17  NO2_3   32 non-null     float64\n",
      " 18  NO2_4   31 non-null     float64\n",
      " 19  NO2_5   33 non-null     float64\n",
      " 20  NO2_6   37 non-null     float64\n",
      " 21  NO2_7   37 non-null     float64\n",
      " 22  NO3_1   145 non-null    float64\n",
      " 23  NO3_2   145 non-null    float64\n",
      " 24  NO3_3   32 non-null     float64\n",
      " 25  NO3_4   31 non-null     float64\n",
      " 26  NO3_5   33 non-null     float64\n",
      " 27  NO3_6   37 non-null     float64\n",
      " 28  NO3_7   37 non-null     float64\n",
      " 29  BOD5_1  145 non-null    float64\n",
      " 30  BOD5_2  145 non-null    float64\n",
      " 31  BOD5_3  32 non-null     float64\n",
      " 32  BOD5_4  31 non-null     float64\n",
      " 33  BOD5_5  33 non-null     float64\n",
      " 34  BOD5_6  37 non-null     float64\n",
      " 35  BOD5_7  37 non-null     float64\n",
      "dtypes: float64(36)\n",
      "memory usage: 42.5 KB\n"
     ]
    }
   ],
   "source": [
    "og_train_set.info()"
   ]
  },
  {
   "cell_type": "code",
   "execution_count": 7,
   "id": "4ebcc1a7",
   "metadata": {
    "execution": {
     "iopub.execute_input": "2023-08-30T18:51:07.216304Z",
     "iopub.status.busy": "2023-08-30T18:51:07.215714Z",
     "iopub.status.idle": "2023-08-30T18:51:07.296853Z",
     "shell.execute_reply": "2023-08-30T18:51:07.295668Z"
    },
    "papermill": {
     "duration": 0.094363,
     "end_time": "2023-08-30T18:51:07.299063",
     "exception": false,
     "start_time": "2023-08-30T18:51:07.204700",
     "status": "completed"
    },
    "tags": []
   },
   "outputs": [
    {
     "name": "stdout",
     "output_type": "stream",
     "text": [
      "Index(['O2_1', 'O2_2', 'O2_3', 'O2_4', 'O2_5', 'O2_6', 'O2_7', 'NH4_1',\n",
      "       'NH4_2', 'NH4_3', 'NH4_4', 'NH4_5', 'NH4_6', 'NH4_7', 'NO2_1', 'NO2_2',\n",
      "       'NO2_3', 'NO2_4', 'NO2_5', 'NO2_6', 'NO2_7', 'NO3_1', 'NO3_2', 'NO3_3',\n",
      "       'NO3_4', 'NO3_5', 'NO3_6', 'NO3_7', 'BOD5_1', 'BOD5_2', 'BOD5_3',\n",
      "       'BOD5_4', 'BOD5_5', 'BOD5_6', 'BOD5_7'],\n",
      "      dtype='object')\n"
     ]
    }
   ],
   "source": [
    "# collecting required data from the og train set\n",
    "description = og_train_set.describe()\n",
    "columns = og_train_set.columns\n",
    "columns = columns.drop(\"target\")\n",
    "print(columns)"
   ]
  },
  {
   "cell_type": "code",
   "execution_count": 8,
   "id": "fba92ba6",
   "metadata": {
    "execution": {
     "iopub.execute_input": "2023-08-30T18:51:07.320599Z",
     "iopub.status.busy": "2023-08-30T18:51:07.320249Z",
     "iopub.status.idle": "2023-08-30T18:51:07.324877Z",
     "shell.execute_reply": "2023-08-30T18:51:07.323892Z"
    },
    "papermill": {
     "duration": 0.017653,
     "end_time": "2023-08-30T18:51:07.326813",
     "exception": false,
     "start_time": "2023-08-30T18:51:07.309160",
     "status": "completed"
    },
    "tags": []
   },
   "outputs": [],
   "source": [
    "# from the og data set we are checking what percentage of 0' or missing data are there in each column\n",
    "def fill_missing_data_perc(df):\n",
    "    df = df.fillna(0)\n",
    "    return df"
   ]
  },
  {
   "cell_type": "code",
   "execution_count": 9,
   "id": "afa9ce0c",
   "metadata": {
    "execution": {
     "iopub.execute_input": "2023-08-30T18:51:07.348323Z",
     "iopub.status.busy": "2023-08-30T18:51:07.347761Z",
     "iopub.status.idle": "2023-08-30T18:51:07.364833Z",
     "shell.execute_reply": "2023-08-30T18:51:07.363951Z"
    },
    "papermill": {
     "duration": 0.030077,
     "end_time": "2023-08-30T18:51:07.366922",
     "exception": false,
     "start_time": "2023-08-30T18:51:07.336845",
     "status": "completed"
    },
    "tags": []
   },
   "outputs": [
    {
     "data": {
      "text/plain": [
       "array([{'col': 'O2_1', 'perc': 1.0}, {'col': 'O2_2', 'perc': 1.0},\n",
       "       {'col': 'O2_3', 'perc': 78.0}, {'col': 'O2_4', 'perc': 79.0},\n",
       "       {'col': 'O2_5', 'perc': 78.0}, {'col': 'O2_6', 'perc': 76.0},\n",
       "       {'col': 'O2_7', 'perc': 76.0}, {'col': 'NH4_1', 'perc': 1.0},\n",
       "       {'col': 'NH4_2', 'perc': 1.0}, {'col': 'NH4_3', 'perc': 78.0},\n",
       "       {'col': 'NH4_4', 'perc': 79.0}, {'col': 'NH4_5', 'perc': 78.0},\n",
       "       {'col': 'NH4_6', 'perc': 75.0}, {'col': 'NH4_7', 'perc': 75.0},\n",
       "       {'col': 'NO2_1', 'perc': 2.0}, {'col': 'NO2_2', 'perc': 2.0},\n",
       "       {'col': 'NO2_3', 'perc': 78.0}, {'col': 'NO2_4', 'perc': 79.0},\n",
       "       {'col': 'NO2_5', 'perc': 78.0}, {'col': 'NO2_6', 'perc': 77.0},\n",
       "       {'col': 'NO2_7', 'perc': 76.0}, {'col': 'NO3_1', 'perc': 4.0},\n",
       "       {'col': 'NO3_2', 'perc': 3.0}, {'col': 'NO3_3', 'perc': 79.0},\n",
       "       {'col': 'NO3_4', 'perc': 79.0}, {'col': 'NO3_5', 'perc': 78.0},\n",
       "       {'col': 'NO3_6', 'perc': 75.0}, {'col': 'NO3_7', 'perc': 76.0},\n",
       "       {'col': 'BOD5_1', 'perc': 1.0}, {'col': 'BOD5_2', 'perc': 1.0},\n",
       "       {'col': 'BOD5_3', 'perc': 78.0}, {'col': 'BOD5_4', 'perc': 79.0},\n",
       "       {'col': 'BOD5_5', 'perc': 78.0}, {'col': 'BOD5_6', 'perc': 75.0},\n",
       "       {'col': 'BOD5_7', 'perc': 75.0}], dtype=object)"
      ]
     },
     "execution_count": 9,
     "metadata": {},
     "output_type": "execute_result"
    }
   ],
   "source": [
    "# counting the persentage of 0's in each column\n",
    "def get_perc_of_0_value():\n",
    "    temp_df = fill_missing_data_perc(og_train_set)\n",
    "    perc_0 = np.array([])\n",
    "    for column in columns:\n",
    "        perc = (((temp_df[column]==0).sum()/len(og_train_set[column])) * 100).round()\n",
    "        perc_0 = np.append(perc_0, {'col': column, 'perc': perc})\n",
    "    return perc_0\n",
    "\n",
    "column_0_ratio = get_perc_of_0_value()\n",
    "column_0_ratio"
   ]
  },
  {
   "cell_type": "code",
   "execution_count": 10,
   "id": "e73816fc",
   "metadata": {
    "execution": {
     "iopub.execute_input": "2023-08-30T18:51:07.388767Z",
     "iopub.status.busy": "2023-08-30T18:51:07.388183Z",
     "iopub.status.idle": "2023-08-30T18:51:07.394365Z",
     "shell.execute_reply": "2023-08-30T18:51:07.393289Z"
    },
    "papermill": {
     "duration": 0.019415,
     "end_time": "2023-08-30T18:51:07.396577",
     "exception": false,
     "start_time": "2023-08-30T18:51:07.377162",
     "status": "completed"
    },
    "tags": []
   },
   "outputs": [],
   "source": [
    "# will try to drop all columns which has more than 70% 0s\n",
    "col_list = np.array([])\n",
    "col_list_fill_0 = np.array([])\n",
    "for col_ratio in column_0_ratio:\n",
    "    if col_ratio['perc'] < 70:\n",
    "        col_list = np.append(col_list, col_ratio['col'])\n",
    "    else:\n",
    "        col_list_fill_0 = np.append(col_list_fill_0, col_ratio['col'])"
   ]
  },
  {
   "cell_type": "code",
   "execution_count": 11,
   "id": "2b9aae8a",
   "metadata": {
    "execution": {
     "iopub.execute_input": "2023-08-30T18:51:07.418908Z",
     "iopub.status.busy": "2023-08-30T18:51:07.418554Z",
     "iopub.status.idle": "2023-08-30T18:51:07.422636Z",
     "shell.execute_reply": "2023-08-30T18:51:07.421699Z"
    },
    "papermill": {
     "duration": 0.017335,
     "end_time": "2023-08-30T18:51:07.424524",
     "exception": false,
     "start_time": "2023-08-30T18:51:07.407189",
     "status": "completed"
    },
    "tags": []
   },
   "outputs": [],
   "source": [
    "# mid submission\n",
    "# col_list = np.append(col_list, \"target\")\n",
    "# col_list = np.append(col_list, col_list_fill_0)\n",
    "# df = og_train_set[col_list]\n",
    "# df.loc[:, col_list_fill_0] = 0\n",
    "# df.shape\n"
   ]
  },
  {
   "cell_type": "code",
   "execution_count": 12,
   "id": "c1151eaf",
   "metadata": {
    "execution": {
     "iopub.execute_input": "2023-08-30T18:51:07.445816Z",
     "iopub.status.busy": "2023-08-30T18:51:07.445492Z",
     "iopub.status.idle": "2023-08-30T18:51:07.448559Z",
     "shell.execute_reply": "2023-08-30T18:51:07.447895Z"
    },
    "papermill": {
     "duration": 0.016068,
     "end_time": "2023-08-30T18:51:07.450637",
     "exception": false,
     "start_time": "2023-08-30T18:51:07.434569",
     "status": "completed"
    },
    "tags": []
   },
   "outputs": [],
   "source": [
    "# mid submission\n",
    "# df.to_csv('train_set.csv')"
   ]
  },
  {
   "cell_type": "markdown",
   "id": "f28e58c3",
   "metadata": {
    "papermill": {
     "duration": 0.009753,
     "end_time": "2023-08-30T18:51:07.470474",
     "exception": false,
     "start_time": "2023-08-30T18:51:07.460721",
     "status": "completed"
    },
    "tags": []
   },
   "source": [
    "1. So first lets create a data frame with the same columns\n",
    "2. Lets pick a size and fill 1's in them\n",
    "3. Lets ppopulate 0 in same ratio of that of our og_test_set\n",
    "4. Lets identify 1 in each row and fill the 25% - 75% random values in it"
   ]
  },
  {
   "cell_type": "code",
   "execution_count": 13,
   "id": "afa90dce",
   "metadata": {
    "execution": {
     "iopub.execute_input": "2023-08-30T18:51:07.492199Z",
     "iopub.status.busy": "2023-08-30T18:51:07.491786Z",
     "iopub.status.idle": "2023-08-30T18:51:07.497044Z",
     "shell.execute_reply": "2023-08-30T18:51:07.496060Z"
    },
    "papermill": {
     "duration": 0.018702,
     "end_time": "2023-08-30T18:51:07.499169",
     "exception": false,
     "start_time": "2023-08-30T18:51:07.480467",
     "status": "completed"
    },
    "tags": []
   },
   "outputs": [],
   "source": [
    "import random\n",
    "\n",
    "def fill_0_in_col_with_ratio(df, column_name, ratio, size):\n",
    "    no_of_ids = (size * (ratio / 100)).round()\n",
    "    random_numbers = random.sample(range(0, size), int(no_of_ids))\n",
    "    df.loc[random_numbers, column_name] = 0\n",
    "    return df"
   ]
  },
  {
   "cell_type": "code",
   "execution_count": 14,
   "id": "2ed03e1a",
   "metadata": {
    "execution": {
     "iopub.execute_input": "2023-08-30T18:51:07.520857Z",
     "iopub.status.busy": "2023-08-30T18:51:07.520538Z",
     "iopub.status.idle": "2023-08-30T18:51:07.526360Z",
     "shell.execute_reply": "2023-08-30T18:51:07.525337Z"
    },
    "papermill": {
     "duration": 0.018992,
     "end_time": "2023-08-30T18:51:07.528289",
     "exception": false,
     "start_time": "2023-08-30T18:51:07.509297",
     "status": "completed"
    },
    "tags": []
   },
   "outputs": [],
   "source": [
    "column_list_to_populate = ['O2_1', \n",
    "                           'O2_2', \n",
    "                           'NH4_1', \n",
    "                           'NH4_2', \n",
    "                           'NO2_1', \n",
    "                           'NO2_2', \n",
    "                           'NO3_1', \n",
    "                           'NO3_2', \n",
    "                           'BOD5_1', \n",
    "                           'BOD5_2']\n",
    "def fill_rest_1_with_25_75_ratio(df, desc):\n",
    "    for column in column_list_to_populate:\n",
    "        row_indices = df.index[df[column] == 1].tolist()\n",
    "        \n",
    "        for row_index in row_indices:\n",
    "            random_number = np.random.uniform(desc[column]['25%'], desc[column]['75%'])\n",
    "            df.loc[row_index, column] = random_number\n",
    "            \n",
    "    return df"
   ]
  },
  {
   "cell_type": "code",
   "execution_count": 15,
   "id": "9d38a18b",
   "metadata": {
    "execution": {
     "iopub.execute_input": "2023-08-30T18:51:07.550460Z",
     "iopub.status.busy": "2023-08-30T18:51:07.550078Z",
     "iopub.status.idle": "2023-08-30T18:51:07.555586Z",
     "shell.execute_reply": "2023-08-30T18:51:07.554519Z"
    },
    "papermill": {
     "duration": 0.018728,
     "end_time": "2023-08-30T18:51:07.557538",
     "exception": false,
     "start_time": "2023-08-30T18:51:07.538810",
     "status": "completed"
    },
    "tags": []
   },
   "outputs": [],
   "source": [
    "# creating a fresh set of training dat with same columns\n",
    "\n",
    "def recreating_training_set(size):\n",
    "    train_set = pd.DataFrame(columns=columns)\n",
    "    train_set = train_set.append(pd.DataFrame(np.ones((size, len(columns))), columns=columns), ignore_index=True)\n",
    "    for col_ratio in column_0_ratio:\n",
    "        train_set = fill_0_in_col_with_ratio(train_set, col_ratio['col'], col_ratio['perc'], size)\n",
    "    train_set = fill_rest_1_with_25_75_ratio(train_set, description)\n",
    "    return train_set"
   ]
  },
  {
   "cell_type": "code",
   "execution_count": 16,
   "id": "15369701",
   "metadata": {
    "execution": {
     "iopub.execute_input": "2023-08-30T18:51:07.579158Z",
     "iopub.status.busy": "2023-08-30T18:51:07.578581Z",
     "iopub.status.idle": "2023-08-30T18:51:11.170307Z",
     "shell.execute_reply": "2023-08-30T18:51:11.169295Z"
    },
    "papermill": {
     "duration": 3.605404,
     "end_time": "2023-08-30T18:51:11.172956",
     "exception": false,
     "start_time": "2023-08-30T18:51:07.567552",
     "status": "completed"
    },
    "tags": []
   },
   "outputs": [
    {
     "name": "stderr",
     "output_type": "stream",
     "text": [
      "/tmp/ipykernel_20/93270262.py:5: FutureWarning: The frame.append method is deprecated and will be removed from pandas in a future version. Use pandas.concat instead.\n",
      "  train_set = train_set.append(pd.DataFrame(np.ones((size, len(columns))), columns=columns), ignore_index=True)\n"
     ]
    },
    {
     "data": {
      "text/html": [
       "<div>\n",
       "<style scoped>\n",
       "    .dataframe tbody tr th:only-of-type {\n",
       "        vertical-align: middle;\n",
       "    }\n",
       "\n",
       "    .dataframe tbody tr th {\n",
       "        vertical-align: top;\n",
       "    }\n",
       "\n",
       "    .dataframe thead th {\n",
       "        text-align: right;\n",
       "    }\n",
       "</style>\n",
       "<table border=\"1\" class=\"dataframe\">\n",
       "  <thead>\n",
       "    <tr style=\"text-align: right;\">\n",
       "      <th></th>\n",
       "      <th>O2_1</th>\n",
       "      <th>O2_2</th>\n",
       "      <th>O2_3</th>\n",
       "      <th>O2_4</th>\n",
       "      <th>O2_5</th>\n",
       "      <th>O2_6</th>\n",
       "      <th>O2_7</th>\n",
       "      <th>NH4_1</th>\n",
       "      <th>NH4_2</th>\n",
       "      <th>NH4_3</th>\n",
       "      <th>...</th>\n",
       "      <th>NO3_5</th>\n",
       "      <th>NO3_6</th>\n",
       "      <th>NO3_7</th>\n",
       "      <th>BOD5_1</th>\n",
       "      <th>BOD5_2</th>\n",
       "      <th>BOD5_3</th>\n",
       "      <th>BOD5_4</th>\n",
       "      <th>BOD5_5</th>\n",
       "      <th>BOD5_6</th>\n",
       "      <th>BOD5_7</th>\n",
       "    </tr>\n",
       "  </thead>\n",
       "  <tbody>\n",
       "    <tr>\n",
       "      <th>0</th>\n",
       "      <td>10.428342</td>\n",
       "      <td>9.102673</td>\n",
       "      <td>0.0</td>\n",
       "      <td>1.0</td>\n",
       "      <td>0.0</td>\n",
       "      <td>0.0</td>\n",
       "      <td>1.0</td>\n",
       "      <td>0.404064</td>\n",
       "      <td>0.343985</td>\n",
       "      <td>0.0</td>\n",
       "      <td>...</td>\n",
       "      <td>1.0</td>\n",
       "      <td>0.0</td>\n",
       "      <td>0.0</td>\n",
       "      <td>4.227138</td>\n",
       "      <td>5.443125</td>\n",
       "      <td>0.0</td>\n",
       "      <td>1.0</td>\n",
       "      <td>0.0</td>\n",
       "      <td>0.0</td>\n",
       "      <td>1.0</td>\n",
       "    </tr>\n",
       "    <tr>\n",
       "      <th>1</th>\n",
       "      <td>8.872221</td>\n",
       "      <td>10.199359</td>\n",
       "      <td>0.0</td>\n",
       "      <td>0.0</td>\n",
       "      <td>0.0</td>\n",
       "      <td>0.0</td>\n",
       "      <td>0.0</td>\n",
       "      <td>0.450385</td>\n",
       "      <td>0.237417</td>\n",
       "      <td>0.0</td>\n",
       "      <td>...</td>\n",
       "      <td>0.0</td>\n",
       "      <td>0.0</td>\n",
       "      <td>0.0</td>\n",
       "      <td>4.993915</td>\n",
       "      <td>5.566646</td>\n",
       "      <td>0.0</td>\n",
       "      <td>0.0</td>\n",
       "      <td>0.0</td>\n",
       "      <td>0.0</td>\n",
       "      <td>0.0</td>\n",
       "    </tr>\n",
       "    <tr>\n",
       "      <th>2</th>\n",
       "      <td>9.045822</td>\n",
       "      <td>9.390543</td>\n",
       "      <td>0.0</td>\n",
       "      <td>0.0</td>\n",
       "      <td>0.0</td>\n",
       "      <td>0.0</td>\n",
       "      <td>0.0</td>\n",
       "      <td>0.389418</td>\n",
       "      <td>0.534673</td>\n",
       "      <td>0.0</td>\n",
       "      <td>...</td>\n",
       "      <td>0.0</td>\n",
       "      <td>1.0</td>\n",
       "      <td>0.0</td>\n",
       "      <td>5.319523</td>\n",
       "      <td>5.306252</td>\n",
       "      <td>0.0</td>\n",
       "      <td>0.0</td>\n",
       "      <td>0.0</td>\n",
       "      <td>0.0</td>\n",
       "      <td>0.0</td>\n",
       "    </tr>\n",
       "    <tr>\n",
       "      <th>3</th>\n",
       "      <td>8.880482</td>\n",
       "      <td>7.406509</td>\n",
       "      <td>0.0</td>\n",
       "      <td>0.0</td>\n",
       "      <td>0.0</td>\n",
       "      <td>0.0</td>\n",
       "      <td>0.0</td>\n",
       "      <td>0.278334</td>\n",
       "      <td>0.526260</td>\n",
       "      <td>0.0</td>\n",
       "      <td>...</td>\n",
       "      <td>0.0</td>\n",
       "      <td>0.0</td>\n",
       "      <td>0.0</td>\n",
       "      <td>5.713452</td>\n",
       "      <td>3.607132</td>\n",
       "      <td>1.0</td>\n",
       "      <td>0.0</td>\n",
       "      <td>0.0</td>\n",
       "      <td>0.0</td>\n",
       "      <td>0.0</td>\n",
       "    </tr>\n",
       "    <tr>\n",
       "      <th>4</th>\n",
       "      <td>9.416646</td>\n",
       "      <td>9.743096</td>\n",
       "      <td>0.0</td>\n",
       "      <td>0.0</td>\n",
       "      <td>0.0</td>\n",
       "      <td>0.0</td>\n",
       "      <td>0.0</td>\n",
       "      <td>0.572559</td>\n",
       "      <td>0.796418</td>\n",
       "      <td>0.0</td>\n",
       "      <td>...</td>\n",
       "      <td>0.0</td>\n",
       "      <td>0.0</td>\n",
       "      <td>0.0</td>\n",
       "      <td>4.516454</td>\n",
       "      <td>4.772411</td>\n",
       "      <td>0.0</td>\n",
       "      <td>1.0</td>\n",
       "      <td>0.0</td>\n",
       "      <td>0.0</td>\n",
       "      <td>0.0</td>\n",
       "    </tr>\n",
       "    <tr>\n",
       "      <th>...</th>\n",
       "      <td>...</td>\n",
       "      <td>...</td>\n",
       "      <td>...</td>\n",
       "      <td>...</td>\n",
       "      <td>...</td>\n",
       "      <td>...</td>\n",
       "      <td>...</td>\n",
       "      <td>...</td>\n",
       "      <td>...</td>\n",
       "      <td>...</td>\n",
       "      <td>...</td>\n",
       "      <td>...</td>\n",
       "      <td>...</td>\n",
       "      <td>...</td>\n",
       "      <td>...</td>\n",
       "      <td>...</td>\n",
       "      <td>...</td>\n",
       "      <td>...</td>\n",
       "      <td>...</td>\n",
       "      <td>...</td>\n",
       "      <td>...</td>\n",
       "    </tr>\n",
       "    <tr>\n",
       "      <th>3495</th>\n",
       "      <td>8.823534</td>\n",
       "      <td>8.780021</td>\n",
       "      <td>1.0</td>\n",
       "      <td>0.0</td>\n",
       "      <td>1.0</td>\n",
       "      <td>0.0</td>\n",
       "      <td>0.0</td>\n",
       "      <td>0.294045</td>\n",
       "      <td>0.566761</td>\n",
       "      <td>0.0</td>\n",
       "      <td>...</td>\n",
       "      <td>1.0</td>\n",
       "      <td>1.0</td>\n",
       "      <td>0.0</td>\n",
       "      <td>6.080727</td>\n",
       "      <td>3.648458</td>\n",
       "      <td>0.0</td>\n",
       "      <td>0.0</td>\n",
       "      <td>1.0</td>\n",
       "      <td>1.0</td>\n",
       "      <td>0.0</td>\n",
       "    </tr>\n",
       "    <tr>\n",
       "      <th>3496</th>\n",
       "      <td>8.474124</td>\n",
       "      <td>10.482739</td>\n",
       "      <td>0.0</td>\n",
       "      <td>0.0</td>\n",
       "      <td>0.0</td>\n",
       "      <td>0.0</td>\n",
       "      <td>0.0</td>\n",
       "      <td>0.447817</td>\n",
       "      <td>0.771684</td>\n",
       "      <td>0.0</td>\n",
       "      <td>...</td>\n",
       "      <td>0.0</td>\n",
       "      <td>0.0</td>\n",
       "      <td>0.0</td>\n",
       "      <td>5.124796</td>\n",
       "      <td>4.059871</td>\n",
       "      <td>0.0</td>\n",
       "      <td>0.0</td>\n",
       "      <td>0.0</td>\n",
       "      <td>0.0</td>\n",
       "      <td>0.0</td>\n",
       "    </tr>\n",
       "    <tr>\n",
       "      <th>3497</th>\n",
       "      <td>0.000000</td>\n",
       "      <td>10.287352</td>\n",
       "      <td>0.0</td>\n",
       "      <td>0.0</td>\n",
       "      <td>0.0</td>\n",
       "      <td>1.0</td>\n",
       "      <td>0.0</td>\n",
       "      <td>0.668123</td>\n",
       "      <td>0.509712</td>\n",
       "      <td>0.0</td>\n",
       "      <td>...</td>\n",
       "      <td>0.0</td>\n",
       "      <td>0.0</td>\n",
       "      <td>0.0</td>\n",
       "      <td>3.920122</td>\n",
       "      <td>5.858844</td>\n",
       "      <td>0.0</td>\n",
       "      <td>0.0</td>\n",
       "      <td>0.0</td>\n",
       "      <td>0.0</td>\n",
       "      <td>0.0</td>\n",
       "    </tr>\n",
       "    <tr>\n",
       "      <th>3498</th>\n",
       "      <td>7.809357</td>\n",
       "      <td>9.778687</td>\n",
       "      <td>0.0</td>\n",
       "      <td>0.0</td>\n",
       "      <td>1.0</td>\n",
       "      <td>0.0</td>\n",
       "      <td>0.0</td>\n",
       "      <td>0.263604</td>\n",
       "      <td>0.233553</td>\n",
       "      <td>1.0</td>\n",
       "      <td>...</td>\n",
       "      <td>0.0</td>\n",
       "      <td>1.0</td>\n",
       "      <td>0.0</td>\n",
       "      <td>4.606116</td>\n",
       "      <td>0.000000</td>\n",
       "      <td>1.0</td>\n",
       "      <td>1.0</td>\n",
       "      <td>0.0</td>\n",
       "      <td>0.0</td>\n",
       "      <td>1.0</td>\n",
       "    </tr>\n",
       "    <tr>\n",
       "      <th>3499</th>\n",
       "      <td>9.165883</td>\n",
       "      <td>8.252730</td>\n",
       "      <td>0.0</td>\n",
       "      <td>1.0</td>\n",
       "      <td>0.0</td>\n",
       "      <td>0.0</td>\n",
       "      <td>0.0</td>\n",
       "      <td>0.568629</td>\n",
       "      <td>0.665134</td>\n",
       "      <td>0.0</td>\n",
       "      <td>...</td>\n",
       "      <td>1.0</td>\n",
       "      <td>0.0</td>\n",
       "      <td>0.0</td>\n",
       "      <td>5.066100</td>\n",
       "      <td>4.108504</td>\n",
       "      <td>1.0</td>\n",
       "      <td>0.0</td>\n",
       "      <td>0.0</td>\n",
       "      <td>1.0</td>\n",
       "      <td>0.0</td>\n",
       "    </tr>\n",
       "  </tbody>\n",
       "</table>\n",
       "<p>3500 rows × 35 columns</p>\n",
       "</div>"
      ],
      "text/plain": [
       "           O2_1       O2_2  O2_3  O2_4  O2_5  O2_6  O2_7     NH4_1     NH4_2  \\\n",
       "0     10.428342   9.102673   0.0   1.0   0.0   0.0   1.0  0.404064  0.343985   \n",
       "1      8.872221  10.199359   0.0   0.0   0.0   0.0   0.0  0.450385  0.237417   \n",
       "2      9.045822   9.390543   0.0   0.0   0.0   0.0   0.0  0.389418  0.534673   \n",
       "3      8.880482   7.406509   0.0   0.0   0.0   0.0   0.0  0.278334  0.526260   \n",
       "4      9.416646   9.743096   0.0   0.0   0.0   0.0   0.0  0.572559  0.796418   \n",
       "...         ...        ...   ...   ...   ...   ...   ...       ...       ...   \n",
       "3495   8.823534   8.780021   1.0   0.0   1.0   0.0   0.0  0.294045  0.566761   \n",
       "3496   8.474124  10.482739   0.0   0.0   0.0   0.0   0.0  0.447817  0.771684   \n",
       "3497   0.000000  10.287352   0.0   0.0   0.0   1.0   0.0  0.668123  0.509712   \n",
       "3498   7.809357   9.778687   0.0   0.0   1.0   0.0   0.0  0.263604  0.233553   \n",
       "3499   9.165883   8.252730   0.0   1.0   0.0   0.0   0.0  0.568629  0.665134   \n",
       "\n",
       "      NH4_3  ...  NO3_5  NO3_6  NO3_7    BOD5_1    BOD5_2  BOD5_3  BOD5_4  \\\n",
       "0       0.0  ...    1.0    0.0    0.0  4.227138  5.443125     0.0     1.0   \n",
       "1       0.0  ...    0.0    0.0    0.0  4.993915  5.566646     0.0     0.0   \n",
       "2       0.0  ...    0.0    1.0    0.0  5.319523  5.306252     0.0     0.0   \n",
       "3       0.0  ...    0.0    0.0    0.0  5.713452  3.607132     1.0     0.0   \n",
       "4       0.0  ...    0.0    0.0    0.0  4.516454  4.772411     0.0     1.0   \n",
       "...     ...  ...    ...    ...    ...       ...       ...     ...     ...   \n",
       "3495    0.0  ...    1.0    1.0    0.0  6.080727  3.648458     0.0     0.0   \n",
       "3496    0.0  ...    0.0    0.0    0.0  5.124796  4.059871     0.0     0.0   \n",
       "3497    0.0  ...    0.0    0.0    0.0  3.920122  5.858844     0.0     0.0   \n",
       "3498    1.0  ...    0.0    1.0    0.0  4.606116  0.000000     1.0     1.0   \n",
       "3499    0.0  ...    1.0    0.0    0.0  5.066100  4.108504     1.0     0.0   \n",
       "\n",
       "      BOD5_5  BOD5_6  BOD5_7  \n",
       "0        0.0     0.0     1.0  \n",
       "1        0.0     0.0     0.0  \n",
       "2        0.0     0.0     0.0  \n",
       "3        0.0     0.0     0.0  \n",
       "4        0.0     0.0     0.0  \n",
       "...      ...     ...     ...  \n",
       "3495     1.0     1.0     0.0  \n",
       "3496     0.0     0.0     0.0  \n",
       "3497     0.0     0.0     0.0  \n",
       "3498     0.0     0.0     1.0  \n",
       "3499     0.0     1.0     0.0  \n",
       "\n",
       "[3500 rows x 35 columns]"
      ]
     },
     "execution_count": 16,
     "metadata": {},
     "output_type": "execute_result"
    }
   ],
   "source": [
    "train_set = recreating_training_set(3500)\n",
    "train_set"
   ]
  },
  {
   "cell_type": "code",
   "execution_count": 17,
   "id": "f2ad0ed0",
   "metadata": {
    "execution": {
     "iopub.execute_input": "2023-08-30T18:51:11.196892Z",
     "iopub.status.busy": "2023-08-30T18:51:11.196536Z",
     "iopub.status.idle": "2023-08-30T18:51:22.615860Z",
     "shell.execute_reply": "2023-08-30T18:51:22.614811Z"
    },
    "papermill": {
     "duration": 11.433911,
     "end_time": "2023-08-30T18:51:22.618114",
     "exception": false,
     "start_time": "2023-08-30T18:51:11.184203",
     "status": "completed"
    },
    "tags": []
   },
   "outputs": [
    {
     "name": "stderr",
     "output_type": "stream",
     "text": [
      "/opt/conda/lib/python3.10/site-packages/scipy/__init__.py:146: UserWarning: A NumPy version >=1.16.5 and <1.23.0 is required for this version of SciPy (detected version 1.23.5\n",
      "  warnings.warn(f\"A NumPy version >={np_minversion} and <{np_maxversion}\"\n"
     ]
    },
    {
     "data": {
      "text/plain": [
       "array([11.18665413,  8.80174407,  8.73595703, ...,  5.49569378,\n",
       "        7.5042833 ,  8.8405404 ])"
      ]
     },
     "execution_count": 17,
     "metadata": {},
     "output_type": "execute_result"
    }
   ],
   "source": [
    "# Now that we have similar data of that of og_train will try to generate targets with given model\n",
    "from sklearn.ensemble import RandomForestRegressor\n",
    "\n",
    "# taking submission set to train\n",
    "sub_train_set = pd.read_csv('/kaggle/input/playground-series-s3e21/sample_submission.csv', index_col=\"id\")\n",
    "\n",
    "X_test = sub_train_set['target']\n",
    "y_train = sub_train_set.pop('target') # train is your submission!\n",
    "rf = RandomForestRegressor(\n",
    "       n_estimators=1000,\n",
    "       max_depth=7,\n",
    "       n_jobs=-1,\n",
    "       random_state=42)\n",
    "rf.fit(sub_train_set, X_test)\n",
    "\n",
    "# train_set.rename(columns={'Id': 'id'}, inplace=True)\n",
    "# train_set.set_index('id', inplace=True)\n",
    "# train_set\n",
    "y_hat = rf.predict(train_set) # test set is hidden from you\n",
    "y_hat"
   ]
  },
  {
   "cell_type": "code",
   "execution_count": 18,
   "id": "b2f04980",
   "metadata": {
    "execution": {
     "iopub.execute_input": "2023-08-30T18:51:22.642298Z",
     "iopub.status.busy": "2023-08-30T18:51:22.641172Z",
     "iopub.status.idle": "2023-08-30T18:51:22.647168Z",
     "shell.execute_reply": "2023-08-30T18:51:22.646168Z"
    },
    "papermill": {
     "duration": 0.020283,
     "end_time": "2023-08-30T18:51:22.649446",
     "exception": false,
     "start_time": "2023-08-30T18:51:22.629163",
     "status": "completed"
    },
    "tags": []
   },
   "outputs": [],
   "source": [
    "train_set['target'] = y_hat"
   ]
  },
  {
   "cell_type": "code",
   "execution_count": 19,
   "id": "f11677db",
   "metadata": {
    "execution": {
     "iopub.execute_input": "2023-08-30T18:51:22.673060Z",
     "iopub.status.busy": "2023-08-30T18:51:22.672684Z",
     "iopub.status.idle": "2023-08-30T18:51:22.800988Z",
     "shell.execute_reply": "2023-08-30T18:51:22.799924Z"
    },
    "papermill": {
     "duration": 0.142965,
     "end_time": "2023-08-30T18:51:22.803480",
     "exception": false,
     "start_time": "2023-08-30T18:51:22.660515",
     "status": "completed"
    },
    "tags": []
   },
   "outputs": [],
   "source": [
    "train_set.index.name = 'id'\n",
    "train_set.replace(1, 0, inplace=True)\n",
    "train_set.to_csv('submission2.csv')"
   ]
  },
  {
   "cell_type": "markdown",
   "id": "2a627c83",
   "metadata": {
    "papermill": {
     "duration": 0.01053,
     "end_time": "2023-08-30T18:51:22.825074",
     "exception": false,
     "start_time": "2023-08-30T18:51:22.814544",
     "status": "completed"
    },
    "tags": []
   },
   "source": [
    "# Improving the score "
   ]
  },
  {
   "cell_type": "markdown",
   "id": "5b371cd1",
   "metadata": {
    "papermill": {
     "duration": 0.010547,
     "end_time": "2023-08-30T18:51:22.846430",
     "exception": false,
     "start_time": "2023-08-30T18:51:22.835883",
     "status": "completed"
    },
    "tags": []
   },
   "source": [
    "### Lets take another look at the og_train_set and then we will see the column and data patterns\n"
   ]
  },
  {
   "cell_type": "code",
   "execution_count": 20,
   "id": "354ef874",
   "metadata": {
    "execution": {
     "iopub.execute_input": "2023-08-30T18:51:22.870153Z",
     "iopub.status.busy": "2023-08-30T18:51:22.869739Z",
     "iopub.status.idle": "2023-08-30T18:51:22.875163Z",
     "shell.execute_reply": "2023-08-30T18:51:22.874159Z"
    },
    "papermill": {
     "duration": 0.019666,
     "end_time": "2023-08-30T18:51:22.877337",
     "exception": false,
     "start_time": "2023-08-30T18:51:22.857671",
     "status": "completed"
    },
    "tags": []
   },
   "outputs": [],
   "source": [
    "pattern_df = og_train_set.copy()\n",
    "pattern_df = pattern_df.fillna(0)"
   ]
  },
  {
   "cell_type": "code",
   "execution_count": 21,
   "id": "2075e87e",
   "metadata": {
    "execution": {
     "iopub.execute_input": "2023-08-30T18:51:22.901657Z",
     "iopub.status.busy": "2023-08-30T18:51:22.900799Z",
     "iopub.status.idle": "2023-08-30T18:51:22.906057Z",
     "shell.execute_reply": "2023-08-30T18:51:22.905156Z"
    },
    "papermill": {
     "duration": 0.019446,
     "end_time": "2023-08-30T18:51:22.908243",
     "exception": false,
     "start_time": "2023-08-30T18:51:22.888797",
     "status": "completed"
    },
    "tags": []
   },
   "outputs": [],
   "source": [
    "def fill_with_1_or_0(value):\n",
    "    return 1 if value > 0 else 0"
   ]
  },
  {
   "cell_type": "code",
   "execution_count": 22,
   "id": "1cbe8aac",
   "metadata": {
    "execution": {
     "iopub.execute_input": "2023-08-30T18:51:22.931354Z",
     "iopub.status.busy": "2023-08-30T18:51:22.930975Z",
     "iopub.status.idle": "2023-08-30T18:51:22.945035Z",
     "shell.execute_reply": "2023-08-30T18:51:22.943917Z"
    },
    "papermill": {
     "duration": 0.028153,
     "end_time": "2023-08-30T18:51:22.947313",
     "exception": false,
     "start_time": "2023-08-30T18:51:22.919160",
     "status": "completed"
    },
    "tags": []
   },
   "outputs": [],
   "source": [
    "pattern_df = pattern_df.applymap(fill_with_1_or_0)"
   ]
  },
  {
   "cell_type": "code",
   "execution_count": 23,
   "id": "950266a3",
   "metadata": {
    "execution": {
     "iopub.execute_input": "2023-08-30T18:51:22.970908Z",
     "iopub.status.busy": "2023-08-30T18:51:22.970250Z",
     "iopub.status.idle": "2023-08-30T18:51:22.978320Z",
     "shell.execute_reply": "2023-08-30T18:51:22.977438Z"
    },
    "papermill": {
     "duration": 0.022053,
     "end_time": "2023-08-30T18:51:22.980314",
     "exception": false,
     "start_time": "2023-08-30T18:51:22.958261",
     "status": "completed"
    },
    "tags": []
   },
   "outputs": [],
   "source": [
    "concatenated_strings = pattern_df.apply(lambda row: ''.join(map(str, row)), axis=1)\n",
    "np_array = np.array(concatenated_strings)"
   ]
  },
  {
   "cell_type": "code",
   "execution_count": 24,
   "id": "ac8379a1",
   "metadata": {
    "execution": {
     "iopub.execute_input": "2023-08-30T18:51:23.003620Z",
     "iopub.status.busy": "2023-08-30T18:51:23.003010Z",
     "iopub.status.idle": "2023-08-30T18:51:23.010216Z",
     "shell.execute_reply": "2023-08-30T18:51:23.009184Z"
    },
    "papermill": {
     "duration": 0.021072,
     "end_time": "2023-08-30T18:51:23.012186",
     "exception": false,
     "start_time": "2023-08-30T18:51:22.991114",
     "status": "completed"
    },
    "tags": []
   },
   "outputs": [
    {
     "name": "stdout",
     "output_type": "stream",
     "text": [
      "Value: 100001100000110000011000001100000110, Count: 1\n",
      "Value: 101110000111000011100001110000111000, Count: 1\n",
      "Value: 110001111000111100011110001101000111, Count: 1\n",
      "Value: 111000001100000000000000000001100000, Count: 1\n",
      "Value: 111000001100000110000000000001100000, Count: 2\n",
      "Value: 111000001100000110000001000001100000, Count: 1\n",
      "Value: 111000001100000110000011000001100000, Count: 91\n",
      "Value: 111000001100011110001111000111100011, Count: 1\n",
      "Value: 111000001100100110010011001001100100, Count: 1\n",
      "Value: 111000011100001110000111000011100001, Count: 2\n",
      "Value: 111000111100011110000111000111100011, Count: 1\n",
      "Value: 111000111100011110001111000111100011, Count: 5\n",
      "Value: 111001001100100110010011001001100100, Count: 1\n",
      "Value: 111001111100111110010111001111100111, Count: 1\n",
      "Value: 111001111100111110011111001111100111, Count: 5\n",
      "Value: 111010111101011110101111010111101011, Count: 1\n",
      "Value: 111101001110100111010011101001110100, Count: 2\n",
      "Value: 111110001111000111100011110001111000, Count: 6\n",
      "Value: 111110001111011111101111110111111011, Count: 1\n",
      "Value: 111110111111011111101111010111111011, Count: 1\n",
      "Value: 111111001111100111110011111001111100, Count: 2\n",
      "Value: 111111101111110111111011111101111110, Count: 1\n",
      "Value: 111111111111111111110111111111111111, Count: 1\n",
      "Value: 111111111111111111111011111111111111, Count: 1\n",
      "Value: 111111111111111111111111111111111111, Count: 16\n"
     ]
    }
   ],
   "source": [
    "np_array.shape\n",
    "unique_values, counts = np.unique(np_array, return_counts=True)\n",
    "unique_values\n",
    "counts\n",
    "\n",
    "for value, count in zip(unique_values, counts):\n",
    "    print(f\"Value: {value}, Count: {count}\")"
   ]
  },
  {
   "cell_type": "code",
   "execution_count": 25,
   "id": "b1d36ee9",
   "metadata": {
    "execution": {
     "iopub.execute_input": "2023-08-30T18:51:23.035417Z",
     "iopub.status.busy": "2023-08-30T18:51:23.035043Z",
     "iopub.status.idle": "2023-08-30T18:51:23.040729Z",
     "shell.execute_reply": "2023-08-30T18:51:23.039763Z"
    },
    "papermill": {
     "duration": 0.019846,
     "end_time": "2023-08-30T18:51:23.042933",
     "exception": false,
     "start_time": "2023-08-30T18:51:23.023087",
     "status": "completed"
    },
    "tags": []
   },
   "outputs": [
    {
     "name": "stdout",
     "output_type": "stream",
     "text": [
      "Index(['target', 'O2_1', 'O2_2', 'O2_3', 'O2_4', 'O2_5', 'O2_6', 'O2_7',\n",
      "       'NH4_1', 'NH4_2', 'NH4_3', 'NH4_4', 'NH4_5', 'NH4_6', 'NH4_7', 'NO2_1',\n",
      "       'NO2_2', 'NO2_3', 'NO2_4', 'NO2_5', 'NO2_6', 'NO2_7', 'NO3_1', 'NO3_2',\n",
      "       'NO3_3', 'NO3_4', 'NO3_5', 'NO3_6', 'NO3_7', 'BOD5_1', 'BOD5_2',\n",
      "       'BOD5_3', 'BOD5_4', 'BOD5_5', 'BOD5_6', 'BOD5_7'],\n",
      "      dtype='object')\n"
     ]
    }
   ],
   "source": [
    "# So we have 91 0f these records as Value: \n",
    "# 111000001100000110000011000001100000, Count: 91\n",
    "# So What we do is lets, identify all the columns which falls under this pattern \n",
    "# and try to fill our dataframe\n",
    "\n",
    "print(pattern_df.columns)\n",
    "\n",
    "# 111 00000 11 00000 11 00000 11 00000 11 00000 is\n",
    "column_list_to_populate = ['O2_1', \n",
    "                           'O2_2', \n",
    "                           'NH4_1', \n",
    "                           'NH4_2', \n",
    "                           'NO2_1', \n",
    "                           'NO2_2', \n",
    "                           'NO3_1', \n",
    "                           'NO3_2', \n",
    "                           'BOD5_1', \n",
    "                           'BOD5_2']"
   ]
  },
  {
   "cell_type": "code",
   "execution_count": null,
   "id": "605cbca9",
   "metadata": {
    "papermill": {
     "duration": 0.010504,
     "end_time": "2023-08-30T18:51:23.064404",
     "exception": false,
     "start_time": "2023-08-30T18:51:23.053900",
     "status": "completed"
    },
    "tags": []
   },
   "outputs": [],
   "source": [
    "\n",
    "        "
   ]
  }
 ],
 "kernelspec": {
  "display_name": "Python 3",
  "language": "python",
  "name": "python3"
 },
 "language_info": {
  "codemirror_mode": {
   "name": "ipython",
   "version": 3
  },
  "file_extension": ".py",
  "mimetype": "text/x-python",
  "name": "python",
  "nbconvert_exporter": "python",
  "pygments_lexer": "ipython3",
  "version": "3.6.4"
 },
 "metadata": {
  "kernelspec": {
   "display_name": "Python 3",
   "language": "python",
   "name": "python3"
  },
  "language_info": {
   "codemirror_mode": {
    "name": "ipython",
    "version": 3
   },
   "file_extension": ".py",
   "mimetype": "text/x-python",
   "name": "python",
   "nbconvert_exporter": "python",
   "pygments_lexer": "ipython3",
   "version": "3.10.12"
  },
  "papermill": {
   "default_parameters": {},
   "duration": 26.015136,
   "end_time": "2023-08-30T18:51:23.895944",
   "environment_variables": {},
   "exception": null,
   "input_path": "__notebook__.ipynb",
   "output_path": "__notebook__.ipynb",
   "parameters": {},
   "start_time": "2023-08-30T18:50:57.880808",
   "version": "2.4.0"
  }
 },
 "nbformat": 4,
 "nbformat_minor": 5
}
