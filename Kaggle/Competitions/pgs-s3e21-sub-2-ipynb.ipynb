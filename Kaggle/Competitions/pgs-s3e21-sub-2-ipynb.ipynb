{
 "cells": [
  {
   "cell_type": "code",
   "execution_count": 1,
   "id": "864572fe",
   "metadata": {
    "_cell_guid": "b1076dfc-b9ad-4769-8c92-a6c4dae69d19",
    "_kg_hide-input": false,
    "_kg_hide-output": false,
    "_uuid": "8f2839f25d086af736a60e9eeb907d3b93b6e0e5",
    "execution": {
     "iopub.execute_input": "2023-08-29T16:35:24.779478Z",
     "iopub.status.busy": "2023-08-29T16:35:24.779069Z",
     "iopub.status.idle": "2023-08-29T16:35:24.800007Z",
     "shell.execute_reply": "2023-08-29T16:35:24.799074Z"
    },
    "papermill": {
     "duration": 0.036642,
     "end_time": "2023-08-29T16:35:24.802331",
     "exception": false,
     "start_time": "2023-08-29T16:35:24.765689",
     "status": "completed"
    },
    "tags": []
   },
   "outputs": [
    {
     "name": "stdout",
     "output_type": "stream",
     "text": [
      "/kaggle/input/playground-series-s3e21/sample_submission.csv\n",
      "/kaggle/input/dissolved-oxygen-prediction-in-river-water/train.csv\n",
      "/kaggle/input/dissolved-oxygen-prediction-in-river-water/test.csv\n"
     ]
    }
   ],
   "source": [
    "# This Python 3 environment comes with many helpful analytics libraries installed\n",
    "# It is defined by the kaggle/python Docker image: https://github.com/kaggle/docker-python\n",
    "# For example, here's several helpful packages to load\n",
    "\n",
    "import numpy as np # linear algebra\n",
    "import pandas as pd # data processing, CSV file I/O (e.g. pd.read_csv)\n",
    "\n",
    "# Input data files are available in the read-only \"../input/\" directory\n",
    "# For example, running this (by clicking run or pressing Shift+Enter) will list all files under the input directory\n",
    "\n",
    "import os\n",
    "for dirname, _, filenames in os.walk('/kaggle/input'):\n",
    "    for filename in filenames:\n",
    "        print(os.path.join(dirname, filename))\n",
    "\n",
    "# You can write up to 20GB to the current directory (/kaggle/working/) that gets preserved as output when you create a version using \"Save & Run All\" \n",
    "# You can also write temporary files to /kaggle/temp/, but they won't be saved outside of the current session"
   ]
  },
  {
   "cell_type": "markdown",
   "id": "4f0b7a37",
   "metadata": {
    "papermill": {
     "duration": 0.009091,
     "end_time": "2023-08-29T16:35:24.821080",
     "exception": false,
     "start_time": "2023-08-29T16:35:24.811989",
     "status": "completed"
    },
    "tags": []
   },
   "source": [
    "# 😵‍💫 Improve a Fixed Model the Data-Centric Way! 😵‍💫¶ (Second Attempt)\n",
    "Playground Series - Season 3, Episode 21\n",
    "\n",
    "This is a very different type of challenge! For this challenge, your task is to improve a dataset that is being used to train a random forest model; in other words, your submission will be training data, not predictions. A random forest model will be trained on your submission, used to make predictions, and then those predictions will be used to generate your score.\n",
    "\n",
    "The dataset for this competition is a synthetic dataset based off of the Dissolved oxygen prediction in river water dataset. You are free to use the original in any way that you find useful."
   ]
  },
  {
   "cell_type": "markdown",
   "id": "f6275465",
   "metadata": {
    "papermill": {
     "duration": 0.009082,
     "end_time": "2023-08-29T16:35:24.839656",
     "exception": false,
     "start_time": "2023-08-29T16:35:24.830574",
     "status": "completed"
    },
    "tags": []
   },
   "source": [
    "## 🔶 Look at the big Picture"
   ]
  },
  {
   "cell_type": "markdown",
   "id": "50bcb7b5",
   "metadata": {
    "papermill": {
     "duration": 0.00913,
     "end_time": "2023-08-29T16:35:24.858341",
     "exception": false,
     "start_time": "2023-08-29T16:35:24.849211",
     "status": "completed"
    },
    "tags": []
   },
   "source": [
    "### 🔸 **Frame the problem**\n",
    "*   🟢 **Goal:** Is to fill the columns in the dataFrame such a way that the dataframe fed to the given model gives close to 0 RMSE. 🗒\n",
    "*   🟢 **End Result:** multiple Columns to be predicted, changed such a way that models predict well 🗒\n",
    "*   🟢 **Problem Type:** not exactly a regression. model has been already provided,\n",
    "*   🟢 **Learning Type:** Supervised Learning\n",
    "*   🟢 **Variate:** MultiVariate (need to predict multiple target with 1 label)\n",
    "*   🟢 **Features:** single features"
   ]
  },
  {
   "cell_type": "markdown",
   "id": "0c349e39",
   "metadata": {
    "papermill": {
     "duration": 0.009075,
     "end_time": "2023-08-29T16:35:24.877698",
     "exception": false,
     "start_time": "2023-08-29T16:35:24.868623",
     "status": "completed"
    },
    "tags": []
   },
   "source": [
    "### 🔸 **Select performance measure**:\n",
    "🟢 using RMSE 🗒.  This was given in the problem set."
   ]
  },
  {
   "cell_type": "markdown",
   "id": "1dc6d0c3",
   "metadata": {
    "papermill": {
     "duration": 0.009076,
     "end_time": "2023-08-29T16:35:24.896285",
     "exception": false,
     "start_time": "2023-08-29T16:35:24.887209",
     "status": "completed"
    },
    "tags": []
   },
   "source": [
    "### 🔸 **Assumptions**: `none`\n",
    "\n",
    "---"
   ]
  },
  {
   "cell_type": "markdown",
   "id": "e94e06c7",
   "metadata": {
    "papermill": {
     "duration": 0.009993,
     "end_time": "2023-08-29T16:35:24.916117",
     "exception": false,
     "start_time": "2023-08-29T16:35:24.906124",
     "status": "completed"
    },
    "tags": []
   },
   "source": [
    "## 🔶**Get the Data**\n",
    "\n",
    "* 🟢 Add the sample_submission (as there are no train and test set in this problem) from the compition data\n",
    "* 🟢 Read the sample_submission csv into a dataframe"
   ]
  },
  {
   "cell_type": "code",
   "execution_count": 2,
   "id": "692430c1",
   "metadata": {
    "execution": {
     "iopub.execute_input": "2023-08-29T16:35:24.937374Z",
     "iopub.status.busy": "2023-08-29T16:35:24.936725Z",
     "iopub.status.idle": "2023-08-29T16:35:24.978485Z",
     "shell.execute_reply": "2023-08-29T16:35:24.977225Z"
    },
    "papermill": {
     "duration": 0.055751,
     "end_time": "2023-08-29T16:35:24.981444",
     "exception": false,
     "start_time": "2023-08-29T16:35:24.925693",
     "status": "completed"
    },
    "tags": []
   },
   "outputs": [],
   "source": [
    "#taking original training data from original data source\n",
    "\n",
    "og_train_set = pd.read_csv('/kaggle/input/dissolved-oxygen-prediction-in-river-water/train.csv', index_col='Id')\n"
   ]
  },
  {
   "cell_type": "markdown",
   "id": "5efff24e",
   "metadata": {
    "papermill": {
     "duration": 0.009663,
     "end_time": "2023-08-29T16:35:25.000897",
     "exception": false,
     "start_time": "2023-08-29T16:35:24.991234",
     "status": "completed"
    },
    "tags": []
   },
   "source": [
    "#### 🔸 **Take Quick look**\n",
    "* 🟢 .head() to see the index columns and quick look at the data \n",
    "* 🟢 .shape to see the size of training set\n",
    "* 🟢 .info() to see the data types and missing values \n",
    "* 🟢 .value_counts() on categorical data to check if all the categories are equaly represented and to check the weightages.\n",
    "* 🟢 .describe() to check mean and std deviation, min, max this gives a hint of how data is distributed and what is the max values, min values and is there any scaled data or not.\n",
    "\n",
    "🚨 **Note:** Specially for this problem we are looking at the submision set so that we can have a clone of this dataframe structure and fill the data "
   ]
  },
  {
   "cell_type": "code",
   "execution_count": 3,
   "id": "fd988816",
   "metadata": {
    "execution": {
     "iopub.execute_input": "2023-08-29T16:35:25.022048Z",
     "iopub.status.busy": "2023-08-29T16:35:25.021363Z",
     "iopub.status.idle": "2023-08-29T16:35:25.060540Z",
     "shell.execute_reply": "2023-08-29T16:35:25.059328Z"
    },
    "papermill": {
     "duration": 0.052764,
     "end_time": "2023-08-29T16:35:25.063243",
     "exception": false,
     "start_time": "2023-08-29T16:35:25.010479",
     "status": "completed"
    },
    "tags": []
   },
   "outputs": [
    {
     "data": {
      "text/html": [
       "<div>\n",
       "<style scoped>\n",
       "    .dataframe tbody tr th:only-of-type {\n",
       "        vertical-align: middle;\n",
       "    }\n",
       "\n",
       "    .dataframe tbody tr th {\n",
       "        vertical-align: top;\n",
       "    }\n",
       "\n",
       "    .dataframe thead th {\n",
       "        text-align: right;\n",
       "    }\n",
       "</style>\n",
       "<table border=\"1\" class=\"dataframe\">\n",
       "  <thead>\n",
       "    <tr style=\"text-align: right;\">\n",
       "      <th></th>\n",
       "      <th>target</th>\n",
       "      <th>O2_1</th>\n",
       "      <th>O2_2</th>\n",
       "      <th>O2_3</th>\n",
       "      <th>O2_4</th>\n",
       "      <th>O2_5</th>\n",
       "      <th>O2_6</th>\n",
       "      <th>O2_7</th>\n",
       "      <th>NH4_1</th>\n",
       "      <th>NH4_2</th>\n",
       "      <th>...</th>\n",
       "      <th>NO3_5</th>\n",
       "      <th>NO3_6</th>\n",
       "      <th>NO3_7</th>\n",
       "      <th>BOD5_1</th>\n",
       "      <th>BOD5_2</th>\n",
       "      <th>BOD5_3</th>\n",
       "      <th>BOD5_4</th>\n",
       "      <th>BOD5_5</th>\n",
       "      <th>BOD5_6</th>\n",
       "      <th>BOD5_7</th>\n",
       "    </tr>\n",
       "    <tr>\n",
       "      <th>Id</th>\n",
       "      <th></th>\n",
       "      <th></th>\n",
       "      <th></th>\n",
       "      <th></th>\n",
       "      <th></th>\n",
       "      <th></th>\n",
       "      <th></th>\n",
       "      <th></th>\n",
       "      <th></th>\n",
       "      <th></th>\n",
       "      <th></th>\n",
       "      <th></th>\n",
       "      <th></th>\n",
       "      <th></th>\n",
       "      <th></th>\n",
       "      <th></th>\n",
       "      <th></th>\n",
       "      <th></th>\n",
       "      <th></th>\n",
       "      <th></th>\n",
       "      <th></th>\n",
       "    </tr>\n",
       "  </thead>\n",
       "  <tbody>\n",
       "    <tr>\n",
       "      <th>0</th>\n",
       "      <td>12.58</td>\n",
       "      <td>9.875</td>\n",
       "      <td>9.20</td>\n",
       "      <td>NaN</td>\n",
       "      <td>NaN</td>\n",
       "      <td>NaN</td>\n",
       "      <td>NaN</td>\n",
       "      <td>NaN</td>\n",
       "      <td>0.690</td>\n",
       "      <td>1.040</td>\n",
       "      <td>...</td>\n",
       "      <td>NaN</td>\n",
       "      <td>NaN</td>\n",
       "      <td>NaN</td>\n",
       "      <td>4.80</td>\n",
       "      <td>5.850</td>\n",
       "      <td>NaN</td>\n",
       "      <td>NaN</td>\n",
       "      <td>NaN</td>\n",
       "      <td>NaN</td>\n",
       "      <td>NaN</td>\n",
       "    </tr>\n",
       "    <tr>\n",
       "      <th>3</th>\n",
       "      <td>9.37</td>\n",
       "      <td>10.300</td>\n",
       "      <td>10.75</td>\n",
       "      <td>NaN</td>\n",
       "      <td>NaN</td>\n",
       "      <td>NaN</td>\n",
       "      <td>NaN</td>\n",
       "      <td>NaN</td>\n",
       "      <td>0.710</td>\n",
       "      <td>0.725</td>\n",
       "      <td>...</td>\n",
       "      <td>NaN</td>\n",
       "      <td>NaN</td>\n",
       "      <td>NaN</td>\n",
       "      <td>5.88</td>\n",
       "      <td>6.835</td>\n",
       "      <td>NaN</td>\n",
       "      <td>NaN</td>\n",
       "      <td>NaN</td>\n",
       "      <td>NaN</td>\n",
       "      <td>NaN</td>\n",
       "    </tr>\n",
       "    <tr>\n",
       "      <th>4</th>\n",
       "      <td>8.35</td>\n",
       "      <td>8.290</td>\n",
       "      <td>7.90</td>\n",
       "      <td>NaN</td>\n",
       "      <td>NaN</td>\n",
       "      <td>NaN</td>\n",
       "      <td>NaN</td>\n",
       "      <td>NaN</td>\n",
       "      <td>2.210</td>\n",
       "      <td>2.210</td>\n",
       "      <td>...</td>\n",
       "      <td>NaN</td>\n",
       "      <td>NaN</td>\n",
       "      <td>NaN</td>\n",
       "      <td>3.20</td>\n",
       "      <td>2.700</td>\n",
       "      <td>NaN</td>\n",
       "      <td>NaN</td>\n",
       "      <td>NaN</td>\n",
       "      <td>NaN</td>\n",
       "      <td>NaN</td>\n",
       "    </tr>\n",
       "    <tr>\n",
       "      <th>5</th>\n",
       "      <td>9.57</td>\n",
       "      <td>8.820</td>\n",
       "      <td>6.80</td>\n",
       "      <td>NaN</td>\n",
       "      <td>NaN</td>\n",
       "      <td>NaN</td>\n",
       "      <td>NaN</td>\n",
       "      <td>NaN</td>\n",
       "      <td>0.595</td>\n",
       "      <td>0.675</td>\n",
       "      <td>...</td>\n",
       "      <td>NaN</td>\n",
       "      <td>NaN</td>\n",
       "      <td>NaN</td>\n",
       "      <td>7.70</td>\n",
       "      <td>7.055</td>\n",
       "      <td>NaN</td>\n",
       "      <td>NaN</td>\n",
       "      <td>NaN</td>\n",
       "      <td>NaN</td>\n",
       "      <td>NaN</td>\n",
       "    </tr>\n",
       "    <tr>\n",
       "      <th>6</th>\n",
       "      <td>6.00</td>\n",
       "      <td>6.000</td>\n",
       "      <td>6.50</td>\n",
       "      <td>NaN</td>\n",
       "      <td>NaN</td>\n",
       "      <td>NaN</td>\n",
       "      <td>NaN</td>\n",
       "      <td>NaN</td>\n",
       "      <td>0.600</td>\n",
       "      <td>0.900</td>\n",
       "      <td>...</td>\n",
       "      <td>NaN</td>\n",
       "      <td>NaN</td>\n",
       "      <td>NaN</td>\n",
       "      <td>5.50</td>\n",
       "      <td>5.300</td>\n",
       "      <td>NaN</td>\n",
       "      <td>NaN</td>\n",
       "      <td>NaN</td>\n",
       "      <td>NaN</td>\n",
       "      <td>NaN</td>\n",
       "    </tr>\n",
       "  </tbody>\n",
       "</table>\n",
       "<p>5 rows × 36 columns</p>\n",
       "</div>"
      ],
      "text/plain": [
       "    target    O2_1   O2_2  O2_3  O2_4  O2_5  O2_6  O2_7  NH4_1  NH4_2  ...  \\\n",
       "Id                                                                     ...   \n",
       "0    12.58   9.875   9.20   NaN   NaN   NaN   NaN   NaN  0.690  1.040  ...   \n",
       "3     9.37  10.300  10.75   NaN   NaN   NaN   NaN   NaN  0.710  0.725  ...   \n",
       "4     8.35   8.290   7.90   NaN   NaN   NaN   NaN   NaN  2.210  2.210  ...   \n",
       "5     9.57   8.820   6.80   NaN   NaN   NaN   NaN   NaN  0.595  0.675  ...   \n",
       "6     6.00   6.000   6.50   NaN   NaN   NaN   NaN   NaN  0.600  0.900  ...   \n",
       "\n",
       "    NO3_5  NO3_6  NO3_7  BOD5_1  BOD5_2  BOD5_3  BOD5_4  BOD5_5  BOD5_6  \\\n",
       "Id                                                                        \n",
       "0     NaN    NaN    NaN    4.80   5.850     NaN     NaN     NaN     NaN   \n",
       "3     NaN    NaN    NaN    5.88   6.835     NaN     NaN     NaN     NaN   \n",
       "4     NaN    NaN    NaN    3.20   2.700     NaN     NaN     NaN     NaN   \n",
       "5     NaN    NaN    NaN    7.70   7.055     NaN     NaN     NaN     NaN   \n",
       "6     NaN    NaN    NaN    5.50   5.300     NaN     NaN     NaN     NaN   \n",
       "\n",
       "    BOD5_7  \n",
       "Id          \n",
       "0      NaN  \n",
       "3      NaN  \n",
       "4      NaN  \n",
       "5      NaN  \n",
       "6      NaN  \n",
       "\n",
       "[5 rows x 36 columns]"
      ]
     },
     "execution_count": 3,
     "metadata": {},
     "output_type": "execute_result"
    }
   ],
   "source": [
    "og_train_set.head()"
   ]
  },
  {
   "cell_type": "code",
   "execution_count": 4,
   "id": "302ee2e8",
   "metadata": {
    "execution": {
     "iopub.execute_input": "2023-08-29T16:35:25.085793Z",
     "iopub.status.busy": "2023-08-29T16:35:25.085324Z",
     "iopub.status.idle": "2023-08-29T16:35:25.092325Z",
     "shell.execute_reply": "2023-08-29T16:35:25.091034Z"
    },
    "papermill": {
     "duration": 0.021389,
     "end_time": "2023-08-29T16:35:25.094856",
     "exception": false,
     "start_time": "2023-08-29T16:35:25.073467",
     "status": "completed"
    },
    "tags": []
   },
   "outputs": [
    {
     "data": {
      "text/plain": [
       "(147, 36)"
      ]
     },
     "execution_count": 4,
     "metadata": {},
     "output_type": "execute_result"
    }
   ],
   "source": [
    "og_train_set.shape"
   ]
  },
  {
   "cell_type": "code",
   "execution_count": 5,
   "id": "6443df7d",
   "metadata": {
    "execution": {
     "iopub.execute_input": "2023-08-29T16:35:25.118473Z",
     "iopub.status.busy": "2023-08-29T16:35:25.118065Z",
     "iopub.status.idle": "2023-08-29T16:35:25.242545Z",
     "shell.execute_reply": "2023-08-29T16:35:25.241171Z"
    },
    "papermill": {
     "duration": 0.140195,
     "end_time": "2023-08-29T16:35:25.245191",
     "exception": false,
     "start_time": "2023-08-29T16:35:25.104996",
     "status": "completed"
    },
    "tags": []
   },
   "outputs": [
    {
     "data": {
      "text/html": [
       "<div>\n",
       "<style scoped>\n",
       "    .dataframe tbody tr th:only-of-type {\n",
       "        vertical-align: middle;\n",
       "    }\n",
       "\n",
       "    .dataframe tbody tr th {\n",
       "        vertical-align: top;\n",
       "    }\n",
       "\n",
       "    .dataframe thead th {\n",
       "        text-align: right;\n",
       "    }\n",
       "</style>\n",
       "<table border=\"1\" class=\"dataframe\">\n",
       "  <thead>\n",
       "    <tr style=\"text-align: right;\">\n",
       "      <th></th>\n",
       "      <th>target</th>\n",
       "      <th>O2_1</th>\n",
       "      <th>O2_2</th>\n",
       "      <th>O2_3</th>\n",
       "      <th>O2_4</th>\n",
       "      <th>O2_5</th>\n",
       "      <th>O2_6</th>\n",
       "      <th>O2_7</th>\n",
       "      <th>NH4_1</th>\n",
       "      <th>NH4_2</th>\n",
       "      <th>...</th>\n",
       "      <th>NO3_5</th>\n",
       "      <th>NO3_6</th>\n",
       "      <th>NO3_7</th>\n",
       "      <th>BOD5_1</th>\n",
       "      <th>BOD5_2</th>\n",
       "      <th>BOD5_3</th>\n",
       "      <th>BOD5_4</th>\n",
       "      <th>BOD5_5</th>\n",
       "      <th>BOD5_6</th>\n",
       "      <th>BOD5_7</th>\n",
       "    </tr>\n",
       "  </thead>\n",
       "  <tbody>\n",
       "    <tr>\n",
       "      <th>count</th>\n",
       "      <td>147.000000</td>\n",
       "      <td>145.000000</td>\n",
       "      <td>145.000000</td>\n",
       "      <td>32.000000</td>\n",
       "      <td>31.000000</td>\n",
       "      <td>33.000000</td>\n",
       "      <td>37.000000</td>\n",
       "      <td>37.000000</td>\n",
       "      <td>145.000000</td>\n",
       "      <td>145.000000</td>\n",
       "      <td>...</td>\n",
       "      <td>33.000000</td>\n",
       "      <td>37.000000</td>\n",
       "      <td>37.000000</td>\n",
       "      <td>145.000000</td>\n",
       "      <td>145.000000</td>\n",
       "      <td>32.000000</td>\n",
       "      <td>31.000000</td>\n",
       "      <td>33.000000</td>\n",
       "      <td>37.000000</td>\n",
       "      <td>37.000000</td>\n",
       "    </tr>\n",
       "    <tr>\n",
       "      <th>mean</th>\n",
       "      <td>9.211497</td>\n",
       "      <td>9.168506</td>\n",
       "      <td>9.148126</td>\n",
       "      <td>10.002813</td>\n",
       "      <td>8.483226</td>\n",
       "      <td>6.095152</td>\n",
       "      <td>9.396892</td>\n",
       "      <td>7.598243</td>\n",
       "      <td>0.588168</td>\n",
       "      <td>0.660910</td>\n",
       "      <td>...</td>\n",
       "      <td>6.982515</td>\n",
       "      <td>3.373689</td>\n",
       "      <td>3.200135</td>\n",
       "      <td>4.972724</td>\n",
       "      <td>4.906379</td>\n",
       "      <td>4.665312</td>\n",
       "      <td>5.871935</td>\n",
       "      <td>8.678788</td>\n",
       "      <td>3.884054</td>\n",
       "      <td>3.957703</td>\n",
       "    </tr>\n",
       "    <tr>\n",
       "      <th>std</th>\n",
       "      <td>2.886614</td>\n",
       "      <td>4.188197</td>\n",
       "      <td>3.746898</td>\n",
       "      <td>2.667096</td>\n",
       "      <td>2.527239</td>\n",
       "      <td>3.279915</td>\n",
       "      <td>2.848153</td>\n",
       "      <td>3.409060</td>\n",
       "      <td>0.462262</td>\n",
       "      <td>0.591798</td>\n",
       "      <td>...</td>\n",
       "      <td>4.466642</td>\n",
       "      <td>2.823756</td>\n",
       "      <td>2.868225</td>\n",
       "      <td>2.044057</td>\n",
       "      <td>2.001381</td>\n",
       "      <td>2.057903</td>\n",
       "      <td>2.555560</td>\n",
       "      <td>5.299039</td>\n",
       "      <td>1.615542</td>\n",
       "      <td>1.916813</td>\n",
       "    </tr>\n",
       "    <tr>\n",
       "      <th>min</th>\n",
       "      <td>1.900000</td>\n",
       "      <td>2.200000</td>\n",
       "      <td>2.200000</td>\n",
       "      <td>4.660000</td>\n",
       "      <td>4.900000</td>\n",
       "      <td>0.000000</td>\n",
       "      <td>0.000000</td>\n",
       "      <td>0.000000</td>\n",
       "      <td>0.040000</td>\n",
       "      <td>0.020000</td>\n",
       "      <td>...</td>\n",
       "      <td>0.670000</td>\n",
       "      <td>0.100000</td>\n",
       "      <td>0.000000</td>\n",
       "      <td>0.900000</td>\n",
       "      <td>1.040000</td>\n",
       "      <td>2.040000</td>\n",
       "      <td>2.480000</td>\n",
       "      <td>2.880000</td>\n",
       "      <td>1.000000</td>\n",
       "      <td>1.600000</td>\n",
       "    </tr>\n",
       "    <tr>\n",
       "      <th>25%</th>\n",
       "      <td>7.375000</td>\n",
       "      <td>7.050000</td>\n",
       "      <td>7.200000</td>\n",
       "      <td>8.100000</td>\n",
       "      <td>6.865000</td>\n",
       "      <td>3.290000</td>\n",
       "      <td>8.800000</td>\n",
       "      <td>6.170000</td>\n",
       "      <td>0.230000</td>\n",
       "      <td>0.215000</td>\n",
       "      <td>...</td>\n",
       "      <td>4.100000</td>\n",
       "      <td>1.440000</td>\n",
       "      <td>1.610000</td>\n",
       "      <td>3.500000</td>\n",
       "      <td>3.400000</td>\n",
       "      <td>3.325000</td>\n",
       "      <td>4.445000</td>\n",
       "      <td>5.840000</td>\n",
       "      <td>2.900000</td>\n",
       "      <td>2.900000</td>\n",
       "    </tr>\n",
       "    <tr>\n",
       "      <th>50%</th>\n",
       "      <td>8.800000</td>\n",
       "      <td>8.700000</td>\n",
       "      <td>8.566667</td>\n",
       "      <td>9.522500</td>\n",
       "      <td>7.800000</td>\n",
       "      <td>5.800000</td>\n",
       "      <td>9.805000</td>\n",
       "      <td>7.150000</td>\n",
       "      <td>0.425000</td>\n",
       "      <td>0.440000</td>\n",
       "      <td>...</td>\n",
       "      <td>6.050000</td>\n",
       "      <td>2.650000</td>\n",
       "      <td>1.900000</td>\n",
       "      <td>4.800000</td>\n",
       "      <td>4.833333</td>\n",
       "      <td>4.150000</td>\n",
       "      <td>5.500000</td>\n",
       "      <td>7.300000</td>\n",
       "      <td>3.400000</td>\n",
       "      <td>3.500000</td>\n",
       "    </tr>\n",
       "    <tr>\n",
       "      <th>75%</th>\n",
       "      <td>10.850000</td>\n",
       "      <td>10.600000</td>\n",
       "      <td>10.500000</td>\n",
       "      <td>11.611250</td>\n",
       "      <td>9.232500</td>\n",
       "      <td>9.500000</td>\n",
       "      <td>10.440000</td>\n",
       "      <td>8.700000</td>\n",
       "      <td>0.800000</td>\n",
       "      <td>0.910000</td>\n",
       "      <td>...</td>\n",
       "      <td>8.550000</td>\n",
       "      <td>4.320000</td>\n",
       "      <td>3.800000</td>\n",
       "      <td>6.450000</td>\n",
       "      <td>6.200000</td>\n",
       "      <td>5.970000</td>\n",
       "      <td>6.400000</td>\n",
       "      <td>8.415000</td>\n",
       "      <td>4.800000</td>\n",
       "      <td>4.400000</td>\n",
       "    </tr>\n",
       "    <tr>\n",
       "      <th>max</th>\n",
       "      <td>19.100000</td>\n",
       "      <td>46.950000</td>\n",
       "      <td>40.900000</td>\n",
       "      <td>15.900000</td>\n",
       "      <td>15.400000</td>\n",
       "      <td>11.800000</td>\n",
       "      <td>13.700000</td>\n",
       "      <td>15.900000</td>\n",
       "      <td>2.400000</td>\n",
       "      <td>3.600000</td>\n",
       "      <td>...</td>\n",
       "      <td>20.050000</td>\n",
       "      <td>10.200000</td>\n",
       "      <td>13.300000</td>\n",
       "      <td>10.900000</td>\n",
       "      <td>11.000000</td>\n",
       "      <td>10.665000</td>\n",
       "      <td>14.790000</td>\n",
       "      <td>27.120000</td>\n",
       "      <td>8.540000</td>\n",
       "      <td>10.370000</td>\n",
       "    </tr>\n",
       "  </tbody>\n",
       "</table>\n",
       "<p>8 rows × 36 columns</p>\n",
       "</div>"
      ],
      "text/plain": [
       "           target        O2_1        O2_2       O2_3       O2_4       O2_5  \\\n",
       "count  147.000000  145.000000  145.000000  32.000000  31.000000  33.000000   \n",
       "mean     9.211497    9.168506    9.148126  10.002813   8.483226   6.095152   \n",
       "std      2.886614    4.188197    3.746898   2.667096   2.527239   3.279915   \n",
       "min      1.900000    2.200000    2.200000   4.660000   4.900000   0.000000   \n",
       "25%      7.375000    7.050000    7.200000   8.100000   6.865000   3.290000   \n",
       "50%      8.800000    8.700000    8.566667   9.522500   7.800000   5.800000   \n",
       "75%     10.850000   10.600000   10.500000  11.611250   9.232500   9.500000   \n",
       "max     19.100000   46.950000   40.900000  15.900000  15.400000  11.800000   \n",
       "\n",
       "            O2_6       O2_7       NH4_1       NH4_2  ...      NO3_5  \\\n",
       "count  37.000000  37.000000  145.000000  145.000000  ...  33.000000   \n",
       "mean    9.396892   7.598243    0.588168    0.660910  ...   6.982515   \n",
       "std     2.848153   3.409060    0.462262    0.591798  ...   4.466642   \n",
       "min     0.000000   0.000000    0.040000    0.020000  ...   0.670000   \n",
       "25%     8.800000   6.170000    0.230000    0.215000  ...   4.100000   \n",
       "50%     9.805000   7.150000    0.425000    0.440000  ...   6.050000   \n",
       "75%    10.440000   8.700000    0.800000    0.910000  ...   8.550000   \n",
       "max    13.700000  15.900000    2.400000    3.600000  ...  20.050000   \n",
       "\n",
       "           NO3_6      NO3_7      BOD5_1      BOD5_2     BOD5_3     BOD5_4  \\\n",
       "count  37.000000  37.000000  145.000000  145.000000  32.000000  31.000000   \n",
       "mean    3.373689   3.200135    4.972724    4.906379   4.665312   5.871935   \n",
       "std     2.823756   2.868225    2.044057    2.001381   2.057903   2.555560   \n",
       "min     0.100000   0.000000    0.900000    1.040000   2.040000   2.480000   \n",
       "25%     1.440000   1.610000    3.500000    3.400000   3.325000   4.445000   \n",
       "50%     2.650000   1.900000    4.800000    4.833333   4.150000   5.500000   \n",
       "75%     4.320000   3.800000    6.450000    6.200000   5.970000   6.400000   \n",
       "max    10.200000  13.300000   10.900000   11.000000  10.665000  14.790000   \n",
       "\n",
       "          BOD5_5     BOD5_6     BOD5_7  \n",
       "count  33.000000  37.000000  37.000000  \n",
       "mean    8.678788   3.884054   3.957703  \n",
       "std     5.299039   1.615542   1.916813  \n",
       "min     2.880000   1.000000   1.600000  \n",
       "25%     5.840000   2.900000   2.900000  \n",
       "50%     7.300000   3.400000   3.500000  \n",
       "75%     8.415000   4.800000   4.400000  \n",
       "max    27.120000   8.540000  10.370000  \n",
       "\n",
       "[8 rows x 36 columns]"
      ]
     },
     "execution_count": 5,
     "metadata": {},
     "output_type": "execute_result"
    }
   ],
   "source": [
    "og_train_set.describe()"
   ]
  },
  {
   "cell_type": "code",
   "execution_count": 6,
   "id": "d509f7c6",
   "metadata": {
    "execution": {
     "iopub.execute_input": "2023-08-29T16:35:25.268924Z",
     "iopub.status.busy": "2023-08-29T16:35:25.268454Z",
     "iopub.status.idle": "2023-08-29T16:35:25.288443Z",
     "shell.execute_reply": "2023-08-29T16:35:25.287127Z"
    },
    "papermill": {
     "duration": 0.035804,
     "end_time": "2023-08-29T16:35:25.291734",
     "exception": false,
     "start_time": "2023-08-29T16:35:25.255930",
     "status": "completed"
    },
    "tags": []
   },
   "outputs": [
    {
     "name": "stdout",
     "output_type": "stream",
     "text": [
      "<class 'pandas.core.frame.DataFrame'>\n",
      "Int64Index: 147 entries, 0 to 214\n",
      "Data columns (total 36 columns):\n",
      " #   Column  Non-Null Count  Dtype  \n",
      "---  ------  --------------  -----  \n",
      " 0   target  147 non-null    float64\n",
      " 1   O2_1    145 non-null    float64\n",
      " 2   O2_2    145 non-null    float64\n",
      " 3   O2_3    32 non-null     float64\n",
      " 4   O2_4    31 non-null     float64\n",
      " 5   O2_5    33 non-null     float64\n",
      " 6   O2_6    37 non-null     float64\n",
      " 7   O2_7    37 non-null     float64\n",
      " 8   NH4_1   145 non-null    float64\n",
      " 9   NH4_2   145 non-null    float64\n",
      " 10  NH4_3   32 non-null     float64\n",
      " 11  NH4_4   31 non-null     float64\n",
      " 12  NH4_5   33 non-null     float64\n",
      " 13  NH4_6   37 non-null     float64\n",
      " 14  NH4_7   37 non-null     float64\n",
      " 15  NO2_1   145 non-null    float64\n",
      " 16  NO2_2   145 non-null    float64\n",
      " 17  NO2_3   32 non-null     float64\n",
      " 18  NO2_4   31 non-null     float64\n",
      " 19  NO2_5   33 non-null     float64\n",
      " 20  NO2_6   37 non-null     float64\n",
      " 21  NO2_7   37 non-null     float64\n",
      " 22  NO3_1   145 non-null    float64\n",
      " 23  NO3_2   145 non-null    float64\n",
      " 24  NO3_3   32 non-null     float64\n",
      " 25  NO3_4   31 non-null     float64\n",
      " 26  NO3_5   33 non-null     float64\n",
      " 27  NO3_6   37 non-null     float64\n",
      " 28  NO3_7   37 non-null     float64\n",
      " 29  BOD5_1  145 non-null    float64\n",
      " 30  BOD5_2  145 non-null    float64\n",
      " 31  BOD5_3  32 non-null     float64\n",
      " 32  BOD5_4  31 non-null     float64\n",
      " 33  BOD5_5  33 non-null     float64\n",
      " 34  BOD5_6  37 non-null     float64\n",
      " 35  BOD5_7  37 non-null     float64\n",
      "dtypes: float64(36)\n",
      "memory usage: 42.5 KB\n"
     ]
    }
   ],
   "source": [
    "og_train_set.info()"
   ]
  },
  {
   "cell_type": "code",
   "execution_count": 7,
   "id": "f701bafa",
   "metadata": {
    "execution": {
     "iopub.execute_input": "2023-08-29T16:35:25.315696Z",
     "iopub.status.busy": "2023-08-29T16:35:25.315261Z",
     "iopub.status.idle": "2023-08-29T16:35:25.416313Z",
     "shell.execute_reply": "2023-08-29T16:35:25.414691Z"
    },
    "papermill": {
     "duration": 0.11601,
     "end_time": "2023-08-29T16:35:25.419005",
     "exception": false,
     "start_time": "2023-08-29T16:35:25.302995",
     "status": "completed"
    },
    "tags": []
   },
   "outputs": [
    {
     "name": "stdout",
     "output_type": "stream",
     "text": [
      "Index(['O2_1', 'O2_2', 'O2_3', 'O2_4', 'O2_5', 'O2_6', 'O2_7', 'NH4_1',\n",
      "       'NH4_2', 'NH4_3', 'NH4_4', 'NH4_5', 'NH4_6', 'NH4_7', 'NO2_1', 'NO2_2',\n",
      "       'NO2_3', 'NO2_4', 'NO2_5', 'NO2_6', 'NO2_7', 'NO3_1', 'NO3_2', 'NO3_3',\n",
      "       'NO3_4', 'NO3_5', 'NO3_6', 'NO3_7', 'BOD5_1', 'BOD5_2', 'BOD5_3',\n",
      "       'BOD5_4', 'BOD5_5', 'BOD5_6', 'BOD5_7'],\n",
      "      dtype='object')\n"
     ]
    }
   ],
   "source": [
    "# collecting required data from the og train set\n",
    "description = og_train_set.describe()\n",
    "columns = og_train_set.columns\n",
    "columns = columns.drop(\"target\")\n",
    "print(columns)"
   ]
  },
  {
   "cell_type": "code",
   "execution_count": 8,
   "id": "53e897a4",
   "metadata": {
    "execution": {
     "iopub.execute_input": "2023-08-29T16:35:25.443046Z",
     "iopub.status.busy": "2023-08-29T16:35:25.442625Z",
     "iopub.status.idle": "2023-08-29T16:35:25.448804Z",
     "shell.execute_reply": "2023-08-29T16:35:25.447617Z"
    },
    "papermill": {
     "duration": 0.02112,
     "end_time": "2023-08-29T16:35:25.451236",
     "exception": false,
     "start_time": "2023-08-29T16:35:25.430116",
     "status": "completed"
    },
    "tags": []
   },
   "outputs": [],
   "source": [
    "# from the og data set we are checking what percentage of 0' or missing data are there in each column\n",
    "def fill_missing_data_perc(df):\n",
    "    df = df.fillna(0)\n",
    "    return df"
   ]
  },
  {
   "cell_type": "code",
   "execution_count": 9,
   "id": "9666406d",
   "metadata": {
    "execution": {
     "iopub.execute_input": "2023-08-29T16:35:25.476573Z",
     "iopub.status.busy": "2023-08-29T16:35:25.476191Z",
     "iopub.status.idle": "2023-08-29T16:35:25.496909Z",
     "shell.execute_reply": "2023-08-29T16:35:25.495800Z"
    },
    "papermill": {
     "duration": 0.035759,
     "end_time": "2023-08-29T16:35:25.499358",
     "exception": false,
     "start_time": "2023-08-29T16:35:25.463599",
     "status": "completed"
    },
    "tags": []
   },
   "outputs": [
    {
     "data": {
      "text/plain": [
       "array([{'col': 'O2_1', 'perc': 1.0}, {'col': 'O2_2', 'perc': 1.0},\n",
       "       {'col': 'O2_3', 'perc': 78.0}, {'col': 'O2_4', 'perc': 79.0},\n",
       "       {'col': 'O2_5', 'perc': 78.0}, {'col': 'O2_6', 'perc': 76.0},\n",
       "       {'col': 'O2_7', 'perc': 76.0}, {'col': 'NH4_1', 'perc': 1.0},\n",
       "       {'col': 'NH4_2', 'perc': 1.0}, {'col': 'NH4_3', 'perc': 78.0},\n",
       "       {'col': 'NH4_4', 'perc': 79.0}, {'col': 'NH4_5', 'perc': 78.0},\n",
       "       {'col': 'NH4_6', 'perc': 75.0}, {'col': 'NH4_7', 'perc': 75.0},\n",
       "       {'col': 'NO2_1', 'perc': 2.0}, {'col': 'NO2_2', 'perc': 2.0},\n",
       "       {'col': 'NO2_3', 'perc': 78.0}, {'col': 'NO2_4', 'perc': 79.0},\n",
       "       {'col': 'NO2_5', 'perc': 78.0}, {'col': 'NO2_6', 'perc': 77.0},\n",
       "       {'col': 'NO2_7', 'perc': 76.0}, {'col': 'NO3_1', 'perc': 4.0},\n",
       "       {'col': 'NO3_2', 'perc': 3.0}, {'col': 'NO3_3', 'perc': 79.0},\n",
       "       {'col': 'NO3_4', 'perc': 79.0}, {'col': 'NO3_5', 'perc': 78.0},\n",
       "       {'col': 'NO3_6', 'perc': 75.0}, {'col': 'NO3_7', 'perc': 76.0},\n",
       "       {'col': 'BOD5_1', 'perc': 1.0}, {'col': 'BOD5_2', 'perc': 1.0},\n",
       "       {'col': 'BOD5_3', 'perc': 78.0}, {'col': 'BOD5_4', 'perc': 79.0},\n",
       "       {'col': 'BOD5_5', 'perc': 78.0}, {'col': 'BOD5_6', 'perc': 75.0},\n",
       "       {'col': 'BOD5_7', 'perc': 75.0}], dtype=object)"
      ]
     },
     "execution_count": 9,
     "metadata": {},
     "output_type": "execute_result"
    }
   ],
   "source": [
    "# counting the persentage of 0's in each column\n",
    "def get_perc_of_0_value():\n",
    "    temp_df = fill_missing_data_perc(og_train_set)\n",
    "    perc_0 = np.array([])\n",
    "    for column in columns:\n",
    "        perc = (((temp_df[column]==0).sum()/len(og_train_set[column])) * 100).round()\n",
    "        perc_0 = np.append(perc_0, {'col': column, 'perc': perc})\n",
    "    return perc_0\n",
    "\n",
    "column_0_ratio = get_perc_of_0_value()\n",
    "column_0_ratio"
   ]
  },
  {
   "cell_type": "code",
   "execution_count": 10,
   "id": "5820ab25",
   "metadata": {
    "execution": {
     "iopub.execute_input": "2023-08-29T16:35:25.525216Z",
     "iopub.status.busy": "2023-08-29T16:35:25.524751Z",
     "iopub.status.idle": "2023-08-29T16:35:25.531572Z",
     "shell.execute_reply": "2023-08-29T16:35:25.530624Z"
    },
    "papermill": {
     "duration": 0.022237,
     "end_time": "2023-08-29T16:35:25.533798",
     "exception": false,
     "start_time": "2023-08-29T16:35:25.511561",
     "status": "completed"
    },
    "tags": []
   },
   "outputs": [],
   "source": [
    "# will try to drop all columns which has more than 70% 0s\n",
    "col_list = np.array([])\n",
    "col_list_fill_0 = np.array([])\n",
    "for col_ratio in column_0_ratio:\n",
    "    if col_ratio['perc'] < 70:\n",
    "        col_list = np.append(col_list, col_ratio['col'])\n",
    "    else:\n",
    "        col_list_fill_0 = np.append(col_list_fill_0, col_ratio['col'])"
   ]
  },
  {
   "cell_type": "code",
   "execution_count": 11,
   "id": "e86a16fb",
   "metadata": {
    "execution": {
     "iopub.execute_input": "2023-08-29T16:35:25.558378Z",
     "iopub.status.busy": "2023-08-29T16:35:25.557997Z",
     "iopub.status.idle": "2023-08-29T16:35:25.561816Z",
     "shell.execute_reply": "2023-08-29T16:35:25.560907Z"
    },
    "papermill": {
     "duration": 0.018942,
     "end_time": "2023-08-29T16:35:25.564096",
     "exception": false,
     "start_time": "2023-08-29T16:35:25.545154",
     "status": "completed"
    },
    "tags": []
   },
   "outputs": [],
   "source": [
    "# mid submission\n",
    "# col_list = np.append(col_list, \"target\")\n",
    "# col_list = np.append(col_list, col_list_fill_0)\n",
    "# df = og_train_set[col_list]\n",
    "# df.loc[:, col_list_fill_0] = 0\n",
    "# df.shape\n"
   ]
  },
  {
   "cell_type": "code",
   "execution_count": 12,
   "id": "241544ec",
   "metadata": {
    "execution": {
     "iopub.execute_input": "2023-08-29T16:35:25.588555Z",
     "iopub.status.busy": "2023-08-29T16:35:25.587940Z",
     "iopub.status.idle": "2023-08-29T16:35:25.591556Z",
     "shell.execute_reply": "2023-08-29T16:35:25.590795Z"
    },
    "papermill": {
     "duration": 0.018483,
     "end_time": "2023-08-29T16:35:25.593845",
     "exception": false,
     "start_time": "2023-08-29T16:35:25.575362",
     "status": "completed"
    },
    "tags": []
   },
   "outputs": [],
   "source": [
    "# mid submission\n",
    "# df.to_csv('train_set.csv')"
   ]
  },
  {
   "cell_type": "markdown",
   "id": "78c33d63",
   "metadata": {
    "papermill": {
     "duration": 0.011086,
     "end_time": "2023-08-29T16:35:25.616135",
     "exception": false,
     "start_time": "2023-08-29T16:35:25.605049",
     "status": "completed"
    },
    "tags": []
   },
   "source": [
    "1. So first lets create a data frame with the same columns\n",
    "2. Lets pick a size and fill 1's in them\n",
    "3. Lets ppopulate 0 in same ratio of that of our og_test_set\n",
    "4. Lets identify 1 in each row and fill the 25% - 75% random values in it"
   ]
  },
  {
   "cell_type": "code",
   "execution_count": 13,
   "id": "94d23bc8",
   "metadata": {
    "execution": {
     "iopub.execute_input": "2023-08-29T16:35:25.641373Z",
     "iopub.status.busy": "2023-08-29T16:35:25.640634Z",
     "iopub.status.idle": "2023-08-29T16:35:25.647267Z",
     "shell.execute_reply": "2023-08-29T16:35:25.646131Z"
    },
    "papermill": {
     "duration": 0.021917,
     "end_time": "2023-08-29T16:35:25.649591",
     "exception": false,
     "start_time": "2023-08-29T16:35:25.627674",
     "status": "completed"
    },
    "tags": []
   },
   "outputs": [],
   "source": [
    "import random\n",
    "\n",
    "def fill_0_in_col_with_ratio(df, column_name, ratio, size):\n",
    "    no_of_ids = (size * (ratio / 100)).round()\n",
    "    random_numbers = random.sample(range(0, size), int(no_of_ids))\n",
    "    df.loc[random_numbers, column_name] = 0\n",
    "    return df"
   ]
  },
  {
   "cell_type": "code",
   "execution_count": 14,
   "id": "01931bed",
   "metadata": {
    "execution": {
     "iopub.execute_input": "2023-08-29T16:35:25.673746Z",
     "iopub.status.busy": "2023-08-29T16:35:25.673354Z",
     "iopub.status.idle": "2023-08-29T16:35:25.680448Z",
     "shell.execute_reply": "2023-08-29T16:35:25.679247Z"
    },
    "papermill": {
     "duration": 0.022097,
     "end_time": "2023-08-29T16:35:25.683040",
     "exception": false,
     "start_time": "2023-08-29T16:35:25.660943",
     "status": "completed"
    },
    "tags": []
   },
   "outputs": [],
   "source": [
    "def fill_rest_1_with_25_75_ratio(df, desc):\n",
    "    for column in df:\n",
    "        row_indices = df.index[df[column] == 1].tolist()\n",
    "        \n",
    "        for row_index in row_indices:\n",
    "            random_number = np.random.uniform(desc[column]['25%'], desc[column]['75%'])\n",
    "            df.loc[row_index, column] = random_number\n",
    "            \n",
    "    return df"
   ]
  },
  {
   "cell_type": "code",
   "execution_count": 15,
   "id": "e3ba52e7",
   "metadata": {
    "execution": {
     "iopub.execute_input": "2023-08-29T16:35:25.707995Z",
     "iopub.status.busy": "2023-08-29T16:35:25.707570Z",
     "iopub.status.idle": "2023-08-29T16:35:25.714906Z",
     "shell.execute_reply": "2023-08-29T16:35:25.713396Z"
    },
    "papermill": {
     "duration": 0.023055,
     "end_time": "2023-08-29T16:35:25.717432",
     "exception": false,
     "start_time": "2023-08-29T16:35:25.694377",
     "status": "completed"
    },
    "tags": []
   },
   "outputs": [],
   "source": [
    "# creating a fresh set of training dat with same columns\n",
    "\n",
    "def recreating_training_set(size):\n",
    "    train_set = pd.DataFrame(columns=columns)\n",
    "    train_set = train_set.append(pd.DataFrame(np.ones((size, len(columns))), columns=columns), ignore_index=True)\n",
    "    for col_ratio in column_0_ratio:\n",
    "        train_set = fill_0_in_col_with_ratio(train_set, col_ratio['col'], col_ratio['perc'], size)\n",
    "    train_set = fill_rest_1_with_25_75_ratio(train_set, description)\n",
    "    return train_set"
   ]
  },
  {
   "cell_type": "code",
   "execution_count": 16,
   "id": "af324022",
   "metadata": {
    "execution": {
     "iopub.execute_input": "2023-08-29T16:35:25.742242Z",
     "iopub.status.busy": "2023-08-29T16:35:25.741870Z",
     "iopub.status.idle": "2023-08-29T16:35:26.011792Z",
     "shell.execute_reply": "2023-08-29T16:35:26.010637Z"
    },
    "papermill": {
     "duration": 0.285534,
     "end_time": "2023-08-29T16:35:26.014271",
     "exception": false,
     "start_time": "2023-08-29T16:35:25.728737",
     "status": "completed"
    },
    "tags": []
   },
   "outputs": [
    {
     "name": "stderr",
     "output_type": "stream",
     "text": [
      "/tmp/ipykernel_20/93270262.py:5: FutureWarning: The frame.append method is deprecated and will be removed from pandas in a future version. Use pandas.concat instead.\n",
      "  train_set = train_set.append(pd.DataFrame(np.ones((size, len(columns))), columns=columns), ignore_index=True)\n"
     ]
    },
    {
     "data": {
      "text/html": [
       "<div>\n",
       "<style scoped>\n",
       "    .dataframe tbody tr th:only-of-type {\n",
       "        vertical-align: middle;\n",
       "    }\n",
       "\n",
       "    .dataframe tbody tr th {\n",
       "        vertical-align: top;\n",
       "    }\n",
       "\n",
       "    .dataframe thead th {\n",
       "        text-align: right;\n",
       "    }\n",
       "</style>\n",
       "<table border=\"1\" class=\"dataframe\">\n",
       "  <thead>\n",
       "    <tr style=\"text-align: right;\">\n",
       "      <th></th>\n",
       "      <th>O2_1</th>\n",
       "      <th>O2_2</th>\n",
       "      <th>O2_3</th>\n",
       "      <th>O2_4</th>\n",
       "      <th>O2_5</th>\n",
       "      <th>O2_6</th>\n",
       "      <th>O2_7</th>\n",
       "      <th>NH4_1</th>\n",
       "      <th>NH4_2</th>\n",
       "      <th>NH4_3</th>\n",
       "      <th>...</th>\n",
       "      <th>NO3_5</th>\n",
       "      <th>NO3_6</th>\n",
       "      <th>NO3_7</th>\n",
       "      <th>BOD5_1</th>\n",
       "      <th>BOD5_2</th>\n",
       "      <th>BOD5_3</th>\n",
       "      <th>BOD5_4</th>\n",
       "      <th>BOD5_5</th>\n",
       "      <th>BOD5_6</th>\n",
       "      <th>BOD5_7</th>\n",
       "    </tr>\n",
       "  </thead>\n",
       "  <tbody>\n",
       "    <tr>\n",
       "      <th>0</th>\n",
       "      <td>10.242138</td>\n",
       "      <td>8.803694</td>\n",
       "      <td>9.996904</td>\n",
       "      <td>7.222902</td>\n",
       "      <td>0.000000</td>\n",
       "      <td>10.161754</td>\n",
       "      <td>0.000000</td>\n",
       "      <td>0.649478</td>\n",
       "      <td>0.677284</td>\n",
       "      <td>0.883363</td>\n",
       "      <td>...</td>\n",
       "      <td>0.000000</td>\n",
       "      <td>0.0</td>\n",
       "      <td>0.000000</td>\n",
       "      <td>3.919496</td>\n",
       "      <td>5.415440</td>\n",
       "      <td>3.403555</td>\n",
       "      <td>0.000000</td>\n",
       "      <td>0.000000</td>\n",
       "      <td>4.688370</td>\n",
       "      <td>0.000000</td>\n",
       "    </tr>\n",
       "    <tr>\n",
       "      <th>1</th>\n",
       "      <td>8.727439</td>\n",
       "      <td>8.609889</td>\n",
       "      <td>0.000000</td>\n",
       "      <td>8.433934</td>\n",
       "      <td>0.000000</td>\n",
       "      <td>0.000000</td>\n",
       "      <td>0.000000</td>\n",
       "      <td>0.421798</td>\n",
       "      <td>0.389982</td>\n",
       "      <td>0.000000</td>\n",
       "      <td>...</td>\n",
       "      <td>0.000000</td>\n",
       "      <td>0.0</td>\n",
       "      <td>0.000000</td>\n",
       "      <td>4.664785</td>\n",
       "      <td>5.677786</td>\n",
       "      <td>0.000000</td>\n",
       "      <td>0.000000</td>\n",
       "      <td>7.386868</td>\n",
       "      <td>3.742587</td>\n",
       "      <td>0.000000</td>\n",
       "    </tr>\n",
       "    <tr>\n",
       "      <th>2</th>\n",
       "      <td>9.964989</td>\n",
       "      <td>7.815876</td>\n",
       "      <td>0.000000</td>\n",
       "      <td>0.000000</td>\n",
       "      <td>0.000000</td>\n",
       "      <td>0.000000</td>\n",
       "      <td>6.178320</td>\n",
       "      <td>0.288278</td>\n",
       "      <td>0.744539</td>\n",
       "      <td>0.000000</td>\n",
       "      <td>...</td>\n",
       "      <td>0.000000</td>\n",
       "      <td>0.0</td>\n",
       "      <td>1.979645</td>\n",
       "      <td>5.689947</td>\n",
       "      <td>4.505685</td>\n",
       "      <td>0.000000</td>\n",
       "      <td>4.874406</td>\n",
       "      <td>0.000000</td>\n",
       "      <td>0.000000</td>\n",
       "      <td>3.839114</td>\n",
       "    </tr>\n",
       "    <tr>\n",
       "      <th>3</th>\n",
       "      <td>8.403932</td>\n",
       "      <td>8.006237</td>\n",
       "      <td>0.000000</td>\n",
       "      <td>0.000000</td>\n",
       "      <td>0.000000</td>\n",
       "      <td>0.000000</td>\n",
       "      <td>0.000000</td>\n",
       "      <td>0.446241</td>\n",
       "      <td>0.887819</td>\n",
       "      <td>0.908302</td>\n",
       "      <td>...</td>\n",
       "      <td>0.000000</td>\n",
       "      <td>0.0</td>\n",
       "      <td>2.382445</td>\n",
       "      <td>5.029952</td>\n",
       "      <td>4.913845</td>\n",
       "      <td>3.626710</td>\n",
       "      <td>0.000000</td>\n",
       "      <td>0.000000</td>\n",
       "      <td>0.000000</td>\n",
       "      <td>0.000000</td>\n",
       "    </tr>\n",
       "    <tr>\n",
       "      <th>4</th>\n",
       "      <td>7.615730</td>\n",
       "      <td>7.341176</td>\n",
       "      <td>0.000000</td>\n",
       "      <td>0.000000</td>\n",
       "      <td>0.000000</td>\n",
       "      <td>0.000000</td>\n",
       "      <td>0.000000</td>\n",
       "      <td>0.556021</td>\n",
       "      <td>0.236447</td>\n",
       "      <td>0.000000</td>\n",
       "      <td>...</td>\n",
       "      <td>0.000000</td>\n",
       "      <td>0.0</td>\n",
       "      <td>0.000000</td>\n",
       "      <td>5.205611</td>\n",
       "      <td>5.670119</td>\n",
       "      <td>0.000000</td>\n",
       "      <td>0.000000</td>\n",
       "      <td>0.000000</td>\n",
       "      <td>0.000000</td>\n",
       "      <td>3.732761</td>\n",
       "    </tr>\n",
       "    <tr>\n",
       "      <th>...</th>\n",
       "      <td>...</td>\n",
       "      <td>...</td>\n",
       "      <td>...</td>\n",
       "      <td>...</td>\n",
       "      <td>...</td>\n",
       "      <td>...</td>\n",
       "      <td>...</td>\n",
       "      <td>...</td>\n",
       "      <td>...</td>\n",
       "      <td>...</td>\n",
       "      <td>...</td>\n",
       "      <td>...</td>\n",
       "      <td>...</td>\n",
       "      <td>...</td>\n",
       "      <td>...</td>\n",
       "      <td>...</td>\n",
       "      <td>...</td>\n",
       "      <td>...</td>\n",
       "      <td>...</td>\n",
       "      <td>...</td>\n",
       "      <td>...</td>\n",
       "    </tr>\n",
       "    <tr>\n",
       "      <th>95</th>\n",
       "      <td>9.125922</td>\n",
       "      <td>7.938576</td>\n",
       "      <td>9.350317</td>\n",
       "      <td>0.000000</td>\n",
       "      <td>6.845966</td>\n",
       "      <td>0.000000</td>\n",
       "      <td>0.000000</td>\n",
       "      <td>0.614485</td>\n",
       "      <td>0.798749</td>\n",
       "      <td>1.463862</td>\n",
       "      <td>...</td>\n",
       "      <td>8.147277</td>\n",
       "      <td>0.0</td>\n",
       "      <td>0.000000</td>\n",
       "      <td>6.298347</td>\n",
       "      <td>4.760722</td>\n",
       "      <td>0.000000</td>\n",
       "      <td>5.079859</td>\n",
       "      <td>0.000000</td>\n",
       "      <td>3.846022</td>\n",
       "      <td>0.000000</td>\n",
       "    </tr>\n",
       "    <tr>\n",
       "      <th>96</th>\n",
       "      <td>10.285383</td>\n",
       "      <td>7.318758</td>\n",
       "      <td>0.000000</td>\n",
       "      <td>0.000000</td>\n",
       "      <td>0.000000</td>\n",
       "      <td>0.000000</td>\n",
       "      <td>0.000000</td>\n",
       "      <td>0.625377</td>\n",
       "      <td>0.846907</td>\n",
       "      <td>0.000000</td>\n",
       "      <td>...</td>\n",
       "      <td>0.000000</td>\n",
       "      <td>0.0</td>\n",
       "      <td>2.989774</td>\n",
       "      <td>4.224391</td>\n",
       "      <td>4.237986</td>\n",
       "      <td>0.000000</td>\n",
       "      <td>0.000000</td>\n",
       "      <td>0.000000</td>\n",
       "      <td>0.000000</td>\n",
       "      <td>3.234185</td>\n",
       "    </tr>\n",
       "    <tr>\n",
       "      <th>97</th>\n",
       "      <td>8.639540</td>\n",
       "      <td>7.309741</td>\n",
       "      <td>0.000000</td>\n",
       "      <td>8.590083</td>\n",
       "      <td>0.000000</td>\n",
       "      <td>0.000000</td>\n",
       "      <td>7.597269</td>\n",
       "      <td>0.466466</td>\n",
       "      <td>0.580221</td>\n",
       "      <td>0.000000</td>\n",
       "      <td>...</td>\n",
       "      <td>0.000000</td>\n",
       "      <td>0.0</td>\n",
       "      <td>1.652225</td>\n",
       "      <td>6.418908</td>\n",
       "      <td>5.632170</td>\n",
       "      <td>0.000000</td>\n",
       "      <td>0.000000</td>\n",
       "      <td>0.000000</td>\n",
       "      <td>0.000000</td>\n",
       "      <td>0.000000</td>\n",
       "    </tr>\n",
       "    <tr>\n",
       "      <th>98</th>\n",
       "      <td>10.583379</td>\n",
       "      <td>8.446805</td>\n",
       "      <td>0.000000</td>\n",
       "      <td>6.875683</td>\n",
       "      <td>0.000000</td>\n",
       "      <td>0.000000</td>\n",
       "      <td>0.000000</td>\n",
       "      <td>0.657269</td>\n",
       "      <td>0.336400</td>\n",
       "      <td>0.000000</td>\n",
       "      <td>...</td>\n",
       "      <td>0.000000</td>\n",
       "      <td>0.0</td>\n",
       "      <td>3.541551</td>\n",
       "      <td>4.624120</td>\n",
       "      <td>4.670814</td>\n",
       "      <td>0.000000</td>\n",
       "      <td>0.000000</td>\n",
       "      <td>0.000000</td>\n",
       "      <td>0.000000</td>\n",
       "      <td>0.000000</td>\n",
       "    </tr>\n",
       "    <tr>\n",
       "      <th>99</th>\n",
       "      <td>8.521865</td>\n",
       "      <td>10.468671</td>\n",
       "      <td>10.962140</td>\n",
       "      <td>0.000000</td>\n",
       "      <td>0.000000</td>\n",
       "      <td>0.000000</td>\n",
       "      <td>6.206734</td>\n",
       "      <td>0.421698</td>\n",
       "      <td>0.413007</td>\n",
       "      <td>0.000000</td>\n",
       "      <td>...</td>\n",
       "      <td>0.000000</td>\n",
       "      <td>0.0</td>\n",
       "      <td>0.000000</td>\n",
       "      <td>5.926190</td>\n",
       "      <td>4.816382</td>\n",
       "      <td>3.673689</td>\n",
       "      <td>0.000000</td>\n",
       "      <td>0.000000</td>\n",
       "      <td>0.000000</td>\n",
       "      <td>0.000000</td>\n",
       "    </tr>\n",
       "  </tbody>\n",
       "</table>\n",
       "<p>100 rows × 35 columns</p>\n",
       "</div>"
      ],
      "text/plain": [
       "         O2_1       O2_2       O2_3      O2_4      O2_5       O2_6      O2_7  \\\n",
       "0   10.242138   8.803694   9.996904  7.222902  0.000000  10.161754  0.000000   \n",
       "1    8.727439   8.609889   0.000000  8.433934  0.000000   0.000000  0.000000   \n",
       "2    9.964989   7.815876   0.000000  0.000000  0.000000   0.000000  6.178320   \n",
       "3    8.403932   8.006237   0.000000  0.000000  0.000000   0.000000  0.000000   \n",
       "4    7.615730   7.341176   0.000000  0.000000  0.000000   0.000000  0.000000   \n",
       "..        ...        ...        ...       ...       ...        ...       ...   \n",
       "95   9.125922   7.938576   9.350317  0.000000  6.845966   0.000000  0.000000   \n",
       "96  10.285383   7.318758   0.000000  0.000000  0.000000   0.000000  0.000000   \n",
       "97   8.639540   7.309741   0.000000  8.590083  0.000000   0.000000  7.597269   \n",
       "98  10.583379   8.446805   0.000000  6.875683  0.000000   0.000000  0.000000   \n",
       "99   8.521865  10.468671  10.962140  0.000000  0.000000   0.000000  6.206734   \n",
       "\n",
       "       NH4_1     NH4_2     NH4_3  ...     NO3_5  NO3_6     NO3_7    BOD5_1  \\\n",
       "0   0.649478  0.677284  0.883363  ...  0.000000    0.0  0.000000  3.919496   \n",
       "1   0.421798  0.389982  0.000000  ...  0.000000    0.0  0.000000  4.664785   \n",
       "2   0.288278  0.744539  0.000000  ...  0.000000    0.0  1.979645  5.689947   \n",
       "3   0.446241  0.887819  0.908302  ...  0.000000    0.0  2.382445  5.029952   \n",
       "4   0.556021  0.236447  0.000000  ...  0.000000    0.0  0.000000  5.205611   \n",
       "..       ...       ...       ...  ...       ...    ...       ...       ...   \n",
       "95  0.614485  0.798749  1.463862  ...  8.147277    0.0  0.000000  6.298347   \n",
       "96  0.625377  0.846907  0.000000  ...  0.000000    0.0  2.989774  4.224391   \n",
       "97  0.466466  0.580221  0.000000  ...  0.000000    0.0  1.652225  6.418908   \n",
       "98  0.657269  0.336400  0.000000  ...  0.000000    0.0  3.541551  4.624120   \n",
       "99  0.421698  0.413007  0.000000  ...  0.000000    0.0  0.000000  5.926190   \n",
       "\n",
       "      BOD5_2    BOD5_3    BOD5_4    BOD5_5    BOD5_6    BOD5_7  \n",
       "0   5.415440  3.403555  0.000000  0.000000  4.688370  0.000000  \n",
       "1   5.677786  0.000000  0.000000  7.386868  3.742587  0.000000  \n",
       "2   4.505685  0.000000  4.874406  0.000000  0.000000  3.839114  \n",
       "3   4.913845  3.626710  0.000000  0.000000  0.000000  0.000000  \n",
       "4   5.670119  0.000000  0.000000  0.000000  0.000000  3.732761  \n",
       "..       ...       ...       ...       ...       ...       ...  \n",
       "95  4.760722  0.000000  5.079859  0.000000  3.846022  0.000000  \n",
       "96  4.237986  0.000000  0.000000  0.000000  0.000000  3.234185  \n",
       "97  5.632170  0.000000  0.000000  0.000000  0.000000  0.000000  \n",
       "98  4.670814  0.000000  0.000000  0.000000  0.000000  0.000000  \n",
       "99  4.816382  3.673689  0.000000  0.000000  0.000000  0.000000  \n",
       "\n",
       "[100 rows x 35 columns]"
      ]
     },
     "execution_count": 16,
     "metadata": {},
     "output_type": "execute_result"
    }
   ],
   "source": [
    "train_set = recreating_training_set(100)\n",
    "train_set"
   ]
  },
  {
   "cell_type": "code",
   "execution_count": 17,
   "id": "7ee084c6",
   "metadata": {
    "execution": {
     "iopub.execute_input": "2023-08-29T16:35:26.039867Z",
     "iopub.status.busy": "2023-08-29T16:35:26.039459Z",
     "iopub.status.idle": "2023-08-29T16:35:37.958672Z",
     "shell.execute_reply": "2023-08-29T16:35:37.957318Z"
    },
    "papermill": {
     "duration": 11.935173,
     "end_time": "2023-08-29T16:35:37.961366",
     "exception": false,
     "start_time": "2023-08-29T16:35:26.026193",
     "status": "completed"
    },
    "tags": []
   },
   "outputs": [
    {
     "name": "stderr",
     "output_type": "stream",
     "text": [
      "/opt/conda/lib/python3.10/site-packages/scipy/__init__.py:146: UserWarning: A NumPy version >=1.16.5 and <1.23.0 is required for this version of SciPy (detected version 1.23.5\n",
      "  warnings.warn(f\"A NumPy version >={np_minversion} and <{np_maxversion}\"\n"
     ]
    },
    {
     "data": {
      "text/plain": [
       "array([ 9.18481083,  8.52036092, 10.40092041,  8.71442648,  8.03181251,\n",
       "        7.9415538 , 10.01890277,  8.74727206,  7.99152727,  8.10359236,\n",
       "        7.90810552,  9.6256312 , 10.32908911,  8.76800962,  8.81434225,\n",
       "        8.10514944,  9.65315601,  8.12309207,  8.04801757,  8.17649753,\n",
       "        8.06587015,  7.98911943, 10.08280964,  7.96527187,  5.32669379,\n",
       "        8.15262107,  8.84593344,  7.8843105 ,  8.83364045,  8.26832186,\n",
       "        8.03546825, 10.15032471, 10.14186105,  8.92855328,  8.74341262,\n",
       "        8.0675795 ,  8.83530938,  9.94653752,  8.09129944,  8.16861462,\n",
       "        9.30670546,  9.92984428,  8.1110619 ,  8.85667259,  8.79358707,\n",
       "        8.01201392,  7.92483571,  7.9177696 ,  8.97512244,  8.98428962,\n",
       "        9.93671351, 10.23208496,  8.04632635,  8.02487585,  8.18782436,\n",
       "        8.84606243,  8.72074064, 10.10466676, 10.15230599,  9.91845409,\n",
       "        8.01747262,  8.82812216,  8.74804995, 10.06975323,  9.97427101,\n",
       "        9.80084709,  8.74527373,  8.08382811,  8.0353014 , 10.18757328,\n",
       "        8.77888514,  7.94567241, 10.55107803,  8.90131524,  8.80698541,\n",
       "        8.5783081 ,  8.77511043,  8.58484   ,  8.716587  ,  7.85799801,\n",
       "        8.14064746,  8.79124905,  9.39908697,  8.70998716,  7.94141077,\n",
       "        9.97227266, 10.0824717 ,  7.90700756, 10.47910684,  8.81650058,\n",
       "        7.9011883 , 10.22699246,  9.86780535,  8.81677619,  8.08116722,\n",
       "        8.8923516 ,  9.94791046,  8.44046594,  9.60736108,  8.74949579])"
      ]
     },
     "execution_count": 17,
     "metadata": {},
     "output_type": "execute_result"
    }
   ],
   "source": [
    "# Now that we have similar data of that of og_train will try to generate targets with given model\n",
    "from sklearn.ensemble import RandomForestRegressor\n",
    "\n",
    "# taking submission set to train\n",
    "sub_train_set = pd.read_csv('/kaggle/input/playground-series-s3e21/sample_submission.csv', index_col=\"id\")\n",
    "\n",
    "X_test = sub_train_set['target']\n",
    "y_train = sub_train_set.pop('target') # train is your submission!\n",
    "rf = RandomForestRegressor(\n",
    "       n_estimators=1000,\n",
    "       max_depth=7,\n",
    "       n_jobs=-1,\n",
    "       random_state=42)\n",
    "rf.fit(sub_train_set, X_test)\n",
    "\n",
    "# train_set.rename(columns={'Id': 'id'}, inplace=True)\n",
    "# train_set.set_index('id', inplace=True)\n",
    "# train_set\n",
    "y_hat = rf.predict(train_set) # test set is hidden from you\n",
    "y_hat"
   ]
  },
  {
   "cell_type": "code",
   "execution_count": 18,
   "id": "00c0514c",
   "metadata": {
    "execution": {
     "iopub.execute_input": "2023-08-29T16:35:37.988734Z",
     "iopub.status.busy": "2023-08-29T16:35:37.988302Z",
     "iopub.status.idle": "2023-08-29T16:35:37.994163Z",
     "shell.execute_reply": "2023-08-29T16:35:37.993024Z"
    },
    "jupyter": {
     "source_hidden": true
    },
    "papermill": {
     "duration": 0.022715,
     "end_time": "2023-08-29T16:35:37.996654",
     "exception": false,
     "start_time": "2023-08-29T16:35:37.973939",
     "status": "completed"
    },
    "tags": []
   },
   "outputs": [],
   "source": [
    "train_set['target'] = y_hat"
   ]
  },
  {
   "cell_type": "code",
   "execution_count": 19,
   "id": "1d5e4aec",
   "metadata": {
    "execution": {
     "iopub.execute_input": "2023-08-29T16:35:38.022799Z",
     "iopub.status.busy": "2023-08-29T16:35:38.022334Z",
     "iopub.status.idle": "2023-08-29T16:35:38.036182Z",
     "shell.execute_reply": "2023-08-29T16:35:38.035077Z"
    },
    "papermill": {
     "duration": 0.029885,
     "end_time": "2023-08-29T16:35:38.038707",
     "exception": false,
     "start_time": "2023-08-29T16:35:38.008822",
     "status": "completed"
    },
    "tags": []
   },
   "outputs": [],
   "source": [
    "train_set.index.name = 'id'\n",
    "train_set.to_csv('submission2.csv')"
   ]
  },
  {
   "cell_type": "markdown",
   "id": "965ea87e",
   "metadata": {
    "papermill": {
     "duration": 0.011584,
     "end_time": "2023-08-29T16:35:38.062319",
     "exception": false,
     "start_time": "2023-08-29T16:35:38.050735",
     "status": "completed"
    },
    "tags": []
   },
   "source": [
    "# Improving the score "
   ]
  },
  {
   "cell_type": "markdown",
   "id": "05127c14",
   "metadata": {
    "papermill": {
     "duration": 0.011733,
     "end_time": "2023-08-29T16:35:38.086138",
     "exception": false,
     "start_time": "2023-08-29T16:35:38.074405",
     "status": "completed"
    },
    "tags": []
   },
   "source": [
    "### Lets take another look at the og_train_set and then we will see the column and data patterns\n"
   ]
  },
  {
   "cell_type": "markdown",
   "id": "0b5b59bc",
   "metadata": {
    "papermill": {
     "duration": 0.012396,
     "end_time": "2023-08-29T16:35:38.110490",
     "exception": false,
     "start_time": "2023-08-29T16:35:38.098094",
     "status": "completed"
    },
    "tags": []
   },
   "source": []
  },
  {
   "cell_type": "code",
   "execution_count": null,
   "id": "a32dee4c",
   "metadata": {
    "papermill": {
     "duration": 0.011625,
     "end_time": "2023-08-29T16:35:38.134283",
     "exception": false,
     "start_time": "2023-08-29T16:35:38.122658",
     "status": "completed"
    },
    "tags": []
   },
   "outputs": [],
   "source": []
  }
 ],
 "metadata": {
  "kernelspec": {
   "display_name": "Python 3",
   "language": "python",
   "name": "python3"
  },
  "language_info": {
   "codemirror_mode": {
    "name": "ipython",
    "version": 3
   },
   "file_extension": ".py",
   "mimetype": "text/x-python",
   "name": "python",
   "nbconvert_exporter": "python",
   "pygments_lexer": "ipython3",
   "version": "3.10.12"
  },
  "papermill": {
   "default_parameters": {},
   "duration": 26.337422,
   "end_time": "2023-08-29T16:35:39.169492",
   "environment_variables": {},
   "exception": null,
   "input_path": "__notebook__.ipynb",
   "output_path": "__notebook__.ipynb",
   "parameters": {},
   "start_time": "2023-08-29T16:35:12.832070",
   "version": "2.4.0"
  }
 },
 "nbformat": 4,
 "nbformat_minor": 5
}
