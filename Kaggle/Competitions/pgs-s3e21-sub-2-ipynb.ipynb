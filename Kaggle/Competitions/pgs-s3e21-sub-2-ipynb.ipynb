{
 "cells": [
  {
   "cell_type": "code",
   "execution_count": 1,
   "id": "d99eed62",
   "metadata": {
    "_cell_guid": "b1076dfc-b9ad-4769-8c92-a6c4dae69d19",
    "_kg_hide-input": false,
    "_kg_hide-output": false,
    "_uuid": "8f2839f25d086af736a60e9eeb907d3b93b6e0e5",
    "execution": {
     "iopub.execute_input": "2023-08-27T15:08:34.903171Z",
     "iopub.status.busy": "2023-08-27T15:08:34.902441Z",
     "iopub.status.idle": "2023-08-27T15:08:34.921534Z",
     "shell.execute_reply": "2023-08-27T15:08:34.920447Z"
    },
    "papermill": {
     "duration": 0.031569,
     "end_time": "2023-08-27T15:08:34.925052",
     "exception": false,
     "start_time": "2023-08-27T15:08:34.893483",
     "status": "completed"
    },
    "tags": []
   },
   "outputs": [
    {
     "name": "stdout",
     "output_type": "stream",
     "text": [
      "/kaggle/input/playground-series-s3e21/sample_submission.csv\n",
      "/kaggle/input/dissolved-oxygen-prediction-in-river-water/train.csv\n",
      "/kaggle/input/dissolved-oxygen-prediction-in-river-water/test.csv\n"
     ]
    }
   ],
   "source": [
    "# This Python 3 environment comes with many helpful analytics libraries installed\n",
    "# It is defined by the kaggle/python Docker image: https://github.com/kaggle/docker-python\n",
    "# For example, here's several helpful packages to load\n",
    "\n",
    "import numpy as np # linear algebra\n",
    "import pandas as pd # data processing, CSV file I/O (e.g. pd.read_csv)\n",
    "\n",
    "# Input data files are available in the read-only \"../input/\" directory\n",
    "# For example, running this (by clicking run or pressing Shift+Enter) will list all files under the input directory\n",
    "\n",
    "import os\n",
    "for dirname, _, filenames in os.walk('/kaggle/input'):\n",
    "    for filename in filenames:\n",
    "        print(os.path.join(dirname, filename))\n",
    "\n",
    "# You can write up to 20GB to the current directory (/kaggle/working/) that gets preserved as output when you create a version using \"Save & Run All\" \n",
    "# You can also write temporary files to /kaggle/temp/, but they won't be saved outside of the current session"
   ]
  },
  {
   "cell_type": "markdown",
   "id": "ef54a8c6",
   "metadata": {
    "papermill": {
     "duration": 0.006017,
     "end_time": "2023-08-27T15:08:34.937798",
     "exception": false,
     "start_time": "2023-08-27T15:08:34.931781",
     "status": "completed"
    },
    "tags": []
   },
   "source": [
    "# 😵‍💫 Improve a Fixed Model the Data-Centric Way! 😵‍💫¶ (Second Attempt)\n",
    "Playground Series - Season 3, Episode 21\n",
    "\n",
    "This is a very different type of challenge! For this challenge, your task is to improve a dataset that is being used to train a random forest model; in other words, your submission will be training data, not predictions. A random forest model will be trained on your submission, used to make predictions, and then those predictions will be used to generate your score.\n",
    "\n",
    "The dataset for this competition is a synthetic dataset based off of the Dissolved oxygen prediction in river water dataset. You are free to use the original in any way that you find useful."
   ]
  },
  {
   "cell_type": "markdown",
   "id": "b0ef8058",
   "metadata": {
    "papermill": {
     "duration": 0.00605,
     "end_time": "2023-08-27T15:08:34.950321",
     "exception": false,
     "start_time": "2023-08-27T15:08:34.944271",
     "status": "completed"
    },
    "tags": []
   },
   "source": [
    "## 🔶 Look at the big Picture"
   ]
  },
  {
   "cell_type": "markdown",
   "id": "302b7180",
   "metadata": {
    "papermill": {
     "duration": 0.005856,
     "end_time": "2023-08-27T15:08:34.962549",
     "exception": false,
     "start_time": "2023-08-27T15:08:34.956693",
     "status": "completed"
    },
    "tags": []
   },
   "source": [
    "### 🔸 **Frame the problem**\n",
    "*   🟢 **Goal:** Is to fill the columns in the dataFrame such a way that the dataframe fed to the given model gives close to 0 RMSE. 🗒\n",
    "*   🟢 **End Result:** multiple Columns to be predicted, changed such a way that models predict well 🗒\n",
    "*   🟢 **Problem Type:** not exactly a regression. model has been already provided,\n",
    "*   🟢 **Learning Type:** Supervised Learning\n",
    "*   🟢 **Variate:** MultiVariate (need to predict multiple target with 1 label)\n",
    "*   🟢 **Features:** single features"
   ]
  },
  {
   "cell_type": "markdown",
   "id": "59ea6ca6",
   "metadata": {
    "papermill": {
     "duration": 0.005911,
     "end_time": "2023-08-27T15:08:34.974753",
     "exception": false,
     "start_time": "2023-08-27T15:08:34.968842",
     "status": "completed"
    },
    "tags": []
   },
   "source": [
    "### 🔸 **Select performance measure**:\n",
    "🟢 using RMSE 🗒.  This was given in the problem set."
   ]
  },
  {
   "cell_type": "markdown",
   "id": "efb1a36f",
   "metadata": {
    "papermill": {
     "duration": 0.005848,
     "end_time": "2023-08-27T15:08:34.986810",
     "exception": false,
     "start_time": "2023-08-27T15:08:34.980962",
     "status": "completed"
    },
    "tags": []
   },
   "source": [
    "### 🔸 **Assumptions**: `none`\n",
    "\n",
    "---"
   ]
  },
  {
   "cell_type": "markdown",
   "id": "3efdf11a",
   "metadata": {
    "papermill": {
     "duration": 0.006605,
     "end_time": "2023-08-27T15:08:35.001795",
     "exception": false,
     "start_time": "2023-08-27T15:08:34.995190",
     "status": "completed"
    },
    "tags": []
   },
   "source": [
    "## 🔶**Get the Data**\n",
    "\n",
    "* 🟢 Add the sample_submission (as there are no train and test set in this problem) from the compition data\n",
    "* 🟢 Read the sample_submission csv into a dataframe"
   ]
  },
  {
   "cell_type": "code",
   "execution_count": 2,
   "id": "9b56dab0",
   "metadata": {
    "execution": {
     "iopub.execute_input": "2023-08-27T15:08:35.024266Z",
     "iopub.status.busy": "2023-08-27T15:08:35.023883Z",
     "iopub.status.idle": "2023-08-27T15:08:35.060166Z",
     "shell.execute_reply": "2023-08-27T15:08:35.059243Z"
    },
    "papermill": {
     "duration": 0.048387,
     "end_time": "2023-08-27T15:08:35.063034",
     "exception": false,
     "start_time": "2023-08-27T15:08:35.014647",
     "status": "completed"
    },
    "tags": []
   },
   "outputs": [],
   "source": [
    "#taking original training data from original data source\n",
    "\n",
    "og_train_set = pd.read_csv('/kaggle/input/dissolved-oxygen-prediction-in-river-water/train.csv', index_col='Id')\n"
   ]
  },
  {
   "cell_type": "markdown",
   "id": "a82eca3f",
   "metadata": {
    "papermill": {
     "duration": 0.005891,
     "end_time": "2023-08-27T15:08:35.075459",
     "exception": false,
     "start_time": "2023-08-27T15:08:35.069568",
     "status": "completed"
    },
    "tags": []
   },
   "source": [
    "#### 🔸 **Take Quick look**\n",
    "* 🟢 .head() to see the index columns and quick look at the data \n",
    "* 🟢 .shape to see the size of training set\n",
    "* 🟢 .info() to see the data types and missing values \n",
    "* 🟢 .value_counts() on categorical data to check if all the categories are equaly represented and to check the weightages.\n",
    "* 🟢 .describe() to check mean and std deviation, min, max this gives a hint of how data is distributed and what is the max values, min values and is there any scaled data or not.\n",
    "\n",
    "🚨 **Note:** Specially for this problem we are looking at the submision set so that we can have a clone of this dataframe structure and fill the data "
   ]
  },
  {
   "cell_type": "code",
   "execution_count": 3,
   "id": "9fd16f9b",
   "metadata": {
    "execution": {
     "iopub.execute_input": "2023-08-27T15:08:35.091019Z",
     "iopub.status.busy": "2023-08-27T15:08:35.090206Z",
     "iopub.status.idle": "2023-08-27T15:08:35.132385Z",
     "shell.execute_reply": "2023-08-27T15:08:35.130973Z"
    },
    "papermill": {
     "duration": 0.053724,
     "end_time": "2023-08-27T15:08:35.135953",
     "exception": false,
     "start_time": "2023-08-27T15:08:35.082229",
     "status": "completed"
    },
    "tags": []
   },
   "outputs": [
    {
     "data": {
      "text/html": [
       "<div>\n",
       "<style scoped>\n",
       "    .dataframe tbody tr th:only-of-type {\n",
       "        vertical-align: middle;\n",
       "    }\n",
       "\n",
       "    .dataframe tbody tr th {\n",
       "        vertical-align: top;\n",
       "    }\n",
       "\n",
       "    .dataframe thead th {\n",
       "        text-align: right;\n",
       "    }\n",
       "</style>\n",
       "<table border=\"1\" class=\"dataframe\">\n",
       "  <thead>\n",
       "    <tr style=\"text-align: right;\">\n",
       "      <th></th>\n",
       "      <th>target</th>\n",
       "      <th>O2_1</th>\n",
       "      <th>O2_2</th>\n",
       "      <th>O2_3</th>\n",
       "      <th>O2_4</th>\n",
       "      <th>O2_5</th>\n",
       "      <th>O2_6</th>\n",
       "      <th>O2_7</th>\n",
       "      <th>NH4_1</th>\n",
       "      <th>NH4_2</th>\n",
       "      <th>...</th>\n",
       "      <th>NO3_5</th>\n",
       "      <th>NO3_6</th>\n",
       "      <th>NO3_7</th>\n",
       "      <th>BOD5_1</th>\n",
       "      <th>BOD5_2</th>\n",
       "      <th>BOD5_3</th>\n",
       "      <th>BOD5_4</th>\n",
       "      <th>BOD5_5</th>\n",
       "      <th>BOD5_6</th>\n",
       "      <th>BOD5_7</th>\n",
       "    </tr>\n",
       "    <tr>\n",
       "      <th>Id</th>\n",
       "      <th></th>\n",
       "      <th></th>\n",
       "      <th></th>\n",
       "      <th></th>\n",
       "      <th></th>\n",
       "      <th></th>\n",
       "      <th></th>\n",
       "      <th></th>\n",
       "      <th></th>\n",
       "      <th></th>\n",
       "      <th></th>\n",
       "      <th></th>\n",
       "      <th></th>\n",
       "      <th></th>\n",
       "      <th></th>\n",
       "      <th></th>\n",
       "      <th></th>\n",
       "      <th></th>\n",
       "      <th></th>\n",
       "      <th></th>\n",
       "      <th></th>\n",
       "    </tr>\n",
       "  </thead>\n",
       "  <tbody>\n",
       "    <tr>\n",
       "      <th>0</th>\n",
       "      <td>12.58</td>\n",
       "      <td>9.875</td>\n",
       "      <td>9.20</td>\n",
       "      <td>NaN</td>\n",
       "      <td>NaN</td>\n",
       "      <td>NaN</td>\n",
       "      <td>NaN</td>\n",
       "      <td>NaN</td>\n",
       "      <td>0.690</td>\n",
       "      <td>1.040</td>\n",
       "      <td>...</td>\n",
       "      <td>NaN</td>\n",
       "      <td>NaN</td>\n",
       "      <td>NaN</td>\n",
       "      <td>4.80</td>\n",
       "      <td>5.850</td>\n",
       "      <td>NaN</td>\n",
       "      <td>NaN</td>\n",
       "      <td>NaN</td>\n",
       "      <td>NaN</td>\n",
       "      <td>NaN</td>\n",
       "    </tr>\n",
       "    <tr>\n",
       "      <th>3</th>\n",
       "      <td>9.37</td>\n",
       "      <td>10.300</td>\n",
       "      <td>10.75</td>\n",
       "      <td>NaN</td>\n",
       "      <td>NaN</td>\n",
       "      <td>NaN</td>\n",
       "      <td>NaN</td>\n",
       "      <td>NaN</td>\n",
       "      <td>0.710</td>\n",
       "      <td>0.725</td>\n",
       "      <td>...</td>\n",
       "      <td>NaN</td>\n",
       "      <td>NaN</td>\n",
       "      <td>NaN</td>\n",
       "      <td>5.88</td>\n",
       "      <td>6.835</td>\n",
       "      <td>NaN</td>\n",
       "      <td>NaN</td>\n",
       "      <td>NaN</td>\n",
       "      <td>NaN</td>\n",
       "      <td>NaN</td>\n",
       "    </tr>\n",
       "    <tr>\n",
       "      <th>4</th>\n",
       "      <td>8.35</td>\n",
       "      <td>8.290</td>\n",
       "      <td>7.90</td>\n",
       "      <td>NaN</td>\n",
       "      <td>NaN</td>\n",
       "      <td>NaN</td>\n",
       "      <td>NaN</td>\n",
       "      <td>NaN</td>\n",
       "      <td>2.210</td>\n",
       "      <td>2.210</td>\n",
       "      <td>...</td>\n",
       "      <td>NaN</td>\n",
       "      <td>NaN</td>\n",
       "      <td>NaN</td>\n",
       "      <td>3.20</td>\n",
       "      <td>2.700</td>\n",
       "      <td>NaN</td>\n",
       "      <td>NaN</td>\n",
       "      <td>NaN</td>\n",
       "      <td>NaN</td>\n",
       "      <td>NaN</td>\n",
       "    </tr>\n",
       "    <tr>\n",
       "      <th>5</th>\n",
       "      <td>9.57</td>\n",
       "      <td>8.820</td>\n",
       "      <td>6.80</td>\n",
       "      <td>NaN</td>\n",
       "      <td>NaN</td>\n",
       "      <td>NaN</td>\n",
       "      <td>NaN</td>\n",
       "      <td>NaN</td>\n",
       "      <td>0.595</td>\n",
       "      <td>0.675</td>\n",
       "      <td>...</td>\n",
       "      <td>NaN</td>\n",
       "      <td>NaN</td>\n",
       "      <td>NaN</td>\n",
       "      <td>7.70</td>\n",
       "      <td>7.055</td>\n",
       "      <td>NaN</td>\n",
       "      <td>NaN</td>\n",
       "      <td>NaN</td>\n",
       "      <td>NaN</td>\n",
       "      <td>NaN</td>\n",
       "    </tr>\n",
       "    <tr>\n",
       "      <th>6</th>\n",
       "      <td>6.00</td>\n",
       "      <td>6.000</td>\n",
       "      <td>6.50</td>\n",
       "      <td>NaN</td>\n",
       "      <td>NaN</td>\n",
       "      <td>NaN</td>\n",
       "      <td>NaN</td>\n",
       "      <td>NaN</td>\n",
       "      <td>0.600</td>\n",
       "      <td>0.900</td>\n",
       "      <td>...</td>\n",
       "      <td>NaN</td>\n",
       "      <td>NaN</td>\n",
       "      <td>NaN</td>\n",
       "      <td>5.50</td>\n",
       "      <td>5.300</td>\n",
       "      <td>NaN</td>\n",
       "      <td>NaN</td>\n",
       "      <td>NaN</td>\n",
       "      <td>NaN</td>\n",
       "      <td>NaN</td>\n",
       "    </tr>\n",
       "  </tbody>\n",
       "</table>\n",
       "<p>5 rows × 36 columns</p>\n",
       "</div>"
      ],
      "text/plain": [
       "    target    O2_1   O2_2  O2_3  O2_4  O2_5  O2_6  O2_7  NH4_1  NH4_2  ...  \\\n",
       "Id                                                                     ...   \n",
       "0    12.58   9.875   9.20   NaN   NaN   NaN   NaN   NaN  0.690  1.040  ...   \n",
       "3     9.37  10.300  10.75   NaN   NaN   NaN   NaN   NaN  0.710  0.725  ...   \n",
       "4     8.35   8.290   7.90   NaN   NaN   NaN   NaN   NaN  2.210  2.210  ...   \n",
       "5     9.57   8.820   6.80   NaN   NaN   NaN   NaN   NaN  0.595  0.675  ...   \n",
       "6     6.00   6.000   6.50   NaN   NaN   NaN   NaN   NaN  0.600  0.900  ...   \n",
       "\n",
       "    NO3_5  NO3_6  NO3_7  BOD5_1  BOD5_2  BOD5_3  BOD5_4  BOD5_5  BOD5_6  \\\n",
       "Id                                                                        \n",
       "0     NaN    NaN    NaN    4.80   5.850     NaN     NaN     NaN     NaN   \n",
       "3     NaN    NaN    NaN    5.88   6.835     NaN     NaN     NaN     NaN   \n",
       "4     NaN    NaN    NaN    3.20   2.700     NaN     NaN     NaN     NaN   \n",
       "5     NaN    NaN    NaN    7.70   7.055     NaN     NaN     NaN     NaN   \n",
       "6     NaN    NaN    NaN    5.50   5.300     NaN     NaN     NaN     NaN   \n",
       "\n",
       "    BOD5_7  \n",
       "Id          \n",
       "0      NaN  \n",
       "3      NaN  \n",
       "4      NaN  \n",
       "5      NaN  \n",
       "6      NaN  \n",
       "\n",
       "[5 rows x 36 columns]"
      ]
     },
     "execution_count": 3,
     "metadata": {},
     "output_type": "execute_result"
    }
   ],
   "source": [
    "og_train_set.head()"
   ]
  },
  {
   "cell_type": "code",
   "execution_count": 4,
   "id": "ebd81ebc",
   "metadata": {
    "execution": {
     "iopub.execute_input": "2023-08-27T15:08:35.152686Z",
     "iopub.status.busy": "2023-08-27T15:08:35.152226Z",
     "iopub.status.idle": "2023-08-27T15:08:35.160005Z",
     "shell.execute_reply": "2023-08-27T15:08:35.158935Z"
    },
    "papermill": {
     "duration": 0.019168,
     "end_time": "2023-08-27T15:08:35.162551",
     "exception": false,
     "start_time": "2023-08-27T15:08:35.143383",
     "status": "completed"
    },
    "tags": []
   },
   "outputs": [
    {
     "data": {
      "text/plain": [
       "(147, 36)"
      ]
     },
     "execution_count": 4,
     "metadata": {},
     "output_type": "execute_result"
    }
   ],
   "source": [
    "og_train_set.shape"
   ]
  },
  {
   "cell_type": "code",
   "execution_count": 5,
   "id": "74b4455e",
   "metadata": {
    "execution": {
     "iopub.execute_input": "2023-08-27T15:08:35.178252Z",
     "iopub.status.busy": "2023-08-27T15:08:35.177778Z",
     "iopub.status.idle": "2023-08-27T15:08:35.301516Z",
     "shell.execute_reply": "2023-08-27T15:08:35.299899Z"
    },
    "papermill": {
     "duration": 0.135006,
     "end_time": "2023-08-27T15:08:35.304468",
     "exception": false,
     "start_time": "2023-08-27T15:08:35.169462",
     "status": "completed"
    },
    "tags": []
   },
   "outputs": [
    {
     "data": {
      "text/html": [
       "<div>\n",
       "<style scoped>\n",
       "    .dataframe tbody tr th:only-of-type {\n",
       "        vertical-align: middle;\n",
       "    }\n",
       "\n",
       "    .dataframe tbody tr th {\n",
       "        vertical-align: top;\n",
       "    }\n",
       "\n",
       "    .dataframe thead th {\n",
       "        text-align: right;\n",
       "    }\n",
       "</style>\n",
       "<table border=\"1\" class=\"dataframe\">\n",
       "  <thead>\n",
       "    <tr style=\"text-align: right;\">\n",
       "      <th></th>\n",
       "      <th>target</th>\n",
       "      <th>O2_1</th>\n",
       "      <th>O2_2</th>\n",
       "      <th>O2_3</th>\n",
       "      <th>O2_4</th>\n",
       "      <th>O2_5</th>\n",
       "      <th>O2_6</th>\n",
       "      <th>O2_7</th>\n",
       "      <th>NH4_1</th>\n",
       "      <th>NH4_2</th>\n",
       "      <th>...</th>\n",
       "      <th>NO3_5</th>\n",
       "      <th>NO3_6</th>\n",
       "      <th>NO3_7</th>\n",
       "      <th>BOD5_1</th>\n",
       "      <th>BOD5_2</th>\n",
       "      <th>BOD5_3</th>\n",
       "      <th>BOD5_4</th>\n",
       "      <th>BOD5_5</th>\n",
       "      <th>BOD5_6</th>\n",
       "      <th>BOD5_7</th>\n",
       "    </tr>\n",
       "  </thead>\n",
       "  <tbody>\n",
       "    <tr>\n",
       "      <th>count</th>\n",
       "      <td>147.000000</td>\n",
       "      <td>145.000000</td>\n",
       "      <td>145.000000</td>\n",
       "      <td>32.000000</td>\n",
       "      <td>31.000000</td>\n",
       "      <td>33.000000</td>\n",
       "      <td>37.000000</td>\n",
       "      <td>37.000000</td>\n",
       "      <td>145.000000</td>\n",
       "      <td>145.000000</td>\n",
       "      <td>...</td>\n",
       "      <td>33.000000</td>\n",
       "      <td>37.000000</td>\n",
       "      <td>37.000000</td>\n",
       "      <td>145.000000</td>\n",
       "      <td>145.000000</td>\n",
       "      <td>32.000000</td>\n",
       "      <td>31.000000</td>\n",
       "      <td>33.000000</td>\n",
       "      <td>37.000000</td>\n",
       "      <td>37.000000</td>\n",
       "    </tr>\n",
       "    <tr>\n",
       "      <th>mean</th>\n",
       "      <td>9.211497</td>\n",
       "      <td>9.168506</td>\n",
       "      <td>9.148126</td>\n",
       "      <td>10.002813</td>\n",
       "      <td>8.483226</td>\n",
       "      <td>6.095152</td>\n",
       "      <td>9.396892</td>\n",
       "      <td>7.598243</td>\n",
       "      <td>0.588168</td>\n",
       "      <td>0.660910</td>\n",
       "      <td>...</td>\n",
       "      <td>6.982515</td>\n",
       "      <td>3.373689</td>\n",
       "      <td>3.200135</td>\n",
       "      <td>4.972724</td>\n",
       "      <td>4.906379</td>\n",
       "      <td>4.665312</td>\n",
       "      <td>5.871935</td>\n",
       "      <td>8.678788</td>\n",
       "      <td>3.884054</td>\n",
       "      <td>3.957703</td>\n",
       "    </tr>\n",
       "    <tr>\n",
       "      <th>std</th>\n",
       "      <td>2.886614</td>\n",
       "      <td>4.188197</td>\n",
       "      <td>3.746898</td>\n",
       "      <td>2.667096</td>\n",
       "      <td>2.527239</td>\n",
       "      <td>3.279915</td>\n",
       "      <td>2.848153</td>\n",
       "      <td>3.409060</td>\n",
       "      <td>0.462262</td>\n",
       "      <td>0.591798</td>\n",
       "      <td>...</td>\n",
       "      <td>4.466642</td>\n",
       "      <td>2.823756</td>\n",
       "      <td>2.868225</td>\n",
       "      <td>2.044057</td>\n",
       "      <td>2.001381</td>\n",
       "      <td>2.057903</td>\n",
       "      <td>2.555560</td>\n",
       "      <td>5.299039</td>\n",
       "      <td>1.615542</td>\n",
       "      <td>1.916813</td>\n",
       "    </tr>\n",
       "    <tr>\n",
       "      <th>min</th>\n",
       "      <td>1.900000</td>\n",
       "      <td>2.200000</td>\n",
       "      <td>2.200000</td>\n",
       "      <td>4.660000</td>\n",
       "      <td>4.900000</td>\n",
       "      <td>0.000000</td>\n",
       "      <td>0.000000</td>\n",
       "      <td>0.000000</td>\n",
       "      <td>0.040000</td>\n",
       "      <td>0.020000</td>\n",
       "      <td>...</td>\n",
       "      <td>0.670000</td>\n",
       "      <td>0.100000</td>\n",
       "      <td>0.000000</td>\n",
       "      <td>0.900000</td>\n",
       "      <td>1.040000</td>\n",
       "      <td>2.040000</td>\n",
       "      <td>2.480000</td>\n",
       "      <td>2.880000</td>\n",
       "      <td>1.000000</td>\n",
       "      <td>1.600000</td>\n",
       "    </tr>\n",
       "    <tr>\n",
       "      <th>25%</th>\n",
       "      <td>7.375000</td>\n",
       "      <td>7.050000</td>\n",
       "      <td>7.200000</td>\n",
       "      <td>8.100000</td>\n",
       "      <td>6.865000</td>\n",
       "      <td>3.290000</td>\n",
       "      <td>8.800000</td>\n",
       "      <td>6.170000</td>\n",
       "      <td>0.230000</td>\n",
       "      <td>0.215000</td>\n",
       "      <td>...</td>\n",
       "      <td>4.100000</td>\n",
       "      <td>1.440000</td>\n",
       "      <td>1.610000</td>\n",
       "      <td>3.500000</td>\n",
       "      <td>3.400000</td>\n",
       "      <td>3.325000</td>\n",
       "      <td>4.445000</td>\n",
       "      <td>5.840000</td>\n",
       "      <td>2.900000</td>\n",
       "      <td>2.900000</td>\n",
       "    </tr>\n",
       "    <tr>\n",
       "      <th>50%</th>\n",
       "      <td>8.800000</td>\n",
       "      <td>8.700000</td>\n",
       "      <td>8.566667</td>\n",
       "      <td>9.522500</td>\n",
       "      <td>7.800000</td>\n",
       "      <td>5.800000</td>\n",
       "      <td>9.805000</td>\n",
       "      <td>7.150000</td>\n",
       "      <td>0.425000</td>\n",
       "      <td>0.440000</td>\n",
       "      <td>...</td>\n",
       "      <td>6.050000</td>\n",
       "      <td>2.650000</td>\n",
       "      <td>1.900000</td>\n",
       "      <td>4.800000</td>\n",
       "      <td>4.833333</td>\n",
       "      <td>4.150000</td>\n",
       "      <td>5.500000</td>\n",
       "      <td>7.300000</td>\n",
       "      <td>3.400000</td>\n",
       "      <td>3.500000</td>\n",
       "    </tr>\n",
       "    <tr>\n",
       "      <th>75%</th>\n",
       "      <td>10.850000</td>\n",
       "      <td>10.600000</td>\n",
       "      <td>10.500000</td>\n",
       "      <td>11.611250</td>\n",
       "      <td>9.232500</td>\n",
       "      <td>9.500000</td>\n",
       "      <td>10.440000</td>\n",
       "      <td>8.700000</td>\n",
       "      <td>0.800000</td>\n",
       "      <td>0.910000</td>\n",
       "      <td>...</td>\n",
       "      <td>8.550000</td>\n",
       "      <td>4.320000</td>\n",
       "      <td>3.800000</td>\n",
       "      <td>6.450000</td>\n",
       "      <td>6.200000</td>\n",
       "      <td>5.970000</td>\n",
       "      <td>6.400000</td>\n",
       "      <td>8.415000</td>\n",
       "      <td>4.800000</td>\n",
       "      <td>4.400000</td>\n",
       "    </tr>\n",
       "    <tr>\n",
       "      <th>max</th>\n",
       "      <td>19.100000</td>\n",
       "      <td>46.950000</td>\n",
       "      <td>40.900000</td>\n",
       "      <td>15.900000</td>\n",
       "      <td>15.400000</td>\n",
       "      <td>11.800000</td>\n",
       "      <td>13.700000</td>\n",
       "      <td>15.900000</td>\n",
       "      <td>2.400000</td>\n",
       "      <td>3.600000</td>\n",
       "      <td>...</td>\n",
       "      <td>20.050000</td>\n",
       "      <td>10.200000</td>\n",
       "      <td>13.300000</td>\n",
       "      <td>10.900000</td>\n",
       "      <td>11.000000</td>\n",
       "      <td>10.665000</td>\n",
       "      <td>14.790000</td>\n",
       "      <td>27.120000</td>\n",
       "      <td>8.540000</td>\n",
       "      <td>10.370000</td>\n",
       "    </tr>\n",
       "  </tbody>\n",
       "</table>\n",
       "<p>8 rows × 36 columns</p>\n",
       "</div>"
      ],
      "text/plain": [
       "           target        O2_1        O2_2       O2_3       O2_4       O2_5  \\\n",
       "count  147.000000  145.000000  145.000000  32.000000  31.000000  33.000000   \n",
       "mean     9.211497    9.168506    9.148126  10.002813   8.483226   6.095152   \n",
       "std      2.886614    4.188197    3.746898   2.667096   2.527239   3.279915   \n",
       "min      1.900000    2.200000    2.200000   4.660000   4.900000   0.000000   \n",
       "25%      7.375000    7.050000    7.200000   8.100000   6.865000   3.290000   \n",
       "50%      8.800000    8.700000    8.566667   9.522500   7.800000   5.800000   \n",
       "75%     10.850000   10.600000   10.500000  11.611250   9.232500   9.500000   \n",
       "max     19.100000   46.950000   40.900000  15.900000  15.400000  11.800000   \n",
       "\n",
       "            O2_6       O2_7       NH4_1       NH4_2  ...      NO3_5  \\\n",
       "count  37.000000  37.000000  145.000000  145.000000  ...  33.000000   \n",
       "mean    9.396892   7.598243    0.588168    0.660910  ...   6.982515   \n",
       "std     2.848153   3.409060    0.462262    0.591798  ...   4.466642   \n",
       "min     0.000000   0.000000    0.040000    0.020000  ...   0.670000   \n",
       "25%     8.800000   6.170000    0.230000    0.215000  ...   4.100000   \n",
       "50%     9.805000   7.150000    0.425000    0.440000  ...   6.050000   \n",
       "75%    10.440000   8.700000    0.800000    0.910000  ...   8.550000   \n",
       "max    13.700000  15.900000    2.400000    3.600000  ...  20.050000   \n",
       "\n",
       "           NO3_6      NO3_7      BOD5_1      BOD5_2     BOD5_3     BOD5_4  \\\n",
       "count  37.000000  37.000000  145.000000  145.000000  32.000000  31.000000   \n",
       "mean    3.373689   3.200135    4.972724    4.906379   4.665312   5.871935   \n",
       "std     2.823756   2.868225    2.044057    2.001381   2.057903   2.555560   \n",
       "min     0.100000   0.000000    0.900000    1.040000   2.040000   2.480000   \n",
       "25%     1.440000   1.610000    3.500000    3.400000   3.325000   4.445000   \n",
       "50%     2.650000   1.900000    4.800000    4.833333   4.150000   5.500000   \n",
       "75%     4.320000   3.800000    6.450000    6.200000   5.970000   6.400000   \n",
       "max    10.200000  13.300000   10.900000   11.000000  10.665000  14.790000   \n",
       "\n",
       "          BOD5_5     BOD5_6     BOD5_7  \n",
       "count  33.000000  37.000000  37.000000  \n",
       "mean    8.678788   3.884054   3.957703  \n",
       "std     5.299039   1.615542   1.916813  \n",
       "min     2.880000   1.000000   1.600000  \n",
       "25%     5.840000   2.900000   2.900000  \n",
       "50%     7.300000   3.400000   3.500000  \n",
       "75%     8.415000   4.800000   4.400000  \n",
       "max    27.120000   8.540000  10.370000  \n",
       "\n",
       "[8 rows x 36 columns]"
      ]
     },
     "execution_count": 5,
     "metadata": {},
     "output_type": "execute_result"
    }
   ],
   "source": [
    "og_train_set.describe()"
   ]
  },
  {
   "cell_type": "code",
   "execution_count": 6,
   "id": "976648f9",
   "metadata": {
    "execution": {
     "iopub.execute_input": "2023-08-27T15:08:35.321767Z",
     "iopub.status.busy": "2023-08-27T15:08:35.321316Z",
     "iopub.status.idle": "2023-08-27T15:08:35.344266Z",
     "shell.execute_reply": "2023-08-27T15:08:35.342929Z"
    },
    "papermill": {
     "duration": 0.03543,
     "end_time": "2023-08-27T15:08:35.347628",
     "exception": false,
     "start_time": "2023-08-27T15:08:35.312198",
     "status": "completed"
    },
    "tags": []
   },
   "outputs": [
    {
     "name": "stdout",
     "output_type": "stream",
     "text": [
      "<class 'pandas.core.frame.DataFrame'>\n",
      "Int64Index: 147 entries, 0 to 214\n",
      "Data columns (total 36 columns):\n",
      " #   Column  Non-Null Count  Dtype  \n",
      "---  ------  --------------  -----  \n",
      " 0   target  147 non-null    float64\n",
      " 1   O2_1    145 non-null    float64\n",
      " 2   O2_2    145 non-null    float64\n",
      " 3   O2_3    32 non-null     float64\n",
      " 4   O2_4    31 non-null     float64\n",
      " 5   O2_5    33 non-null     float64\n",
      " 6   O2_6    37 non-null     float64\n",
      " 7   O2_7    37 non-null     float64\n",
      " 8   NH4_1   145 non-null    float64\n",
      " 9   NH4_2   145 non-null    float64\n",
      " 10  NH4_3   32 non-null     float64\n",
      " 11  NH4_4   31 non-null     float64\n",
      " 12  NH4_5   33 non-null     float64\n",
      " 13  NH4_6   37 non-null     float64\n",
      " 14  NH4_7   37 non-null     float64\n",
      " 15  NO2_1   145 non-null    float64\n",
      " 16  NO2_2   145 non-null    float64\n",
      " 17  NO2_3   32 non-null     float64\n",
      " 18  NO2_4   31 non-null     float64\n",
      " 19  NO2_5   33 non-null     float64\n",
      " 20  NO2_6   37 non-null     float64\n",
      " 21  NO2_7   37 non-null     float64\n",
      " 22  NO3_1   145 non-null    float64\n",
      " 23  NO3_2   145 non-null    float64\n",
      " 24  NO3_3   32 non-null     float64\n",
      " 25  NO3_4   31 non-null     float64\n",
      " 26  NO3_5   33 non-null     float64\n",
      " 27  NO3_6   37 non-null     float64\n",
      " 28  NO3_7   37 non-null     float64\n",
      " 29  BOD5_1  145 non-null    float64\n",
      " 30  BOD5_2  145 non-null    float64\n",
      " 31  BOD5_3  32 non-null     float64\n",
      " 32  BOD5_4  31 non-null     float64\n",
      " 33  BOD5_5  33 non-null     float64\n",
      " 34  BOD5_6  37 non-null     float64\n",
      " 35  BOD5_7  37 non-null     float64\n",
      "dtypes: float64(36)\n",
      "memory usage: 42.5 KB\n"
     ]
    }
   ],
   "source": [
    "og_train_set.info()"
   ]
  },
  {
   "cell_type": "code",
   "execution_count": 7,
   "id": "37518a19",
   "metadata": {
    "execution": {
     "iopub.execute_input": "2023-08-27T15:08:35.365462Z",
     "iopub.status.busy": "2023-08-27T15:08:35.365033Z",
     "iopub.status.idle": "2023-08-27T15:08:35.466269Z",
     "shell.execute_reply": "2023-08-27T15:08:35.464889Z"
    },
    "papermill": {
     "duration": 0.113647,
     "end_time": "2023-08-27T15:08:35.469000",
     "exception": false,
     "start_time": "2023-08-27T15:08:35.355353",
     "status": "completed"
    },
    "tags": []
   },
   "outputs": [
    {
     "name": "stdout",
     "output_type": "stream",
     "text": [
      "Index(['O2_1', 'O2_2', 'O2_3', 'O2_4', 'O2_5', 'O2_6', 'O2_7', 'NH4_1',\n",
      "       'NH4_2', 'NH4_3', 'NH4_4', 'NH4_5', 'NH4_6', 'NH4_7', 'NO2_1', 'NO2_2',\n",
      "       'NO2_3', 'NO2_4', 'NO2_5', 'NO2_6', 'NO2_7', 'NO3_1', 'NO3_2', 'NO3_3',\n",
      "       'NO3_4', 'NO3_5', 'NO3_6', 'NO3_7', 'BOD5_1', 'BOD5_2', 'BOD5_3',\n",
      "       'BOD5_4', 'BOD5_5', 'BOD5_6', 'BOD5_7'],\n",
      "      dtype='object')\n"
     ]
    }
   ],
   "source": [
    "# collecting required data from the og train set\n",
    "description = og_train_set.describe()\n",
    "columns = og_train_set.columns\n",
    "columns = columns.drop(\"target\")\n",
    "print(columns)"
   ]
  },
  {
   "cell_type": "code",
   "execution_count": 8,
   "id": "807d31b3",
   "metadata": {
    "execution": {
     "iopub.execute_input": "2023-08-27T15:08:35.486710Z",
     "iopub.status.busy": "2023-08-27T15:08:35.486261Z",
     "iopub.status.idle": "2023-08-27T15:08:35.491962Z",
     "shell.execute_reply": "2023-08-27T15:08:35.490767Z"
    },
    "papermill": {
     "duration": 0.0173,
     "end_time": "2023-08-27T15:08:35.494239",
     "exception": false,
     "start_time": "2023-08-27T15:08:35.476939",
     "status": "completed"
    },
    "tags": []
   },
   "outputs": [],
   "source": [
    "# from the og data set we are checking what percentage of 0' or missing data are there in each column\n",
    "def fill_missing_data_perc(df):\n",
    "    df = df.fillna(0)\n",
    "    return df"
   ]
  },
  {
   "cell_type": "code",
   "execution_count": 9,
   "id": "ec8f6db1",
   "metadata": {
    "execution": {
     "iopub.execute_input": "2023-08-27T15:08:35.511622Z",
     "iopub.status.busy": "2023-08-27T15:08:35.511196Z",
     "iopub.status.idle": "2023-08-27T15:08:35.531556Z",
     "shell.execute_reply": "2023-08-27T15:08:35.530161Z"
    },
    "papermill": {
     "duration": 0.032588,
     "end_time": "2023-08-27T15:08:35.534431",
     "exception": false,
     "start_time": "2023-08-27T15:08:35.501843",
     "status": "completed"
    },
    "tags": []
   },
   "outputs": [
    {
     "name": "stdout",
     "output_type": "stream",
     "text": [
      "['O2_1' '1.0' 'O2_2' '1.0' 'O2_3' '78.0' 'O2_4' '79.0' 'O2_5' '78.0'\n",
      " 'O2_6' '76.0' 'O2_7' '76.0' 'NH4_1' '1.0' 'NH4_2' '1.0' 'NH4_3' '78.0'\n",
      " 'NH4_4' '79.0' 'NH4_5' '78.0' 'NH4_6' '75.0' 'NH4_7' '75.0' 'NO2_1' '2.0'\n",
      " 'NO2_2' '2.0' 'NO2_3' '78.0' 'NO2_4' '79.0' 'NO2_5' '78.0' 'NO2_6' '77.0'\n",
      " 'NO2_7' '76.0' 'NO3_1' '4.0' 'NO3_2' '3.0' 'NO3_3' '79.0' 'NO3_4' '79.0'\n",
      " 'NO3_5' '78.0' 'NO3_6' '75.0' 'NO3_7' '76.0' 'BOD5_1' '1.0' 'BOD5_2'\n",
      " '1.0' 'BOD5_3' '78.0' 'BOD5_4' '79.0' 'BOD5_5' '78.0' 'BOD5_6' '75.0'\n",
      " 'BOD5_7' '75.0']\n"
     ]
    }
   ],
   "source": [
    "# counting the persentage of 0's in each column\n",
    "def get_perc_of_0_value():\n",
    "    temp_df = fill_missing_data_perc(og_train_set)\n",
    "    perc_0 = np.array([])\n",
    "    for column in columns:\n",
    "        perc = (((temp_df[column]==0).sum()/len(og_train_set[column])) * 100).round()\n",
    "        perc_0 = np.append(perc_0, (column, perc))\n",
    "    return perc_0\n",
    "\n",
    "column_0_ratio = get_perc_of_0_value()\n",
    "print(column_0_ratio)"
   ]
  },
  {
   "cell_type": "code",
   "execution_count": 10,
   "id": "1872dc51",
   "metadata": {
    "execution": {
     "iopub.execute_input": "2023-08-27T15:08:35.552435Z",
     "iopub.status.busy": "2023-08-27T15:08:35.552006Z",
     "iopub.status.idle": "2023-08-27T15:08:35.560375Z",
     "shell.execute_reply": "2023-08-27T15:08:35.558951Z"
    },
    "papermill": {
     "duration": 0.020468,
     "end_time": "2023-08-27T15:08:35.562926",
     "exception": false,
     "start_time": "2023-08-27T15:08:35.542458",
     "status": "completed"
    },
    "tags": []
   },
   "outputs": [],
   "source": [
    "# creating a fresh set of training dat with same columns\n",
    "train_set = pd.DataFrame(columns=columns)"
   ]
  },
  {
   "cell_type": "code",
   "execution_count": null,
   "id": "25657c8f",
   "metadata": {
    "papermill": {
     "duration": 0.007465,
     "end_time": "2023-08-27T15:08:35.578592",
     "exception": false,
     "start_time": "2023-08-27T15:08:35.571127",
     "status": "completed"
    },
    "tags": []
   },
   "outputs": [],
   "source": []
  }
 ],
 "metadata": {
  "kernelspec": {
   "display_name": "Python 3",
   "language": "python",
   "name": "python3"
  },
  "language_info": {
   "codemirror_mode": {
    "name": "ipython",
    "version": 3
   },
   "file_extension": ".py",
   "mimetype": "text/x-python",
   "name": "python",
   "nbconvert_exporter": "python",
   "pygments_lexer": "ipython3",
   "version": "3.10.12"
  },
  "papermill": {
   "default_parameters": {},
   "duration": 13.234268,
   "end_time": "2023-08-27T15:08:36.609895",
   "environment_variables": {},
   "exception": null,
   "input_path": "__notebook__.ipynb",
   "output_path": "__notebook__.ipynb",
   "parameters": {},
   "start_time": "2023-08-27T15:08:23.375627",
   "version": "2.4.0"
  }
 },
 "nbformat": 4,
 "nbformat_minor": 5
}
