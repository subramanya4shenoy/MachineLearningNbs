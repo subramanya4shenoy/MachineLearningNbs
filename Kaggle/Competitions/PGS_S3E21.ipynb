{
  "nbformat": 4,
  "nbformat_minor": 0,
  "metadata": {
    "colab": {
      "provenance": [],
      "toc_visible": true,
      "authorship_tag": "ABX9TyO35ZyrNYotjYFSRgvK2WBc",
      "include_colab_link": true
    },
    "kernelspec": {
      "name": "python3",
      "display_name": "Python 3"
    },
    "language_info": {
      "name": "python"
    }
  },
  "cells": [
    {
      "cell_type": "markdown",
      "metadata": {
        "id": "view-in-github",
        "colab_type": "text"
      },
      "source": [
        "<a href=\"https://colab.research.google.com/github/subramanya4shenoy/MachineLearningNbs/blob/main/Kaggle/Competitions/PGS_S3E21.ipynb\" target=\"_parent\"><img src=\"https://colab.research.google.com/assets/colab-badge.svg\" alt=\"Open In Colab\"/></a>"
      ]
    },
    {
      "cell_type": "markdown",
      "source": [
        "# 😵‍💫 Improve a Fixed Model the Data-Centric Way! 😵‍💫\n",
        "Playground Series - Season 3, Episode 21\n",
        "\n",
        "This is a different type of competition. Instead of submitting predictions, your task is to submit a dataset that will be used to train a random forest regressor model. This model will then be used to make predictions against a hidden test dataset. Your score will be the Root Mean Square Error (RMSE) between the model predictions and ground truth of the test set."
      ],
      "metadata": {
        "id": "z_a7Hd14e0_1"
      }
    },
    {
      "cell_type": "markdown",
      "source": [
        "## 🔶 Look at the big Picture"
      ],
      "metadata": {
        "id": "db_AmxxxnQd9"
      }
    },
    {
      "cell_type": "markdown",
      "source": [
        "### 🔸 **Frame the problem**\n",
        "*   🟢 **Goal:** Is to fill the columns in the dataFrame such a way that the dataframe fed to the given model gives close to 0 RMSE. 🗒\n",
        "*   🟢 **End Result:** multiple Columns to be predicted, changed such a way that models predict well 🗒\n",
        "*   🟢 **Problem Type:** not exactly a regression. model has been already provided,\n",
        "*   🟢 **Learning Type:** Supervised Learning\n",
        "*   🟢 **Variate:** MultiVariate (need to predict multiple target with 1 label)\n",
        "*   🟢 **Features:** single features"
      ],
      "metadata": {
        "id": "vxxog2ykpB-y"
      }
    },
    {
      "cell_type": "markdown",
      "source": [
        "🔸 **Select performance measure**:\n",
        "* 🟢 Using Root Mean Square Error (RMSE) 🗒 .\n",
        "This was given in the problem set.\n"
      ],
      "metadata": {
        "id": "uzG401W9wqeS"
      }
    },
    {
      "cell_type": "markdown",
      "source": [
        "### 🔸 **Assumptions**: `none`\n",
        "\n",
        "---"
      ],
      "metadata": {
        "id": "Hfq1O279yxGZ"
      }
    },
    {
      "cell_type": "markdown",
      "source": [
        "## 🔶**Get the Data**\n",
        "\n",
        "* 🟢 Get the kagle.json file into local\n",
        "* 🟢 Download the data set from the kaggle (as zip)\n",
        "* 🟢 Extract the zip into local and delete the Zip\n",
        "\n",
        "* 🟢 Read the train set and test set store it in Pandas dataFrame"
      ],
      "metadata": {
        "id": "NY_WccJUy8kQ"
      }
    },
    {
      "cell_type": "code",
      "source": [
        "\"\"\"\n",
        "Basic setup for integrating Kaggle\n",
        "Make sure the kaggle.json file is available and uploaded in session\n",
        "\"\"\"\n",
        "import os\n",
        "os.environ['KAGGLE_CONFIG_DIR'] = '/content'"
      ],
      "metadata": {
        "id": "2_A97EQszrvO"
      },
      "execution_count": 1,
      "outputs": []
    },
    {
      "cell_type": "code",
      "source": [
        "\"\"\"\n",
        "Common method to get the data from kaggle\n",
        "\"\"\"\n",
        "def get_data_from_kaggle():\n",
        "  !kaggle competitions download -c playground-series-s3e21 #Path to the dataset from kaggle\n",
        "  !unzip \\*.zip && rm *.zip #unzipping the files and removing the zip"
      ],
      "metadata": {
        "id": "KiZ7xd5YzspD"
      },
      "execution_count": 2,
      "outputs": []
    },
    {
      "cell_type": "code",
      "source": [
        "get_data_from_kaggle()"
      ],
      "metadata": {
        "colab": {
          "base_uri": "https://localhost:8080/"
        },
        "id": "MyJx8dKX0CY3",
        "outputId": "424c1329-071c-4575-ebc1-4cca55b23e27"
      },
      "execution_count": 3,
      "outputs": [
        {
          "output_type": "stream",
          "name": "stdout",
          "text": [
            "Warning: Your Kaggle API key is readable by other users on this system! To fix this, you can run 'chmod 600 /content/kaggle.json'\n",
            "Downloading playground-series-s3e21.zip to /content\n",
            "100% 186k/186k [00:00<00:00, 669kB/s]\n",
            "100% 186k/186k [00:00<00:00, 668kB/s]\n",
            "Archive:  playground-series-s3e21.zip\n",
            "  inflating: sample_submission.csv   \n"
          ]
        }
      ]
    },
    {
      "cell_type": "code",
      "source": [
        "import pandas as pd\n",
        "\n",
        "submission_df = pd.read_csv('sample_submission.csv', index_col='id') #Index_col added post observation"
      ],
      "metadata": {
        "id": "0ug11XpF0WXa"
      },
      "execution_count": 4,
      "outputs": []
    },
    {
      "cell_type": "code",
      "source": [],
      "metadata": {
        "id": "sfA2vOgJ0mXf"
      },
      "execution_count": null,
      "outputs": []
    }
  ]
}