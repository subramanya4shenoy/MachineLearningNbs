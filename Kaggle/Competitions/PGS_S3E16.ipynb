{
  "nbformat": 4,
  "nbformat_minor": 0,
  "metadata": {
    "colab": {
      "provenance": [],
      "authorship_tag": "ABX9TyP8CnWIyHBjgzZapd9UBnh9",
      "include_colab_link": true
    },
    "kernelspec": {
      "name": "python3",
      "display_name": "Python 3"
    },
    "language_info": {
      "name": "python"
    }
  },
  "cells": [
    {
      "cell_type": "markdown",
      "metadata": {
        "id": "view-in-github",
        "colab_type": "text"
      },
      "source": [
        "<a href=\"https://colab.research.google.com/github/subramanya4shenoy/MachineLearningNbs/blob/main/Kaggle/Competitions/PGS_S3E16.ipynb\" target=\"_parent\"><img src=\"https://colab.research.google.com/assets/colab-badge.svg\" alt=\"Open In Colab\"/></a>"
      ]
    },
    {
      "cell_type": "markdown",
      "source": [
        "# 🦀 Regression with a Crab Age Dataset 🦀\n",
        "Playground Series - Season 3, Episode 16\n",
        "\n",
        "The dataset for this competition (both train and test) was generated from a deep learning model trained on the Crab Age Prediction dataset. Feature distributions are close to, but not exactly the same, as the original. Feel free to use the original dataset as part of this competition, both to explore differences as well as to see whether incorporating the original in training improves model performance.\n",
        "\n"
      ],
      "metadata": {
        "id": "7CXEDcbezpR1"
      }
    },
    {
      "cell_type": "code",
      "source": [],
      "metadata": {
        "id": "ZHF2aKSf04B6"
      },
      "execution_count": null,
      "outputs": []
    }
  ]
}