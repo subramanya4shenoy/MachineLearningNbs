{
 "cells": [
  {
   "cell_type": "code",
   "execution_count": 1,
   "id": "c652f017",
   "metadata": {
    "_cell_guid": "b1076dfc-b9ad-4769-8c92-a6c4dae69d19",
    "_uuid": "8f2839f25d086af736a60e9eeb907d3b93b6e0e5",
    "execution": {
     "iopub.execute_input": "2023-09-01T16:29:56.500235Z",
     "iopub.status.busy": "2023-09-01T16:29:56.499042Z",
     "iopub.status.idle": "2023-09-01T16:29:56.940728Z",
     "shell.execute_reply": "2023-09-01T16:29:56.939204Z"
    },
    "papermill": {
     "duration": 0.454839,
     "end_time": "2023-09-01T16:29:56.943653",
     "exception": false,
     "start_time": "2023-09-01T16:29:56.488814",
     "status": "completed"
    },
    "tags": []
   },
   "outputs": [
    {
     "name": "stdout",
     "output_type": "stream",
     "text": [
      "/kaggle/input/spaceship-titanic/sample_submission.csv\n",
      "/kaggle/input/spaceship-titanic/train.csv\n",
      "/kaggle/input/spaceship-titanic/test.csv\n"
     ]
    }
   ],
   "source": [
    "# This Python 3 environment comes with many helpful analytics libraries installed\n",
    "# It is defined by the kaggle/python Docker image: https://github.com/kaggle/docker-python\n",
    "# For example, here's several helpful packages to load\n",
    "\n",
    "import numpy as np # linear algebra\n",
    "import pandas as pd # data processing, CSV file I/O (e.g. pd.read_csv)\n",
    "\n",
    "# Input data files are available in the read-only \"../input/\" directory\n",
    "# For example, running this (by clicking run or pressing Shift+Enter) will list all files under the input directory\n",
    "\n",
    "import os\n",
    "for dirname, _, filenames in os.walk('/kaggle/input'):\n",
    "    for filename in filenames:\n",
    "        print(os.path.join(dirname, filename))\n",
    "\n",
    "# You can write up to 20GB to the current directory (/kaggle/working/) that gets preserved as output when you create a version using \"Save & Run All\" \n",
    "# You can also write temporary files to /kaggle/temp/, but they won't be saved outside of the current session"
   ]
  },
  {
   "cell_type": "markdown",
   "id": "e03b9396",
   "metadata": {
    "papermill": {
     "duration": 0.007487,
     "end_time": "2023-09-01T16:29:56.959296",
     "exception": false,
     "start_time": "2023-09-01T16:29:56.951809",
     "status": "completed"
    },
    "tags": []
   },
   "source": [
    "# 🛸 Spaceship Titanic 🛸 #\n",
    "**Predict which passengers are transported to an alternate dimension 👽 **"
   ]
  },
  {
   "cell_type": "markdown",
   "id": "a452a438",
   "metadata": {
    "papermill": {
     "duration": 0.007387,
     "end_time": "2023-09-01T16:29:56.974980",
     "exception": false,
     "start_time": "2023-09-01T16:29:56.967593",
     "status": "completed"
    },
    "tags": []
   },
   "source": [
    "# 🔶 Look at the big Picture\n",
    "\n",
    "**🔸 Frame the problem**\n",
    "* 🟢 Goal: True/ False to decide if a person has been transported to an alternate dimension\n",
    "* 🟢 End Result: Boolean True/False 🗒\n",
    "* 🟢 Problem Type: Regression\n",
    "* 🟢 Learning Type: Supervised Learning\n",
    "* 🟢 Variate: Univariate (need to predict only 1 target)\n",
    "* 🟢 Features: Multiple features"
   ]
  },
  {
   "cell_type": "markdown",
   "id": "584a1150",
   "metadata": {
    "papermill": {
     "duration": 0.007551,
     "end_time": "2023-09-01T16:29:56.990641",
     "exception": false,
     "start_time": "2023-09-01T16:29:56.983090",
     "status": "completed"
    },
    "tags": []
   },
   "source": [
    "**🔸 Select performance measure:**\n",
    "* 🟢 using Mean Absolute Error (MAE) 🗒 . This was given in the problem set. This also means there might be chances of high outliers."
   ]
  },
  {
   "cell_type": "markdown",
   "id": "e291c858",
   "metadata": {
    "papermill": {
     "duration": 0.007552,
     "end_time": "2023-09-01T16:29:57.006356",
     "exception": false,
     "start_time": "2023-09-01T16:29:56.998804",
     "status": "completed"
    },
    "tags": []
   },
   "source": [
    "**🔸 Assumptions: none**"
   ]
  },
  {
   "cell_type": "markdown",
   "id": "43070006",
   "metadata": {
    "papermill": {
     "duration": 0.007496,
     "end_time": "2023-09-01T16:29:57.021470",
     "exception": false,
     "start_time": "2023-09-01T16:29:57.013974",
     "status": "completed"
    },
    "tags": []
   },
   "source": [
    "# 🔶Get the Data\n",
    "\n",
    "* 🟢 Get the kagle.json file into local\n",
    "* 🟢 Read the train set and test set store it in Pandas dataFrame"
   ]
  },
  {
   "cell_type": "markdown",
   "id": "82aea154",
   "metadata": {
    "papermill": {
     "duration": 0.007325,
     "end_time": "2023-09-01T16:29:57.036927",
     "exception": false,
     "start_time": "2023-09-01T16:29:57.029602",
     "status": "completed"
    },
    "tags": []
   },
   "source": [
    "# 🔸 Take Quick look\n",
    "* 🟢 .head() to see the index columns and quick look at the data\n",
    "* 🟢 .shape to see the size of training set\n",
    "* 🟢 .info() to see the data types and missing values\n",
    "* 🟢 .value_counts() on categorical data to check if all the categories are equaly represented and to check the weightages.\n",
    "* 🟢 .describe() to check mean and std deviation, min, max this gives a hint of how data is distributed and what is the max values, min values and is there any scaled data or not.\n",
    "* 🟢 Checking correlation matrix"
   ]
  },
  {
   "cell_type": "markdown",
   "id": "34109358",
   "metadata": {
    "papermill": {
     "duration": 0.007507,
     "end_time": "2023-09-01T16:29:57.052144",
     "exception": false,
     "start_time": "2023-09-01T16:29:57.044637",
     "status": "completed"
    },
    "tags": []
   },
   "source": [
    "# 🔸 Visualize the data\n",
    "* 🟢 .hist() to see the distribution of data and if any outliers, tail heavy etc."
   ]
  },
  {
   "cell_type": "markdown",
   "id": "36835f79",
   "metadata": {
    "papermill": {
     "duration": 0.007411,
     "end_time": "2023-09-01T16:29:57.067312",
     "exception": false,
     "start_time": "2023-09-01T16:29:57.059901",
     "status": "completed"
    },
    "tags": []
   },
   "source": [
    "# 🔸 Observation\n",
    "\n",
    "〰〰〰〰〰〰〰〰〰〰〰〰〰〰〰〰〰〰〰〰〰〰〰〰〰〰〰〰〰〰〰〰\n",
    "\n",
    "* 👁 There are ~9K rows and 13 Columns\n",
    "\n",
    "* 👁 We have 6 categorical, 6 numerical columns\n",
    "\n",
    "* 👁 Has a index column PassengerId\n",
    "\n",
    "* 👁 Distribution of data: \n",
    "** HomePlanet: 4.6: 2.1: 1.7 ratio\n",
    "** CryoSleep: this representation strata should be well split (5: 1 ratio is what is see)\n",
    "** Destination: 3 unique values\n",
    "* 👁 We Need to predict the \"Transported\" Column\n",
    "\n",
    "〰〰〰〰〰〰〰〰〰〰〰〰〰〰〰〰〰〰〰〰〰〰〰〰〰〰〰〰〰〰〰〰"
   ]
  },
  {
   "cell_type": "code",
   "execution_count": 2,
   "id": "f70f8e73",
   "metadata": {
    "execution": {
     "iopub.execute_input": "2023-09-01T16:29:57.084779Z",
     "iopub.status.busy": "2023-09-01T16:29:57.084220Z",
     "iopub.status.idle": "2023-09-01T16:29:57.201730Z",
     "shell.execute_reply": "2023-09-01T16:29:57.200586Z"
    },
    "papermill": {
     "duration": 0.129665,
     "end_time": "2023-09-01T16:29:57.204562",
     "exception": false,
     "start_time": "2023-09-01T16:29:57.074897",
     "status": "completed"
    },
    "tags": []
   },
   "outputs": [],
   "source": [
    "import pandas as pd\n",
    "\n",
    "train = pd.read_csv('/kaggle/input/spaceship-titanic/train.csv', index_col = 'PassengerId')\n",
    "test = pd.read_csv('/kaggle/input/spaceship-titanic/test.csv', index_col = 'PassengerId')"
   ]
  },
  {
   "cell_type": "code",
   "execution_count": 3,
   "id": "9a914ee0",
   "metadata": {
    "execution": {
     "iopub.execute_input": "2023-09-01T16:29:57.222161Z",
     "iopub.status.busy": "2023-09-01T16:29:57.221758Z",
     "iopub.status.idle": "2023-09-01T16:29:57.230036Z",
     "shell.execute_reply": "2023-09-01T16:29:57.228725Z"
    },
    "papermill": {
     "duration": 0.020416,
     "end_time": "2023-09-01T16:29:57.232922",
     "exception": false,
     "start_time": "2023-09-01T16:29:57.212506",
     "status": "completed"
    },
    "tags": []
   },
   "outputs": [
    {
     "data": {
      "text/plain": [
       "(8693, 13)"
      ]
     },
     "execution_count": 3,
     "metadata": {},
     "output_type": "execute_result"
    }
   ],
   "source": [
    "train.shape"
   ]
  },
  {
   "cell_type": "code",
   "execution_count": 4,
   "id": "fd92c8ea",
   "metadata": {
    "execution": {
     "iopub.execute_input": "2023-09-01T16:29:57.251294Z",
     "iopub.status.busy": "2023-09-01T16:29:57.250907Z",
     "iopub.status.idle": "2023-09-01T16:29:57.278544Z",
     "shell.execute_reply": "2023-09-01T16:29:57.277678Z"
    },
    "papermill": {
     "duration": 0.03993,
     "end_time": "2023-09-01T16:29:57.280829",
     "exception": false,
     "start_time": "2023-09-01T16:29:57.240899",
     "status": "completed"
    },
    "tags": []
   },
   "outputs": [
    {
     "data": {
      "text/html": [
       "<div>\n",
       "<style scoped>\n",
       "    .dataframe tbody tr th:only-of-type {\n",
       "        vertical-align: middle;\n",
       "    }\n",
       "\n",
       "    .dataframe tbody tr th {\n",
       "        vertical-align: top;\n",
       "    }\n",
       "\n",
       "    .dataframe thead th {\n",
       "        text-align: right;\n",
       "    }\n",
       "</style>\n",
       "<table border=\"1\" class=\"dataframe\">\n",
       "  <thead>\n",
       "    <tr style=\"text-align: right;\">\n",
       "      <th></th>\n",
       "      <th>HomePlanet</th>\n",
       "      <th>CryoSleep</th>\n",
       "      <th>Cabin</th>\n",
       "      <th>Destination</th>\n",
       "      <th>Age</th>\n",
       "      <th>VIP</th>\n",
       "      <th>RoomService</th>\n",
       "      <th>FoodCourt</th>\n",
       "      <th>ShoppingMall</th>\n",
       "      <th>Spa</th>\n",
       "      <th>VRDeck</th>\n",
       "      <th>Name</th>\n",
       "      <th>Transported</th>\n",
       "    </tr>\n",
       "    <tr>\n",
       "      <th>PassengerId</th>\n",
       "      <th></th>\n",
       "      <th></th>\n",
       "      <th></th>\n",
       "      <th></th>\n",
       "      <th></th>\n",
       "      <th></th>\n",
       "      <th></th>\n",
       "      <th></th>\n",
       "      <th></th>\n",
       "      <th></th>\n",
       "      <th></th>\n",
       "      <th></th>\n",
       "      <th></th>\n",
       "    </tr>\n",
       "  </thead>\n",
       "  <tbody>\n",
       "    <tr>\n",
       "      <th>0001_01</th>\n",
       "      <td>Europa</td>\n",
       "      <td>False</td>\n",
       "      <td>B/0/P</td>\n",
       "      <td>TRAPPIST-1e</td>\n",
       "      <td>39.0</td>\n",
       "      <td>False</td>\n",
       "      <td>0.0</td>\n",
       "      <td>0.0</td>\n",
       "      <td>0.0</td>\n",
       "      <td>0.0</td>\n",
       "      <td>0.0</td>\n",
       "      <td>Maham Ofracculy</td>\n",
       "      <td>False</td>\n",
       "    </tr>\n",
       "    <tr>\n",
       "      <th>0002_01</th>\n",
       "      <td>Earth</td>\n",
       "      <td>False</td>\n",
       "      <td>F/0/S</td>\n",
       "      <td>TRAPPIST-1e</td>\n",
       "      <td>24.0</td>\n",
       "      <td>False</td>\n",
       "      <td>109.0</td>\n",
       "      <td>9.0</td>\n",
       "      <td>25.0</td>\n",
       "      <td>549.0</td>\n",
       "      <td>44.0</td>\n",
       "      <td>Juanna Vines</td>\n",
       "      <td>True</td>\n",
       "    </tr>\n",
       "    <tr>\n",
       "      <th>0003_01</th>\n",
       "      <td>Europa</td>\n",
       "      <td>False</td>\n",
       "      <td>A/0/S</td>\n",
       "      <td>TRAPPIST-1e</td>\n",
       "      <td>58.0</td>\n",
       "      <td>True</td>\n",
       "      <td>43.0</td>\n",
       "      <td>3576.0</td>\n",
       "      <td>0.0</td>\n",
       "      <td>6715.0</td>\n",
       "      <td>49.0</td>\n",
       "      <td>Altark Susent</td>\n",
       "      <td>False</td>\n",
       "    </tr>\n",
       "    <tr>\n",
       "      <th>0003_02</th>\n",
       "      <td>Europa</td>\n",
       "      <td>False</td>\n",
       "      <td>A/0/S</td>\n",
       "      <td>TRAPPIST-1e</td>\n",
       "      <td>33.0</td>\n",
       "      <td>False</td>\n",
       "      <td>0.0</td>\n",
       "      <td>1283.0</td>\n",
       "      <td>371.0</td>\n",
       "      <td>3329.0</td>\n",
       "      <td>193.0</td>\n",
       "      <td>Solam Susent</td>\n",
       "      <td>False</td>\n",
       "    </tr>\n",
       "    <tr>\n",
       "      <th>0004_01</th>\n",
       "      <td>Earth</td>\n",
       "      <td>False</td>\n",
       "      <td>F/1/S</td>\n",
       "      <td>TRAPPIST-1e</td>\n",
       "      <td>16.0</td>\n",
       "      <td>False</td>\n",
       "      <td>303.0</td>\n",
       "      <td>70.0</td>\n",
       "      <td>151.0</td>\n",
       "      <td>565.0</td>\n",
       "      <td>2.0</td>\n",
       "      <td>Willy Santantines</td>\n",
       "      <td>True</td>\n",
       "    </tr>\n",
       "  </tbody>\n",
       "</table>\n",
       "</div>"
      ],
      "text/plain": [
       "            HomePlanet CryoSleep  Cabin  Destination   Age    VIP  \\\n",
       "PassengerId                                                         \n",
       "0001_01         Europa     False  B/0/P  TRAPPIST-1e  39.0  False   \n",
       "0002_01          Earth     False  F/0/S  TRAPPIST-1e  24.0  False   \n",
       "0003_01         Europa     False  A/0/S  TRAPPIST-1e  58.0   True   \n",
       "0003_02         Europa     False  A/0/S  TRAPPIST-1e  33.0  False   \n",
       "0004_01          Earth     False  F/1/S  TRAPPIST-1e  16.0  False   \n",
       "\n",
       "             RoomService  FoodCourt  ShoppingMall     Spa  VRDeck  \\\n",
       "PassengerId                                                         \n",
       "0001_01              0.0        0.0           0.0     0.0     0.0   \n",
       "0002_01            109.0        9.0          25.0   549.0    44.0   \n",
       "0003_01             43.0     3576.0           0.0  6715.0    49.0   \n",
       "0003_02              0.0     1283.0         371.0  3329.0   193.0   \n",
       "0004_01            303.0       70.0         151.0   565.0     2.0   \n",
       "\n",
       "                          Name  Transported  \n",
       "PassengerId                                  \n",
       "0001_01        Maham Ofracculy        False  \n",
       "0002_01           Juanna Vines         True  \n",
       "0003_01          Altark Susent        False  \n",
       "0003_02           Solam Susent        False  \n",
       "0004_01      Willy Santantines         True  "
      ]
     },
     "execution_count": 4,
     "metadata": {},
     "output_type": "execute_result"
    }
   ],
   "source": [
    "train.head()"
   ]
  },
  {
   "cell_type": "code",
   "execution_count": 5,
   "id": "b5caf79f",
   "metadata": {
    "execution": {
     "iopub.execute_input": "2023-09-01T16:29:57.299721Z",
     "iopub.status.busy": "2023-09-01T16:29:57.298672Z",
     "iopub.status.idle": "2023-09-01T16:29:57.334258Z",
     "shell.execute_reply": "2023-09-01T16:29:57.332649Z"
    },
    "papermill": {
     "duration": 0.047925,
     "end_time": "2023-09-01T16:29:57.337056",
     "exception": false,
     "start_time": "2023-09-01T16:29:57.289131",
     "status": "completed"
    },
    "tags": []
   },
   "outputs": [
    {
     "name": "stdout",
     "output_type": "stream",
     "text": [
      "<class 'pandas.core.frame.DataFrame'>\n",
      "Index: 8693 entries, 0001_01 to 9280_02\n",
      "Data columns (total 13 columns):\n",
      " #   Column        Non-Null Count  Dtype  \n",
      "---  ------        --------------  -----  \n",
      " 0   HomePlanet    8492 non-null   object \n",
      " 1   CryoSleep     8476 non-null   object \n",
      " 2   Cabin         8494 non-null   object \n",
      " 3   Destination   8511 non-null   object \n",
      " 4   Age           8514 non-null   float64\n",
      " 5   VIP           8490 non-null   object \n",
      " 6   RoomService   8512 non-null   float64\n",
      " 7   FoodCourt     8510 non-null   float64\n",
      " 8   ShoppingMall  8485 non-null   float64\n",
      " 9   Spa           8510 non-null   float64\n",
      " 10  VRDeck        8505 non-null   float64\n",
      " 11  Name          8493 non-null   object \n",
      " 12  Transported   8693 non-null   bool   \n",
      "dtypes: bool(1), float64(6), object(6)\n",
      "memory usage: 891.4+ KB\n"
     ]
    }
   ],
   "source": [
    "train.info()"
   ]
  },
  {
   "cell_type": "code",
   "execution_count": 6,
   "id": "2bc8a999",
   "metadata": {
    "execution": {
     "iopub.execute_input": "2023-09-01T16:29:57.357300Z",
     "iopub.status.busy": "2023-09-01T16:29:57.356849Z",
     "iopub.status.idle": "2023-09-01T16:29:57.394861Z",
     "shell.execute_reply": "2023-09-01T16:29:57.393872Z"
    },
    "papermill": {
     "duration": 0.050931,
     "end_time": "2023-09-01T16:29:57.397199",
     "exception": false,
     "start_time": "2023-09-01T16:29:57.346268",
     "status": "completed"
    },
    "tags": []
   },
   "outputs": [
    {
     "data": {
      "text/html": [
       "<div>\n",
       "<style scoped>\n",
       "    .dataframe tbody tr th:only-of-type {\n",
       "        vertical-align: middle;\n",
       "    }\n",
       "\n",
       "    .dataframe tbody tr th {\n",
       "        vertical-align: top;\n",
       "    }\n",
       "\n",
       "    .dataframe thead th {\n",
       "        text-align: right;\n",
       "    }\n",
       "</style>\n",
       "<table border=\"1\" class=\"dataframe\">\n",
       "  <thead>\n",
       "    <tr style=\"text-align: right;\">\n",
       "      <th></th>\n",
       "      <th>Age</th>\n",
       "      <th>RoomService</th>\n",
       "      <th>FoodCourt</th>\n",
       "      <th>ShoppingMall</th>\n",
       "      <th>Spa</th>\n",
       "      <th>VRDeck</th>\n",
       "    </tr>\n",
       "  </thead>\n",
       "  <tbody>\n",
       "    <tr>\n",
       "      <th>count</th>\n",
       "      <td>8514.000000</td>\n",
       "      <td>8512.000000</td>\n",
       "      <td>8510.000000</td>\n",
       "      <td>8485.000000</td>\n",
       "      <td>8510.000000</td>\n",
       "      <td>8505.000000</td>\n",
       "    </tr>\n",
       "    <tr>\n",
       "      <th>mean</th>\n",
       "      <td>28.827930</td>\n",
       "      <td>224.687617</td>\n",
       "      <td>458.077203</td>\n",
       "      <td>173.729169</td>\n",
       "      <td>311.138778</td>\n",
       "      <td>304.854791</td>\n",
       "    </tr>\n",
       "    <tr>\n",
       "      <th>std</th>\n",
       "      <td>14.489021</td>\n",
       "      <td>666.717663</td>\n",
       "      <td>1611.489240</td>\n",
       "      <td>604.696458</td>\n",
       "      <td>1136.705535</td>\n",
       "      <td>1145.717189</td>\n",
       "    </tr>\n",
       "    <tr>\n",
       "      <th>min</th>\n",
       "      <td>0.000000</td>\n",
       "      <td>0.000000</td>\n",
       "      <td>0.000000</td>\n",
       "      <td>0.000000</td>\n",
       "      <td>0.000000</td>\n",
       "      <td>0.000000</td>\n",
       "    </tr>\n",
       "    <tr>\n",
       "      <th>25%</th>\n",
       "      <td>19.000000</td>\n",
       "      <td>0.000000</td>\n",
       "      <td>0.000000</td>\n",
       "      <td>0.000000</td>\n",
       "      <td>0.000000</td>\n",
       "      <td>0.000000</td>\n",
       "    </tr>\n",
       "    <tr>\n",
       "      <th>50%</th>\n",
       "      <td>27.000000</td>\n",
       "      <td>0.000000</td>\n",
       "      <td>0.000000</td>\n",
       "      <td>0.000000</td>\n",
       "      <td>0.000000</td>\n",
       "      <td>0.000000</td>\n",
       "    </tr>\n",
       "    <tr>\n",
       "      <th>75%</th>\n",
       "      <td>38.000000</td>\n",
       "      <td>47.000000</td>\n",
       "      <td>76.000000</td>\n",
       "      <td>27.000000</td>\n",
       "      <td>59.000000</td>\n",
       "      <td>46.000000</td>\n",
       "    </tr>\n",
       "    <tr>\n",
       "      <th>max</th>\n",
       "      <td>79.000000</td>\n",
       "      <td>14327.000000</td>\n",
       "      <td>29813.000000</td>\n",
       "      <td>23492.000000</td>\n",
       "      <td>22408.000000</td>\n",
       "      <td>24133.000000</td>\n",
       "    </tr>\n",
       "  </tbody>\n",
       "</table>\n",
       "</div>"
      ],
      "text/plain": [
       "               Age   RoomService     FoodCourt  ShoppingMall           Spa  \\\n",
       "count  8514.000000   8512.000000   8510.000000   8485.000000   8510.000000   \n",
       "mean     28.827930    224.687617    458.077203    173.729169    311.138778   \n",
       "std      14.489021    666.717663   1611.489240    604.696458   1136.705535   \n",
       "min       0.000000      0.000000      0.000000      0.000000      0.000000   \n",
       "25%      19.000000      0.000000      0.000000      0.000000      0.000000   \n",
       "50%      27.000000      0.000000      0.000000      0.000000      0.000000   \n",
       "75%      38.000000     47.000000     76.000000     27.000000     59.000000   \n",
       "max      79.000000  14327.000000  29813.000000  23492.000000  22408.000000   \n",
       "\n",
       "             VRDeck  \n",
       "count   8505.000000  \n",
       "mean     304.854791  \n",
       "std     1145.717189  \n",
       "min        0.000000  \n",
       "25%        0.000000  \n",
       "50%        0.000000  \n",
       "75%       46.000000  \n",
       "max    24133.000000  "
      ]
     },
     "execution_count": 6,
     "metadata": {},
     "output_type": "execute_result"
    }
   ],
   "source": [
    "train.describe() "
   ]
  },
  {
   "cell_type": "code",
   "execution_count": 7,
   "id": "bd281eff",
   "metadata": {
    "execution": {
     "iopub.execute_input": "2023-09-01T16:29:57.417253Z",
     "iopub.status.busy": "2023-09-01T16:29:57.416519Z",
     "iopub.status.idle": "2023-09-01T16:29:58.810714Z",
     "shell.execute_reply": "2023-09-01T16:29:58.809412Z"
    },
    "papermill": {
     "duration": 1.407429,
     "end_time": "2023-09-01T16:29:58.813557",
     "exception": false,
     "start_time": "2023-09-01T16:29:57.406128",
     "status": "completed"
    },
    "tags": []
   },
   "outputs": [
    {
     "data": {
      "image/png": "[encoded data removed]",
      "text/plain": [
       "<Figure size 1200x800 with 6 Axes>"
      ]
     },
     "metadata": {},
     "output_type": "display_data"
    }
   ],
   "source": [
    "import matplotlib.pyplot as plt\n",
    "\n",
    "# This is used to viualize the data distribution and scale\n",
    "\n",
    "train.hist(figsize=(12,8))\n",
    "plt.show()"
   ]
  },
  {
   "cell_type": "markdown",
   "id": "db4f93f8",
   "metadata": {
    "papermill": {
     "duration": 0.010175,
     "end_time": "2023-09-01T16:29:58.834033",
     "exception": false,
     "start_time": "2023-09-01T16:29:58.823858",
     "status": "completed"
    },
    "tags": []
   },
   "source": []
  },
  {
   "cell_type": "markdown",
   "id": "5f9fb7f0",
   "metadata": {
    "papermill": {
     "duration": 0.010138,
     "end_time": "2023-09-01T16:29:58.854117",
     "exception": false,
     "start_time": "2023-09-01T16:29:58.843979",
     "status": "completed"
    },
    "tags": []
   },
   "source": [
    "# 🔶 Prepare the Data for ML\n",
    "#  🔸 Preliminary Steps\n",
    "* 🟢 Creating common Functions for operations\n",
    "* 🟢 Make a copy of training set and seperate category and label"
   ]
  },
  {
   "cell_type": "code",
   "execution_count": null,
   "id": "be609576",
   "metadata": {
    "papermill": {
     "duration": 0.009523,
     "end_time": "2023-09-01T16:29:58.873534",
     "exception": false,
     "start_time": "2023-09-01T16:29:58.864011",
     "status": "completed"
    },
    "tags": []
   },
   "outputs": [],
   "source": []
  }
 ],
 "kernelspec": {
  "display_name": "Python 3",
  "language": "python",
  "name": "python3"
 },
 "language_info": {
  "codemirror_mode": {
   "name": "ipython",
   "version": 3
  },
  "file_extension": ".py",
  "mimetype": "text/x-python",
  "name": "python",
  "nbconvert_exporter": "python",
  "pygments_lexer": "ipython3",
  "version": "3.6.4"
 },
 "metadata": {
  "kernelspec": {
   "display_name": "Python 3",
   "language": "python",
   "name": "python3"
  },
  "language_info": {
   "codemirror_mode": {
    "name": "ipython",
    "version": 3
   },
   "file_extension": ".py",
   "mimetype": "text/x-python",
   "name": "python",
   "nbconvert_exporter": "python",
   "pygments_lexer": "ipython3",
   "version": "3.10.12"
  },
  "papermill": {
   "default_parameters": {},
   "duration": 6.77659,
   "end_time": "2023-09-01T16:29:59.404089",
   "environment_variables": {},
   "exception": null,
   "input_path": "__notebook__.ipynb",
   "output_path": "__notebook__.ipynb",
   "parameters": {},
   "start_time": "2023-09-01T16:29:52.627499",
   "version": "2.4.0"
  }
 },
 "nbformat": 4,
 "nbformat_minor": 5
}
