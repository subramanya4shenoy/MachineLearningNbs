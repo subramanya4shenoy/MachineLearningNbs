{
 "cells": [
  {
   "cell_type": "markdown",
   "id": "d8beaded",
   "metadata": {
    "papermill": {
     "duration": 0.005634,
     "end_time": "2023-09-05T17:48:19.878926",
     "exception": false,
     "start_time": "2023-09-05T17:48:19.873292",
     "status": "completed"
    },
    "tags": []
   },
   "source": [
    "# ⛳️ 1. Look at the Big picture \n",
    "🟢 Read, Understand the Problem\n",
    "\n",
    "### 🔸 Frame the problem\n",
    "* 🟢 Note what we want to acheive.\n",
    "* 🟢 Form a hypothesis and decide the end goal and identify the format to acheive.\n",
    "* 🟢 Decide on :\n",
    "* * 🔰 Suppervised/Unsupervised/Reinforced/Classification/Regression ?\n",
    "* * 🔰 Univariate/BiVariate ?\n",
    "* * 🔰 Single target or Multi target ?\n",
    "\n",
    "### 🔸 Select Performance measure\n",
    "* 🟢  RMSE\n",
    "* 🟢  MAE (best fit if there are many outliers)\n",
    "\n",
    "### 🔸 Check for Assumptions\n",
    "* 🟢  Check for general information about the topic. Get the assumptions and features which needs more conciderations. etc.."
   ]
  },
  {
   "cell_type": "markdown",
   "id": "437c8029",
   "metadata": {
    "papermill": {
     "duration": 0.004412,
     "end_time": "2023-09-05T17:48:19.888356",
     "exception": false,
     "start_time": "2023-09-05T17:48:19.883944",
     "status": "completed"
    },
    "tags": []
   },
   "source": [
    "# ⛳️ 2. Get the Data\n",
    "🟢 Make sure you collect the data from trusted sources and legal sources.\n",
    "\n",
    "### 🔸 Take a quick look\n",
    "* 🟢 Read the Data into a panda dataframe \n",
    "* 🟢 **.head()** check for the columns and values represented\n",
    "* 🟢 **.info()** check for non-null and datatypes presented\n",
    "* 🟢 **.value_counts()** check for each category columns occurances of value\n",
    "* 🟢 **.describe()** check for mean, min, max, std values of numerical columns"
   ]
  },
  {
   "cell_type": "markdown",
   "id": "19f704ce",
   "metadata": {
    "papermill": {
     "duration": 0.004317,
     "end_time": "2023-09-05T17:48:19.897195",
     "exception": false,
     "start_time": "2023-09-05T17:48:19.892878",
     "status": "completed"
    },
    "tags": []
   },
   "source": [
    "# ⛳️ 3. Prepare the Data for ML Algo"
   ]
  },
  {
   "cell_type": "markdown",
   "id": "9fbb520c",
   "metadata": {
    "papermill": {
     "duration": 0.004281,
     "end_time": "2023-09-05T17:48:19.905968",
     "exception": false,
     "start_time": "2023-09-05T17:48:19.901687",
     "status": "completed"
    },
    "tags": []
   },
   "source": [
    "# ⛳️ 4. Select and Train Model"
   ]
  },
  {
   "cell_type": "markdown",
   "id": "4c8c4320",
   "metadata": {
    "papermill": {
     "duration": 0.004238,
     "end_time": "2023-09-05T17:48:19.914758",
     "exception": false,
     "start_time": "2023-09-05T17:48:19.910520",
     "status": "completed"
    },
    "tags": []
   },
   "source": [
    "# ⛳️ 5. Fine-Tune the Model"
   ]
  },
  {
   "cell_type": "markdown",
   "id": "927b8b7d",
   "metadata": {
    "papermill": {
     "duration": 0.004182,
     "end_time": "2023-09-05T17:48:19.923365",
     "exception": false,
     "start_time": "2023-09-05T17:48:19.919183",
     "status": "completed"
    },
    "tags": []
   },
   "source": [
    "# ⛳️ 6. Evaluate the Model with Test set"
   ]
  },
  {
   "cell_type": "markdown",
   "id": "33f059b3",
   "metadata": {
    "papermill": {
     "duration": 0.0046,
     "end_time": "2023-09-05T17:48:19.932558",
     "exception": false,
     "start_time": "2023-09-05T17:48:19.927958",
     "status": "completed"
    },
    "tags": []
   },
   "source": [
    "# ⛳️ 7. Launch the model"
   ]
  },
  {
   "cell_type": "code",
   "execution_count": null,
   "id": "8d4c1a60",
   "metadata": {
    "papermill": {
     "duration": 0.004295,
     "end_time": "2023-09-05T17:48:19.941710",
     "exception": false,
     "start_time": "2023-09-05T17:48:19.937415",
     "status": "completed"
    },
    "tags": []
   },
   "outputs": [],
   "source": []
  }
 ],
 "kernelspec": {
  "display_name": "Python 3",
  "language": "python",
  "name": "python3"
 },
 "language_info": {
  "codemirror_mode": {
   "name": "ipython",
   "version": 3
  },
  "file_extension": ".py",
  "mimetype": "text/x-python",
  "name": "python",
  "nbconvert_exporter": "python",
  "pygments_lexer": "ipython3",
  "version": "3.6.4"
 },
 "metadata": {
  "kernelspec": {
   "display_name": "Python 3",
   "language": "python",
   "name": "python3"
  },
  "language_info": {
   "codemirror_mode": {
    "name": "ipython",
    "version": 3
   },
   "file_extension": ".py",
   "mimetype": "text/x-python",
   "name": "python",
   "nbconvert_exporter": "python",
   "pygments_lexer": "ipython3",
   "version": "3.10.12"
  },
  "papermill": {
   "default_parameters": {},
   "duration": 6.532862,
   "end_time": "2023-09-05T17:48:22.642330",
   "environment_variables": {},
   "exception": null,
   "input_path": "__notebook__.ipynb",
   "output_path": "__notebook__.ipynb",
   "parameters": {},
   "start_time": "2023-09-05T17:48:16.109468",
   "version": "2.4.0"
  }
 },
 "nbformat": 4,
 "nbformat_minor": 5
}
