{
 "cells": [
  {
   "cell_type": "markdown",
   "id": "f429ea70",
   "metadata": {
    "papermill": {
     "duration": 0.005844,
     "end_time": "2023-09-04T17:43:54.895237",
     "exception": false,
     "start_time": "2023-09-04T17:43:54.889393",
     "status": "completed"
    },
    "tags": []
   },
   "source": [
    "# ⛳️ 1. Look at the Big picture "
   ]
  },
  {
   "cell_type": "markdown",
   "id": "9133f144",
   "metadata": {
    "papermill": {
     "duration": 0.004406,
     "end_time": "2023-09-04T17:43:54.904664",
     "exception": false,
     "start_time": "2023-09-04T17:43:54.900258",
     "status": "completed"
    },
    "tags": []
   },
   "source": [
    "# ⛳️ 2. Get the Data"
   ]
  },
  {
   "cell_type": "markdown",
   "id": "c7a6d714",
   "metadata": {
    "papermill": {
     "duration": 0.004248,
     "end_time": "2023-09-04T17:43:54.913500",
     "exception": false,
     "start_time": "2023-09-04T17:43:54.909252",
     "status": "completed"
    },
    "tags": []
   },
   "source": [
    "# ⛳️ 3. Prepare the Data for ML Algo"
   ]
  },
  {
   "cell_type": "markdown",
   "id": "398be873",
   "metadata": {
    "papermill": {
     "duration": 0.004183,
     "end_time": "2023-09-04T17:43:54.922196",
     "exception": false,
     "start_time": "2023-09-04T17:43:54.918013",
     "status": "completed"
    },
    "tags": []
   },
   "source": [
    "# ⛳️ 4. Select and Train Model"
   ]
  },
  {
   "cell_type": "markdown",
   "id": "2e740cc4",
   "metadata": {
    "papermill": {
     "duration": 0.004164,
     "end_time": "2023-09-04T17:43:54.930934",
     "exception": false,
     "start_time": "2023-09-04T17:43:54.926770",
     "status": "completed"
    },
    "tags": []
   },
   "source": [
    "# ⛳️ 5. Fine-Tune the Model"
   ]
  },
  {
   "cell_type": "markdown",
   "id": "d4f93783",
   "metadata": {
    "papermill": {
     "duration": 0.004065,
     "end_time": "2023-09-04T17:43:54.939328",
     "exception": false,
     "start_time": "2023-09-04T17:43:54.935263",
     "status": "completed"
    },
    "tags": []
   },
   "source": [
    "# ⛳️ 6. Evaluate the Model with Test set"
   ]
  },
  {
   "cell_type": "markdown",
   "id": "628ef58d",
   "metadata": {
    "papermill": {
     "duration": 0.004045,
     "end_time": "2023-09-04T17:43:54.947630",
     "exception": false,
     "start_time": "2023-09-04T17:43:54.943585",
     "status": "completed"
    },
    "tags": []
   },
   "source": [
    "# ⛳️ 7. Launch the model"
   ]
  },
  {
   "cell_type": "code",
   "execution_count": null,
   "id": "7590ae93",
   "metadata": {
    "papermill": {
     "duration": 0.005278,
     "end_time": "2023-09-04T17:43:54.957354",
     "exception": false,
     "start_time": "2023-09-04T17:43:54.952076",
     "status": "completed"
    },
    "tags": []
   },
   "outputs": [],
   "source": []
  }
 ],
 "kernelspec": {
  "display_name": "Python 3",
  "language": "python",
  "name": "python3"
 },
 "language_info": {
  "codemirror_mode": {
   "name": "ipython",
   "version": 3
  },
  "file_extension": ".py",
  "mimetype": "text/x-python",
  "name": "python",
  "nbconvert_exporter": "python",
  "pygments_lexer": "ipython3",
  "version": "3.6.4"
 },
 "metadata": {
  "kernelspec": {
   "display_name": "Python 3",
   "language": "python",
   "name": "python3"
  },
  "language_info": {
   "codemirror_mode": {
    "name": "ipython",
    "version": 3
   },
   "file_extension": ".py",
   "mimetype": "text/x-python",
   "name": "python",
   "nbconvert_exporter": "python",
   "pygments_lexer": "ipython3",
   "version": "3.10.12"
  },
  "papermill": {
   "default_parameters": {},
   "duration": 4.211292,
   "end_time": "2023-09-04T17:43:55.483722",
   "environment_variables": {},
   "exception": null,
   "input_path": "__notebook__.ipynb",
   "output_path": "__notebook__.ipynb",
   "parameters": {},
   "start_time": "2023-09-04T17:43:51.272430",
   "version": "2.4.0"
  }
 },
 "nbformat": 4,
 "nbformat_minor": 5
}
