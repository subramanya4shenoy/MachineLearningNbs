{
  "nbformat": 4,
  "nbformat_minor": 0,
  "metadata": {
    "colab": {
      "provenance": [],
      "authorship_tag": "ABX9TyNaFzwdzn/ccz4pq0u+vrtX",
      "include_colab_link": true
    },
    "kernelspec": {
      "name": "python3",
      "display_name": "Python 3"
    },
    "language_info": {
      "name": "python"
    }
  },
  "cells": [
    {
      "cell_type": "markdown",
      "metadata": {
        "id": "view-in-github",
        "colab_type": "text"
      },
      "source": [
        "<a href=\"https://colab.research.google.com/github/subramanya4shenoy/MachineLearningNbs/blob/main/Linear_Regeression_Problem-1/LR_Forecasting_Mini_Course_Sales(s2).ipynb\" target=\"_parent\"><img src=\"https://colab.research.google.com/assets/colab-badge.svg\" alt=\"Open In Colab\"/></a>"
      ]
    },
    {
      "cell_type": "markdown",
      "source": [
        "## **Problem statement** ⚔\n",
        "\n",
        "**Dataset Description**\n",
        "\n",
        "For this challenge, you will be predicting a full year worth of sales for various fictitious learning modules from different fictitious Kaggle-branded stores in different (real!) countries. This dataset is completely synthetic, but contains many effects you see in real-world data, e.g., weekend and holiday effect, seasonality, etc. You are given the task of predicting sales during for year 2022.\n",
        "\n",
        "Good luck!"
      ],
      "metadata": {
        "id": "mZhnSh26NHrE"
      }
    },
    {
      "cell_type": "code",
      "source": [
        "\"\"\"\n",
        "Basic setup for integrating Kaggle\n",
        "Make sure the kaggle.json file is available and uploaded in session\n",
        "\"\"\"\n",
        "import os\n",
        "os.environ['KAGGLE_CONFIG_DIR'] = '/content'"
      ],
      "metadata": {
        "id": "KKdzZUHRNMDj"
      },
      "execution_count": 1,
      "outputs": []
    },
    {
      "cell_type": "code",
      "source": [
        "\"\"\"\n",
        "Path to the dataset from kaggle\n",
        "\"\"\"\n",
        "!kaggle competitions download -c playground-series-s3e19"
      ],
      "metadata": {
        "id": "y-Ys9yqwSIIc",
        "colab": {
          "base_uri": "https://localhost:8080/"
        },
        "outputId": "bba9fd7b-a34a-452e-b6a7-fa2b0d2354d8"
      },
      "execution_count": 2,
      "outputs": [
        {
          "output_type": "stream",
          "name": "stdout",
          "text": [
            "Warning: Your Kaggle API key is readable by other users on this system! To fix this, you can run 'chmod 600 /content/kaggle.json'\n",
            "Downloading playground-series-s3e19.zip to /content\n",
            "  0% 0.00/1.18M [00:00<?, ?B/s]\n",
            "100% 1.18M/1.18M [00:00<00:00, 128MB/s]\n"
          ]
        }
      ]
    },
    {
      "cell_type": "code",
      "source": [
        "\"\"\"\n",
        "unzipping the files and removing the zip\n",
        "\"\"\"\n",
        "!unzip \\*.zip && rm *.zip"
      ],
      "metadata": {
        "id": "iO6ZH2DCSs1o",
        "colab": {
          "base_uri": "https://localhost:8080/"
        },
        "outputId": "78bf13e4-a5c9-44ea-9171-c4fabd6942fd"
      },
      "execution_count": 3,
      "outputs": [
        {
          "output_type": "stream",
          "name": "stdout",
          "text": [
            "Archive:  playground-series-s3e19.zip\n",
            "  inflating: sample_submission.csv   \n",
            "  inflating: test.csv                \n",
            "  inflating: train.csv               \n"
          ]
        }
      ]
    },
    {
      "cell_type": "markdown",
      "source": [
        "\n",
        "\n",
        "---\n",
        "\n",
        "\n",
        "\n",
        "---\n",
        "\n",
        "\n",
        "\n"
      ],
      "metadata": {
        "id": "CWLt5fo0T6bb"
      }
    },
    {
      "cell_type": "markdown",
      "source": [
        "**Task**: To predict the sales during the year 2022\n",
        "\n",
        "**Steps:**\n",
        "  1. 👁 Look at the data and learn about the data.\n",
        "  2. 🎯 Decide on which model to choose.\n",
        "  3. 🦖 Do Exploratory Data analysis.\n",
        "  4. 🧹 Prepare the data"
      ],
      "metadata": {
        "id": "_Yju8gP4VLwv"
      }
    },
    {
      "cell_type": "code",
      "source": [
        "\"\"\"\n",
        "Importing packages for reading data\n",
        "\"\"\"\n",
        "import pandas as pd\n",
        "\n",
        "salesdf = pd.read_csv('train.csv')\n",
        "testdf = pd.read_csv('test.csv')\n",
        "submissiondf = pd.read_csv('sample_submission.csv')"
      ],
      "metadata": {
        "id": "V_zhrjtVV2KI"
      },
      "execution_count": 89,
      "outputs": []
    },
    {
      "cell_type": "code",
      "source": [
        "def get_insights(df):\n",
        "  print(\"\\n\\n===========dataframe==========================\")\n",
        "  print(df.head(3))\n",
        "  print(\"\\n================================================\")\n",
        "\n",
        "  print(\"\\n\\n===========dataframe size=====================\")\n",
        "  print(df.shape)\n",
        "  print(\"\\n================================================\")\n",
        "\n",
        "  print(\"\\n\\n===========dataframe column names=============\")\n",
        "  print(df.columns)\n",
        "  print(\"\\n================================================\")\n",
        "\n",
        "  print(\"\\n\\n===========dataframe Unique value=============\")\n",
        "  print(df.nunique())\n",
        "  print(\"\\n================================================\")\n",
        "\n",
        "  print(\"\\n\\n===========dataframe data types===============\")\n",
        "  print(df.info())\n",
        "  print(\"\\n================================================\")\n",
        "\n",
        "  print(\"\\n\\n===========dataframe descriptions=============\")\n",
        "  print(df.describe())\n",
        "  print(\"\\n================================================\")\n",
        "  print(\"==================================================\")\n"
      ],
      "metadata": {
        "id": "eg7mBlKM1YR-"
      },
      "execution_count": 90,
      "outputs": []
    },
    {
      "cell_type": "code",
      "source": [
        "\"\"\"\n",
        "Understanding the data\n",
        "\"\"\"\n",
        "get_insights(salesdf)\n",
        "# get_insights(testdf)\n",
        "# get_insights(submissiondf)"
      ],
      "metadata": {
        "id": "nZbo_dp81aR_",
        "colab": {
          "base_uri": "https://localhost:8080/"
        },
        "outputId": "7840e779-2080-43a2-b7e6-07f487eba920"
      },
      "execution_count": 91,
      "outputs": [
        {
          "output_type": "stream",
          "name": "stdout",
          "text": [
            "\n",
            "\n",
            "===========dataframe==========================\n",
            "   id        date    country         store  \\\n",
            "0   0  2017-01-01  Argentina  Kaggle Learn   \n",
            "1   1  2017-01-01  Argentina  Kaggle Learn   \n",
            "2   2  2017-01-01  Argentina  Kaggle Learn   \n",
            "\n",
            "                                          product  num_sold  \n",
            "0               Using LLMs to Improve Your Coding        63  \n",
            "1                   Using LLMs to Train More LLMs        66  \n",
            "2  Using LLMs to Win Friends and Influence People         9  \n",
            "\n",
            "================================================\n",
            "\n",
            "\n",
            "===========dataframe size=====================\n",
            "(136950, 6)\n",
            "\n",
            "================================================\n",
            "\n",
            "\n",
            "===========dataframe column names=============\n",
            "Index(['id', 'date', 'country', 'store', 'product', 'num_sold'], dtype='object')\n",
            "\n",
            "================================================\n",
            "\n",
            "\n",
            "===========dataframe Unique value=============\n",
            "id          136950\n",
            "date          1826\n",
            "country          5\n",
            "store            3\n",
            "product          5\n",
            "num_sold      1028\n",
            "dtype: int64\n",
            "\n",
            "================================================\n",
            "\n",
            "\n",
            "===========dataframe data types===============\n",
            "<class 'pandas.core.frame.DataFrame'>\n",
            "RangeIndex: 136950 entries, 0 to 136949\n",
            "Data columns (total 6 columns):\n",
            " #   Column    Non-Null Count   Dtype \n",
            "---  ------    --------------   ----- \n",
            " 0   id        136950 non-null  int64 \n",
            " 1   date      136950 non-null  object\n",
            " 2   country   136950 non-null  object\n",
            " 3   store     136950 non-null  object\n",
            " 4   product   136950 non-null  object\n",
            " 5   num_sold  136950 non-null  int64 \n",
            "dtypes: int64(2), object(4)\n",
            "memory usage: 6.3+ MB\n",
            "None\n",
            "\n",
            "================================================\n",
            "\n",
            "\n",
            "===========dataframe descriptions=============\n",
            "                 id       num_sold\n",
            "count  136950.00000  136950.000000\n",
            "mean    68474.50000     165.522636\n",
            "std     39534.20402     183.691575\n",
            "min         0.00000       2.000000\n",
            "25%     34237.25000      46.000000\n",
            "50%     68474.50000      98.000000\n",
            "75%    102711.75000     184.000000\n",
            "max    136949.00000    1380.000000\n",
            "\n",
            "================================================\n",
            "==================================================\n"
          ]
        }
      ]
    },
    {
      "cell_type": "markdown",
      "source": [
        "### **Insights from data (EDA)**\n",
        "1. We have training set of 6 columns and  136950 rows.\n",
        "  *   2 int64 columns id and num_sold.\n",
        "  *   Our dependant variable is num_sold. We need to predict num_sold\n",
        "  *   We have date columns which need to be converted to date time\n",
        "  *   We see countr, store and product columns which are categorical data. we need to convert them into numerical representation.\n",
        "  *   We would be trying one-hot encoding for product columns and store columns as they have very small uniq values.\n",
        "\n",
        "\n",
        "2. For test set we have similar data but num_sold column is missing (we will be predicting that)\n",
        "\n",
        "3. For submission set we have id and num sold column. we will be filling the data, converting to csv and submitting.\n",
        "\n",
        "   \n",
        "\n",
        "\n"
      ],
      "metadata": {
        "id": "EHnvN2RU6UdV"
      }
    },
    {
      "cell_type": "code",
      "source": [
        "\"\"\"\n",
        "Visualizing the data and relationship with num_sold\n",
        "\"\"\"\n",
        "import matplotlib.pyplot as plt\n",
        "import seaborn as sns\n",
        "import matplotlib.dates as mdates\n",
        "\n",
        "def visualize(tempDf):\n",
        "  df = tempDf.copy()\n",
        "\n",
        "  df['date'] = pd.to_datetime(df['date'])\n",
        "  monthly_data = df.groupby(pd.Grouper(key='date', freq='D')).sum()\n",
        "  plt.figure(figsize=(20, 6))\n",
        "\n",
        "  # Line Plot with month-wise X-axis\n",
        "  sns.lineplot(x=monthly_data.index, y='num_sold', data=monthly_data)\n",
        "\n",
        "  # Format the X-axis to show months only\n",
        "  ax = plt.gca()\n",
        "  ax.xaxis.set_major_locator(mdates.MonthLocator())  # Set tick positions to be at the start of each month\n",
        "  ax.xaxis.set_major_formatter(mdates.DateFormatter('%b %Y'))  # Format the date as 'Month Year' (e.g., 'Jan 2023')\n",
        "\n",
        "  plt.title('Line Plot')\n",
        "  plt.xlabel('Date')\n",
        "  plt.ylabel('sales')\n",
        "  plt.xticks(rotation=45)  # Rotate X-axis labels for better visibility\n",
        "  plt.show()\n",
        "\n",
        "  \"\"\"\n",
        "  Comparing relation ship with country and num_sold\n",
        "  \"\"\"\n",
        "  # Line Plot\n",
        "  sns.lineplot(x='country', y='num_sold', data=df)\n",
        "  plt.title('Line Plot')\n",
        "  plt.xlabel('date')\n",
        "  plt.ylabel('num_sold')\n",
        "  plt.show()\n",
        "\n",
        "\n",
        "  \"\"\"\n",
        "  Comparing relation ship with product and num_sold\n",
        "  \"\"\"\n",
        "  # Line Plot\n",
        "  sns.lineplot(x='product', y='num_sold', data=df)\n",
        "  plt.title('Line Plot')\n",
        "  plt.xlabel('date')\n",
        "  plt.ylabel('num_sold')\n",
        "  plt.xticks(rotation=90)\n",
        "  plt.show()\n",
        "\n",
        "  \"\"\"\n",
        "  Comparing relation ship with store and num_sold\n",
        "  \"\"\"\n",
        "  # Line Plot\n",
        "  sns.lineplot(x='store', y='num_sold', data=df)\n",
        "  plt.title('Line Plot')\n",
        "  plt.xlabel('store')\n",
        "  plt.ylabel('num_sold')\n",
        "  plt.xticks(rotation=90)\n",
        "  plt.show()"
      ],
      "metadata": {
        "id": "pmgRRgwoYwyZ"
      },
      "execution_count": 129,
      "outputs": []
    },
    {
      "cell_type": "markdown",
      "source": [
        "### Observation from each independant columns and target column\n",
        "1. num_sold vs date range we see a outliers in 2020. we need to remove the outliers from the df before training. Also, creating a column for holidays and weekends.\n",
        "2. We see some very low values in country (argentina)\n",
        "3. We see some very low values for one of the course.\n",
        "4. we will try to combine both and see if any columns can be removed.\n",
        "5. We do see very low sales on the Store as well\n",
        "6. Converting all the categorical columns (country, store, product) into numeric values.\n",
        "7. creating permutation and combination of all the 3 categorical column and doing one-hot-encoding on them"
      ],
      "metadata": {
        "id": "LAwIujfciRag"
      }
    },
    {
      "cell_type": "code",
      "source": [
        "\"\"\"\n",
        "Part of EDA updating date column,\n",
        "converting categorical data into numbers\n",
        "one-hot-encoding\n",
        "\n",
        "we will be doing the same for both salesdf (training + test set) and testdf\n",
        "so creating methods to each operations first.\n",
        "\"\"\"\n",
        "\n",
        "\"\"\"\n",
        "date-column\n",
        "1. method to converting all date column to datetime\n",
        "2. given \" This dataset is completely synthetic, but contains many effects you see in real-world data,\n",
        "    e.g., weekend and holiday effect, seasonality, etc\"\n",
        "3. we might need to introduce more columns based on holidays, weekends.\n",
        "4. We import holiday package to get seasonal holiday of any country\n",
        "\"\"\"\n",
        "\n",
        "import holidays\n",
        "import numpy as np\n",
        "\n",
        "# Create a dictionary to store holiday classes for different countries\n",
        "holiday_classes = {}\n",
        "\n",
        "def generate_holidays(df):\n",
        "  for country in df['country'].unique():\n",
        "    try:\n",
        "        holiday_classes[country] = getattr(holidays, country)()\n",
        "    except AttributeError:\n",
        "        holiday_classes[country] = None\n",
        "\n",
        "\n",
        "def prepare_date_column(tempdf):\n",
        "  df = tempdf.copy()\n",
        "\n",
        "  # Check if date is weekend then True else False. [5 = saturday, 6 = sunday]\n",
        "  df['Is_Weekend'] = df['date'].dt.dayofweek.isin([5, 6])\n",
        "\n",
        "  # Converting True, False into 1, 0\n",
        "  df['Is_Weekend'] = df['Is_Weekend'].astype(int)\n",
        "\n",
        "  # Checking for country specific seasonal holidays\n",
        "  df['Is_Seasonal_Holiday'] = 0\n",
        "\n",
        "  # generating special holidays for countries\n",
        "  generate_holidays(df)\n",
        "\n",
        "  # updating the seasonal holiday column\n",
        "  for index, row in df.iterrows():\n",
        "    country = row['country']\n",
        "    if country in holiday_classes and holiday_classes[country] is not None and row['date'] in holiday_classes[country]:\n",
        "        df.at[index, 'Is_Seasonal_Holiday'] = 1\n",
        "\n",
        "  return df"
      ],
      "metadata": {
        "id": "43gryvJQ8buP"
      },
      "execution_count": 143,
      "outputs": []
    },
    {
      "cell_type": "code",
      "source": [
        "\"\"\"\n",
        "Making the changes and visualizing again\n",
        "1. removing date outlier\n",
        "\"\"\"\n",
        "\n",
        "salesdf['date'] = pd.to_datetime(salesdf['date'])\n",
        "\n",
        "start_date = pd.to_datetime('2020-02-01') # starting of outliers\n",
        "end_date = pd.to_datetime('2021-01-01') #ending of outliers\n",
        "\n",
        "filtered_data = salesdf[~((salesdf['date'] >= start_date) & (salesdf['date'] <= end_date))]\n",
        "mean_sales = filtered_data['num_sold'].mean()\n",
        "\n",
        "# identifyin the outliers and removing\n",
        "def removing_date_outliers(tempdf):\n",
        "  df = tempdf.copy()\n",
        "  df['date'] = pd.to_datetime(df['date'])\n",
        "\n",
        "  # Use boolean indexing to filter the rows within the date range\n",
        "  rows_to_update = (df['date'] >= start_date) & (df['date'] <= end_date)\n",
        "\n",
        "  # Update the 'num_sold' values within the date range with the mean value\n",
        "  df.loc[rows_to_update, 'num_sold'] = mean_sales\n",
        "  return df"
      ],
      "metadata": {
        "id": "wYOg3C-jy7zo"
      },
      "execution_count": 291,
      "outputs": []
    },
    {
      "cell_type": "code",
      "source": [
        "\"\"\"\n",
        "2. Applying holiday columns, weekend columns\n",
        "\"\"\"\n",
        "def transform_date(tempdf):\n",
        "  df = tempdf.copy()\n",
        "  df = removing_date_outliers(df)\n",
        "  df = prepare_date_column(df)\n",
        "  return df"
      ],
      "metadata": {
        "id": "OdlTgjg9O_iv"
      },
      "execution_count": 145,
      "outputs": []
    },
    {
      "cell_type": "code",
      "source": [
        "\"\"\"\n",
        "3. Converting all categorical column into numbers\n",
        "\"\"\"\n",
        "from sklearn.preprocessing import LabelEncoder\n",
        "\n",
        "label_encoder = LabelEncoder()\n",
        "\n",
        "def prepare_columns(tempdf):\n",
        "  df = tempdf.copy()\n",
        "  df['country'] = label_encoder.fit_transform(df['country'])\n",
        "  df['store'] = label_encoder.fit_transform(df['store'])\n",
        "  df['product'] = label_encoder.fit_transform(df['product'])\n",
        "  return df"
      ],
      "metadata": {
        "id": "xZ3ZQCkxQds6"
      },
      "execution_count": 146,
      "outputs": []
    },
    {
      "cell_type": "code",
      "source": [
        "\"\"\"\n",
        "  Country has uniq values so we will be converting into numbers via skLearn label encoders\n",
        "  Store too has the same we will be number coding them via label_encoders\n",
        "  Product is also limitted and will be number coding them and doing a one-hot encoding to the column via\n",
        "  get_dummies\n",
        "\"\"\"\n",
        "from sklearn.preprocessing import LabelEncoder\n",
        "\n",
        "label_encoder = LabelEncoder()\n",
        "\n",
        "def add_derived_feature_columns(tempdf):\n",
        "  df = tempdf.copy()\n",
        "  # new columns with country-store-product\n",
        "  # Remove newline characters using strip() method\n",
        "  # Remove newline characters using apply() and lambda function\n",
        "  df['country-str'] = df['country'].apply(lambda x: str(x).strip())\n",
        "  df['store-str'] = df['store'].apply(lambda x: str(x).strip())\n",
        "  df['product-str'] = df['product'].apply(lambda x: str(x).strip())\n",
        "\n",
        "  # Concatenate the columns without \\n\n",
        "  df['c-s-p'] = df['country-str'] + \"-\" + df[\"store-str\"] + \"-\" + df[\"product-str\"]\n",
        "\n",
        "  # we will be converting this column into one-hot encoding and then use dummies\n",
        "  # We can remove country, store, product columns then\n",
        "  df['c-s-p'] = label_encoder.fit_transform(df['c-s-p'])\n",
        "\n",
        "  columns_to_remove = ['country-str', 'store-str', 'product-str']\n",
        "  df = df.drop(columns=columns_to_remove, axis=0)\n",
        "\n",
        "  return df"
      ],
      "metadata": {
        "id": "pgUM-CIdIfla"
      },
      "execution_count": 262,
      "outputs": []
    },
    {
      "cell_type": "code",
      "source": [
        "def prepare_data(tempdf):\n",
        "  df = tempdf.copy()\n",
        "  df = transform_date(df)\n",
        "  df = prepare_columns(df)\n",
        "  df = add_derived_feature_columns(df)\n",
        "  return df"
      ],
      "metadata": {
        "id": "AfFtl-LTSMQq"
      },
      "execution_count": 263,
      "outputs": []
    },
    {
      "cell_type": "code",
      "source": [
        "def remove_high_vif_ols_column(tempdf):\n",
        "  df = tempdf.copy()\n",
        "  columns_to_remove = ['country', 'store', 'product', 'id']\n",
        "  df = df.drop(columns=columns_to_remove, axis=0)\n",
        "  return df"
      ],
      "metadata": {
        "id": "SiHcFBlf6b6u"
      },
      "execution_count": 264,
      "outputs": []
    },
    {
      "cell_type": "code",
      "source": [
        "\"\"\"\n",
        "Now we are able to complete our EDA and preprocessing data\n",
        "Lets split the data for training and testing\n",
        "\"\"\"\n",
        "from sklearn.model_selection import train_test_split\n",
        "\n",
        "id_values_train = salesdf['id'].values\n",
        "\n",
        "sales_train_df = prepare_data(salesdf)\n",
        "\n",
        "# # Below operation is performed post VIF and OLS observation\n",
        "sales_train_df = remove_high_vif_ols_column(sales_train_df)\n",
        "# # Above operation is performed post VIF and OLS observation\n",
        "\n",
        "indices_to_remove = np.where(sales_train_df.columns == 'num_sold')[0]\n",
        "category_columns = np.delete(sales_train_df.columns, indices_to_remove)\n",
        "\n",
        "X = sales_train_df[category_columns]\n",
        "y = sales_train_df['num_sold']\n",
        "\n",
        "X_train, X_val, y_train, y_val = train_test_split(X, y, test_size=0.2, random_state=42)\n",
        "\n",
        "X_train['date'] = X_train['date'].astype(np.int64)\n",
        "X_val['date'] = X_val['date'].astype(np.int64)"
      ],
      "metadata": {
        "id": "zUuGcr40dGU8"
      },
      "execution_count": 352,
      "outputs": []
    },
    {
      "cell_type": "code",
      "source": [
        "\"\"\"\n",
        "OLS Model creation and VIF fo analyzing the columns\n",
        "\"\"\"\n",
        "\n",
        "import statsmodels.api as sm\n",
        "\n",
        "X_train = sm.add_constant(X_train)\n",
        "# Creating a first fitted model\n",
        "lm_1 = sm.OLS(y_train, X_train).fit()\n"
      ],
      "metadata": {
        "id": "JlQ6gUh1GhZ9"
      },
      "execution_count": 353,
      "outputs": []
    },
    {
      "cell_type": "code",
      "source": [
        "print(lm_1.summary())"
      ],
      "metadata": {
        "colab": {
          "base_uri": "https://localhost:8080/"
        },
        "id": "-JKqJB2Gy4rB",
        "outputId": "ca4223c7-c843-43e2-99a2-7b0b7ea2afa9"
      },
      "execution_count": 354,
      "outputs": [
        {
          "output_type": "stream",
          "name": "stdout",
          "text": [
            "                            OLS Regression Results                            \n",
            "==============================================================================\n",
            "Dep. Variable:               num_sold   R-squared:                       0.001\n",
            "Model:                            OLS   Adj. R-squared:                  0.001\n",
            "Method:                 Least Squares   F-statistic:                       nan\n",
            "Date:                Sat, 29 Jul 2023   Prob (F-statistic):                nan\n",
            "Time:                        15:30:01   Log-Likelihood:            -7.1736e+05\n",
            "No. Observations:              109560   AIC:                         1.435e+06\n",
            "Df Residuals:                  109559   BIC:                         1.435e+06\n",
            "Df Model:                           0                                         \n",
            "Covariance Type:            nonrobust                                         \n",
            "=======================================================================================\n",
            "                          coef    std err          t      P>|t|      [0.025      0.975]\n",
            "---------------------------------------------------------------------------------------\n",
            "const                6.945e-35   2.09e-37    332.486      0.000     6.9e-35    6.99e-35\n",
            "date                 1.085e-16   3.26e-19    332.486      0.000    1.08e-16    1.09e-16\n",
            "Is_Weekend           1.977e-35   5.95e-38    332.486      0.000    1.97e-35    1.99e-35\n",
            "Is_Seasonal_Holiday  2.721e-36   8.19e-39    332.486      0.000    2.71e-36    2.74e-36\n",
            "c-s-p                 2.57e-33   7.73e-36    332.486      0.000    2.56e-33    2.59e-33\n",
            "==============================================================================\n",
            "Omnibus:                    39972.473   Durbin-Watson:                   2.001\n",
            "Prob(Omnibus):                  0.000   Jarque-Bera (JB):           126272.837\n",
            "Skew:                           1.924   Prob(JB):                         0.00\n",
            "Kurtosis:                       6.586   Cond. No.                     5.37e+19\n",
            "==============================================================================\n",
            "\n",
            "Notes:\n",
            "[1] Standard Errors assume that the covariance matrix of the errors is correctly specified.\n",
            "[2] The condition number is large, 5.37e+19. This might indicate that there are\n",
            "strong multicollinearity or other numerical problems.\n"
          ]
        }
      ]
    },
    {
      "cell_type": "code",
      "source": [
        "X_test_with_const = sm.add_constant(X_val)\n",
        "print(X_test_with_const)\n",
        "# Make predictions using the fitted model\n",
        "y_val_pred = lm_1.predict(X_test_with_const)\n",
        "y_val_pred\n",
        "\n"
      ],
      "metadata": {
        "colab": {
          "base_uri": "https://localhost:8080/"
        },
        "id": "q9M5ny8JCLdx",
        "outputId": "a666605c-b91e-4a5b-bf8f-4ed9e68b428e"
      },
      "execution_count": 368,
      "outputs": [
        {
          "output_type": "stream",
          "name": "stdout",
          "text": [
            "        const                 date  Is_Weekend  Is_Seasonal_Holiday  c-s-p\n",
            "135486    1.0  1639267200000000000           1                    0     41\n",
            "112235    1.0  1612483200000000000           0                    0     40\n",
            "73585     1.0  1567987200000000000           0                    0      0\n",
            "132039    1.0  1635292800000000000           0                    0     44\n",
            "7090      1.0  1491350400000000000           0                    0     30\n",
            "...       ...                  ...         ...                  ...    ...\n",
            "3807      1.0  1487548800000000000           0                    0     47\n",
            "43333     1.0  1533081600000000000           0                    0     48\n",
            "6783      1.0  1491004800000000000           1                    0     38\n",
            "55899     1.0  1547596800000000000           0                    0     29\n",
            "25512     1.0  1512604800000000000           0                    0      2\n",
            "\n",
            "[27390 rows x 5 columns]\n"
          ]
        },
        {
          "output_type": "execute_result",
          "data": {
            "text/plain": [
              "135486    177.855983\n",
              "112235    174.949992\n",
              "73585     170.122299\n",
              "132039    177.424771\n",
              "7090      161.807417\n",
              "             ...    \n",
              "3807      161.394954\n",
              "43333     166.335137\n",
              "6783      161.769920\n",
              "55899     167.909996\n",
              "25512     164.113461\n",
              "Length: 27390, dtype: float64"
            ]
          },
          "metadata": {},
          "execution_count": 368
        }
      ]
    },
    {
      "cell_type": "code",
      "source": [
        "\"\"\"\n",
        "test data preparing\n",
        "\"\"\"\n",
        "\n",
        "test_id_values = testdf['id'].values\n",
        "sales_test_df = prepare_data(testdf)\n",
        "sales_test_df = remove_high_vif_ols_column(sales_test_df)\n",
        "columns_to_remove = ['num_sold']\n",
        "sales_test_df = sales_test_df.drop(columns=columns_to_remove, axis=0)\n",
        "sales_test_df['date'] = sales_test_df['date'].astype(np.int64)"
      ],
      "metadata": {
        "id": "lgcJfgsl57-T"
      },
      "execution_count": 337,
      "outputs": []
    },
    {
      "cell_type": "code",
      "source": [
        "\"\"\"\n",
        "testing out test data\n",
        "\"\"\"\n",
        "X_test_with_const = sm.add_constant(sales_test_df)\n",
        "\n",
        "# Check the number of features in X_test_with_const\n",
        "print(X_test_with_const.shape[1])\n",
        "\n",
        "# Make sure the number of features in X_test_with_const is the same as in the training data\n",
        "\n",
        "# Make predictions using the fitted model\n",
        "y_test_pred = lm_1.predict(X_test_with_const)\n",
        "\n",
        "# Print or use the predictions as needed\n",
        "print(y_test_pred)\n",
        "X_test_with_const"
      ],
      "metadata": {
        "id": "G4kmYXAs5ee0",
        "colab": {
          "base_uri": "https://localhost:8080/",
          "height": 656
        },
        "outputId": "e91d484a-4823-4aaa-82fb-f7fd967d62d2"
      },
      "execution_count": 338,
      "outputs": [
        {
          "output_type": "stream",
          "name": "stdout",
          "text": [
            "5\n",
            "0        178.043466\n",
            "1        178.043466\n",
            "2        178.043466\n",
            "3        178.043466\n",
            "4        178.043466\n",
            "            ...    \n",
            "27370    181.455661\n",
            "27371    181.455661\n",
            "27372    181.455661\n",
            "27373    181.455661\n",
            "27374    181.455661\n",
            "Length: 27375, dtype: float64\n"
          ]
        },
        {
          "output_type": "execute_result",
          "data": {
            "text/plain": [
              "       const                 date  Is_Weekend  Is_Seasonal_Holiday  c-s-p\n",
              "0        1.0  1640995200000000000           1                    1      5\n",
              "1        1.0  1640995200000000000           1                    1      6\n",
              "2        1.0  1640995200000000000           1                    1      7\n",
              "3        1.0  1640995200000000000           1                    1      8\n",
              "4        1.0  1640995200000000000           1                    1      9\n",
              "...      ...                  ...         ...                  ...    ...\n",
              "27370    1.0  1672444800000000000           1                    0     60\n",
              "27371    1.0  1672444800000000000           1                    0     61\n",
              "27372    1.0  1672444800000000000           1                    0     62\n",
              "27373    1.0  1672444800000000000           1                    0     63\n",
              "27374    1.0  1672444800000000000           1                    0     64\n",
              "\n",
              "[27375 rows x 5 columns]"
            ],
            "text/html": [
              "\n",
              "\n",
              "  <div id=\"df-d9f22a87-9492-4b69-9c2b-5cf163213a61\">\n",
              "    <div class=\"colab-df-container\">\n",
              "      <div>\n",
              "<style scoped>\n",
              "    .dataframe tbody tr th:only-of-type {\n",
              "        vertical-align: middle;\n",
              "    }\n",
              "\n",
              "    .dataframe tbody tr th {\n",
              "        vertical-align: top;\n",
              "    }\n",
              "\n",
              "    .dataframe thead th {\n",
              "        text-align: right;\n",
              "    }\n",
              "</style>\n",
              "<table border=\"1\" class=\"dataframe\">\n",
              "  <thead>\n",
              "    <tr style=\"text-align: right;\">\n",
              "      <th></th>\n",
              "      <th>const</th>\n",
              "      <th>date</th>\n",
              "      <th>Is_Weekend</th>\n",
              "      <th>Is_Seasonal_Holiday</th>\n",
              "      <th>c-s-p</th>\n",
              "    </tr>\n",
              "  </thead>\n",
              "  <tbody>\n",
              "    <tr>\n",
              "      <th>0</th>\n",
              "      <td>1.0</td>\n",
              "      <td>1640995200000000000</td>\n",
              "      <td>1</td>\n",
              "      <td>1</td>\n",
              "      <td>5</td>\n",
              "    </tr>\n",
              "    <tr>\n",
              "      <th>1</th>\n",
              "      <td>1.0</td>\n",
              "      <td>1640995200000000000</td>\n",
              "      <td>1</td>\n",
              "      <td>1</td>\n",
              "      <td>6</td>\n",
              "    </tr>\n",
              "    <tr>\n",
              "      <th>2</th>\n",
              "      <td>1.0</td>\n",
              "      <td>1640995200000000000</td>\n",
              "      <td>1</td>\n",
              "      <td>1</td>\n",
              "      <td>7</td>\n",
              "    </tr>\n",
              "    <tr>\n",
              "      <th>3</th>\n",
              "      <td>1.0</td>\n",
              "      <td>1640995200000000000</td>\n",
              "      <td>1</td>\n",
              "      <td>1</td>\n",
              "      <td>8</td>\n",
              "    </tr>\n",
              "    <tr>\n",
              "      <th>4</th>\n",
              "      <td>1.0</td>\n",
              "      <td>1640995200000000000</td>\n",
              "      <td>1</td>\n",
              "      <td>1</td>\n",
              "      <td>9</td>\n",
              "    </tr>\n",
              "    <tr>\n",
              "      <th>...</th>\n",
              "      <td>...</td>\n",
              "      <td>...</td>\n",
              "      <td>...</td>\n",
              "      <td>...</td>\n",
              "      <td>...</td>\n",
              "    </tr>\n",
              "    <tr>\n",
              "      <th>27370</th>\n",
              "      <td>1.0</td>\n",
              "      <td>1672444800000000000</td>\n",
              "      <td>1</td>\n",
              "      <td>0</td>\n",
              "      <td>60</td>\n",
              "    </tr>\n",
              "    <tr>\n",
              "      <th>27371</th>\n",
              "      <td>1.0</td>\n",
              "      <td>1672444800000000000</td>\n",
              "      <td>1</td>\n",
              "      <td>0</td>\n",
              "      <td>61</td>\n",
              "    </tr>\n",
              "    <tr>\n",
              "      <th>27372</th>\n",
              "      <td>1.0</td>\n",
              "      <td>1672444800000000000</td>\n",
              "      <td>1</td>\n",
              "      <td>0</td>\n",
              "      <td>62</td>\n",
              "    </tr>\n",
              "    <tr>\n",
              "      <th>27373</th>\n",
              "      <td>1.0</td>\n",
              "      <td>1672444800000000000</td>\n",
              "      <td>1</td>\n",
              "      <td>0</td>\n",
              "      <td>63</td>\n",
              "    </tr>\n",
              "    <tr>\n",
              "      <th>27374</th>\n",
              "      <td>1.0</td>\n",
              "      <td>1672444800000000000</td>\n",
              "      <td>1</td>\n",
              "      <td>0</td>\n",
              "      <td>64</td>\n",
              "    </tr>\n",
              "  </tbody>\n",
              "</table>\n",
              "<p>27375 rows × 5 columns</p>\n",
              "</div>\n",
              "      <button class=\"colab-df-convert\" onclick=\"convertToInteractive('df-d9f22a87-9492-4b69-9c2b-5cf163213a61')\"\n",
              "              title=\"Convert this dataframe to an interactive table.\"\n",
              "              style=\"display:none;\">\n",
              "\n",
              "  <svg xmlns=\"http://www.w3.org/2000/svg\" height=\"24px\"viewBox=\"0 0 24 24\"\n",
              "       width=\"24px\">\n",
              "    <path d=\"M0 0h24v24H0V0z\" fill=\"none\"/>\n",
              "    <path d=\"M18.56 5.44l.94 2.06.94-2.06 2.06-.94-2.06-.94-.94-2.06-.94 2.06-2.06.94zm-11 1L8.5 8.5l.94-2.06 2.06-.94-2.06-.94L8.5 2.5l-.94 2.06-2.06.94zm10 10l.94 2.06.94-2.06 2.06-.94-2.06-.94-.94-2.06-.94 2.06-2.06.94z\"/><path d=\"M17.41 7.96l-1.37-1.37c-.4-.4-.92-.59-1.43-.59-.52 0-1.04.2-1.43.59L10.3 9.45l-7.72 7.72c-.78.78-.78 2.05 0 2.83L4 21.41c.39.39.9.59 1.41.59.51 0 1.02-.2 1.41-.59l7.78-7.78 2.81-2.81c.8-.78.8-2.07 0-2.86zM5.41 20L4 18.59l7.72-7.72 1.47 1.35L5.41 20z\"/>\n",
              "  </svg>\n",
              "      </button>\n",
              "\n",
              "\n",
              "\n",
              "    <div id=\"df-f5d0b71e-83e3-46a0-826d-18bcc4c0956d\">\n",
              "      <button class=\"colab-df-quickchart\" onclick=\"quickchart('df-f5d0b71e-83e3-46a0-826d-18bcc4c0956d')\"\n",
              "              title=\"Suggest charts.\"\n",
              "              style=\"display:none;\">\n",
              "\n",
              "<svg xmlns=\"http://www.w3.org/2000/svg\" height=\"24px\"viewBox=\"0 0 24 24\"\n",
              "     width=\"24px\">\n",
              "    <g>\n",
              "        <path d=\"M19 3H5c-1.1 0-2 .9-2 2v14c0 1.1.9 2 2 2h14c1.1 0 2-.9 2-2V5c0-1.1-.9-2-2-2zM9 17H7v-7h2v7zm4 0h-2V7h2v10zm4 0h-2v-4h2v4z\"/>\n",
              "    </g>\n",
              "</svg>\n",
              "      </button>\n",
              "    </div>\n",
              "\n",
              "<style>\n",
              "  .colab-df-quickchart {\n",
              "    background-color: #E8F0FE;\n",
              "    border: none;\n",
              "    border-radius: 50%;\n",
              "    cursor: pointer;\n",
              "    display: none;\n",
              "    fill: #1967D2;\n",
              "    height: 32px;\n",
              "    padding: 0 0 0 0;\n",
              "    width: 32px;\n",
              "  }\n",
              "\n",
              "  .colab-df-quickchart:hover {\n",
              "    background-color: #E2EBFA;\n",
              "    box-shadow: 0px 1px 2px rgba(60, 64, 67, 0.3), 0px 1px 3px 1px rgba(60, 64, 67, 0.15);\n",
              "    fill: #174EA6;\n",
              "  }\n",
              "\n",
              "  [theme=dark] .colab-df-quickchart {\n",
              "    background-color: #3B4455;\n",
              "    fill: #D2E3FC;\n",
              "  }\n",
              "\n",
              "  [theme=dark] .colab-df-quickchart:hover {\n",
              "    background-color: #434B5C;\n",
              "    box-shadow: 0px 1px 3px 1px rgba(0, 0, 0, 0.15);\n",
              "    filter: drop-shadow(0px 1px 2px rgba(0, 0, 0, 0.3));\n",
              "    fill: #FFFFFF;\n",
              "  }\n",
              "</style>\n",
              "\n",
              "    <script>\n",
              "      async function quickchart(key) {\n",
              "        const containerElement = document.querySelector('#' + key);\n",
              "        const charts = await google.colab.kernel.invokeFunction(\n",
              "            'suggestCharts', [key], {});\n",
              "      }\n",
              "    </script>\n",
              "\n",
              "      <script>\n",
              "\n",
              "function displayQuickchartButton(domScope) {\n",
              "  let quickchartButtonEl =\n",
              "    domScope.querySelector('#df-f5d0b71e-83e3-46a0-826d-18bcc4c0956d button.colab-df-quickchart');\n",
              "  quickchartButtonEl.style.display =\n",
              "    google.colab.kernel.accessAllowed ? 'block' : 'none';\n",
              "}\n",
              "\n",
              "        displayQuickchartButton(document);\n",
              "      </script>\n",
              "      <style>\n",
              "    .colab-df-container {\n",
              "      display:flex;\n",
              "      flex-wrap:wrap;\n",
              "      gap: 12px;\n",
              "    }\n",
              "\n",
              "    .colab-df-convert {\n",
              "      background-color: #E8F0FE;\n",
              "      border: none;\n",
              "      border-radius: 50%;\n",
              "      cursor: pointer;\n",
              "      display: none;\n",
              "      fill: #1967D2;\n",
              "      height: 32px;\n",
              "      padding: 0 0 0 0;\n",
              "      width: 32px;\n",
              "    }\n",
              "\n",
              "    .colab-df-convert:hover {\n",
              "      background-color: #E2EBFA;\n",
              "      box-shadow: 0px 1px 2px rgba(60, 64, 67, 0.3), 0px 1px 3px 1px rgba(60, 64, 67, 0.15);\n",
              "      fill: #174EA6;\n",
              "    }\n",
              "\n",
              "    [theme=dark] .colab-df-convert {\n",
              "      background-color: #3B4455;\n",
              "      fill: #D2E3FC;\n",
              "    }\n",
              "\n",
              "    [theme=dark] .colab-df-convert:hover {\n",
              "      background-color: #434B5C;\n",
              "      box-shadow: 0px 1px 3px 1px rgba(0, 0, 0, 0.15);\n",
              "      filter: drop-shadow(0px 1px 2px rgba(0, 0, 0, 0.3));\n",
              "      fill: #FFFFFF;\n",
              "    }\n",
              "  </style>\n",
              "\n",
              "      <script>\n",
              "        const buttonEl =\n",
              "          document.querySelector('#df-d9f22a87-9492-4b69-9c2b-5cf163213a61 button.colab-df-convert');\n",
              "        buttonEl.style.display =\n",
              "          google.colab.kernel.accessAllowed ? 'block' : 'none';\n",
              "\n",
              "        async function convertToInteractive(key) {\n",
              "          const element = document.querySelector('#df-d9f22a87-9492-4b69-9c2b-5cf163213a61');\n",
              "          const dataTable =\n",
              "            await google.colab.kernel.invokeFunction('convertToInteractive',\n",
              "                                                     [key], {});\n",
              "          if (!dataTable) return;\n",
              "\n",
              "          const docLinkHtml = 'Like what you see? Visit the ' +\n",
              "            '<a target=\"_blank\" href=https://colab.research.google.com/notebooks/data_table.ipynb>data table notebook</a>'\n",
              "            + ' to learn more about interactive tables.';\n",
              "          element.innerHTML = '';\n",
              "          dataTable['output_type'] = 'display_data';\n",
              "          await google.colab.output.renderOutput(dataTable, element);\n",
              "          const docLink = document.createElement('div');\n",
              "          docLink.innerHTML = docLinkHtml;\n",
              "          element.appendChild(docLink);\n",
              "        }\n",
              "      </script>\n",
              "    </div>\n",
              "  </div>\n"
            ]
          },
          "metadata": {},
          "execution_count": 338
        }
      ]
    },
    {
      "cell_type": "code",
      "source": [
        "\"\"\"\n",
        "Preparing the submission data\n",
        "\"\"\"\n",
        "import matplotlib.pyplot as plt\n",
        "\n",
        "submissiondf = pd.DataFrame({\n",
        "    'id': test_id_values,\n",
        "    'num_sold': y_test_pred\n",
        "})\n"
      ],
      "metadata": {
        "id": "VjBJl5km5jlh"
      },
      "execution_count": 369,
      "outputs": []
    },
    {
      "cell_type": "code",
      "source": [
        "\n",
        "visualize(submissiondf)\n",
        "submissiondf.to_csv('submission.csv', index=False)"
      ],
      "metadata": {
        "id": "wk3wXpMHLxjB"
      },
      "execution_count": null,
      "outputs": []
    },
    {
      "cell_type": "code",
      "source": [],
      "metadata": {
        "id": "2XoRZSoLHdSy"
      },
      "execution_count": null,
      "outputs": []
    }
  ]
}