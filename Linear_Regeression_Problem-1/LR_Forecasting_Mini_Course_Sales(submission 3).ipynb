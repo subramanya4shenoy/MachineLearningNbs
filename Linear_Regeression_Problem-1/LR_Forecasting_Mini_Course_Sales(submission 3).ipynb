{
  "nbformat": 4,
  "nbformat_minor": 0,
  "metadata": {
    "colab": {
      "provenance": [],
      "authorship_tag": "ABX9TyN3Tp4XqpDV88nwWA/ZowY9",
      "include_colab_link": true
    },
    "kernelspec": {
      "name": "python3",
      "display_name": "Python 3"
    },
    "language_info": {
      "name": "python"
    }
  },
  "cells": [
    {
      "cell_type": "markdown",
      "metadata": {
        "id": "view-in-github",
        "colab_type": "text"
      },
      "source": [
        "<a href=\"https://colab.research.google.com/github/subramanya4shenoy/MachineLearningNbs/blob/main/Linear_Regeression_Problem-1/LR_Forecasting_Mini_Course_Sales(submission%203).ipynb\" target=\"_parent\"><img src=\"https://colab.research.google.com/assets/colab-badge.svg\" alt=\"Open In Colab\"/></a>"
      ]
    },
    {
      "cell_type": "markdown",
      "source": [],
      "metadata": {
        "id": "teuPse8623cu"
      }
    },
    {
      "cell_type": "markdown",
      "source": [
        "For this challenge, you will be predicting a full year worth of sales for various fictitious learning modules from\n",
        "different fictitious Kaggle-branded stores in different (real!) countries.\n",
        " This dataset is completely synthetic, but contains many effects you see in real-world data,\n",
        " e.g., weekend and holiday effect, seasonality, etc. You are given the task of predicting sales during for year 2022."
      ],
      "metadata": {
        "id": "yKqaczR125x6"
      }
    },
    {
      "cell_type": "code",
      "source": [],
      "metadata": {
        "id": "AZWSZ84A28RO"
      },
      "execution_count": null,
      "outputs": []
    }
  ]
}