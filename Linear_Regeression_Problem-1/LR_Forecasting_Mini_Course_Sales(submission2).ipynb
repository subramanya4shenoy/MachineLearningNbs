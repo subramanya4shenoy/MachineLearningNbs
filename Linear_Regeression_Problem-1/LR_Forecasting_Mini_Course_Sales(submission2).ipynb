{
  "nbformat": 4,
  "nbformat_minor": 0,
  "metadata": {
    "colab": {
      "provenance": [],
      "toc_visible": true,
      "mount_file_id": "1_ErLNvvfT0SaeV7Gr13gpR-kMTpXJ1J2",
      "authorship_tag": "ABX9TyMbGaKX21x5BpyQOiBRfrqE",
      "include_colab_link": true
    },
    "kernelspec": {
      "name": "python3",
      "display_name": "Python 3"
    },
    "language_info": {
      "name": "python"
    }
  },
  "cells": [
    {
      "cell_type": "markdown",
      "metadata": {
        "id": "view-in-github",
        "colab_type": "text"
      },
      "source": [
        "<a href=\"https://colab.research.google.com/github/subramanya4shenoy/MachineLearningNbs/blob/main/Linear_Regeression_Problem-1/LR_Forecasting_Mini_Course_Sales(submission2).ipynb\" target=\"_parent\"><img src=\"https://colab.research.google.com/assets/colab-badge.svg\" alt=\"Open In Colab\"/></a>"
      ]
    },
    {
      "cell_type": "markdown",
      "source": [
        "## **Problem statement** ⚔\n",
        "\n",
        "**Dataset Description**\n",
        "\n",
        "For this challenge, you will be predicting a full year worth of sales for various fictitious learning modules from different fictitious Kaggle-branded stores in different (real!) countries. This dataset is completely synthetic, but contains many effects you see in real-world data, e.g., weekend and holiday effect, seasonality, etc. You are given the task of predicting sales during for year 2022.\n",
        "\n",
        "Good luck!"
      ],
      "metadata": {
        "id": "mZhnSh26NHrE"
      }
    },
    {
      "cell_type": "code",
      "source": [
        "\"\"\"\n",
        "Basic setup for integrating Kaggle\n",
        "Make sure the kaggle.json file is available and uploaded in session\n",
        "\"\"\"\n",
        "import os\n",
        "os.environ['KAGGLE_CONFIG_DIR'] = '/content'"
      ],
      "metadata": {
        "id": "KKdzZUHRNMDj"
      },
      "execution_count": null,
      "outputs": []
    },
    {
      "cell_type": "code",
      "source": [
        "\"\"\"\n",
        "Path to the dataset from kaggle\n",
        "\"\"\"\n",
        "!kaggle competitions download -c playground-series-s3e19"
      ],
      "metadata": {
        "id": "y-Ys9yqwSIIc",
        "colab": {
          "base_uri": "https://localhost:8080/"
        },
        "outputId": "af5e0f20-0a09-4d86-ade8-a67fb7e89265"
      },
      "execution_count": null,
      "outputs": [
        {
          "output_type": "stream",
          "name": "stdout",
          "text": [
            "Warning: Your Kaggle API key is readable by other users on this system! To fix this, you can run 'chmod 600 /content/kaggle.json'\n",
            "Downloading playground-series-s3e19.zip to /content\n",
            "  0% 0.00/1.18M [00:00<?, ?B/s]\n",
            "100% 1.18M/1.18M [00:00<00:00, 147MB/s]\n"
          ]
        }
      ]
    },
    {
      "cell_type": "code",
      "source": [
        "\"\"\"\n",
        "unzipping the files and removing the zip\n",
        "\"\"\"\n",
        "!unzip \\*.zip && rm *.zip"
      ],
      "metadata": {
        "id": "iO6ZH2DCSs1o",
        "colab": {
          "base_uri": "https://localhost:8080/"
        },
        "outputId": "15f0082e-891c-40f8-c0cb-ddf78c116531"
      },
      "execution_count": null,
      "outputs": [
        {
          "output_type": "stream",
          "name": "stdout",
          "text": [
            "Archive:  playground-series-s3e19.zip\n",
            "replace sample_submission.csv? [y]es, [n]o, [A]ll, [N]one, [r]ename: "
          ]
        }
      ]
    },
    {
      "cell_type": "markdown",
      "source": [
        "\n",
        "\n",
        "---\n",
        "\n",
        "\n",
        "\n",
        "---\n",
        "\n",
        "\n",
        "\n"
      ],
      "metadata": {
        "id": "CWLt5fo0T6bb"
      }
    },
    {
      "cell_type": "markdown",
      "source": [
        "**Task**: To predict the sales during the year 2022\n",
        "\n",
        "**Steps:**\n",
        "  1. 👁 Look at the data and learn about the data.\n",
        "  2. 🎯 Decide on which model to choose.\n",
        "  3. 🦖 Do Exploratory Data analysis.\n",
        "  4. 🧹 Prepare the data"
      ],
      "metadata": {
        "id": "_Yju8gP4VLwv"
      }
    },
    {
      "cell_type": "code",
      "source": [
        "\"\"\"\n",
        "Importing packages for reading data\n",
        "\"\"\"\n",
        "import pandas as pd\n",
        "\n",
        "salesdf = pd.read_csv('train.csv')\n",
        "testdf = pd.read_csv('test.csv')\n",
        "submissiondf = pd.read_csv('sample_submission.csv')"
      ],
      "metadata": {
        "id": "V_zhrjtVV2KI"
      },
      "execution_count": null,
      "outputs": []
    },
    {
      "cell_type": "code",
      "source": [
        "def get_insights(df):\n",
        "  print(\"\\n\\n===========dataframe==========================\")\n",
        "  print(df.head(3))\n",
        "  print(\"\\n================================================\")\n",
        "\n",
        "  print(\"\\n\\n===========dataframe size=====================\")\n",
        "  print(df.shape)\n",
        "  print(\"\\n================================================\")\n",
        "\n",
        "  print(\"\\n\\n===========dataframe column names=============\")\n",
        "  print(df.columns)\n",
        "  print(\"\\n================================================\")\n",
        "\n",
        "  print(\"\\n\\n===========dataframe Unique value=============\")\n",
        "  print(df.nunique())\n",
        "  print(\"\\n================================================\")\n",
        "\n",
        "  print(\"\\n\\n===========dataframe data types===============\")\n",
        "  print(df.info())\n",
        "  print(\"\\n================================================\")\n",
        "\n",
        "  print(\"\\n\\n===========dataframe descriptions=============\")\n",
        "  print(df.describe())\n",
        "  print(\"\\n================================================\")\n",
        "  print(\"==================================================\")\n"
      ],
      "metadata": {
        "id": "eg7mBlKM1YR-"
      },
      "execution_count": null,
      "outputs": []
    },
    {
      "cell_type": "code",
      "source": [
        "\"\"\"\n",
        "Understanding the data\n",
        "\"\"\"\n",
        "# get_insights(salesdf)\n",
        "# get_insights(testdf)\n",
        "get_insights(submissiondf)"
      ],
      "metadata": {
        "colab": {
          "base_uri": "https://localhost:8080/"
        },
        "id": "nZbo_dp81aR_",
        "outputId": "1fff66a2-15b1-45a5-f5c0-b17fdfda0d2e"
      },
      "execution_count": null,
      "outputs": [
        {
          "output_type": "stream",
          "name": "stdout",
          "text": [
            "\n",
            "\n",
            "===========dataframe==========================\n",
            "       id  num_sold\n",
            "0  136950       100\n",
            "1  136951       100\n",
            "2  136952       100\n",
            "\n",
            "================================================\n",
            "\n",
            "\n",
            "===========dataframe size=====================\n",
            "(27375, 2)\n",
            "\n",
            "================================================\n",
            "\n",
            "\n",
            "===========dataframe column names=============\n",
            "Index(['id', 'num_sold'], dtype='object')\n",
            "\n",
            "================================================\n",
            "\n",
            "\n",
            "===========dataframe Unique value=============\n",
            "id          27375\n",
            "num_sold        1\n",
            "dtype: int64\n",
            "\n",
            "================================================\n",
            "\n",
            "\n",
            "===========dataframe data types===============\n",
            "<class 'pandas.core.frame.DataFrame'>\n",
            "RangeIndex: 27375 entries, 0 to 27374\n",
            "Data columns (total 2 columns):\n",
            " #   Column    Non-Null Count  Dtype\n",
            "---  ------    --------------  -----\n",
            " 0   id        27375 non-null  int64\n",
            " 1   num_sold  27375 non-null  int64\n",
            "dtypes: int64(2)\n",
            "memory usage: 427.9 KB\n",
            "None\n",
            "\n",
            "================================================\n",
            "\n",
            "\n",
            "===========dataframe descriptions=============\n",
            "                  id  num_sold\n",
            "count   27375.000000   27375.0\n",
            "mean   150637.000000     100.0\n",
            "std      7902.626146       0.0\n",
            "min    136950.000000     100.0\n",
            "25%    143793.500000     100.0\n",
            "50%    150637.000000     100.0\n",
            "75%    157480.500000     100.0\n",
            "max    164324.000000     100.0\n",
            "\n",
            "================================================\n",
            "==================================================\n"
          ]
        }
      ]
    },
    {
      "cell_type": "markdown",
      "source": [
        "### **Insights from data (EDA)**\n",
        "1. We have training set of 6 columns and  136950 rows.\n",
        "  *   2 int64 columns id and num_sold.\n",
        "  *   Our dependant variable is num_sold. We need to predict num_sold\n",
        "  *   We have date columns which need to be converted to date time\n",
        "  *   We see countr, store and product columns which are categorical data. we need to convert them into numerical representation.\n",
        "  *   We would be trying one-hot encoding for product columns and store columns as they have very small uniq values.\n",
        "\n",
        "\n",
        "2. For test set we have similar data but num_sold column is missing (we will be predicting that)\n",
        "\n",
        "3. For submission set we have id and num sold column. we will be filling the data, converting to csv and submitting.\n",
        "\n",
        "   \n",
        "\n",
        "\n"
      ],
      "metadata": {
        "id": "EHnvN2RU6UdV"
      }
    },
    {
      "cell_type": "code",
      "source": [
        "\"\"\"\n",
        "Part of EDA updating date column,\n",
        "converting categorical data into numbers\n",
        "one-hot-encoding\n",
        "\n",
        "we will be doing the same for both salesdf (training + test set) and testdf\n",
        "so creating methods to each operations first.\n",
        "\"\"\"\n",
        "\n",
        "\"\"\"\n",
        "date-column\n",
        "1. method to converting all date column to datetime\n",
        "2. given \" This dataset is completely synthetic, but contains many effects you see in real-world data,\n",
        "    e.g., weekend and holiday effect, seasonality, etc\"\n",
        "3. we might need to introduce more columns based on holidays, weekends.\n",
        "4. We import holiday package to get seasonal holiday of any country\n",
        "\"\"\"\n",
        "\n",
        "import holidays\n",
        "import numpy as np\n",
        "\n",
        "# Create a dictionary to store holiday classes for different countries\n",
        "holiday_classes = {}\n",
        "\n",
        "def generate_holidays(df):\n",
        "  for country in df['country'].unique():\n",
        "    try:\n",
        "        holiday_classes[country] = getattr(holidays, country)()\n",
        "    except AttributeError:\n",
        "        holiday_classes[country] = None\n",
        "\n",
        "\n",
        "def prepare_date_column(tempdf):\n",
        "  df = tempdf.copy()\n",
        "\n",
        "  # Converting to datetime format\n",
        "  df['date'] = pd.to_datetime(df['date'])\n",
        "  df['date'].astype(np.int64)\n",
        "\n",
        "  # Check if date is weekend then True else False. [5 = saturday, 6 = sunday]\n",
        "  df['Is_Weekend'] = df['date'].dt.dayofweek.isin([5, 6])\n",
        "\n",
        "  # Converting True, False into 1, 0\n",
        "  df['Is_Weekend'] = df['Is_Weekend'].astype(int)\n",
        "\n",
        "  # Checking for country specific seasonal holidays\n",
        "  df['Is_Seasonal_Holiday'] = 0\n",
        "\n",
        "  # generating special holidays for countries\n",
        "  generate_holidays(df)\n",
        "\n",
        "  # updating the seasonal holiday column\n",
        "  for index, row in df.iterrows():\n",
        "    country = row['country']\n",
        "    if country in holiday_classes and holiday_classes[country] is not None and row['date'] in holiday_classes[country]:\n",
        "        df.at[index, 'Is_Seasonal_Holiday'] = 1\n",
        "\n",
        "  return df"
      ],
      "metadata": {
        "id": "43gryvJQ8buP"
      },
      "execution_count": null,
      "outputs": []
    },
    {
      "cell_type": "code",
      "source": [
        "\"\"\"\n",
        "  Country has uniq values so we will be converting into numbers via skLearn label encoders\n",
        "  Store too has the same we will be number coding them via label_encoders\n",
        "  Product is also limitted and will be number coding them and doing a one-hot encoding to the column via\n",
        "  get_dummies\n",
        "\"\"\"\n",
        "from sklearn.preprocessing import LabelEncoder\n",
        "\n",
        "label_encoder = LabelEncoder()\n",
        "\n",
        "def prepare_columns(tempdf):\n",
        "  df = tempdf.copy()\n",
        "  df['country'] = label_encoder.fit_transform(df['country'])\n",
        "  df['store'] = label_encoder.fit_transform(df['store'])\n",
        "  dummies_df = pd.get_dummies(df['product'])\n",
        "  df = pd.concat([df, dummies_df], axis=1)\n",
        "  df = df.drop('product', axis = 1)\n",
        "  return df\n",
        "\n",
        "def prepare_data(df):\n",
        "  df = prepare_date_column(df)\n",
        "  df = prepare_columns(df)\n",
        "  return df"
      ],
      "metadata": {
        "id": "pgUM-CIdIfla"
      },
      "execution_count": null,
      "outputs": []
    },
    {
      "cell_type": "code",
      "source": [
        "# preprosing training sales data\n",
        "sales_train_df = prepare_data(salesdf)"
      ],
      "metadata": {
        "id": "AfFtl-LTSMQq"
      },
      "execution_count": null,
      "outputs": []
    },
    {
      "cell_type": "code",
      "source": [
        "\"\"\"\n",
        "Now we are able to complete our EDA and preprocessing data\n",
        "Lets split the data for training and testing\n",
        "\"\"\"\n",
        "from sklearn.model_selection import train_test_split\n",
        "\n",
        "indices_to_remove = np.where(sales_train_df.columns == 'num_sold')[0]\n",
        "category_columns = np.delete(sales_train_df.columns, indices_to_remove)\n",
        "\n",
        "X = sales_train_df[category_columns]\n",
        "y = sales_train_df['num_sold']\n",
        "\n",
        "X_train, X_val, y_train, y_val = train_test_split(X, y, test_size=0.2, random_state=42)\n",
        "\n",
        "X_train['date'] = X_train['date'].astype(np.int64)\n",
        "X_val['date'] = X_val['date'].astype(np.int64)"
      ],
      "metadata": {
        "id": "zUuGcr40dGU8"
      },
      "execution_count": null,
      "outputs": []
    },
    {
      "cell_type": "code",
      "source": [
        "\"\"\"\n",
        "Model Creation - Basic model\n",
        "\"\"\"\n",
        "from sklearn.linear_model import LinearRegression\n",
        "\n",
        "model = LinearRegression()\n",
        "\n",
        "model.fit(X_train, y_train)\n",
        "y_val_pred = model.predict(X_val)"
      ],
      "metadata": {
        "id": "geJwlEEuucSE"
      },
      "execution_count": null,
      "outputs": []
    },
    {
      "cell_type": "code",
      "source": [
        "\"\"\"\n",
        "fitting the model\n",
        "\"\"\"\n",
        "\n",
        "model.fit(X_train, y_train)\n",
        "y_val_pred = model.predict(X_val)"
      ],
      "metadata": {
        "id": "C_mLkDpNyKqD"
      },
      "execution_count": null,
      "outputs": []
    },
    {
      "cell_type": "code",
      "source": [
        "\"\"\"\n",
        "test data preparing\n",
        "\"\"\"\n",
        "sales_test_df = prepare_data(testdf)\n",
        "sales_test_df['date'] = sales_test_df['date'].astype(np.int64)"
      ],
      "metadata": {
        "id": "lgcJfgsl57-T"
      },
      "execution_count": null,
      "outputs": []
    },
    {
      "cell_type": "code",
      "source": [
        "\"\"\"\n",
        "testing out test data\n",
        "\"\"\"\n",
        "y_test_pred = model.predict(sales_test_df)"
      ],
      "metadata": {
        "id": "G4kmYXAs5ee0"
      },
      "execution_count": null,
      "outputs": []
    },
    {
      "cell_type": "code",
      "source": [
        "\"\"\"\n",
        "Preparing the submission data\n",
        "\"\"\"\n",
        "submissiondf = sales_test_df[['id']].copy()  # Use the 'id' column as unique identifier\n",
        "submissiondf['num_sold'] = y_test_pred\n",
        "\n",
        "submissiondf.to_csv('submission.csv', index=False)"
      ],
      "metadata": {
        "id": "VjBJl5km5jlh"
      },
      "execution_count": null,
      "outputs": []
    }
  ]
}